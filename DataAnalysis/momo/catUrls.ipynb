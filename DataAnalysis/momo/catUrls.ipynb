{
 "cells": [
  {
   "cell_type": "code",
   "execution_count": 1,
   "id": "initial_id",
   "metadata": {
    "ExecuteTime": {
     "end_time": "2024-04-14T04:17:43.811625500Z",
     "start_time": "2024-04-14T04:17:43.797835500Z"
    },
    "collapsed": true
   },
   "outputs": [],
   "source": [
    "import requests\n",
    "import json\n",
    "import pandas as pd"
   ]
  },
  {
   "cell_type": "code",
   "execution_count": 2,
   "id": "31a1c47cca562ab9",
   "metadata": {
    "ExecuteTime": {
     "end_time": "2024-04-14T04:19:30.757879700Z",
     "start_time": "2024-04-14T04:19:30.745261Z"
    },
    "collapsed": false
   },
   "outputs": [],
   "source": [
    "# 存储数据\n",
    "title_list = []\n",
    "url_list = []\n",
    "type_list = []\n",
    "pubtimeStr_list = []"
   ]
  },
  {
   "cell_type": "code",
   "execution_count": 3,
   "id": "c412272a7b8df983",
   "metadata": {
    "ExecuteTime": {
     "end_time": "2024-04-14T04:19:41.396432500Z",
     "start_time": "2024-04-14T04:19:35.088320100Z"
    },
    "collapsed": false
   },
   "outputs": [],
   "source": [
    "for i in range(9):\n",
    "    # json数据地址\n",
    "    url = f'https://sousuo.www.gov.cn/search-gov/data?t=zhengcelibrary&q=%E8%90%A5%E5%95%86&timetype=&mintime=& \\\n",
    "    maxtime=&sort=score&sortType=1&searchfield=title&pcodeJiguan=&childtype=&subchildtype=&tsbq=&pubtimeyear=& \\\n",
    "    puborg=&pcodeYear=&pcodeNum=&filetype=&p={i+1}&n=5&inpro=&bmfl=&dup=&orpro=&type=gwyzcwjk'\n",
    "    \n",
    "    # 获取网站json文件并解析\n",
    "    response = requests.get(url).text\n",
    "    json_data = json.loads(response)\n",
    "    \n",
    "    \n",
    "    try:\n",
    "        # 获取数据\n",
    "        gongwen = json_data['searchVO']['catMap'][\"gongwen\"]['listVO']\n",
    "        for i in gongwen:\n",
    "            type_list.append('gongwen')\n",
    "            title_list.append(i['title'])\n",
    "            url_list.append(i['url'])\n",
    "            pubtimeStr_list.append(i['pubtimeStr'])\n",
    "    except:\n",
    "        print(\"gongwen fail！\")\n",
    "        \n",
    "    try:\n",
    "        bumenfile = json_data['searchVO']['catMap'][\"bumenfile\"]['listVO']\n",
    "        for i in bumenfile:\n",
    "            type_list.append('bumenfile')\n",
    "            title_list.append(i['title'])\n",
    "            url_list.append(i['url'])\n",
    "            pubtimeStr_list.append(i['pubtimeStr'])\n",
    "    except:\n",
    "        print(\"bumenfile fail！\")"
   ]
  },
  {
   "cell_type": "code",
   "execution_count": 4,
   "id": "f82b5fdc67f57935",
   "metadata": {
    "ExecuteTime": {
     "end_time": "2024-04-14T04:19:53.613323300Z",
     "start_time": "2024-04-14T04:19:53.595977200Z"
    },
    "collapsed": false
   },
   "outputs": [],
   "source": [
    "# 合并数据\n",
    "df = pd.DataFrame(\n",
    "    {\n",
    "        'type':type_list\n",
    "        ,'title':title_list\n",
    "        ,'url':url_list\n",
    "        ,'pubtimeStr':pubtimeStr_list\n",
    "    }\n",
    ")"
   ]
  },
  {
   "cell_type": "code",
   "execution_count": 5,
   "id": "2426ca5f6657a895",
   "metadata": {
    "ExecuteTime": {
     "end_time": "2024-04-14T04:19:56.186559900Z",
     "start_time": "2024-04-14T04:19:56.161204100Z"
    },
    "collapsed": false
   },
   "outputs": [
    {
     "data": {
      "text/html": [
       "<div>\n",
       "<style scoped>\n",
       "    .dataframe tbody tr th:only-of-type {\n",
       "        vertical-align: middle;\n",
       "    }\n",
       "\n",
       "    .dataframe tbody tr th {\n",
       "        vertical-align: top;\n",
       "    }\n",
       "\n",
       "    .dataframe thead th {\n",
       "        text-align: right;\n",
       "    }\n",
       "</style>\n",
       "<table border=\"1\" class=\"dataframe\">\n",
       "  <thead>\n",
       "    <tr style=\"text-align: right;\">\n",
       "      <th></th>\n",
       "      <th>type</th>\n",
       "      <th>title</th>\n",
       "      <th>url</th>\n",
       "      <th>pubtimeStr</th>\n",
       "    </tr>\n",
       "  </thead>\n",
       "  <tbody>\n",
       "    <tr>\n",
       "      <th>0</th>\n",
       "      <td>gongwen</td>\n",
       "      <td>国务院办公厅关于复制推广&lt;em&gt;营商&lt;/em&gt;环境创新试点改革举措的通知</td>\n",
       "      <td>http://www.gov.cn/zhengce/zhengceku/2022-10/31...</td>\n",
       "      <td>2022.10.31</td>\n",
       "    </tr>\n",
       "    <tr>\n",
       "      <th>1</th>\n",
       "      <td>gongwen</td>\n",
       "      <td>国务院办公厅关于进一步优化&lt;em&gt;营商&lt;/em&gt;环境降低市场主体制度性交易成本的意见</td>\n",
       "      <td>http://www.gov.cn/zhengce/zhengceku/2022-09/15...</td>\n",
       "      <td>2022.09.15</td>\n",
       "    </tr>\n",
       "    <tr>\n",
       "      <th>2</th>\n",
       "      <td>gongwen</td>\n",
       "      <td>国务院关于开展&lt;em&gt;营商&lt;/em&gt;环境创新试点工作的意见</td>\n",
       "      <td>http://www.gov.cn/zhengce/zhengceku/2021-11/25...</td>\n",
       "      <td>2021.11.25</td>\n",
       "    </tr>\n",
       "    <tr>\n",
       "      <th>3</th>\n",
       "      <td>gongwen</td>\n",
       "      <td>国务院办公厅关于印发全国深化“放管服”改革优化&lt;em&gt;营商&lt;/em&gt;环境电视电话会议重点任务...</td>\n",
       "      <td>http://www.gov.cn/zhengce/zhengceku/2020-11/10...</td>\n",
       "      <td>2020.11.10</td>\n",
       "    </tr>\n",
       "    <tr>\n",
       "      <th>4</th>\n",
       "      <td>gongwen</td>\n",
       "      <td>国务院办公厅关于进一步优化&lt;em&gt;营商&lt;/em&gt;环境更好服务市场主体的实施意见</td>\n",
       "      <td>http://www.gov.cn/zhengce/content/2020-07/21/c...</td>\n",
       "      <td>2020.07.21</td>\n",
       "    </tr>\n",
       "    <tr>\n",
       "      <th>...</th>\n",
       "      <td>...</td>\n",
       "      <td>...</td>\n",
       "      <td>...</td>\n",
       "      <td>...</td>\n",
       "    </tr>\n",
       "    <tr>\n",
       "      <th>62</th>\n",
       "      <td>bumenfile</td>\n",
       "      <td>商务部批准《商品交易市场建设与经营管理术语》等11项国内贸易行业标准的公告</td>\n",
       "      <td>http://www.gov.cn/zhengce/zhengceku/2018-12/31...</td>\n",
       "      <td>2018.12.31</td>\n",
       "    </tr>\n",
       "    <tr>\n",
       "      <th>63</th>\n",
       "      <td>bumenfile</td>\n",
       "      <td>市场监管总局关于做好电子商务经营者登记工作的意见</td>\n",
       "      <td>http://www.gov.cn/zhengce/zhengceku/2018-12/31...</td>\n",
       "      <td>2018.12.31</td>\n",
       "    </tr>\n",
       "    <tr>\n",
       "      <th>64</th>\n",
       "      <td>bumenfile</td>\n",
       "      <td>商务部 财政部 税务总局 质检总局 统计局 外汇局关于开展2018年外商投资企业年度投资经营...</td>\n",
       "      <td>http://www.gov.cn/zhengce/zhengceku/2018-12/31...</td>\n",
       "      <td>2018.12.31</td>\n",
       "    </tr>\n",
       "    <tr>\n",
       "      <th>65</th>\n",
       "      <td>bumenfile</td>\n",
       "      <td>商务部关于公布2018年第二批成品油（燃料油）新增非国营贸易进口企业的通知</td>\n",
       "      <td>http://www.gov.cn/zhengce/zhengceku/2018-12/31...</td>\n",
       "      <td>2018.12.31</td>\n",
       "    </tr>\n",
       "    <tr>\n",
       "      <th>66</th>\n",
       "      <td>bumenfile</td>\n",
       "      <td>交通运输部关于修改《小型航空器商业运输运营人运行合格审定规则》的决定（中华人民共和国交通运输...</td>\n",
       "      <td>http://www.gov.cn/zhengce/zhengceku/2018-12/31...</td>\n",
       "      <td>2018.12.31</td>\n",
       "    </tr>\n",
       "  </tbody>\n",
       "</table>\n",
       "<p>67 rows × 4 columns</p>\n",
       "</div>"
      ],
      "text/plain": [
       "         type                                              title  \\\n",
       "0     gongwen               国务院办公厅关于复制推广<em>营商</em>环境创新试点改革举措的通知   \n",
       "1     gongwen         国务院办公厅关于进一步优化<em>营商</em>环境降低市场主体制度性交易成本的意见   \n",
       "2     gongwen                      国务院关于开展<em>营商</em>环境创新试点工作的意见   \n",
       "3     gongwen  国务院办公厅关于印发全国深化“放管服”改革优化<em>营商</em>环境电视电话会议重点任务...   \n",
       "4     gongwen            国务院办公厅关于进一步优化<em>营商</em>环境更好服务市场主体的实施意见   \n",
       "..        ...                                                ...   \n",
       "62  bumenfile              商务部批准《商品交易市场建设与经营管理术语》等11项国内贸易行业标准的公告   \n",
       "63  bumenfile                           市场监管总局关于做好电子商务经营者登记工作的意见   \n",
       "64  bumenfile  商务部 财政部 税务总局 质检总局 统计局 外汇局关于开展2018年外商投资企业年度投资经营...   \n",
       "65  bumenfile              商务部关于公布2018年第二批成品油（燃料油）新增非国营贸易进口企业的通知   \n",
       "66  bumenfile  交通运输部关于修改《小型航空器商业运输运营人运行合格审定规则》的决定（中华人民共和国交通运输...   \n",
       "\n",
       "                                                  url  pubtimeStr  \n",
       "0   http://www.gov.cn/zhengce/zhengceku/2022-10/31...  2022.10.31  \n",
       "1   http://www.gov.cn/zhengce/zhengceku/2022-09/15...  2022.09.15  \n",
       "2   http://www.gov.cn/zhengce/zhengceku/2021-11/25...  2021.11.25  \n",
       "3   http://www.gov.cn/zhengce/zhengceku/2020-11/10...  2020.11.10  \n",
       "4   http://www.gov.cn/zhengce/content/2020-07/21/c...  2020.07.21  \n",
       "..                                                ...         ...  \n",
       "62  http://www.gov.cn/zhengce/zhengceku/2018-12/31...  2018.12.31  \n",
       "63  http://www.gov.cn/zhengce/zhengceku/2018-12/31...  2018.12.31  \n",
       "64  http://www.gov.cn/zhengce/zhengceku/2018-12/31...  2018.12.31  \n",
       "65  http://www.gov.cn/zhengce/zhengceku/2018-12/31...  2018.12.31  \n",
       "66  http://www.gov.cn/zhengce/zhengceku/2018-12/31...  2018.12.31  \n",
       "\n",
       "[67 rows x 4 columns]"
      ]
     },
     "execution_count": 5,
     "metadata": {},
     "output_type": "execute_result"
    }
   ],
   "source": [
    "df"
   ]
  },
  {
   "cell_type": "code",
   "execution_count": 6,
   "id": "af4e08b30c772121",
   "metadata": {
    "ExecuteTime": {
     "end_time": "2024-04-14T04:20:04.673690900Z",
     "start_time": "2024-04-14T04:20:04.657770300Z"
    },
    "collapsed": false
   },
   "outputs": [],
   "source": [
    "df.to_csv('url.csv',index=False)"
   ]
  }
 ],
 "metadata": {
  "kernelspec": {
   "display_name": "Python 3",
   "language": "python",
   "name": "python3"
  },
  "language_info": {
   "codemirror_mode": {
    "name": "ipython",
    "version": 3
   },
   "file_extension": ".py",
   "mimetype": "text/x-python",
   "name": "python",
   "nbconvert_exporter": "python",
   "pygments_lexer": "ipython3",
   "version": "3.8.19"
  }
 },
 "nbformat": 4,
 "nbformat_minor": 5
}
