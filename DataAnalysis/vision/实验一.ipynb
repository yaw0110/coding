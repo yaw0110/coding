{
 "cells": [
  {
   "cell_type": "code",
   "execution_count": 1,
   "id": "initial_id",
   "metadata": {
    "collapsed": true,
    "ExecuteTime": {
     "end_time": "2024-03-06T07:28:36.493151800Z",
     "start_time": "2024-03-06T07:28:28.254283600Z"
    }
   },
   "outputs": [
    {
     "name": "stdout",
     "output_type": "stream",
     "text": [
      "2312 年是闰年\n"
     ]
    }
   ],
   "source": [
    "year = int(input(\"请输入年份：\"))\n",
    "\n",
    "if (year % 4 == 0 and year % 100 != 0) or (year % 400 == 0):\n",
    "    print(f\"{year} 年是闰年\")\n",
    "else:\n",
    "    print(f\"{year} 年不是闰年\")\n"
   ]
  },
  {
   "cell_type": "code",
   "execution_count": 3,
   "outputs": [
    {
     "name": "stdout",
     "output_type": "stream",
     "text": [
      "在您输入的字符中，共含文字46个，数字12个，空格2个，其他字符12。\n"
     ]
    }
   ],
   "source": [
    "def count_chars(text):\n",
    "    letters = 0\n",
    "    numbers = 0\n",
    "    spaces = 0\n",
    "    others = 0\n",
    "\n",
    "    for char in text:\n",
    "        if char.isalpha():\n",
    "            letters += 1\n",
    "        elif char.isdigit():\n",
    "            numbers += 1\n",
    "        elif char.isspace():\n",
    "            spaces += 1\n",
    "        else:\n",
    "            others += 1\n",
    "\n",
    "    return letters, numbers, spaces, others\n",
    "\n",
    "\n",
    "input_text = input(\"请输入文本: \")\n",
    "result = count_chars(input_text)\n",
    "\n",
    "print(f\"在您输入的字符中，共含文字{result[0]}个，数字{result[1]}个，空格{result[2]}个，其他字符{result[3]}。\")"
   ],
   "metadata": {
    "collapsed": false,
    "ExecuteTime": {
     "end_time": "2024-03-06T07:34:58.336066Z",
     "start_time": "2024-03-06T07:34:55.983090300Z"
    }
   },
   "id": "c425217697564c7e"
  },
  {
   "cell_type": "code",
   "execution_count": 4,
   "outputs": [
    {
     "name": "stdout",
     "output_type": "stream",
     "text": [
      "1 x 1 = 1\t\n",
      "1 x 2 = 2\t2 x 2 = 4\t\n",
      "1 x 3 = 3\t2 x 3 = 6\t3 x 3 = 9\t\n",
      "1 x 4 = 4\t2 x 4 = 8\t3 x 4 = 12\t4 x 4 = 16\t\n",
      "1 x 5 = 5\t2 x 5 = 10\t3 x 5 = 15\t4 x 5 = 20\t5 x 5 = 25\t\n",
      "1 x 6 = 6\t2 x 6 = 12\t3 x 6 = 18\t4 x 6 = 24\t5 x 6 = 30\t6 x 6 = 36\t\n",
      "1 x 7 = 7\t2 x 7 = 14\t3 x 7 = 21\t4 x 7 = 28\t5 x 7 = 35\t6 x 7 = 42\t7 x 7 = 49\t\n",
      "1 x 8 = 8\t2 x 8 = 16\t3 x 8 = 24\t4 x 8 = 32\t5 x 8 = 40\t6 x 8 = 48\t7 x 8 = 56\t8 x 8 = 64\t\n",
      "1 x 9 = 9\t2 x 9 = 18\t3 x 9 = 27\t4 x 9 = 36\t5 x 9 = 45\t6 x 9 = 54\t7 x 9 = 63\t8 x 9 = 72\t9 x 9 = 81\t\n"
     ]
    }
   ],
   "source": [
    "for i in range(1, 10):\n",
    "    for j in range(1, i + 1):\n",
    "        print(f\"{j} x {i} = {i * j}\", end=\"\\t\")\n",
    "    print()"
   ],
   "metadata": {
    "collapsed": false,
    "ExecuteTime": {
     "end_time": "2024-03-06T07:36:17.905404600Z",
     "start_time": "2024-03-06T07:36:17.822357300Z"
    }
   },
   "id": "c721298293dff2a"
  },
  {
   "cell_type": "code",
   "execution_count": 5,
   "outputs": [
    {
     "name": "stdout",
     "output_type": "stream",
     "text": [
      "0到50之间的最大的10个素数列表为：[13, 17, 19, 23, 29, 31, 37, 41, 43, 47]\n"
     ]
    }
   ],
   "source": [
    "def is_prime(num):\n",
    "    if num < 2:\n",
    "        return False\n",
    "    for i in range(2, int(num ** 0.5) + 1):\n",
    "        if num % i == 0:\n",
    "            return False\n",
    "    return True\n",
    "\n",
    "\n",
    "def find_largest_primes(n):\n",
    "    primes = [x for x in range(n + 1) if is_prime(x)]\n",
    "    largest_primes = sorted(primes)[-10:]\n",
    "    return largest_primes\n",
    "\n",
    "\n",
    "n = int(input(\"请输入一个正整数 n：\"))\n",
    "result = find_largest_primes(n)\n",
    "print(f\"0到{n}之间的最大的10个素数列表为：{result}\")"
   ],
   "metadata": {
    "collapsed": false,
    "ExecuteTime": {
     "end_time": "2024-03-06T07:40:01.489567100Z",
     "start_time": "2024-03-06T07:39:59.290885600Z"
    }
   },
   "id": "861967aa2b5bdb8"
  },
  {
   "cell_type": "code",
   "execution_count": 16,
   "outputs": [
    {
     "name": "stdout",
     "output_type": "stream",
     "text": [
      "1000以内的回文素数：[2, 3, 5, 7, 11, 101, 131, 151, 181, 191, 313, 353, 373, 383, 727, 757, 787, 797, 919, 929]\n"
     ]
    }
   ],
   "source": [
    "def is_palindrome_number(num):\n",
    "    if num == num[::-1]:\n",
    "        return True\n",
    "    return False\n",
    "\n",
    "\n",
    "def is_prime(num):\n",
    "    if num < 2:\n",
    "        return False\n",
    "    for i in range(2, int(num ** 0.5) + 1):\n",
    "        if num % i == 0:\n",
    "            return False\n",
    "    return True\n",
    "\n",
    "\n",
    "is_palindrome_prime_number_list = []\n",
    "for i in range(1000):\n",
    "    if is_palindrome_number(str(i + 1)) and is_prime(i + 1):\n",
    "        is_palindrome_prime_number_list.append(i + 1)\n",
    "\n",
    "print(f'1000以内的回文素数：{is_palindrome_prime_number_list}')"
   ],
   "metadata": {
    "collapsed": false,
    "ExecuteTime": {
     "end_time": "2024-03-06T11:28:58.728072800Z",
     "start_time": "2024-03-06T11:28:58.720468900Z"
    }
   },
   "id": "e5e0bc6017166290"
  },
  {
   "cell_type": "code",
   "execution_count": 22,
   "outputs": [
    {
     "name": "stdout",
     "output_type": "stream",
     "text": [
      "加密后的密文为: jg j dpvme, j tvsfmz xpvme.\n"
     ]
    }
   ],
   "source": [
    "# def encrypt_message(message):\n",
    "#     encrypted_text = ''.join(\n",
    "#         chr(((ord(char) - ord('a') + 1) % 26) + ord('a')) if 'a' <= char <= 'z' else char for char in message)\n",
    "#     return encrypted_text\n",
    "# \n",
    "# \n",
    "# plaintext = input(\"请输入一行电报密文：\")\n",
    "# encrypted_text = encrypt_message(plaintext)\n",
    "# print(\"加密后的密文为:\", encrypted_text)\n",
    "\n",
    "\n",
    "def encrypt_message(message):\n",
    "    mapping = str.maketrans('abcdefghijklmnopqrstuvwxyz', 'bcdefghijklmnopqrstuvwxyza')\n",
    "    encrypted_text = message.translate(mapping)\n",
    "    return encrypted_text\n",
    "\n",
    "\n",
    "plaintext = input(\"请输入一行电报密文：\")\n",
    "encrypted_text = encrypt_message(plaintext)\n",
    "print(\"加密后的密文为:\", encrypted_text)\n",
    "\n"
   ],
   "metadata": {
    "collapsed": false,
    "ExecuteTime": {
     "end_time": "2024-03-06T11:40:45.698570Z",
     "start_time": "2024-03-06T11:40:43.584936100Z"
    }
   },
   "id": "a8c295d8e4c4fea8"
  },
  {
   "cell_type": "code",
   "execution_count": 24,
   "outputs": [
    {
     "name": "stdout",
     "output_type": "stream",
     "text": [
      "[1, 2, 3, 4, 'jian', 'in']\n"
     ]
    }
   ],
   "source": [
    "input_list = eval(input(\"请输入一个列表（格式类似 [1,2,3,3,3,3,4,5]）：\"))\n",
    "result = list(set(input_list))\n",
    "print(result)"
   ],
   "metadata": {
    "collapsed": false,
    "ExecuteTime": {
     "end_time": "2024-03-06T11:44:55.925382400Z",
     "start_time": "2024-03-06T11:44:37.963563200Z"
    }
   },
   "id": "cd191a126fc4a6f5"
  },
  {
   "cell_type": "code",
   "execution_count": 28,
   "outputs": [
    {
     "name": "stdout",
     "output_type": "stream",
     "text": [
      "产品：jiji 的销售量为 0 个\n"
     ]
    }
   ],
   "source": [
    "data = [\n",
    "    {\"品名\": \"橡皮擦\", \"销售量\": 31},\n",
    "    {\"品名\": \"铅笔\", \"销售量\": 36},\n",
    "    {\"品名\": \"毛笔\", \"销售量\": 27},\n",
    "    {\"品名\": \"尺子\", \"销售量\": 27},\n",
    "    {\"品名\": \"篮球\", \"销售量\": 26},\n",
    "    {\"品名\": \"钢笔\", \"销售量\": 22},\n",
    "    {\"品名\": \"橡皮擦\", \"销售量\": 36},\n",
    "    {\"品名\": \"毛笔\", \"销售量\": 31},\n",
    "    {\"品名\": \"笔记本\", \"销售量\": 35},\n",
    "    {\"品名\": \"自动铅笔\", \"销售量\": 38}\n",
    "]\n",
    "\n",
    "product_name = input(\"产品：\")\n",
    "total_sales = sum(item[\"销售量\"] for item in data if item[\"品名\"] == product_name)\n",
    "print(f\"产品：{product_name} 的销售量为 {total_sales} 个\")"
   ],
   "metadata": {
    "collapsed": false,
    "ExecuteTime": {
     "end_time": "2024-03-06T11:58:59.136656500Z",
     "start_time": "2024-03-06T11:58:57.204984800Z"
    }
   },
   "id": "cec76aabe470029a"
  },
  {
   "cell_type": "code",
   "execution_count": 3,
   "outputs": [
    {
     "name": "stderr",
     "output_type": "stream",
     "text": [
      "Building prefix dict from the default dictionary ...\n",
      "Loading model from cache C:\\Users\\27116\\AppData\\Local\\Temp\\jieba.cache\n",
      "Loading model cost 0.604 seconds.\n",
      "Prefix dict has been built successfully.\n"
     ]
    },
    {
     "name": "stdout",
     "output_type": "stream",
     "text": [
      "a: 2\n",
      "d: 1\n",
      "jian: 1\n",
      "jj: 1\n",
      "kn: 1\n",
      "th: 2\n",
      "the: 1\n",
      "this: 1\n"
     ]
    }
   ],
   "source": [
    "import jieba\n",
    "import re\n",
    "\n",
    "\n",
    "def count_words(text):\n",
    "    # 使用正则表达式去除标点符号\n",
    "    text = re.sub(r'[\\W]+', ' ', text)\n",
    "    # 使用 jieba 分词\n",
    "    words = jieba.lcut(text)\n",
    "    word_count = {}\n",
    "\n",
    "    for word in words:\n",
    "        # 去除空白元素\n",
    "        if word.strip():\n",
    "            if word not in word_count:\n",
    "                word_count[word] = 1\n",
    "            else:\n",
    "                word_count[word] += 1\n",
    "    return word_count\n",
    "\n",
    "input_text = input(\"请输入字符串：\")\n",
    "result = count_words(input_text)\n",
    "for word, count in result.items():\n",
    "    print(f\"{word}: {count}\")\n"
   ],
   "metadata": {
    "collapsed": false,
    "ExecuteTime": {
     "end_time": "2024-03-06T15:55:11.825971500Z",
     "start_time": "2024-03-06T15:54:43.096264100Z"
    }
   },
   "id": "c0e00ff73d044b1d"
  },
  {
   "cell_type": "code",
   "execution_count": 34,
   "outputs": [
    {
     "name": "stdout",
     "output_type": "stream",
     "text": [
      "['Beijing', '上海', '广州', '成都', '武汉']\n"
     ]
    }
   ],
   "source": [
    "city = (\"北京\", \"上海\", \"广州\", \"武汉\", \"成都\", \"上海\", \"武汉\")\n",
    "\n",
    "# 删除重复元素\n",
    "city = (set(city))\n",
    "\n",
    "# 将元素 \"北京\" 更换为 \"Beijing\"\n",
    "city = list(city)\n",
    "city[city.index(\"北京\")] = \"Beijing\"\n",
    "\n",
    "city = tuple(city)\n",
    "\n",
    "# 使用 sorted 函数进行排序，并输出显示\n",
    "city_sorted = sorted(city)\n",
    "print(city_sorted)\n"
   ],
   "metadata": {
    "collapsed": false,
    "ExecuteTime": {
     "end_time": "2024-03-06T12:13:48.676182100Z",
     "start_time": "2024-03-06T12:13:48.650913Z"
    }
   },
   "id": "641b125ac648d85e"
  },
  {
   "cell_type": "code",
   "execution_count": 45,
   "outputs": [
    {
     "name": "stdout",
     "output_type": "stream",
     "text": [
      "0.施*兰 151****2817 zh**gjuan@example.net\n",
      "1.陈*香 145****4991 ka**juan@example.com\n",
      "2.陈*军 137****5682 mi**6@example.net\n",
      "3.王*荣 189****7401 ji**ang@example.com\n",
      "4.李* 152****1019 xi**iong@example.net\n",
      "5.王* 130****7835 ya**44@example.com\n",
      "6.邵*国 181****0903 ma**ao@example.com\n",
      "7.陈* 186****1421 qi**g23@example.net\n",
      "8.王* 153****8240 rg**g@example.net\n",
      "9.林* 156****3514 mi**an@example.net\n"
     ]
    }
   ],
   "source": [
    "data = [\n",
    "    ['施玉兰', '15190162817', 'zhongjuan@example.net'],\n",
    "    ['陈桂香', '14570034991', 'kangjuan@example.com'],\n",
    "    ['陈建军', '13784015682', 'min96@example.net'],\n",
    "    ['王桂荣', '18934117401', 'jietang@example.com'],\n",
    "    ['李婷', '15293021019', 'xiaxiong@example.net'],\n",
    "    ['王杨', '13018567835', 'yang44@example.com'],\n",
    "    ['邵建国', '18151210903', 'maotao@example.com'],\n",
    "    ['陈成', '18604911421', 'qiang23@example.net'],\n",
    "    ['王成', '15317678240', 'rgong@example.net'],\n",
    "    ['林婷', '15673253514', 'minfan@example.net']\n",
    "]\n",
    "\n",
    "def desensitize_personal_info(name, phone, email):\n",
    "    name = name[:1] + '*' + name[2:]\n",
    "    phone = phone[:3] + '*' * 4 + phone[7:]\n",
    "    email = email[:2] + '*' * 2 + email[4:]\n",
    "    return name, phone, email\n",
    "\n",
    "store_list = []\n",
    "# 脱敏处理\n",
    "for item in data:\n",
    "    store_list.append(desensitize_personal_info(item[0], item[1], item[2]))\n",
    "\n",
    "i = 0\n",
    "for item in store_list:\n",
    "    print(f'{i}.{item[0]} {item[1]} {item[2]}')\n",
    "    i = i + 1"
   ],
   "metadata": {
    "collapsed": false,
    "ExecuteTime": {
     "end_time": "2024-03-06T13:29:37.697541Z",
     "start_time": "2024-03-06T13:29:37.683160800Z"
    }
   },
   "id": "6b32ea464865f101"
  },
  {
   "cell_type": "code",
   "execution_count": 5,
   "outputs": [
    {
     "name": "stdout",
     "output_type": "stream",
     "text": [
      "Yes\n"
     ]
    }
   ],
   "source": [
    "def is_valid_IP(s):\n",
    "    parts = s.split('.')\n",
    "    if len(parts) != 4:\n",
    "        return 'No'\n",
    "    for part in parts:\n",
    "        if not part.isdigit() or not 0 <= int(part) <= 255:\n",
    "            return 'No'\n",
    "    return 'Yes'\n",
    "\n",
    "\n",
    "# 获取用户输入\n",
    "user_input = input(\"请输入一个IP地址：\")\n",
    "\n",
    "# 判断是否为合法IP地址并输出结果\n",
    "result = is_valid_IP(user_input)\n",
    "print(result)\n"
   ],
   "metadata": {
    "collapsed": false,
    "ExecuteTime": {
     "end_time": "2024-03-06T13:40:03.724499500Z",
     "start_time": "2024-03-06T13:40:00.791604200Z"
    }
   },
   "id": "288d649e390d7a67"
  },
  {
   "cell_type": "code",
   "execution_count": 6,
   "outputs": [
    {
     "name": "stdout",
     "output_type": "stream",
     "text": [
      "1\n"
     ]
    }
   ],
   "source": [
    "get_max = lambda x, y: x if x > y else y\n",
    "\n",
    "result = get_max(1, -9)\n",
    "print(result)"
   ],
   "metadata": {
    "collapsed": false,
    "ExecuteTime": {
     "end_time": "2024-03-06T13:43:08.520745600Z",
     "start_time": "2024-03-06T13:43:08.506400500Z"
    }
   },
   "id": "ec0a04634a3b79e7"
  },
  {
   "cell_type": "code",
   "execution_count": 7,
   "outputs": [
    {
     "name": "stdout",
     "output_type": "stream",
     "text": [
      "从1到10共10个数的累加结果为: 55\n"
     ]
    }
   ],
   "source": [
    "accumulate = lambda N: sum(range(1, N + 1))\n",
    "\n",
    "N = 10\n",
    "\n",
    "result = accumulate(N)\n",
    "\n",
    "print(f\"从1到{N}共{N}个数的累加结果为: {result}\")\n"
   ],
   "metadata": {
    "collapsed": false,
    "ExecuteTime": {
     "end_time": "2024-03-06T13:45:06.047209600Z",
     "start_time": "2024-03-06T13:45:06.020875900Z"
    }
   },
   "id": "c2a6123634c97418"
  },
  {
   "cell_type": "code",
   "execution_count": 8,
   "outputs": [
    {
     "name": "stdout",
     "output_type": "stream",
     "text": [
      "数字 3 出现了 2 次\n",
      "数字 4 出现了 2 次\n",
      "数字 1 出现了 1 次\n",
      "数字 6 出现了 1 次\n",
      "数字 2 出现了 1 次\n"
     ]
    }
   ],
   "source": [
    "def equals(*args):\n",
    "    counts = {}\n",
    "    for num in args:\n",
    "        if num in counts:\n",
    "            counts[num] += 1\n",
    "        else:\n",
    "            counts[num] = 1\n",
    "\n",
    "    for num, count in counts.items():\n",
    "        print(f\"数字 {num} 出现了 {count} 次\")\n",
    "\n",
    "\n",
    "equals(3, 4, 3, 4, 1, 6, 2)"
   ],
   "metadata": {
    "collapsed": false,
    "ExecuteTime": {
     "end_time": "2024-03-06T13:47:40.403085300Z",
     "start_time": "2024-03-06T13:47:40.386749600Z"
    }
   },
   "id": "ab8849b666d36d1a"
  },
  {
   "cell_type": "code",
   "execution_count": 9,
   "outputs": [
    {
     "name": "stdout",
     "output_type": "stream",
     "text": [
      "1534\n"
     ]
    }
   ],
   "source": [
    "def eat(n):\n",
    "    if n == 1:\n",
    "        return 1\n",
    "    else:\n",
    "        return 2 * (eat(n - 1) + 1)\n",
    "\n",
    "print(eat(10))"
   ],
   "metadata": {
    "collapsed": false,
    "ExecuteTime": {
     "end_time": "2024-03-06T13:51:09.106290800Z",
     "start_time": "2024-03-06T13:51:09.095111300Z"
    }
   },
   "id": "10e08b8637cfbb39"
  },
  {
   "cell_type": "code",
   "execution_count": 17,
   "outputs": [
    {
     "name": "stdout",
     "output_type": "stream",
     "text": [
      "['4', '5', 'K', 'Q', 'A', '3', '8', '9', '2', '10', '7', '6', 'J']\n"
     ]
    }
   ],
   "source": [
    "import random\n",
    "\n",
    "cards = ['2', '3', '4', '5', '6', '7', '8', '9', '10', 'J', 'Q', 'K', 'A']\n",
    "\n",
    "seed = int(input(\"请输入一个整数作为随机数种子: \"))\n",
    "\n",
    "random.seed(seed)\n",
    "random.shuffle(cards)\n",
    "\n",
    "print(cards)"
   ],
   "metadata": {
    "collapsed": false,
    "ExecuteTime": {
     "end_time": "2024-03-06T15:13:34.074011800Z",
     "start_time": "2024-03-06T15:13:32.421977100Z"
    }
   },
   "id": "f9f9f30f578b4ca5"
  },
  {
   "cell_type": "code",
   "execution_count": 22,
   "outputs": [
    {
     "name": "stdout",
     "output_type": "stream",
     "text": [
      "245848\n"
     ]
    }
   ],
   "source": [
    "import random\n",
    "\n",
    "seed = int(input(\"请输入一个整数作为随机数种子: \"))\n",
    "\n",
    "chars = 'ABCDEFGHIJ0123456789'\n",
    "\n",
    "# 根据随机数种子生成取件码\n",
    "random.seed(seed)\n",
    "pickup_code = ''.join(random.choices(chars, k=6))\n",
    "\n",
    "print(pickup_code)"
   ],
   "metadata": {
    "collapsed": false,
    "ExecuteTime": {
     "end_time": "2024-03-06T15:14:43.561714500Z",
     "start_time": "2024-03-06T15:14:42.703709400Z"
    }
   },
   "id": "c38071226362d1b3"
  },
  {
   "cell_type": "code",
   "execution_count": 33,
   "outputs": [
    {
     "name": "stdout",
     "output_type": "stream",
     "text": [
      "KPF9T-XGEEB-T2PCK-Y2RMH-FMJB6\n",
      "MMJHP-P69RE-4Q7TY-KHKXM-E2PBP\n",
      "38PYJ-VV4PV-WHKPM-CECW6-MY26X\n",
      "8QG7J-EVJ66-WMHRV-93Q62-JQFC8\n"
     ]
    }
   ],
   "source": [
    "import random\n",
    "\n",
    "chars = 'BCEFGHJKMPQRTVWXY2346789'\n",
    "\n",
    "created_num = int(input(\"请输入要生成的序列号的个数\"))\n",
    "seek = int(input(\"请输入随机数种子\"))\n",
    "\n",
    "random.seed(seek)\n",
    "\n",
    "key_list = []\n",
    "for _ in range(created_num):\n",
    "    key = ''.join(random.choice(chars) for _ in range(25))\n",
    "    key_list.append(key[:5] + '-' + key[5:10] + '-' + key[10:15] +'-'+key[15:20] + '-' +key[20:25])\n",
    "\n",
    "for key in key_list:\n",
    "    print(key)\n"
   ],
   "metadata": {
    "collapsed": false,
    "ExecuteTime": {
     "end_time": "2024-03-06T15:31:04.537893600Z",
     "start_time": "2024-03-06T15:31:02.474458400Z"
    }
   },
   "id": "5b12d79837a59e96"
  },
  {
   "cell_type": "code",
   "execution_count": 2,
   "outputs": [
    {
     "name": "stdout",
     "output_type": "stream",
     "text": [
      "A->B\n",
      "A->C\n",
      "B->C\n"
     ]
    }
   ],
   "source": [
    "def move(n,a,b,c):\n",
    "    if n==1:\n",
    "        print(f'{a}->{c}')\n",
    "    else:\n",
    "        move(n-1,a,c,b)\n",
    "        print(f'{a}->{c}')\n",
    "        move(n-1,b,a,c)\n",
    "\n",
    "move(2,\"A\",\"B\",\"C\")"
   ],
   "metadata": {
    "collapsed": false,
    "ExecuteTime": {
     "end_time": "2024-03-06T15:45:10.296384500Z",
     "start_time": "2024-03-06T15:45:10.288380800Z"
    }
   },
   "id": "1dce9207e22cc0c5"
  }
 ],
 "metadata": {
  "kernelspec": {
   "display_name": "Python 3",
   "language": "python",
   "name": "python3"
  },
  "language_info": {
   "codemirror_mode": {
    "name": "ipython",
    "version": 2
   },
   "file_extension": ".py",
   "mimetype": "text/x-python",
   "name": "python",
   "nbconvert_exporter": "python",
   "pygments_lexer": "ipython2",
   "version": "2.7.6"
  }
 },
 "nbformat": 4,
 "nbformat_minor": 5
}
