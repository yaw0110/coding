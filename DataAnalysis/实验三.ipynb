{
 "cells": [
  {
   "cell_type": "code",
   "execution_count": 1,
   "id": "initial_id",
   "metadata": {
    "collapsed": true,
    "ExecuteTime": {
     "end_time": "2024-04-12T02:22:18.293573100Z",
     "start_time": "2024-04-12T02:22:17.011060500Z"
    }
   },
   "outputs": [],
   "source": [
    "import pandas as pd\n",
    "import numpy as np"
   ]
  },
  {
   "cell_type": "code",
   "execution_count": 2,
   "outputs": [
    {
     "data": {
      "text/plain": "        userId  movieId  rating   timestamp\n0            1        1     4.0   964982703\n1            1        3     4.0   964981247\n2            1        6     4.0   964982224\n3            1       47     5.0   964983815\n4            1       50     5.0   964982931\n...        ...      ...     ...         ...\n100831     610   166534     4.0  1493848402\n100832     610   168248     5.0  1493850091\n100833     610   168250     5.0  1494273047\n100834     610   168252     5.0  1493846352\n100835     610   170875     3.0  1493846415\n\n[100836 rows x 4 columns]",
      "text/html": "<div>\n<style scoped>\n    .dataframe tbody tr th:only-of-type {\n        vertical-align: middle;\n    }\n\n    .dataframe tbody tr th {\n        vertical-align: top;\n    }\n\n    .dataframe thead th {\n        text-align: right;\n    }\n</style>\n<table border=\"1\" class=\"dataframe\">\n  <thead>\n    <tr style=\"text-align: right;\">\n      <th></th>\n      <th>userId</th>\n      <th>movieId</th>\n      <th>rating</th>\n      <th>timestamp</th>\n    </tr>\n  </thead>\n  <tbody>\n    <tr>\n      <th>0</th>\n      <td>1</td>\n      <td>1</td>\n      <td>4.0</td>\n      <td>964982703</td>\n    </tr>\n    <tr>\n      <th>1</th>\n      <td>1</td>\n      <td>3</td>\n      <td>4.0</td>\n      <td>964981247</td>\n    </tr>\n    <tr>\n      <th>2</th>\n      <td>1</td>\n      <td>6</td>\n      <td>4.0</td>\n      <td>964982224</td>\n    </tr>\n    <tr>\n      <th>3</th>\n      <td>1</td>\n      <td>47</td>\n      <td>5.0</td>\n      <td>964983815</td>\n    </tr>\n    <tr>\n      <th>4</th>\n      <td>1</td>\n      <td>50</td>\n      <td>5.0</td>\n      <td>964982931</td>\n    </tr>\n    <tr>\n      <th>...</th>\n      <td>...</td>\n      <td>...</td>\n      <td>...</td>\n      <td>...</td>\n    </tr>\n    <tr>\n      <th>100831</th>\n      <td>610</td>\n      <td>166534</td>\n      <td>4.0</td>\n      <td>1493848402</td>\n    </tr>\n    <tr>\n      <th>100832</th>\n      <td>610</td>\n      <td>168248</td>\n      <td>5.0</td>\n      <td>1493850091</td>\n    </tr>\n    <tr>\n      <th>100833</th>\n      <td>610</td>\n      <td>168250</td>\n      <td>5.0</td>\n      <td>1494273047</td>\n    </tr>\n    <tr>\n      <th>100834</th>\n      <td>610</td>\n      <td>168252</td>\n      <td>5.0</td>\n      <td>1493846352</td>\n    </tr>\n    <tr>\n      <th>100835</th>\n      <td>610</td>\n      <td>170875</td>\n      <td>3.0</td>\n      <td>1493846415</td>\n    </tr>\n  </tbody>\n</table>\n<p>100836 rows × 4 columns</p>\n</div>"
     },
     "execution_count": 2,
     "metadata": {},
     "output_type": "execute_result"
    }
   ],
   "source": [
    "# 读取数据\n",
    "rating_df = pd.read_csv('ml-latest-small/ratings.csv')\n",
    "rating_df"
   ],
   "metadata": {
    "collapsed": false,
    "ExecuteTime": {
     "end_time": "2024-04-12T02:24:13.012567800Z",
     "start_time": "2024-04-12T02:24:12.882793600Z"
    }
   },
   "id": "c3432addee75a01c"
  },
  {
   "cell_type": "code",
   "execution_count": 3,
   "outputs": [
    {
     "name": "stdout",
     "output_type": "stream",
     "text": [
      "<class 'pandas.core.frame.DataFrame'>\n",
      "RangeIndex: 100836 entries, 0 to 100835\n",
      "Data columns (total 4 columns):\n",
      " #   Column     Non-Null Count   Dtype  \n",
      "---  ------     --------------   -----  \n",
      " 0   userId     100836 non-null  int64  \n",
      " 1   movieId    100836 non-null  int64  \n",
      " 2   rating     100836 non-null  float64\n",
      " 3   timestamp  100836 non-null  int64  \n",
      "dtypes: float64(1), int64(3)\n",
      "memory usage: 3.1 MB\n"
     ]
    }
   ],
   "source": [
    "# 查看基本信息\n",
    "rating_df.info()"
   ],
   "metadata": {
    "collapsed": false,
    "ExecuteTime": {
     "end_time": "2024-04-12T02:27:44.271614300Z",
     "start_time": "2024-04-12T02:27:44.215781700Z"
    }
   },
   "id": "efdec2a02fbfdd6d"
  },
  {
   "cell_type": "code",
   "execution_count": 4,
   "outputs": [],
   "source": [
    "# 删除无用列\n",
    "rating_df.drop(['timestamp'],axis=1,inplace=True)"
   ],
   "metadata": {
    "collapsed": false,
    "ExecuteTime": {
     "end_time": "2024-04-12T02:27:46.962242800Z",
     "start_time": "2024-04-12T02:27:46.930932200Z"
    }
   },
   "id": "86f3f9d37899f000"
  },
  {
   "cell_type": "code",
   "execution_count": 5,
   "outputs": [
    {
     "name": "stdout",
     "output_type": "stream",
     "text": [
      "        userId  movieId  rating\n",
      "0            1        1     4.0\n",
      "1            1        3     4.0\n",
      "2            1        6     4.0\n",
      "3            1       47     5.0\n",
      "4            1       50     5.0\n",
      "...        ...      ...     ...\n",
      "100831     610   166534     4.0\n",
      "100832     610   168248     5.0\n",
      "100833     610   168250     5.0\n",
      "100834     610   168252     5.0\n",
      "100835     610   170875     3.0\n",
      "\n",
      "[100836 rows x 3 columns]\n"
     ]
    }
   ],
   "source": [
    "print(rating_df)"
   ],
   "metadata": {
    "collapsed": false,
    "ExecuteTime": {
     "end_time": "2024-04-12T02:27:48.928734200Z",
     "start_time": "2024-04-12T02:27:48.904653100Z"
    }
   },
   "id": "d95ebd420988eaf"
  },
  {
   "cell_type": "code",
   "execution_count": 6,
   "outputs": [
    {
     "data": {
      "text/plain": "9724"
     },
     "execution_count": 6,
     "metadata": {},
     "output_type": "execute_result"
    }
   ],
   "source": [
    "len(rating_df['movieId'].unique().tolist())"
   ],
   "metadata": {
    "collapsed": false,
    "ExecuteTime": {
     "end_time": "2024-04-12T02:27:51.614882200Z",
     "start_time": "2024-04-12T02:27:51.498302300Z"
    }
   },
   "id": "445450114828f7a4"
  },
  {
   "cell_type": "code",
   "execution_count": 7,
   "outputs": [
    {
     "data": {
      "text/plain": "610"
     },
     "execution_count": 7,
     "metadata": {},
     "output_type": "execute_result"
    }
   ],
   "source": [
    "len(rating_df['userId'].unique().tolist())"
   ],
   "metadata": {
    "collapsed": false,
    "ExecuteTime": {
     "end_time": "2024-04-12T02:27:53.415780800Z",
     "start_time": "2024-04-12T02:27:53.374825Z"
    }
   },
   "id": "7dd586c5515babdf"
  },
  {
   "cell_type": "code",
   "execution_count": 27,
   "outputs": [],
   "source": [
    "# print(pd.DataFrame(\n",
    "#     [\n",
    "#         ['userid1', 3, 4, 5],\n",
    "#         ['userid2', 5, 1, np.nan],\n",
    "#         ['userid3', 3, 1, 4]\n",
    "#     ]\n",
    "#     , columns=['userid', 'movieid1', 'movieid2', 'movieid3']\n",
    "# ))"
   ],
   "metadata": {
    "collapsed": false,
    "ExecuteTime": {
     "end_time": "2024-04-08T03:25:08.028069400Z",
     "start_time": "2024-04-08T03:25:07.839923700Z"
    }
   },
   "id": "4a6392181fb0e512"
  },
  {
   "cell_type": "code",
   "execution_count": 114,
   "outputs": [],
   "source": [
    "# 使用pivot_table函数将数据转换为列联表\n",
    "pivot_df = pd.pivot_table(rating_df, values='rating', index='userId', columns='movieId', aggfunc='first')\n",
    "\n",
    "# 重命名列名\n",
    "pivot_df.columns = ['movieid{}'.format(col) for col in pivot_df.columns]\n",
    "\n",
    "# 重置索引并重命名索引列\n",
    "pivot_df.reset_index(inplace=True)"
   ],
   "metadata": {
    "collapsed": false,
    "ExecuteTime": {
     "end_time": "2024-04-12T03:54:22.549396700Z",
     "start_time": "2024-04-12T03:54:22.371838200Z"
    }
   },
   "id": "2f6bffd8137f0b9b"
  },
  {
   "cell_type": "code",
   "execution_count": 9,
   "outputs": [],
   "source": [
    "pivot_df.to_csv('pivot_df.csv',index=False)"
   ],
   "metadata": {
    "collapsed": false,
    "ExecuteTime": {
     "end_time": "2024-04-12T02:29:36.373485600Z",
     "start_time": "2024-04-12T02:29:32.852509500Z"
    }
   },
   "id": "bb1558af75c3f928"
  },
  {
   "cell_type": "code",
   "execution_count": 113,
   "outputs": [
    {
     "data": {
      "text/plain": "          0         1         2         3         4         5         6    \\\n0    1.000000  1.000000 -0.099912  0.159951 -0.072169 -0.411503 -0.398105   \n1    1.000000  1.000000       NaN -1.000000 -1.000000 -0.866025 -0.943742   \n2   -0.099912       NaN  1.000000 -1.000000       NaN  0.942809       NaN   \n3    0.159951 -1.000000 -1.000000  1.000000 -0.310200  0.180060  0.503856   \n4   -0.072169 -1.000000       NaN -0.310200  1.000000  0.120412  0.419246   \n..        ...       ...       ...       ...       ...       ...       ...   \n605 -0.410681 -0.844866  0.294414  0.037101  0.223984  0.297533  0.284389   \n606 -0.430070 -1.000000  0.299925  0.037343  0.399014  0.359862  0.534787   \n607 -0.307009 -0.826883  0.285938  0.060300  0.264405  0.219133  0.266505   \n608 -0.866802 -1.000000       NaN  0.192026  0.449481  0.442510  0.749383   \n609 -0.552199 -0.527826  0.014045  0.039122  0.410136  0.395583  0.290814   \n\n          7         8         9    ...       600       601       602  \\\n0   -0.418265 -0.715184 -0.794552  ... -0.943794 -0.636918 -0.376609   \n1   -1.000000       NaN -0.618903  ... -0.679423 -1.000000 -0.982252   \n2    1.000000       NaN       NaN  ...  0.999999  0.999996  0.248346   \n3    0.306331  1.000000  0.396753  ...  0.134736  0.107267  0.028032   \n4    0.251976       NaN  0.262297  ...  0.534522  0.276643  0.289624   \n..        ...       ...       ...  ...       ...       ...       ...   \n605  0.717111  0.783101  0.699936  ...  0.999972  0.999905  0.999418   \n606  0.756147  1.000000  0.968036  ...  0.999996  0.999940  0.999724   \n607  0.561963  0.706414  0.712799  ...  0.999965  0.999875  0.999352   \n608  0.750508       NaN  0.963123  ...  1.000000  0.999973  0.999977   \n609  0.752025  0.719704  0.561357  ...  0.999941  0.999936  0.999628   \n\n          603       604       605       606       607       608       609  \n0   -0.785318 -0.596206 -0.410681 -0.430070 -0.307009 -0.866802 -0.552199  \n1         NaN       NaN -0.844866 -1.000000 -0.826883 -1.000000 -0.527826  \n2         NaN -1.000000  0.294414  0.299925  0.285938       NaN  0.014045  \n3    0.200680  0.026339  0.037101  0.037343  0.060300  0.192026  0.039122  \n4    0.397702  0.274980  0.223984  0.399014  0.264405  0.449481  0.410136  \n..        ...       ...       ...       ...       ...       ...       ...  \n605  0.999983  0.999913  1.000000  0.999859  0.999560  0.999992  0.999765  \n606  0.999967  0.999935  0.999859  1.000000  0.999796  0.999989  0.999882  \n607  0.999888  0.999824  0.999560  0.999796  1.000000  0.999982  0.999493  \n608  0.999992  0.999983  0.999992  0.999989  0.999982  1.000000  0.999982  \n609  0.999980  0.999916  0.999765  0.999882  0.999493  0.999982  1.000000  \n\n[610 rows x 610 columns]",
      "text/html": "<div>\n<style scoped>\n    .dataframe tbody tr th:only-of-type {\n        vertical-align: middle;\n    }\n\n    .dataframe tbody tr th {\n        vertical-align: top;\n    }\n\n    .dataframe thead th {\n        text-align: right;\n    }\n</style>\n<table border=\"1\" class=\"dataframe\">\n  <thead>\n    <tr style=\"text-align: right;\">\n      <th></th>\n      <th>0</th>\n      <th>1</th>\n      <th>2</th>\n      <th>3</th>\n      <th>4</th>\n      <th>5</th>\n      <th>6</th>\n      <th>7</th>\n      <th>8</th>\n      <th>9</th>\n      <th>...</th>\n      <th>600</th>\n      <th>601</th>\n      <th>602</th>\n      <th>603</th>\n      <th>604</th>\n      <th>605</th>\n      <th>606</th>\n      <th>607</th>\n      <th>608</th>\n      <th>609</th>\n    </tr>\n  </thead>\n  <tbody>\n    <tr>\n      <th>0</th>\n      <td>1.000000</td>\n      <td>1.000000</td>\n      <td>-0.099912</td>\n      <td>0.159951</td>\n      <td>-0.072169</td>\n      <td>-0.411503</td>\n      <td>-0.398105</td>\n      <td>-0.418265</td>\n      <td>-0.715184</td>\n      <td>-0.794552</td>\n      <td>...</td>\n      <td>-0.943794</td>\n      <td>-0.636918</td>\n      <td>-0.376609</td>\n      <td>-0.785318</td>\n      <td>-0.596206</td>\n      <td>-0.410681</td>\n      <td>-0.430070</td>\n      <td>-0.307009</td>\n      <td>-0.866802</td>\n      <td>-0.552199</td>\n    </tr>\n    <tr>\n      <th>1</th>\n      <td>1.000000</td>\n      <td>1.000000</td>\n      <td>NaN</td>\n      <td>-1.000000</td>\n      <td>-1.000000</td>\n      <td>-0.866025</td>\n      <td>-0.943742</td>\n      <td>-1.000000</td>\n      <td>NaN</td>\n      <td>-0.618903</td>\n      <td>...</td>\n      <td>-0.679423</td>\n      <td>-1.000000</td>\n      <td>-0.982252</td>\n      <td>NaN</td>\n      <td>NaN</td>\n      <td>-0.844866</td>\n      <td>-1.000000</td>\n      <td>-0.826883</td>\n      <td>-1.000000</td>\n      <td>-0.527826</td>\n    </tr>\n    <tr>\n      <th>2</th>\n      <td>-0.099912</td>\n      <td>NaN</td>\n      <td>1.000000</td>\n      <td>-1.000000</td>\n      <td>NaN</td>\n      <td>0.942809</td>\n      <td>NaN</td>\n      <td>1.000000</td>\n      <td>NaN</td>\n      <td>NaN</td>\n      <td>...</td>\n      <td>0.999999</td>\n      <td>0.999996</td>\n      <td>0.248346</td>\n      <td>NaN</td>\n      <td>-1.000000</td>\n      <td>0.294414</td>\n      <td>0.299925</td>\n      <td>0.285938</td>\n      <td>NaN</td>\n      <td>0.014045</td>\n    </tr>\n    <tr>\n      <th>3</th>\n      <td>0.159951</td>\n      <td>-1.000000</td>\n      <td>-1.000000</td>\n      <td>1.000000</td>\n      <td>-0.310200</td>\n      <td>0.180060</td>\n      <td>0.503856</td>\n      <td>0.306331</td>\n      <td>1.000000</td>\n      <td>0.396753</td>\n      <td>...</td>\n      <td>0.134736</td>\n      <td>0.107267</td>\n      <td>0.028032</td>\n      <td>0.200680</td>\n      <td>0.026339</td>\n      <td>0.037101</td>\n      <td>0.037343</td>\n      <td>0.060300</td>\n      <td>0.192026</td>\n      <td>0.039122</td>\n    </tr>\n    <tr>\n      <th>4</th>\n      <td>-0.072169</td>\n      <td>-1.000000</td>\n      <td>NaN</td>\n      <td>-0.310200</td>\n      <td>1.000000</td>\n      <td>0.120412</td>\n      <td>0.419246</td>\n      <td>0.251976</td>\n      <td>NaN</td>\n      <td>0.262297</td>\n      <td>...</td>\n      <td>0.534522</td>\n      <td>0.276643</td>\n      <td>0.289624</td>\n      <td>0.397702</td>\n      <td>0.274980</td>\n      <td>0.223984</td>\n      <td>0.399014</td>\n      <td>0.264405</td>\n      <td>0.449481</td>\n      <td>0.410136</td>\n    </tr>\n    <tr>\n      <th>...</th>\n      <td>...</td>\n      <td>...</td>\n      <td>...</td>\n      <td>...</td>\n      <td>...</td>\n      <td>...</td>\n      <td>...</td>\n      <td>...</td>\n      <td>...</td>\n      <td>...</td>\n      <td>...</td>\n      <td>...</td>\n      <td>...</td>\n      <td>...</td>\n      <td>...</td>\n      <td>...</td>\n      <td>...</td>\n      <td>...</td>\n      <td>...</td>\n      <td>...</td>\n      <td>...</td>\n    </tr>\n    <tr>\n      <th>605</th>\n      <td>-0.410681</td>\n      <td>-0.844866</td>\n      <td>0.294414</td>\n      <td>0.037101</td>\n      <td>0.223984</td>\n      <td>0.297533</td>\n      <td>0.284389</td>\n      <td>0.717111</td>\n      <td>0.783101</td>\n      <td>0.699936</td>\n      <td>...</td>\n      <td>0.999972</td>\n      <td>0.999905</td>\n      <td>0.999418</td>\n      <td>0.999983</td>\n      <td>0.999913</td>\n      <td>1.000000</td>\n      <td>0.999859</td>\n      <td>0.999560</td>\n      <td>0.999992</td>\n      <td>0.999765</td>\n    </tr>\n    <tr>\n      <th>606</th>\n      <td>-0.430070</td>\n      <td>-1.000000</td>\n      <td>0.299925</td>\n      <td>0.037343</td>\n      <td>0.399014</td>\n      <td>0.359862</td>\n      <td>0.534787</td>\n      <td>0.756147</td>\n      <td>1.000000</td>\n      <td>0.968036</td>\n      <td>...</td>\n      <td>0.999996</td>\n      <td>0.999940</td>\n      <td>0.999724</td>\n      <td>0.999967</td>\n      <td>0.999935</td>\n      <td>0.999859</td>\n      <td>1.000000</td>\n      <td>0.999796</td>\n      <td>0.999989</td>\n      <td>0.999882</td>\n    </tr>\n    <tr>\n      <th>607</th>\n      <td>-0.307009</td>\n      <td>-0.826883</td>\n      <td>0.285938</td>\n      <td>0.060300</td>\n      <td>0.264405</td>\n      <td>0.219133</td>\n      <td>0.266505</td>\n      <td>0.561963</td>\n      <td>0.706414</td>\n      <td>0.712799</td>\n      <td>...</td>\n      <td>0.999965</td>\n      <td>0.999875</td>\n      <td>0.999352</td>\n      <td>0.999888</td>\n      <td>0.999824</td>\n      <td>0.999560</td>\n      <td>0.999796</td>\n      <td>1.000000</td>\n      <td>0.999982</td>\n      <td>0.999493</td>\n    </tr>\n    <tr>\n      <th>608</th>\n      <td>-0.866802</td>\n      <td>-1.000000</td>\n      <td>NaN</td>\n      <td>0.192026</td>\n      <td>0.449481</td>\n      <td>0.442510</td>\n      <td>0.749383</td>\n      <td>0.750508</td>\n      <td>NaN</td>\n      <td>0.963123</td>\n      <td>...</td>\n      <td>1.000000</td>\n      <td>0.999973</td>\n      <td>0.999977</td>\n      <td>0.999992</td>\n      <td>0.999983</td>\n      <td>0.999992</td>\n      <td>0.999989</td>\n      <td>0.999982</td>\n      <td>1.000000</td>\n      <td>0.999982</td>\n    </tr>\n    <tr>\n      <th>609</th>\n      <td>-0.552199</td>\n      <td>-0.527826</td>\n      <td>0.014045</td>\n      <td>0.039122</td>\n      <td>0.410136</td>\n      <td>0.395583</td>\n      <td>0.290814</td>\n      <td>0.752025</td>\n      <td>0.719704</td>\n      <td>0.561357</td>\n      <td>...</td>\n      <td>0.999941</td>\n      <td>0.999936</td>\n      <td>0.999628</td>\n      <td>0.999980</td>\n      <td>0.999916</td>\n      <td>0.999765</td>\n      <td>0.999882</td>\n      <td>0.999493</td>\n      <td>0.999982</td>\n      <td>1.000000</td>\n    </tr>\n  </tbody>\n</table>\n<p>610 rows × 610 columns</p>\n</div>"
     },
     "execution_count": 113,
     "metadata": {},
     "output_type": "execute_result"
    }
   ],
   "source": [
    "user_similar = pivot_df.T.corr()\n",
    "user_similar"
   ],
   "metadata": {
    "collapsed": false,
    "ExecuteTime": {
     "end_time": "2024-04-12T03:54:18.831428400Z",
     "start_time": "2024-04-12T03:54:16.395472700Z"
    }
   },
   "id": "5474bd810bc4c926"
  },
  {
   "cell_type": "code",
   "execution_count": 115,
   "outputs": [
    {
     "name": "stdout",
     "output_type": "stream",
     "text": [
      "推荐电影: movieid109487 (分数: 10.00)\n",
      "推荐电影: movieid4993 (分数: 9.50)\n",
      "推荐电影: movieid79132 (分数: 9.00)\n",
      "推荐电影: movieid116797 (分数: 9.00)\n",
      "推荐电影: movieid59315 (分数: 8.50)\n"
     ]
    }
   ],
   "source": [
    "# 定义一个函数来根据用户的相似度得分和其他用户的评分来推荐电影\n",
    "def recommend_movies_by_similarity(N,user_similar, pivot_df, user_id, num_recommendations=10):\n",
    "    # 获取当前用户的评分\n",
    "    user_ratings = pivot_df.loc[user_id][1:].dropna()\n",
    "    \n",
    "    # 初始化推荐电影的字典，用于存储电影ID和加权分数\n",
    "    recommended_movies = {}\n",
    "    \n",
    "    # 获取当前用户的相似用户及其相似度得分\n",
    "    similar_users_scores = user_similar.loc[user_id].sort_values(ascending=False)[1:N+1]\n",
    "    \n",
    "    # 遍历每个相似用户及其相似度得分\n",
    "    for similar_user, similarity_score in similar_users_scores.items():\n",
    "        # 获取相似用户的评分\n",
    "        similar_user_ratings = pivot_df.loc[similar_user][1:].dropna()\n",
    "        score = 0\n",
    "        # 对于相似用户评分的每部电影，累加加权分数（相似度得分 * 相似用户的评分）\n",
    "        for movie, rating in similar_user_ratings.items():\n",
    "            # 如果当前用户没有评过这部电影，则添加到字典中\n",
    "            if movie not in recommended_movies:\n",
    "                recommended_movies[movie] = 0.0\n",
    "            # 累加加权分数\n",
    "            score += similarity_score\n",
    "            recommended_movies[movie] += similarity_score * rating \n",
    "        \n",
    "    # 过滤掉当前用户已经评分的电影\n",
    "    recommended_movies = {movie: score for movie, score in recommended_movies.items() if movie not in user_ratings}\n",
    "\n",
    "    # 对推荐电影的分数进行降序排序\n",
    "    sorted_recommendations = sorted(recommended_movies.items(), key=lambda x: x[1], reverse=True)\n",
    "    \n",
    "    # 获取前num_recommendations个推荐电影\n",
    "    top_recommendations = sorted_recommendations[:num_recommendations]\n",
    "    \n",
    "    return top_recommendations\n",
    "\n",
    "# 使用推荐函数为特定用户推荐电影\n",
    "user_id = 3  # 请替换为实际的用户ID\n",
    "num_recommendations = 5  # 您想要的推荐数量\n",
    "recommended_list = recommend_movies_by_similarity(3,user_similar, pivot_df, user_id, num_recommendations)\n",
    "\n",
    "# 打印推荐的电影列表\n",
    "for movie, score in recommended_list:\n",
    "    print(f\"推荐电影: {movie} (分数: {score:.2f})\")"
   ],
   "metadata": {
    "collapsed": false,
    "ExecuteTime": {
     "end_time": "2024-04-12T03:54:29.519995800Z",
     "start_time": "2024-04-12T03:54:29.454688300Z"
    }
   },
   "id": "b5641c5e22f7949d"
  },
  {
   "cell_type": "code",
   "execution_count": 83,
   "outputs": [
    {
     "data": {
      "text/plain": "1    1.000000\n3    0.159951\n4   -0.072169\nName: 0, dtype: float64"
     },
     "execution_count": 83,
     "metadata": {},
     "output_type": "execute_result"
    }
   ],
   "source": [
    "similar_users_scores = user_similar.loc[0].sort_values(ascending=False)[1:3+1]\n",
    "similar_users_scores"
   ],
   "metadata": {
    "collapsed": false,
    "ExecuteTime": {
     "end_time": "2024-04-12T03:21:04.485274200Z",
     "start_time": "2024-04-12T03:21:04.316004600Z"
    }
   },
   "id": "7665c497f0db8203"
  },
  {
   "cell_type": "code",
   "execution_count": 99,
   "outputs": [
    {
     "data": {
      "text/plain": "movieid1       4.0\nmovieid3       4.0\nmovieid6       4.0\nmovieid47      5.0\nmovieid50      5.0\n              ... \nmovieid3744    4.0\nmovieid3793    5.0\nmovieid3809    4.0\nmovieid4006    4.0\nmovieid5060    5.0\nName: 0, Length: 232, dtype: float64"
     },
     "execution_count": 99,
     "metadata": {},
     "output_type": "execute_result"
    }
   ],
   "source": [
    "user_ratings = pivot_df.loc[0][1:].dropna()\n",
    "user_ratings"
   ],
   "metadata": {
    "collapsed": false,
    "ExecuteTime": {
     "end_time": "2024-04-12T03:29:35.466086700Z",
     "start_time": "2024-04-12T03:29:35.314069500Z"
    }
   },
   "id": "521bb5d1bb925daf"
  },
  {
   "cell_type": "code",
   "execution_count": 110,
   "outputs": [
    {
     "name": "stdout",
     "output_type": "stream",
     "text": [
      "{'movieid318': 2.7834936490538906, 'movieid1704': 4.6599509736047064, 'movieid6874': 3.9999999999999996, 'movieid8798': 3.4999999999999996, 'movieid46970': 3.9999999999999996, 'movieid48516': 3.9999999999999996, 'movieid58559': 4.499999999999999, 'movieid60756': 4.999999999999999, 'movieid68157': 4.499999999999999, 'movieid71535': 2.9999999999999996, 'movieid74458': 3.9999999999999996, 'movieid77455': 2.9999999999999996, 'movieid79132': 3.9999999999999996, 'movieid80489': 4.499999999999999, 'movieid80906': 4.999999999999999, 'movieid86345': 3.9999999999999996, 'movieid89774': 4.999999999999999, 'movieid91529': 3.4999999999999996, 'movieid91658': 2.4999999999999996, 'movieid99114': 3.4999999999999996, 'movieid106782': 4.999999999999999, 'movieid109487': 2.9999999999999996, 'movieid112552': 3.9999999999999996, 'movieid114060': 1.9999999999999998, 'movieid115713': 3.4999999999999996, 'movieid122882': 4.999999999999999, 'movieid131724': 4.999999999999999, 'movieid21': 0.19117778621930914, 'movieid32': 0.31990194720941423, 'movieid45': 0.47985292081412134, 'movieid52': 0.47985292081412134, 'movieid58': 0.11900900257060609, 'movieid106': 0.6398038944188285, 'movieid125': 0.7997548680235356, 'movieid126': 0.15995097360470711, 'movieid162': 0.7997548680235356, 'movieid171': 0.47985292081412134, 'movieid176': 0.7997548680235356, 'movieid190': 0.31990194720941423, 'movieid215': 0.7997548680235356, 'movieid222': 0.15995097360470711, 'movieid232': 0.5110797334287234, 'movieid247': 0.11900900257060609, 'movieid265': 0.5832485170774264, 'movieid319': 0.7997548680235356, 'movieid342': 0.7997548680235356, 'movieid345': 0.6398038944188285, 'movieid348': 0.6398038944188285, 'movieid351': 0.47985292081412134, 'movieid357': 0.33551535351671524, 'movieid368': 0.6398038944188285, 'movieid417': 0.31990194720941423, 'movieid450': 0.31990194720941423, 'movieid475': 0.4389109497800203, 'movieid492': 0.7997548680235356, 'movieid509': 0.15995097360470711, 'movieid538': 0.7997548680235356, 'movieid539': 0.15995097360470711, 'movieid588': 0.35112875982401626, 'movieid595': 0.11900900257060609, 'movieid599': 0.31990194720941423, 'movieid708': 0.6398038944188285, 'movieid759': 0.47985292081412134, 'movieid800': 0.6398038944188285, 'movieid892': 0.6398038944188285, 'movieid898': 0.7997548680235356, 'movieid899': 0.6398038944188285, 'movieid902': 0.6398038944188285, 'movieid904': 0.6398038944188285, 'movieid908': 0.7997548680235356, 'movieid910': 0.7997548680235356, 'movieid912': 0.7997548680235356, 'movieid914': 0.7997548680235356, 'movieid920': 0.7997548680235356, 'movieid930': 0.7997548680235356, 'movieid937': 0.47985292081412134, 'movieid1046': 0.7997548680235356, 'movieid1057': 0.47985292081412134, 'movieid1077': 0.7997548680235356, 'movieid1079': 0.31990194720941423, 'movieid1084': 0.7997548680235356, 'movieid1086': 0.7997548680235356, 'movieid1094': 0.47985292081412134, 'movieid1103': 0.7997548680235356, 'movieid1179': 0.6398038944188285, 'movieid1183': 0.15995097360470711, 'movieid1188': 0.7997548680235356, 'movieid1199': 0.31990194720941423, 'movieid1203': 0.7997548680235356, 'movieid1211': 0.15995097360470711, 'movieid1225': 0.6398038944188285, 'movieid1250': 0.7997548680235356, 'movieid1259': 0.6398038944188285, 'movieid1266': 0.6398038944188285, 'movieid1279': 0.31990194720941423, 'movieid1283': 0.7997548680235356, 'movieid1288': 0.6398038944188285, 'movieid1304': 0.47985292081412134, 'movieid1391': 0.15995097360470711, 'movieid1449': 0.7997548680235356, 'movieid1466': 0.6398038944188285, 'movieid1597': 0.15995097360470711, 'movieid1641': 0.6398038944188285, 'movieid1719': 0.6398038944188285, 'movieid1733': 0.7997548680235356, 'movieid1734': 0.47985292081412134, 'movieid1834': 0.7997548680235356, 'movieid1860': 0.31990194720941423, 'movieid1883': 0.6398038944188285, 'movieid1885': 0.47985292081412134, 'movieid1892': 0.31990194720941423, 'movieid1895': 0.6398038944188285, 'movieid1907': 0.47985292081412134, 'movieid1914': 0.6398038944188285, 'movieid1916': 0.15995097360470711, 'movieid1923': 0.47985292081412134, 'movieid1947': 0.7997548680235356, 'movieid1966': 0.31990194720941423, 'movieid1968': 0.6398038944188285, 'movieid2019': 0.31990194720941423, 'movieid2076': 0.6398038944188285, 'movieid2109': 0.6398038944188285, 'movieid2145': 0.47985292081412134, 'movieid2150': 0.7997548680235356, 'movieid2186': 0.7997548680235356, 'movieid2203': 0.6398038944188285, 'movieid2204': 0.7997548680235356, 'movieid2282': 0.15995097360470711, 'movieid2324': 0.15995097360470711, 'movieid2336': 0.31990194720941423, 'movieid2351': 0.6398038944188285, 'movieid2359': 0.6398038944188285, 'movieid2390': 0.7997548680235356, 'movieid2467': 0.6398038944188285, 'movieid2583': 0.7997548680235356, 'movieid2599': 0.7997548680235356, 'movieid2683': 0.6398038944188285, 'movieid2712': 0.31990194720941423, 'movieid2762': 0.6398038944188285, 'movieid2763': 0.15995097360470711, 'movieid2770': 0.31990194720941423, 'movieid2791': 0.7997548680235356, 'movieid2843': 0.7997548680235356, 'movieid2874': 0.6398038944188285, 'movieid2921': 0.6398038944188285, 'movieid2926': 0.7997548680235356, 'movieid2973': 0.31990194720941423, 'movieid3044': 0.7997548680235356, 'movieid3060': 0.6398038944188285, 'movieid3079': 0.47985292081412134, 'movieid3083': 0.7997548680235356, 'movieid3160': 0.6398038944188285, 'movieid3175': 0.15995097360470711, 'movieid3204': 0.6398038944188285, 'movieid3255': 0.6398038944188285, 'movieid3317': 0.6398038944188285, 'movieid3358': 0.47985292081412134, 'movieid3365': 0.7997548680235356, 'movieid3408': 0.6398038944188285, 'movieid3481': 0.31990194720941423, 'movieid3508': 0.7997548680235356, 'movieid3538': 0.31990194720941423, 'movieid3591': 0.15995097360470711, 'movieid3788': 0.47985292081412134, 'movieid3851': 0.7997548680235356, 'movieid3897': 0.6398038944188285, 'movieid3911': 0.47985292081412134, 'movieid3967': 0.6398038944188285, 'movieid3996': 0.6398038944188285, 'movieid4002': 0.47985292081412134, 'movieid4014': 0.15995097360470711, 'movieid4020': 0.47985292081412134, 'movieid4021': 0.6398038944188285, 'movieid4027': 0.47985292081412134, 'movieid4029': 0.47985292081412134, 'movieid4033': 0.6398038944188285, 'movieid4034': 0.7997548680235356, 'movieid4074': 0.47985292081412134, 'movieid4121': 0.6398038944188285, 'movieid4144': 0.47985292081412134, 'movieid4166': 0.47985292081412134, 'movieid4226': 0.31990194720941423, 'movieid4239': 0.7997548680235356, 'movieid4246': 0.6398038944188285, 'movieid4252': 0.47985292081412134, 'movieid4260': 0.31990194720941423, 'movieid4273': 0.6398038944188285, 'movieid4308': 0.15995097360470711, 'movieid4347': 0.6398038944188285, 'movieid4381': 0.47985292081412134, 'movieid4641': 0.15995097360470711, 'movieid4741': 0.47985292081412134, 'movieid4765': 0.7997548680235356, 'movieid4881': 0.47985292081412134, 'movieid4896': 0.6398038944188285, 'movieid4902': 0.6398038944188285, 'movieid4967': 0.7997548680235356, 'movieid34': -0.2886751345948122, 'movieid36': -0.2886751345948122, 'movieid39': -0.21650635094610915, 'movieid150': -0.21650635094610915, 'movieid153': -0.21650635094610915, 'movieid253': -0.21650635094610915, 'movieid261': -0.2886751345948122, 'movieid266': -0.07216878364870305, 'movieid290': -0.36084391824351525, 'movieid300': -0.21650635094610915, 'movieid344': -0.21650635094610915, 'movieid364': -0.21650635094610915, 'movieid380': -0.1443375672974061, 'movieid410': -0.21650635094610915, 'movieid474': -0.2886751345948122, 'movieid515': -0.21650635094610915, 'movieid531': -0.2886751345948122, 'movieid534': -0.21650635094610915, 'movieid589': -0.21650635094610915, 'movieid594': -0.36084391824351525, 'movieid597': -0.21650635094610915}\n"
     ]
    }
   ],
   "source": [
    "# recommended_movies = {}\n",
    "# for similar_user, similarity_score in similar_users_scores.items():\n",
    "#     \n",
    "#     similar_user_ratings = pivot_df.loc[similar_user][1:].dropna()\n",
    "#     \n",
    "#     for movie, rating in similar_user_ratings.items():\n",
    "#         if movie not in recommended_movies:\n",
    "#             recommended_movies[movie] = 0.0\n",
    "#         recommended_movies[movie] += similarity_score * rating\n",
    "#         \n",
    "# recommended_movies = {movie: score for movie, score in recommended_movies.items() if movie not in user_ratings}\n",
    "# \n",
    "# print(recommended_movies)"
   ],
   "metadata": {
    "collapsed": false,
    "ExecuteTime": {
     "end_time": "2024-04-12T03:53:50.413820500Z",
     "start_time": "2024-04-12T03:53:50.366011500Z"
    }
   },
   "id": "f6b6ba8cdb4392ee"
  },
  {
   "cell_type": "code",
   "execution_count": 130,
   "outputs": [
    {
     "data": {
      "text/plain": "0      1.000000\n447   -0.455029\n413   -0.491061\nName: 1, dtype: float64"
     },
     "execution_count": 130,
     "metadata": {},
     "output_type": "execute_result"
    }
   ],
   "source": [
    "similar_users_scores = user_similar.loc[1].sort_values(ascending=False)[1:3+1]\n",
    "similar_users_scores"
   ],
   "metadata": {
    "collapsed": false,
    "ExecuteTime": {
     "end_time": "2024-04-12T04:12:08.153060900Z",
     "start_time": "2024-04-12T04:12:08.131082500Z"
    }
   },
   "id": "86df58e752f35f3f"
  },
  {
   "cell_type": "code",
   "execution_count": 135,
   "outputs": [
    {
     "data": {
      "text/plain": "0    1.0\nName: 1, dtype: float64"
     },
     "execution_count": 135,
     "metadata": {},
     "output_type": "execute_result"
    }
   ],
   "source": [
    "# 选择用户1的相似用户得分，并排除负数得分，然后取前3个正值得分进行排序\n",
    "similar_users_scores = user_similar.loc[1].drop(user_similar.loc[1][user_similar.loc[1] <= 0].index).sort_values(ascending=False)[1:3+1].dropna()\n",
    "similar_users_scores\n",
    "\n",
    "# 现在 similar_users_scores 包含了用户1的前3个正值相似度得分"
   ],
   "metadata": {
    "collapsed": false,
    "ExecuteTime": {
     "end_time": "2024-04-12T04:15:24.676545600Z",
     "start_time": "2024-04-12T04:15:24.643180400Z"
    }
   },
   "id": "23c49f1ec7b95bd0"
  },
  {
   "cell_type": "code",
   "execution_count": 151,
   "outputs": [
    {
     "name": "stdout",
     "output_type": "stream",
     "text": [
      "推荐电影: movieid110 (分数: 3.33)\n",
      "推荐电影: movieid593 (分数: 3.00)\n",
      "推荐电影: movieid260 (分数: 1.67)\n",
      "推荐电影: movieid608 (分数: 1.67)\n",
      "推荐电影: movieid898 (分数: 1.67)\n",
      "推荐电影: movieid904 (分数: 1.67)\n",
      "推荐电影: movieid905 (分数: 1.67)\n",
      "推荐电影: movieid908 (分数: 1.67)\n",
      "推荐电影: movieid926 (分数: 1.67)\n",
      "推荐电影: movieid935 (分数: 1.67)\n"
     ]
    }
   ],
   "source": [
    "# 定义一个函数来根据用户的相似度得分和其他用户的评分来推荐电影\n",
    "def recommend_movies_by_similarity(N,user_similar, pivot_df, user_id, num_recommendations=10):\n",
    "    # 获取当前用户的评分,第一行是userId，去空\n",
    "    user_ratings = pivot_df.loc[user_id][1:].dropna()\n",
    "    \n",
    "    # 存储电影ID和加权分数\n",
    "    recommended_movies = {}\n",
    "    \n",
    "    # 获取当前用户的相似用户及其相似度得分 求前N个相似的用户\n",
    "    similar_users_scores = user_similar.loc[user_id].sort_values(ascending=False)[1:N+1]\n",
    "    # similar_users_scores = user_similar.loc[user_id].drop(user_similar.loc[user_id][user_similar.loc[1] <= 0].index).dropna().sort_values(ascending=False)[1:N+1]\n",
    "    \n",
    "    # 初始化分母（所有相似度得分的总和）\n",
    "    sum_similarities = 0\n",
    "    \n",
    "    # 遍历每个相似用户及其相似度得分\n",
    "    for similar_user, similarity_score in similar_users_scores.items():\n",
    "        sum_similarities += similarity_score  # 更新分母\n",
    "        \n",
    "        # 获取相似用户的评分 第一行是userId，去空\n",
    "        similar_user_ratings = pivot_df.loc[similar_user][1:].dropna()\n",
    "        \n",
    "        # 对于相似用户评分的每部电影，累加加权分数（相似度得分 * 相似用户的评分）\n",
    "        for movie, rating in similar_user_ratings.items():\n",
    "            # 如果当前用户没有评过这部电影，则添加到字典中\n",
    "            if movie not in recommended_movies:\n",
    "                recommended_movies[movie] = 0.0\n",
    "            # 累加加权分数\n",
    "            recommended_movies[movie] += similarity_score * rating\n",
    "            # print(recommended_movies[movie])\n",
    "    \n",
    "    # 计算每个电影的加权平均分数\n",
    "    for movie, score in recommended_movies.items():\n",
    "        # 如果分母不为0，则更新电影的推荐分数，否则设置为0\n",
    "        recommended_movies[movie] = score / sum_similarities if sum_similarities else 0\n",
    "    \n",
    "    # 过滤\n",
    "    recommended_movies = {movie: score for movie, score in recommended_movies.items() if movie not in user_ratings}\n",
    "\n",
    "    # 降序\n",
    "    sorted_recommendations = sorted(recommended_movies.items(), key=lambda x: x[1], reverse=True)\n",
    "\n",
    "    top_recommendations = sorted_recommendations[:num_recommendations]\n",
    "    \n",
    "    return top_recommendations\n",
    "\n",
    "# 使用推荐函数为特定用户推荐电影\n",
    "user_id = 1\n",
    "num_recommendations = 10\n",
    "N = 3\n",
    "\n",
    "recommended_list = recommend_movies_by_similarity(N,user_similar, pivot_df, user_id, num_recommendations)\n",
    "\n",
    "# 打印推荐的电影列表\n",
    "for movie, score in recommended_list:\n",
    "    print(f\"推荐电影: {movie} (分数: {score:.2f})\")"
   ],
   "metadata": {
    "collapsed": false,
    "ExecuteTime": {
     "end_time": "2024-04-12T05:27:49.517689200Z",
     "start_time": "2024-04-12T05:27:49.484110100Z"
    }
   },
   "id": "7c11d67dffb64f69"
  }
 ],
 "metadata": {
  "kernelspec": {
   "display_name": "Python 3",
   "language": "python",
   "name": "python3"
  },
  "language_info": {
   "codemirror_mode": {
    "name": "ipython",
    "version": 2
   },
   "file_extension": ".py",
   "mimetype": "text/x-python",
   "name": "python",
   "nbconvert_exporter": "python",
   "pygments_lexer": "ipython2",
   "version": "2.7.6"
  }
 },
 "nbformat": 4,
 "nbformat_minor": 5
}
