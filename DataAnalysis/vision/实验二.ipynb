{
 "cells": [
  {
   "cell_type": "code",
   "execution_count": 1,
   "id": "initial_id",
   "metadata": {
    "collapsed": true,
    "ExecuteTime": {
     "end_time": "2024-03-13T02:10:43.611932400Z",
     "start_time": "2024-03-13T02:10:43.243943800Z"
    }
   },
   "outputs": [],
   "source": [
    "import numpy as np\n"
   ]
  },
  {
   "cell_type": "code",
   "execution_count": 2,
   "outputs": [
    {
     "data": {
      "text/plain": "array([0.        , 0.09090909, 0.18181818, 0.27272727, 0.36363636,\n       0.45454545, 0.54545455, 0.63636364, 0.72727273, 0.81818182,\n       0.90909091, 1.        ])"
     },
     "execution_count": 2,
     "metadata": {},
     "output_type": "execute_result"
    }
   ],
   "source": [
    "np.linspace(0,1,12)"
   ],
   "metadata": {
    "collapsed": false,
    "ExecuteTime": {
     "end_time": "2024-03-13T02:17:05.462655400Z",
     "start_time": "2024-03-13T02:17:05.416944100Z"
    }
   },
   "id": "98c13388ab630df8"
  },
  {
   "cell_type": "code",
   "execution_count": 81,
   "outputs": [
    {
     "name": "stdout",
     "output_type": "stream",
     "text": [
      "[[1. 1. 1. 1. 1. 1. 1. 1. 1. 1.]\n",
      " [1. 0. 0. 0. 0. 0. 0. 0. 0. 1.]\n",
      " [1. 0. 0. 0. 0. 0. 0. 0. 0. 1.]\n",
      " [1. 0. 0. 0. 0. 0. 0. 0. 0. 1.]\n",
      " [1. 0. 0. 0. 0. 0. 0. 0. 0. 1.]\n",
      " [1. 0. 0. 0. 0. 0. 0. 0. 0. 1.]\n",
      " [1. 0. 0. 0. 0. 0. 0. 0. 0. 1.]\n",
      " [1. 0. 0. 0. 0. 0. 0. 0. 0. 1.]\n",
      " [1. 0. 0. 0. 0. 0. 0. 0. 0. 1.]\n",
      " [1. 1. 1. 1. 1. 1. 1. 1. 1. 1.]]\n"
     ]
    }
   ],
   "source": [
    "# 创建一个全为0的10x10数组\n",
    "arr = np.zeros((10, 10))\n",
    "\n",
    "# 设置矩阵边界为1\n",
    "arr[0, :] = 1\n",
    "arr[-1, :] = 1\n",
    "arr[:, 0] = 1\n",
    "arr[:, -1] = 1\n",
    "\n",
    "print(arr)"
   ],
   "metadata": {
    "collapsed": false,
    "ExecuteTime": {
     "end_time": "2024-03-13T04:42:04.714308300Z",
     "start_time": "2024-03-13T04:42:04.694430400Z"
    }
   },
   "id": "ad516a549987b723"
  },
  {
   "cell_type": "code",
   "execution_count": 82,
   "outputs": [
    {
     "name": "stdout",
     "output_type": "stream",
     "text": [
      "[[-1. -1. -1. -1. -1. -1. -1. -1. -1. -1.]\n",
      " [-1.  0.  0.  0.  0.  0.  0.  0.  0. -1.]\n",
      " [-1.  0.  0.  0.  0.  0.  0.  0.  0. -1.]\n",
      " [-1.  0.  0.  0.  0.  0.  0.  0.  0. -1.]\n",
      " [-1.  0.  0.  0.  0.  0.  0.  0.  0. -1.]\n",
      " [-1.  0.  0.  0.  0.  0.  0.  0.  0. -1.]\n",
      " [-1.  0.  0.  0.  0.  0.  0.  0.  0. -1.]\n",
      " [-1.  0.  0.  0.  0.  0.  0.  0.  0. -1.]\n",
      " [-1.  0.  0.  0.  0.  0.  0.  0.  0. -1.]\n",
      " [-1. -1. -1. -1. -1. -1. -1. -1. -1. -1.]]\n"
     ]
    }
   ],
   "source": [
    "arr[arr % 2 != 0] = -1\n",
    "\n",
    "print(arr)"
   ],
   "metadata": {
    "collapsed": false,
    "ExecuteTime": {
     "end_time": "2024-03-13T04:43:09.323338100Z",
     "start_time": "2024-03-13T04:43:09.272856Z"
    }
   },
   "id": "35737823e17678a5"
  },
  {
   "cell_type": "code",
   "execution_count": 83,
   "outputs": [
    {
     "name": "stdout",
     "output_type": "stream",
     "text": [
      "[[5 9 0]\n",
      " [1 0 4]]\n",
      "数组所占内存大小：24bytes\n",
      "根据第一列排序后的数组：\n",
      "[[1 0 4]\n",
      " [5 9 0]]\n",
      "与给定值5最接近的值： 5\n"
     ]
    }
   ],
   "source": [
    "# 创建一个多维随机数组，范围0到12，6个元素，两行3列\n",
    "random_array = np.random.randint(0, 12, size=(2, 3))\n",
    "print(random_array)\n",
    "\n",
    "# 打印数组所占的内存大小\n",
    "print(f\"数组所占内存大小：{random_array.nbytes}bytes\")\n",
    "\n",
    "# 打印数组根据第一列进行排序后的结果\n",
    "sorted_array = random_array[random_array[:,0].argsort()]\n",
    "print(\"根据第一列排序后的数组：\")\n",
    "print(sorted_array)\n",
    "\n",
    "# 从数组中找出与给定值5最接近的值\n",
    "given_value = 5\n",
    "closest_value = random_array.flat[np.abs(random_array - given_value).argmin()]\n",
    "print(\"与给定值5最接近的值：\", closest_value)\n"
   ],
   "metadata": {
    "collapsed": false,
    "ExecuteTime": {
     "end_time": "2024-03-13T04:44:21.898434300Z",
     "start_time": "2024-03-13T04:44:21.853393800Z"
    }
   },
   "id": "612033c3be57db7e"
  },
  {
   "cell_type": "code",
   "execution_count": 8,
   "outputs": [
    {
     "name": "stdout",
     "output_type": "stream",
     "text": [
      "原始数组：\n",
      "[0 1 2 3 4 5 6 7 8 9]\n",
      "布尔类型数组：\n",
      "[False  True  True  True  True  True  True  True  True  True]\n",
      "float16类型数组：\n",
      "[0. 1. 2. 3. 4. 5. 6. 7. 8. 9.]\n"
     ]
    }
   ],
   "source": [
    "# 创建值为0到9的ndarray数组，指定为int8类型\n",
    "arr = np.arange(10, dtype=np.int8)\n",
    "print(\"原始数组：\")\n",
    "print(arr)\n",
    "\n",
    "# 将数组类型改为布尔类型\n",
    "bool_arr = arr.astype(bool)\n",
    "print(\"布尔类型数组：\")\n",
    "print(bool_arr)\n",
    "\n",
    "# 将数组类型改为float16类型\n",
    "float_arr = arr.astype(np.float16)\n",
    "print(\"float16类型数组：\")\n",
    "print(float_arr)\n"
   ],
   "metadata": {
    "collapsed": false,
    "ExecuteTime": {
     "end_time": "2024-03-13T02:31:30.016761100Z",
     "start_time": "2024-03-13T02:31:29.992629700Z"
    }
   },
   "id": "cba3279bb20a3b16"
  },
  {
   "cell_type": "code",
   "execution_count": 86,
   "outputs": [
    {
     "name": "stdout",
     "output_type": "stream",
     "text": [
      "[ 2.7 42.  36. ]\n"
     ]
    }
   ],
   "source": [
    "# 数据\n",
    "data = [3.0833, 2.7, 3.0833, 2.5, 2.75, 3.5, 3.9167, 42, 36, 0.75]\n",
    "\n",
    "# 将数据列表转换为 NumPy 数组\n",
    "arr = np.array(data)\n",
    "\n",
    "# 使用 np.isin() 函数检查数组中是否包含指定的值\n",
    "mask = np.isin(arr, [2.7, 42, 36])\n",
    "\n",
    "print(arr[mask])"
   ],
   "metadata": {
    "collapsed": false,
    "ExecuteTime": {
     "end_time": "2024-03-13T04:47:12.947309Z",
     "start_time": "2024-03-13T04:47:12.933275800Z"
    }
   },
   "id": "90fde70611ef412c"
  },
  {
   "cell_type": "code",
   "execution_count": 11,
   "outputs": [
    {
     "name": "stdout",
     "output_type": "stream",
     "text": [
      "数组中元素的绝对值：[ 3.2    53.      3.6    68.      4.5     6.8571  1.56    8.4     7.    ]\n",
      "数组中元素的四舍五入值：[-3. 53. -4. 68. -4.  7. -2.  8. -7.]\n",
      "数组中的最大值：68.0\n",
      "数组中的最小值：-7.0\n"
     ]
    }
   ],
   "source": [
    "arr = np.array([-3.2, 53, -3.6, 68, -4.5, 6.8571, -1.56, 8.4, -7])\n",
    "\n",
    "print(f\"数组中元素的绝对值：{np.abs(arr)}\")\n",
    "print(f\"数组中元素的四舍五入值：{np.round(arr)}\")\n",
    "print(f\"数组中的最大值：{np.max(arr)}\")\n",
    "print(f\"数组中的最小值：{np.min(arr)}\")\n"
   ],
   "metadata": {
    "collapsed": false,
    "ExecuteTime": {
     "end_time": "2024-03-13T02:41:15.801066100Z",
     "start_time": "2024-03-13T02:41:15.795013600Z"
    }
   },
   "id": "f9035308272d866d"
  },
  {
   "cell_type": "code",
   "execution_count": 17,
   "outputs": [
    {
     "data": {
      "text/plain": "array([-3., -3., -3.])"
     },
     "execution_count": 17,
     "metadata": {},
     "output_type": "execute_result"
    }
   ],
   "source": [
    "A = np.ones(3) * 1\n",
    "B = np.ones(3) * 2\n",
    "\n",
    "# 初始化一个数组用于存放结果\n",
    "result = np.empty(3)\n",
    "\n",
    "np.divide(np.add(A, B), np.subtract(A, B))  \n",
    "result"
   ],
   "metadata": {
    "collapsed": false,
    "ExecuteTime": {
     "end_time": "2024-03-13T02:53:35.842431900Z",
     "start_time": "2024-03-13T02:53:35.678307100Z"
    }
   },
   "id": "964ddef9907d446b"
  },
  {
   "cell_type": "code",
   "execution_count": 100,
   "outputs": [
    {
     "name": "stdout",
     "output_type": "stream",
     "text": [
      "[   3.14   12.57   28.27   50.27   78.54  113.1   153.94  201.06  254.47\n",
      "  314.16  380.13  452.39  530.93  615.75  706.86  804.25  907.92 1017.88\n",
      " 1134.11 1256.64 1385.44 1520.53 1661.9  1809.56 1963.5  2123.72 2290.22\n",
      " 2463.01 2642.08 2827.43]\n"
     ]
    }
   ],
   "source": [
    "radii = np.arange(1, 31)\n",
    "\n",
    "areas = np.round(np.pi * radii**2, 2)\n",
    "\n",
    "print(areas)"
   ],
   "metadata": {
    "collapsed": false,
    "ExecuteTime": {
     "end_time": "2024-03-13T07:08:58.760327400Z",
     "start_time": "2024-03-13T07:08:58.737782900Z"
    }
   },
   "id": "d5c5b4d49588358f"
  },
  {
   "cell_type": "code",
   "execution_count": 23,
   "outputs": [
    {
     "name": "stdout",
     "output_type": "stream",
     "text": [
      "数学成绩大于60的学生人数：401\n"
     ]
    }
   ],
   "source": [
    "np.random.seed(2023)\n",
    "arr = np.random.randint(0, 100, 1000)\n",
    "\n",
    "print(f\"数学成绩大于60的学生人数：{np.sum(arr > 60)}\")\n"
   ],
   "metadata": {
    "collapsed": false,
    "ExecuteTime": {
     "end_time": "2024-03-13T02:59:16.604320100Z",
     "start_time": "2024-03-13T02:59:16.580093800Z"
    }
   },
   "id": "92840584a0e3a4c5"
  },
  {
   "cell_type": "code",
   "execution_count": 25,
   "outputs": [
    {
     "name": "stdout",
     "output_type": "stream",
     "text": [
      "BMI排序结果：\n",
      "[16.51689482 17.04032878 17.72998942 18.49924847 20.30741221 22.4996371\n",
      " 25.20398137 28.62147037 29.90302875 30.81854043]\n",
      "BMI大于正常的元素数量：4\n"
     ]
    }
   ],
   "source": [
    "height = np.array([1.73, 1.86, 1.56, 1.69, 1.53, 1.89, 1.87, 1.53, 1.66, 1.53])\n",
    "weight = np.array([51, 64, 75, 58, 67, 59, 62, 70, 62, 59])\n",
    "\n",
    "# 计算BMI\n",
    "bmi = weight / height ** 2\n",
    "\n",
    "# 输出BMI的排序结果\n",
    "sorted_bmi = bmi[np.argsort(bmi)]\n",
    "print(f\"BMI排序结果：\\n{sorted_bmi}\")\n",
    "\n",
    "# 统计BMI大于正常(>24)的元素数量\n",
    "num_bmi_above_24 = np.sum(bmi > 24)\n",
    "print(f\"BMI大于正常的元素数量：{num_bmi_above_24}\")"
   ],
   "metadata": {
    "collapsed": false,
    "ExecuteTime": {
     "end_time": "2024-03-13T03:02:14.388685800Z",
     "start_time": "2024-03-13T03:02:14.366083Z"
    }
   },
   "id": "14ab8ad1d72775ab"
  },
  {
   "cell_type": "code",
   "execution_count": 107,
   "outputs": [
    {
     "data": {
      "text/plain": "array([(254, 253, 252), (  0,   0,   0), (255, 255, 255)],\n      dtype=[('R', 'u1'), ('G', 'u1'), ('B', 'u1')])"
     },
     "execution_count": 107,
     "metadata": {},
     "output_type": "execute_result"
    }
   ],
   "source": [
    "# 定义dtype结构\n",
    "color_dtype = np.dtype([('R', 'u1'), ('G', 'u1'), ('B', 'u1')])\n",
    "\n",
    "input_colors = [(254, 253, 252), (0, 0, 0), (255, 255, 255)]\n",
    "\n",
    "output_array = np.array(input_colors, dtype=color_dtype)\n",
    "output_array\n"
   ],
   "metadata": {
    "collapsed": false,
    "ExecuteTime": {
     "end_time": "2024-03-13T07:16:53.889544100Z",
     "start_time": "2024-03-13T07:16:53.852148400Z"
    }
   },
   "id": "7821cace70385ea6"
  },
  {
   "cell_type": "code",
   "execution_count": 90,
   "outputs": [
    {
     "name": "stdout",
     "output_type": "stream",
     "text": [
      "[[0 1 0 1 0 1 0 1]\n",
      " [1 0 1 0 1 0 1 0]\n",
      " [0 1 0 1 0 1 0 1]\n",
      " [1 0 1 0 1 0 1 0]\n",
      " [0 1 0 1 0 1 0 1]\n",
      " [1 0 1 0 1 0 1 0]\n",
      " [0 1 0 1 0 1 0 1]\n",
      " [1 0 1 0 1 0 1 0]]\n"
     ]
    }
   ],
   "source": [
    "# 创建棋盘形状数组\n",
    "chessboard = np.zeros((8, 8), dtype=int)\n",
    "chessboard[1::2, ::2] = 1\n",
    "chessboard[::2, 1::2] = 1\n",
    "\n",
    "print(chessboard)"
   ],
   "metadata": {
    "collapsed": false,
    "ExecuteTime": {
     "end_time": "2024-03-13T06:40:33.093137Z",
     "start_time": "2024-03-13T06:40:33.049220800Z"
    }
   },
   "id": "6adfcf479503f1de"
  },
  {
   "cell_type": "code",
   "execution_count": 91,
   "outputs": [
    {
     "name": "stdout",
     "output_type": "stream",
     "text": [
      "[[0 1 9 0]\n",
      " [2 2 6 1]\n",
      " [3 9 6 1]]\n"
     ]
    }
   ],
   "source": [
    "np.random.seed(123)\n",
    "n = np.random.randint(0, 10, (3, 4))\n",
    "\n",
    "sorted_array = n[n[:, 1].argsort()]\n",
    "\n",
    "print(sorted_array)\n"
   ],
   "metadata": {
    "collapsed": false,
    "ExecuteTime": {
     "end_time": "2024-03-13T06:41:25.876685200Z",
     "start_time": "2024-03-13T06:41:25.811772400Z"
    }
   },
   "id": "b9ed9bf7d30880d6"
  },
  {
   "cell_type": "code",
   "execution_count": 37,
   "outputs": [
    {
     "name": "stdout",
     "output_type": "stream",
     "text": [
      "源数组：\n",
      "[[0 1 2]\n",
      " [3 4 5]\n",
      " [6 7 8]]\n",
      "交换第一列和第二列后的数组：\n",
      "[[1 0 2]\n",
      " [4 3 5]\n",
      " [7 6 8]]\n"
     ]
    }
   ],
   "source": [
    "arr = np.arange(9).reshape(3, 3)\n",
    "\n",
    "print(\"源数组：\")\n",
    "print(arr)\n",
    "\n",
    "# 交换第一列和第二列\n",
    "arr[:, [0, 1]] = arr[:, [1, 0]]\n",
    "\n",
    "print(\"交换第一列和第二列后的数组：\")\n",
    "print(arr)"
   ],
   "metadata": {
    "collapsed": false,
    "ExecuteTime": {
     "end_time": "2024-03-13T03:20:29.776646200Z",
     "start_time": "2024-03-13T03:20:29.751140800Z"
    }
   },
   "id": "162f062c4783c4cc"
  },
  {
   "cell_type": "code",
   "execution_count": 92,
   "outputs": [
    {
     "name": "stdout",
     "output_type": "stream",
     "text": [
      "[40.99501269 41.466785   42.39403048 44.67477576 48.95256545]\n"
     ]
    }
   ],
   "source": [
    "np.random.seed(100)\n",
    "arr = np.random.uniform(1, 50, 20)\n",
    "\n",
    "# 获取前5个最大值的索引\n",
    "max_indices = np.argsort(arr)[-5:]\n",
    "\n",
    "print(arr[max_indices])"
   ],
   "metadata": {
    "collapsed": false,
    "ExecuteTime": {
     "end_time": "2024-03-13T06:43:03.432945900Z",
     "start_time": "2024-03-13T06:43:03.409152600Z"
    }
   },
   "id": "d4cce34caf5b2ee5"
  },
  {
   "cell_type": "code",
   "execution_count": 44,
   "outputs": [
    {
     "name": "stdout",
     "output_type": "stream",
     "text": [
      "[7 7 5 7 7 8]\n"
     ]
    }
   ],
   "source": [
    "np.random.seed(100)\n",
    "arr = np.random.randint(1, 11, size=(6, 10))\n",
    "\n",
    "unique_counts = np.apply_along_axis(lambda row : len(set(row)), axis=1, arr=arr)\n",
    "\n",
    "print(unique_counts)"
   ],
   "metadata": {
    "collapsed": false,
    "ExecuteTime": {
     "end_time": "2024-03-13T03:26:53.555517900Z",
     "start_time": "2024-03-13T03:26:53.514630200Z"
    }
   },
   "id": "e4759359ef763e73"
  },
  {
   "cell_type": "code",
   "execution_count": 57,
   "outputs": [
    {
     "name": "stdout",
     "output_type": "stream",
     "text": [
      "False\n"
     ]
    }
   ],
   "source": [
    "A = np.arange(1, 5)\n",
    "B = np.arange(3, 7)\n",
    "\n",
    "# 设置自定义的绝对容差和相对容差\n",
    "custom_atol = 1\n",
    "custom_rtol = 0.1\n",
    "\n",
    "result = np.allclose(A, B, atol=custom_atol, rtol=custom_rtol)\n",
    "\n",
    "print(result)"
   ],
   "metadata": {
    "collapsed": false,
    "ExecuteTime": {
     "end_time": "2024-03-13T03:33:22.476160900Z",
     "start_time": "2024-03-13T03:33:22.462157500Z"
    }
   },
   "id": "294dc4175f6a480b"
  },
  {
   "cell_type": "code",
   "execution_count": 80,
   "outputs": [
    {
     "name": "stdout",
     "output_type": "stream",
     "text": [
      "[[0 1 0 1 0 1 1 0 0 0]\n",
      " [0 0 1 1 0 1 0 0 0 0]\n",
      " [0 0 1 1 1 1 0 0 0 1]]\n",
      "[ True False False False False False False  True  True False]\n"
     ]
    }
   ],
   "source": [
    "arr = np.random.randint(0, 2, (3, 10))\n",
    "print(arr)\n",
    "# 检查每列是否存在非零元素\n",
    "print(np.all(arr == 0, axis=0))"
   ],
   "metadata": {
    "collapsed": false,
    "ExecuteTime": {
     "end_time": "2024-03-13T03:39:19.509651200Z",
     "start_time": "2024-03-13T03:39:19.497336400Z"
    }
   },
   "id": "a5a174fea07e61df"
  },
  {
   "cell_type": "code",
   "execution_count": 93,
   "outputs": [
    {
     "data": {
      "text/plain": "array([[1, 2, 4, 8],\n       [1, 3, 4, 5]])"
     },
     "execution_count": 93,
     "metadata": {},
     "output_type": "execute_result"
    }
   ],
   "source": [
    "arr = np.array([[1,8,2,4],\n",
    "                [4,5,1,3]])\n",
    "\n",
    "# 默认按最后一个轴排序，这里按行排序\n",
    "np.sort(arr)\n",
    "\n",
    "# 轴设为0，即按列排序\n",
    "np.sort(arr,axis=0)\n",
    "\n",
    "# 轴设为1，即按行排序\n",
    "np.sort(arr,axis=1)"
   ],
   "metadata": {
    "collapsed": false,
    "ExecuteTime": {
     "end_time": "2024-03-13T06:52:56.616445500Z",
     "start_time": "2024-03-13T06:52:56.589439900Z"
    }
   },
   "id": "5bf5aec87fe82aff"
  },
  {
   "cell_type": "code",
   "execution_count": 94,
   "outputs": [
    {
     "data": {
      "text/plain": "array([(b'Li', 1.8, 41), (b'Wang', 1.9, 38), (b'Duan', 1.7, 38)],\n      dtype=[('Name', 'S10'), ('Height', '<f8'), ('Age', '<i4')])"
     },
     "execution_count": 94,
     "metadata": {},
     "output_type": "execute_result"
    }
   ],
   "source": [
    "# 自定义字段类型\n",
    "dtype = [('Name', 'S10'), ('Height', float), ('Age', int)]\n",
    "# 各字段值\n",
    "values = [('Li', 1.8, 41), ('Wang', 1.9, 38),('Duan', 1.7, 38)]\n",
    "# 创建数组\n",
    "arr = np.array(values, dtype=dtype)\n",
    "arr"
   ],
   "metadata": {
    "collapsed": false,
    "ExecuteTime": {
     "end_time": "2024-03-13T06:54:40.570553800Z",
     "start_time": "2024-03-13T06:54:40.530795300Z"
    }
   },
   "id": "ac58a2eac09284d7"
  },
  {
   "cell_type": "code",
   "execution_count": 95,
   "outputs": [
    {
     "data": {
      "text/plain": "array([(b'Duan', 1.7, 38), (b'Wang', 1.9, 38), (b'Li', 1.8, 41)],\n      dtype=[('Name', 'S10'), ('Height', '<f8'), ('Age', '<i4')])"
     },
     "execution_count": 95,
     "metadata": {},
     "output_type": "execute_result"
    }
   ],
   "source": [
    "# 按照属性Height进行排序,此时参数为字符串          \n",
    "np.sort(arr, order=['Height'])     \n",
    "\n",
    "# 先按照属性Age排序,如果Age相等，再按照Height排序，此时参数为列表     \n",
    "np.sort(arr, order=['Age', 'Height']) "
   ],
   "metadata": {
    "collapsed": false,
    "ExecuteTime": {
     "end_time": "2024-03-13T06:55:21.709249900Z",
     "start_time": "2024-03-13T06:55:21.665150800Z"
    }
   },
   "id": "8c7b8411976e7db0"
  },
  {
   "cell_type": "code",
   "execution_count": 96,
   "outputs": [
    {
     "data": {
      "text/plain": "array([1, 2, 0], dtype=int64)"
     },
     "execution_count": 96,
     "metadata": {},
     "output_type": "execute_result"
    }
   ],
   "source": [
    "arr = np.array([3, 1, 2])\n",
    "\n",
    "# 获取排序后的索引\n",
    "np.argsort(arr)"
   ],
   "metadata": {
    "collapsed": false,
    "ExecuteTime": {
     "end_time": "2024-03-13T06:56:56.645242300Z",
     "start_time": "2024-03-13T06:56:56.625014400Z"
    }
   },
   "id": "6776cad5e4d47322"
  },
  {
   "cell_type": "code",
   "execution_count": 97,
   "outputs": [
    {
     "data": {
      "text/plain": "array([[0, 1],\n       [0, 1]], dtype=int64)"
     },
     "execution_count": 97,
     "metadata": {},
     "output_type": "execute_result"
    }
   ],
   "source": [
    "arr = np.array([[0, 3], [2, 2]])\n",
    "\n",
    "# 默认按照最后一个轴进行排序，即行排序\n",
    "# 获取排序后的索引\n",
    "np.argsort(arr)"
   ],
   "metadata": {
    "collapsed": false,
    "ExecuteTime": {
     "end_time": "2024-03-13T06:57:31.484915200Z",
     "start_time": "2024-03-13T06:57:31.458145300Z"
    }
   },
   "id": "b41666cbbd2fa61b"
  },
  {
   "cell_type": "code",
   "execution_count": 98,
   "outputs": [
    {
     "data": {
      "text/plain": "array([3, 0, 1, 2], dtype=int64)"
     },
     "execution_count": 98,
     "metadata": {},
     "output_type": "execute_result"
    }
   ],
   "source": [
    "# 英语成绩\n",
    "english = [90,85,95,80]\n",
    "# 数学成绩\n",
    "math = [80,95,90,85]\n",
    "# 总成绩\n",
    "total = [170,170,185,165]\n",
    "\n",
    "# 排序，获取索引\n",
    "'''\n",
    "先按总成绩total进行排序，\n",
    "再按数学成绩math进行排序，\n",
    "最后按英语成绩进行排序。\n",
    "可以看到total里有两个170，\n",
    "这时候就按下一级math排序，\n",
    "最后获取排序后的索引\n",
    "'''\n",
    "np.lexsort((english, math, total))"
   ],
   "metadata": {
    "collapsed": false,
    "ExecuteTime": {
     "end_time": "2024-03-13T06:58:17.261757300Z",
     "start_time": "2024-03-13T06:58:17.221630600Z"
    }
   },
   "id": "377e4c90e3b5a9dd"
  },
  {
   "cell_type": "code",
   "execution_count": 99,
   "outputs": [
    {
     "data": {
      "text/plain": "array([3, 0, 1, 2], dtype=int64)"
     },
     "execution_count": 99,
     "metadata": {},
     "output_type": "execute_result"
    }
   ],
   "source": [
    "# 也可以直接传入数组\n",
    "score = np.array([[90,85,95,80],[80,95,90,85],[170,170,185,165]])\n",
    "\n",
    "np.lexsort(score)"
   ],
   "metadata": {
    "collapsed": false,
    "ExecuteTime": {
     "end_time": "2024-03-13T07:00:04.421176800Z",
     "start_time": "2024-03-13T07:00:04.396392700Z"
    }
   },
   "id": "60e7d67a57ffa342"
  }
 ],
 "metadata": {
  "kernelspec": {
   "display_name": "Python 3",
   "language": "python",
   "name": "python3"
  },
  "language_info": {
   "codemirror_mode": {
    "name": "ipython",
    "version": 2
   },
   "file_extension": ".py",
   "mimetype": "text/x-python",
   "name": "python",
   "nbconvert_exporter": "python",
   "pygments_lexer": "ipython2",
   "version": "2.7.6"
  }
 },
 "nbformat": 4,
 "nbformat_minor": 5
}
