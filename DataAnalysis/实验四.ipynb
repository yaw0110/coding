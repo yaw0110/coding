{
 "cells": [
  {
   "cell_type": "code",
   "execution_count": 1,
   "id": "8861f2618be5fb32",
   "metadata": {
    "ExecuteTime": {
     "end_time": "2024-04-22T07:09:00.991610Z",
     "start_time": "2024-04-22T07:09:00.931819100Z"
    },
    "collapsed": false
   },
   "outputs": [
    {
     "name": "stdout",
     "output_type": "stream",
     "text": [
      "   Accepted  Sex  Age  Class  AvgSpending\n",
      "0         0    2    1      1           38\n",
      "1         0    1    1      1           33\n",
      "2         0    2    1      1           37\n",
      "3         0    2    1      1           40\n",
      "4         0    2    1      1           34\n",
      "<class 'pandas.core.frame.DataFrame'>\n",
      "RangeIndex: 891 entries, 0 to 890\n",
      "Data columns (total 5 columns):\n",
      " #   Column       Non-Null Count  Dtype\n",
      "---  ------       --------------  -----\n",
      " 0   Accepted     891 non-null    int64\n",
      " 1   Sex          891 non-null    int64\n",
      " 2   Age          891 non-null    int64\n",
      " 3   Class        891 non-null    int64\n",
      " 4   AvgSpending  891 non-null    int64\n",
      "dtypes: int64(5)\n",
      "memory usage: 34.9 KB\n",
      "None\n",
      "         Accepted         Sex         Age       Class  AvgSpending\n",
      "count  891.000000  891.000000  891.000000  891.000000   891.000000\n",
      "mean     0.616162    1.352413    1.674523    1.691358    59.132435\n",
      "std      0.486592    0.477990    0.468816    0.836071    45.776231\n",
      "min      0.000000    1.000000    1.000000    1.000000    22.000000\n",
      "25%      0.000000    1.000000    1.000000    1.000000    38.000000\n",
      "50%      1.000000    1.000000    2.000000    1.000000    44.000000\n",
      "75%      1.000000    2.000000    2.000000    2.000000    62.000000\n",
      "max      1.000000    2.000000    2.000000    3.000000   529.000000\n"
     ]
    }
   ],
   "source": [
    "# 导入必要的库\n",
    "import pandas as pd\n",
    "import numpy as np\n",
    "import matplotlib.pyplot as plt\n",
    "from sklearn.model_selection import train_test_split\n",
    "from sklearn.preprocessing import LabelEncoder\n",
    "from sklearn.ensemble import RandomForestClassifier\n",
    "from sklearn.metrics import accuracy_score, confusion_matrix, classification_report\n",
    "from sklearn.metrics import f1_score\n",
    "import matplotlib\n",
    "\n",
    "matplotlib.rcParams['font.sans-serif'] = ['WenQuanYi Zen Hei']  # 替换为实际的中文字体名称\n",
    "matplotlib.rcParams['axes.unicode_minus'] = False  # 正确显示负号\n",
    "\n",
    "# 加载数据\n",
    "data = pd.read_csv(\"优惠券核销数据.csv\")\n",
    "\n",
    "# 查看数据的基本信息\n",
    "print(data.head())\n",
    "print(data.info())\n",
    "print(data.describe())\n"
   ]
  },
  {
   "cell_type": "code",
   "execution_count": 2,
   "id": "3fc361c81ae151c3",
   "metadata": {
    "ExecuteTime": {
     "end_time": "2024-04-22T07:09:04.026156100Z",
     "start_time": "2024-04-22T07:09:03.937622500Z"
    },
    "collapsed": false
   },
   "outputs": [
    {
     "name": "stdout",
     "output_type": "stream",
     "text": [
      "   Accepted  Sex  Age  Class  AvgSpending\n",
      "0         0    1    0      0           38\n",
      "1         0    0    0      0           33\n",
      "2         0    1    0      0           37\n",
      "3         0    1    0      0           40\n",
      "4         0    1    0      0           34\n"
     ]
    }
   ],
   "source": [
    "# 将分类变量编码为数值变量\n",
    "label_encoder = LabelEncoder()\n",
    "data['Sex'] = label_encoder.fit_transform(data['Sex'])\n",
    "data['Age'] = label_encoder.fit_transform(data['Age'])\n",
    "data['Class'] = label_encoder.fit_transform(data['Class'])\n",
    "\n",
    "data['Accepted'] = label_encoder.fit_transform(data['Accepted'])\n",
    "\n",
    "# 检查编码后的数据\n",
    "print(data.head())"
   ]
  },
  {
   "cell_type": "code",
   "execution_count": 3,
   "id": "aa600d9a88814ab7",
   "metadata": {
    "ExecuteTime": {
     "end_time": "2024-04-22T07:09:07.017768900Z",
     "start_time": "2024-04-22T07:09:06.903201400Z"
    },
    "collapsed": false
   },
   "outputs": [
    {
     "name": "stdout",
     "output_type": "stream",
     "text": [
      "训练集样本数： 712\n",
      "测试集样本数： 179\n"
     ]
    }
   ],
   "source": [
    "# 定义特征和目标变量\n",
    "X = data.drop(columns=['Accepted'])  # 特征\n",
    "y = data['Accepted']  # 目标变量\n",
    "\n",
    "# 将数据拆分为训练集和测试集\n",
    "X_train, X_test, y_train, y_test = train_test_split(X, y, test_size=0.2, random_state=48)\n",
    "\n",
    "print(\"训练集样本数：\", len(X_train))\n",
    "print(\"测试集样本数：\", len(X_test))"
   ]
  },
  {
   "cell_type": "code",
   "execution_count": 4,
   "id": "8893615d",
   "metadata": {},
   "outputs": [],
   "source": [
    "from sklearn.model_selection import train_test_split\n",
    "from sklearn.preprocessing import StandardScaler\n",
    "from sklearn.metrics import classification_report\n",
    "from sklearn.metrics import roc_auc_score\n",
    "from sklearn.linear_model import LogisticRegression"
   ]
  },
  {
   "cell_type": "code",
   "execution_count": 5,
   "id": "6a4b596f",
   "metadata": {},
   "outputs": [],
   "source": [
    "transfer = StandardScaler()\n",
    "X_train = transfer.fit_transform(X_train)\n",
    "X_test = transfer.transform(X_test)"
   ]
  },
  {
   "cell_type": "code",
   "execution_count": 17,
   "id": "bdfd7031",
   "metadata": {},
   "outputs": [
    {
     "data": {
      "text/html": [
       "<style>#sk-container-id-2 {color: black;}#sk-container-id-2 pre{padding: 0;}#sk-container-id-2 div.sk-toggleable {background-color: white;}#sk-container-id-2 label.sk-toggleable__label {cursor: pointer;display: block;width: 100%;margin-bottom: 0;padding: 0.3em;box-sizing: border-box;text-align: center;}#sk-container-id-2 label.sk-toggleable__label-arrow:before {content: \"▸\";float: left;margin-right: 0.25em;color: #696969;}#sk-container-id-2 label.sk-toggleable__label-arrow:hover:before {color: black;}#sk-container-id-2 div.sk-estimator:hover label.sk-toggleable__label-arrow:before {color: black;}#sk-container-id-2 div.sk-toggleable__content {max-height: 0;max-width: 0;overflow: hidden;text-align: left;background-color: #f0f8ff;}#sk-container-id-2 div.sk-toggleable__content pre {margin: 0.2em;color: black;border-radius: 0.25em;background-color: #f0f8ff;}#sk-container-id-2 input.sk-toggleable__control:checked~div.sk-toggleable__content {max-height: 200px;max-width: 100%;overflow: auto;}#sk-container-id-2 input.sk-toggleable__control:checked~label.sk-toggleable__label-arrow:before {content: \"▾\";}#sk-container-id-2 div.sk-estimator input.sk-toggleable__control:checked~label.sk-toggleable__label {background-color: #d4ebff;}#sk-container-id-2 div.sk-label input.sk-toggleable__control:checked~label.sk-toggleable__label {background-color: #d4ebff;}#sk-container-id-2 input.sk-hidden--visually {border: 0;clip: rect(1px 1px 1px 1px);clip: rect(1px, 1px, 1px, 1px);height: 1px;margin: -1px;overflow: hidden;padding: 0;position: absolute;width: 1px;}#sk-container-id-2 div.sk-estimator {font-family: monospace;background-color: #f0f8ff;border: 1px dotted black;border-radius: 0.25em;box-sizing: border-box;margin-bottom: 0.5em;}#sk-container-id-2 div.sk-estimator:hover {background-color: #d4ebff;}#sk-container-id-2 div.sk-parallel-item::after {content: \"\";width: 100%;border-bottom: 1px solid gray;flex-grow: 1;}#sk-container-id-2 div.sk-label:hover label.sk-toggleable__label {background-color: #d4ebff;}#sk-container-id-2 div.sk-serial::before {content: \"\";position: absolute;border-left: 1px solid gray;box-sizing: border-box;top: 0;bottom: 0;left: 50%;z-index: 0;}#sk-container-id-2 div.sk-serial {display: flex;flex-direction: column;align-items: center;background-color: white;padding-right: 0.2em;padding-left: 0.2em;position: relative;}#sk-container-id-2 div.sk-item {position: relative;z-index: 1;}#sk-container-id-2 div.sk-parallel {display: flex;align-items: stretch;justify-content: center;background-color: white;position: relative;}#sk-container-id-2 div.sk-item::before, #sk-container-id-2 div.sk-parallel-item::before {content: \"\";position: absolute;border-left: 1px solid gray;box-sizing: border-box;top: 0;bottom: 0;left: 50%;z-index: -1;}#sk-container-id-2 div.sk-parallel-item {display: flex;flex-direction: column;z-index: 1;position: relative;background-color: white;}#sk-container-id-2 div.sk-parallel-item:first-child::after {align-self: flex-end;width: 50%;}#sk-container-id-2 div.sk-parallel-item:last-child::after {align-self: flex-start;width: 50%;}#sk-container-id-2 div.sk-parallel-item:only-child::after {width: 0;}#sk-container-id-2 div.sk-dashed-wrapped {border: 1px dashed gray;margin: 0 0.4em 0.5em 0.4em;box-sizing: border-box;padding-bottom: 0.4em;background-color: white;}#sk-container-id-2 div.sk-label label {font-family: monospace;font-weight: bold;display: inline-block;line-height: 1.2em;}#sk-container-id-2 div.sk-label-container {text-align: center;}#sk-container-id-2 div.sk-container {/* jupyter's `normalize.less` sets `[hidden] { display: none; }` but bootstrap.min.css set `[hidden] { display: none !important; }` so we also need the `!important` here to be able to override the default hidden behavior on the sphinx rendered scikit-learn.org. See: https://github.com/scikit-learn/scikit-learn/issues/21755 */display: inline-block !important;position: relative;}#sk-container-id-2 div.sk-text-repr-fallback {display: none;}</style><div id=\"sk-container-id-2\" class=\"sk-top-container\"><div class=\"sk-text-repr-fallback\"><pre>LogisticRegression(random_state=48)</pre><b>In a Jupyter environment, please rerun this cell to show the HTML representation or trust the notebook. <br />On GitHub, the HTML representation is unable to render, please try loading this page with nbviewer.org.</b></div><div class=\"sk-container\" hidden><div class=\"sk-item\"><div class=\"sk-estimator sk-toggleable\"><input class=\"sk-toggleable__control sk-hidden--visually\" id=\"sk-estimator-id-2\" type=\"checkbox\" checked><label for=\"sk-estimator-id-2\" class=\"sk-toggleable__label sk-toggleable__label-arrow\">LogisticRegression</label><div class=\"sk-toggleable__content\"><pre>LogisticRegression(random_state=48)</pre></div></div></div></div></div>"
      ],
      "text/plain": [
       "LogisticRegression(random_state=48)"
      ]
     },
     "execution_count": 17,
     "metadata": {},
     "output_type": "execute_result"
    }
   ],
   "source": [
    "estimator = LogisticRegression(random_state=48)\n",
    "estimator.fit(X_train, y_train)"
   ]
  },
  {
   "cell_type": "code",
   "execution_count": 18,
   "id": "a12a5995",
   "metadata": {},
   "outputs": [
    {
     "name": "stdout",
     "output_type": "stream",
     "text": [
      "Accuracy: [1 1 1 1 1 0 1 1 1 1 0 1 0 1 1 1 0 0 1 0 1 1 0 1 0 0 1 1 0 0 1 1 1 1 1 1 1\n",
      " 1 1 1 1 1 1 1 0 1 1 0 0 0 1 0 1 0 0 1 1 0 1 1 1 1 1 0 1 0 0 1 1 1 1 1 1 0\n",
      " 1 1 0 1 1 1 0 1 1 1 1 1 1 0 0 1 1 0 0 1 0 0 1 0 0 0 1 0 0 1 0 1 0 1 1 1 1\n",
      " 0 0 1 0 1 1 1 1 1 1 0 0 1 0 0 1 1 1 0 1 1 0 1 0 1 0 1 0 0 1 1 1 1 0 1 1 1\n",
      " 1 0 0 0 1 1 0 0 1 1 1 1 0 0 1 0 0 1 0 0 0 1 1 0 1 0 1 1 1 1 0]\n",
      "Score: 0.8268156424581006\n"
     ]
    }
   ],
   "source": [
    "y_pred = estimator.predict(X_test)\n",
    "print(\"Accuracy:\", y_pred)\n",
    "\n",
    "score = estimator.score(X_test, y_test)\n",
    "print(\"Score:\", score)"
   ]
  },
  {
   "cell_type": "code",
   "execution_count": 19,
   "id": "983f25f6",
   "metadata": {},
   "outputs": [
    {
     "name": "stdout",
     "output_type": "stream",
     "text": [
      "{'C': 1.0, 'class_weight': None, 'dual': False, 'fit_intercept': True, 'intercept_scaling': 1, 'l1_ratio': None, 'max_iter': 100, 'multi_class': 'auto', 'n_jobs': None, 'penalty': 'l2', 'random_state': 48, 'solver': 'lbfgs', 'tol': 0.0001, 'verbose': 0, 'warm_start': False}\n"
     ]
    }
   ],
   "source": [
    "print(estimator.get_params())"
   ]
  },
  {
   "cell_type": "code",
   "execution_count": 20,
   "id": "1fbc39ff",
   "metadata": {},
   "outputs": [
    {
     "name": "stdout",
     "output_type": "stream",
     "text": [
      "              precision    recall  f1-score   support\n",
      "\n",
      "           0       0.81      0.75      0.78        72\n",
      "           1       0.84      0.88      0.86       107\n",
      "\n",
      "    accuracy                           0.83       179\n",
      "   macro avg       0.82      0.81      0.82       179\n",
      "weighted avg       0.83      0.83      0.83       179\n",
      "\n"
     ]
    }
   ],
   "source": [
    "ret = classification_report(y_test, y_pred)\n",
    "print(ret)"
   ]
  },
  {
   "cell_type": "code",
   "execution_count": 21,
   "id": "74bc52fd",
   "metadata": {},
   "outputs": [
    {
     "data": {
      "text/plain": [
       "0.8142523364485981"
      ]
     },
     "execution_count": 21,
     "metadata": {},
     "output_type": "execute_result"
    }
   ],
   "source": [
    "y_test = np.where(y_test > 0.5, 1, 0)\n",
    "roc_auc_score(y_test, y_pred)"
   ]
  },
  {
   "cell_type": "code",
   "execution_count": 30,
   "id": "f3a4bc3eaf7b72fe",
   "metadata": {
    "ExecuteTime": {
     "end_time": "2024-04-22T07:09:11.372604100Z",
     "start_time": "2024-04-22T07:09:11.310099300Z"
    },
    "collapsed": false
   },
   "outputs": [],
   "source": [
    "from sklearn.ensemble import GradientBoostingClassifier\n",
    "from sklearn.linear_model import LogisticRegression\n",
    "from sklearn.tree import DecisionTreeClassifier\n",
    "from sklearn.svm import SVC\n",
    "\n",
    "# 初始化决策树模型\n",
    "dt_classifier = DecisionTreeClassifier(random_state=48)\n",
    "\n",
    "# # 初始化支持向量机模型\n",
    "# svm_classifier = SVC(random_state=48)\n",
    "\n",
    "# # 初始化梯度提升树模型\n",
    "# gb_classifier = GradientBoostingClassifier(n_estimators=100, random_state=48)\n",
    "\n",
    "# 初始化随机森林分类器\n",
    "rf_classifier = RandomForestClassifier(n_estimators=15, random_state=48)\n",
    "\n",
    "# 初始化AdaBoost模型\n",
    "# adaboost_classifier = AdaBoostClassifier(n_estimators=100, random_state=48)\n"
   ]
  },
  {
   "cell_type": "code",
   "execution_count": 37,
   "id": "439577a7",
   "metadata": {},
   "outputs": [
    {
     "data": {
      "text/html": [
       "<style>#sk-container-id-3 {color: black;}#sk-container-id-3 pre{padding: 0;}#sk-container-id-3 div.sk-toggleable {background-color: white;}#sk-container-id-3 label.sk-toggleable__label {cursor: pointer;display: block;width: 100%;margin-bottom: 0;padding: 0.3em;box-sizing: border-box;text-align: center;}#sk-container-id-3 label.sk-toggleable__label-arrow:before {content: \"▸\";float: left;margin-right: 0.25em;color: #696969;}#sk-container-id-3 label.sk-toggleable__label-arrow:hover:before {color: black;}#sk-container-id-3 div.sk-estimator:hover label.sk-toggleable__label-arrow:before {color: black;}#sk-container-id-3 div.sk-toggleable__content {max-height: 0;max-width: 0;overflow: hidden;text-align: left;background-color: #f0f8ff;}#sk-container-id-3 div.sk-toggleable__content pre {margin: 0.2em;color: black;border-radius: 0.25em;background-color: #f0f8ff;}#sk-container-id-3 input.sk-toggleable__control:checked~div.sk-toggleable__content {max-height: 200px;max-width: 100%;overflow: auto;}#sk-container-id-3 input.sk-toggleable__control:checked~label.sk-toggleable__label-arrow:before {content: \"▾\";}#sk-container-id-3 div.sk-estimator input.sk-toggleable__control:checked~label.sk-toggleable__label {background-color: #d4ebff;}#sk-container-id-3 div.sk-label input.sk-toggleable__control:checked~label.sk-toggleable__label {background-color: #d4ebff;}#sk-container-id-3 input.sk-hidden--visually {border: 0;clip: rect(1px 1px 1px 1px);clip: rect(1px, 1px, 1px, 1px);height: 1px;margin: -1px;overflow: hidden;padding: 0;position: absolute;width: 1px;}#sk-container-id-3 div.sk-estimator {font-family: monospace;background-color: #f0f8ff;border: 1px dotted black;border-radius: 0.25em;box-sizing: border-box;margin-bottom: 0.5em;}#sk-container-id-3 div.sk-estimator:hover {background-color: #d4ebff;}#sk-container-id-3 div.sk-parallel-item::after {content: \"\";width: 100%;border-bottom: 1px solid gray;flex-grow: 1;}#sk-container-id-3 div.sk-label:hover label.sk-toggleable__label {background-color: #d4ebff;}#sk-container-id-3 div.sk-serial::before {content: \"\";position: absolute;border-left: 1px solid gray;box-sizing: border-box;top: 0;bottom: 0;left: 50%;z-index: 0;}#sk-container-id-3 div.sk-serial {display: flex;flex-direction: column;align-items: center;background-color: white;padding-right: 0.2em;padding-left: 0.2em;position: relative;}#sk-container-id-3 div.sk-item {position: relative;z-index: 1;}#sk-container-id-3 div.sk-parallel {display: flex;align-items: stretch;justify-content: center;background-color: white;position: relative;}#sk-container-id-3 div.sk-item::before, #sk-container-id-3 div.sk-parallel-item::before {content: \"\";position: absolute;border-left: 1px solid gray;box-sizing: border-box;top: 0;bottom: 0;left: 50%;z-index: -1;}#sk-container-id-3 div.sk-parallel-item {display: flex;flex-direction: column;z-index: 1;position: relative;background-color: white;}#sk-container-id-3 div.sk-parallel-item:first-child::after {align-self: flex-end;width: 50%;}#sk-container-id-3 div.sk-parallel-item:last-child::after {align-self: flex-start;width: 50%;}#sk-container-id-3 div.sk-parallel-item:only-child::after {width: 0;}#sk-container-id-3 div.sk-dashed-wrapped {border: 1px dashed gray;margin: 0 0.4em 0.5em 0.4em;box-sizing: border-box;padding-bottom: 0.4em;background-color: white;}#sk-container-id-3 div.sk-label label {font-family: monospace;font-weight: bold;display: inline-block;line-height: 1.2em;}#sk-container-id-3 div.sk-label-container {text-align: center;}#sk-container-id-3 div.sk-container {/* jupyter's `normalize.less` sets `[hidden] { display: none; }` but bootstrap.min.css set `[hidden] { display: none !important; }` so we also need the `!important` here to be able to override the default hidden behavior on the sphinx rendered scikit-learn.org. See: https://github.com/scikit-learn/scikit-learn/issues/21755 */display: inline-block !important;position: relative;}#sk-container-id-3 div.sk-text-repr-fallback {display: none;}</style><div id=\"sk-container-id-3\" class=\"sk-top-container\"><div class=\"sk-text-repr-fallback\"><pre>XGBClassifier(base_score=None, booster=None, callbacks=None,\n",
       "              colsample_bylevel=None, colsample_bynode=None,\n",
       "              colsample_bytree=None, device=None, early_stopping_rounds=None,\n",
       "              enable_categorical=False, eval_metric=None, feature_types=None,\n",
       "              gamma=None, grow_policy=None, importance_type=None,\n",
       "              interaction_constraints=None, learning_rate=0.1, max_bin=None,\n",
       "              max_cat_threshold=None, max_cat_to_onehot=None,\n",
       "              max_delta_step=None, max_depth=5, max_leaves=None,\n",
       "              min_child_weight=None, missing=nan, monotone_constraints=None,\n",
       "              multi_strategy=None, n_estimators=50, n_jobs=None,\n",
       "              num_parallel_tree=None, random_state=48, ...)</pre><b>In a Jupyter environment, please rerun this cell to show the HTML representation or trust the notebook. <br />On GitHub, the HTML representation is unable to render, please try loading this page with nbviewer.org.</b></div><div class=\"sk-container\" hidden><div class=\"sk-item\"><div class=\"sk-estimator sk-toggleable\"><input class=\"sk-toggleable__control sk-hidden--visually\" id=\"sk-estimator-id-3\" type=\"checkbox\" checked><label for=\"sk-estimator-id-3\" class=\"sk-toggleable__label sk-toggleable__label-arrow\">XGBClassifier</label><div class=\"sk-toggleable__content\"><pre>XGBClassifier(base_score=None, booster=None, callbacks=None,\n",
       "              colsample_bylevel=None, colsample_bynode=None,\n",
       "              colsample_bytree=None, device=None, early_stopping_rounds=None,\n",
       "              enable_categorical=False, eval_metric=None, feature_types=None,\n",
       "              gamma=None, grow_policy=None, importance_type=None,\n",
       "              interaction_constraints=None, learning_rate=0.1, max_bin=None,\n",
       "              max_cat_threshold=None, max_cat_to_onehot=None,\n",
       "              max_delta_step=None, max_depth=5, max_leaves=None,\n",
       "              min_child_weight=None, missing=nan, monotone_constraints=None,\n",
       "              multi_strategy=None, n_estimators=50, n_jobs=None,\n",
       "              num_parallel_tree=None, random_state=48, ...)</pre></div></div></div></div></div>"
      ],
      "text/plain": [
       "XGBClassifier(base_score=None, booster=None, callbacks=None,\n",
       "              colsample_bylevel=None, colsample_bynode=None,\n",
       "              colsample_bytree=None, device=None, early_stopping_rounds=None,\n",
       "              enable_categorical=False, eval_metric=None, feature_types=None,\n",
       "              gamma=None, grow_policy=None, importance_type=None,\n",
       "              interaction_constraints=None, learning_rate=0.1, max_bin=None,\n",
       "              max_cat_threshold=None, max_cat_to_onehot=None,\n",
       "              max_delta_step=None, max_depth=5, max_leaves=None,\n",
       "              min_child_weight=None, missing=nan, monotone_constraints=None,\n",
       "              multi_strategy=None, n_estimators=50, n_jobs=None,\n",
       "              num_parallel_tree=None, random_state=48, ...)"
      ]
     },
     "execution_count": 37,
     "metadata": {},
     "output_type": "execute_result"
    }
   ],
   "source": [
    "from xgboost import XGBClassifier\n",
    "\n",
    "XGBR_classifier = XGBClassifier(max_depth=5, learning_rate=0.1, n_estimators=50,  objective='binary:logistic', random_state=48)\n",
    "XGBR_classifier.fit(X_train, y_train)"
   ]
  },
  {
   "cell_type": "code",
   "execution_count": 35,
   "id": "deb14a9b",
   "metadata": {},
   "outputs": [],
   "source": []
  },
  {
   "cell_type": "code",
   "execution_count": 38,
   "id": "75489291",
   "metadata": {},
   "outputs": [
    {
     "data": {
      "image/png": "[encoded data removed]",
      "text/plain": [
       "<Figure size 640x480 with 1 Axes>"
      ]
     },
     "metadata": {},
     "output_type": "display_data"
    }
   ],
   "source": [
    "import xgboost as xgb\n",
    "import matplotlib.pyplot as plt\n",
    "\n",
    "y_pred = XGBR_classifier.predict(X_test)\n",
    "xgb.plot_importance(XGBR_classifier, importance_type='gain')\n",
    "plt.show()"
   ]
  },
  {
   "cell_type": "code",
   "execution_count": 39,
   "id": "b7332d95",
   "metadata": {},
   "outputs": [
    {
     "data": {
      "text/plain": [
       "<Axes: >"
      ]
     },
     "execution_count": 39,
     "metadata": {},
     "output_type": "execute_result"
    },
    {
     "data": {
      "image/png": "[encoded data removed]",
      "text/plain": [
       "<Figure size 640x480 with 1 Axes>"
      ]
     },
     "metadata": {},
     "output_type": "display_data"
    }
   ],
   "source": [
    "xgb.plot_tree(XGBR_classifier,num_trees=48)"
   ]
  },
  {
   "cell_type": "code",
   "execution_count": 40,
   "id": "240d52c6",
   "metadata": {},
   "outputs": [
    {
     "name": "stdout",
     "output_type": "stream",
     "text": [
      "xgboost混淆矩阵: [[45 27]\n",
      " [11 96]]\n",
      "xgboostf1得分: 0.8347826086956522\n",
      "xgboost准确率： 0.7877094972067039\n"
     ]
    }
   ],
   "source": [
    "XGBR_classifier.fit(X_train, y_train)\n",
    "xgb_y_pred = XGBR_classifier.predict(X_test)\n",
    "print('xgboost混淆矩阵:',confusion_matrix(y_test,xgb_y_pred))\n",
    "print('xgboostf1得分:',f1_score(y_test,xgb_y_pred))\n",
    "rf_accuracy = accuracy_score(y_test, xgb_y_pred)\n",
    "print(\"xgboost准确率：\", rf_accuracy)"
   ]
  },
  {
   "cell_type": "code",
   "execution_count": 44,
   "id": "0f964c16",
   "metadata": {},
   "outputs": [
    {
     "name": "stdout",
     "output_type": "stream",
     "text": [
      "Best parameters found:  {'gamma': 0, 'learning_rate': 0.1, 'max_depth': 3}\n"
     ]
    }
   ],
   "source": [
    "from xgboost import XGBClassifier\n",
    "from sklearn.model_selection import GridSearchCV\n",
    "\n",
    "# 定义参数网格\n",
    "param_grid = {\n",
    "    'max_depth': [3, 4, 5],\n",
    "    'learning_rate': [0.05, 0.1, 0.2],\n",
    "    'gamma': [0, 1, 2]\n",
    "}\n",
    "\n",
    "# 创建 XGBClassifier 实例\n",
    "xgb_clf = XGBClassifier(objective='binary:logistic', random_state=48)\n",
    "\n",
    "# 创建 GridSearchCV 实例\n",
    "grid_search = GridSearchCV(estimator=xgb_clf, param_grid=param_grid, cv=5, scoring='accuracy')\n",
    "\n",
    "# 执行网格搜索\n",
    "grid_search.fit(X_train, y_train)\n",
    "\n",
    "# 输出最佳参数\n",
    "print(\"Best parameters found: \", grid_search.best_params_)\n",
    "\n",
    "# 获得最佳模型\n",
    "best_xgb_clf = grid_search.best_estimator_"
   ]
  },
  {
   "cell_type": "code",
   "execution_count": 45,
   "id": "318fd08d",
   "metadata": {},
   "outputs": [
    {
     "name": "stdout",
     "output_type": "stream",
     "text": [
      "xgboost混淆矩阵: [[47 25]\n",
      " [12 95]]\n",
      "xgboostf1得分: 0.8370044052863437\n",
      "xgboost准确率： 0.7932960893854749\n"
     ]
    }
   ],
   "source": [
    "best_xgb_clf.fit(X_train, y_train)\n",
    "xgb_y_pred = best_xgb_clf.predict(X_test)\n",
    "print('xgboost混淆矩阵:',confusion_matrix(y_test,xgb_y_pred))\n",
    "print('xgboostf1得分:',f1_score(y_test,xgb_y_pred))\n",
    "rf_accuracy = accuracy_score(y_test, xgb_y_pred)\n",
    "print(\"xgboost准确率：\", rf_accuracy)"
   ]
  },
  {
   "cell_type": "code",
   "execution_count": 31,
   "id": "6f613d43011c1553",
   "metadata": {
    "ExecuteTime": {
     "end_time": "2024-04-22T07:19:46.542034100Z",
     "start_time": "2024-04-22T07:19:45.908713400Z"
    },
    "collapsed": false
   },
   "outputs": [
    {
     "name": "stdout",
     "output_type": "stream",
     "text": [
      "决策树混淆矩阵: [[46 26]\n",
      " [18 89]]\n",
      "决策树f1得分: 0.8018018018018018\n",
      "决策树准确率： 0.7541899441340782\n",
      "\n",
      "\n",
      "随机森林混淆矩阵: [[47 25]\n",
      " [17 90]]\n",
      "随机森林f1得分: 0.8108108108108107\n",
      "随机森林准确率： 0.7653631284916201\n"
     ]
    }
   ],
   "source": [
    "# # 训练逻辑回归模型\n",
    "# lr_classifier.fit(X_train, y_train)\n",
    "# lr_y_pred = lr_classifier.predict(X_test)\n",
    "# lr_accuracy = accuracy_score(y_test, lr_y_pred)\n",
    "# print(\"逻辑回归准确率：\", lr_accuracy)\n",
    "\n",
    "# 训练决策树模型\n",
    "dt_classifier.fit(X_train, y_train)\n",
    "dt_y_pred = dt_classifier.predict(X_test)\n",
    "print('决策树混淆矩阵:',confusion_matrix(y_test,dt_y_pred))\n",
    "print('决策树f1得分:',f1_score(y_test,dt_y_pred))\n",
    "dt_accuracy = accuracy_score(y_test, dt_y_pred)\n",
    "print(\"决策树准确率：\", dt_accuracy)\n",
    "\n",
    "# # 训练支持向量机模型\n",
    "# svm_classifier.fit(X_train, y_train)\n",
    "# svm_y_pred = svm_classifier.predict(X_test)\n",
    "# svm_accuracy = accuracy_score(y_test, svm_y_pred)\n",
    "# print(\"支持向量机准确率：\", svm_accuracy)\n",
    "\n",
    "# # 训练梯度提升树模型\n",
    "# gb_classifier.fit(X_train, y_train)\n",
    "# gb_y_pred = gb_classifier.predict(X_test)\n",
    "# gb_accuracy = accuracy_score(y_test, gb_y_pred)\n",
    "# print(\"梯度提升树准确率：\", gb_accuracy)\n",
    "\n",
    "# 训练随机森林模型\n",
    "print(\"\\n\")\n",
    "rf_classifier.fit(X_train, y_train)\n",
    "rf_y_pred = rf_classifier.predict(X_test)\n",
    "print('随机森林混淆矩阵:',confusion_matrix(y_test,rf_y_pred))\n",
    "print('随机森林f1得分:',f1_score(y_test,rf_y_pred))\n",
    "rf_accuracy = accuracy_score(y_test, rf_y_pred)\n",
    "print(\"随机森林准确率：\", rf_accuracy)\n",
    "\n",
    "# 训练AdaBoost模型\n",
    "# print(\"\\n\")\n",
    "# adaboost_classifier.fit(X_train, y_train)\n",
    "# adaboost_y_pred = adaboost_classifier.predict(X_test)\n",
    "# print('AdaBoost混淆矩阵:',confusion_matrix(y_test,adaboost_y_pred))\n",
    "# print('AdaBoostf1得分:',f1_score(y_test,adaboost_y_pred))\n",
    "# adaboost_accuracy = accuracy_score(y_test, adaboost_y_pred)\n",
    "# print(\"AdaBoost准确率：\", adaboost_accuracy)"
   ]
  },
  {
   "cell_type": "code",
   "execution_count": null,
   "id": "76d36f1f7d597791",
   "metadata": {
    "ExecuteTime": {
     "end_time": "2024-04-22T07:19:06.259705400Z",
     "start_time": "2024-04-22T07:17:41.350000900Z"
    },
    "collapsed": false
   },
   "outputs": [],
   "source": [
    "# # 算法调优\n",
    "# from sklearn.model_selection import GridSearchCV\n",
    "\n",
    "# # 初始化AdaBoost模型\n",
    "# adaboost_classifier = AdaBoostClassifier()\n",
    "\n",
    "# # 设置参数网格\n",
    "# param_grid = {\n",
    "#     'n_estimators': [10,20,30, 100, 50],\n",
    "#     'learning_rate': [0.001,0.002,0.005, 0.01,0.1,0.5, 1.0],\n",
    "#     'base_estimator': [DecisionTreeClassifier(max_depth=5),DecisionTreeClassifier(max_depth=4), DecisionTreeClassifier(max_depth=3)]\n",
    "# }\n",
    "\n",
    "# # 使用GridSearchCV进行参数调优\n",
    "# adaboost_grid_search = GridSearchCV(adaboost_classifier, param_grid, cv=5)\n",
    "# adaboost_grid_search.fit(X_train, y_train)\n",
    "\n",
    "# # 输出最佳参数\n",
    "# print(\"最佳参数：\", adaboost_grid_search.best_params_)\n",
    "\n",
    "# # 使用最佳参数的模型进行预测\n",
    "# adaboost_best_model = adaboost_grid_search.best_estimator_\n",
    "# adaboost_y_pred = adaboost_best_model.predict(X_test)\n",
    "# adaboost_accuracy = accuracy_score(y_test, adaboost_y_pred)\n",
    "# print(\"AdaBoost准确率：\", adaboost_accuracy)"
   ]
  },
  {
   "cell_type": "code",
   "execution_count": null,
   "id": "e2d24f9c8f63bd4",
   "metadata": {
    "collapsed": false
   },
   "outputs": [],
   "source": [
    "# from sklearn.linear_model import LogisticRegression\n",
    "# \n",
    "# # 初始化逻辑回归模型\n",
    "# logistic_regression = LogisticRegression()\n",
    "# \n",
    "# # 设置参数网格\n",
    "# param_grid = {\n",
    "#     'penalty': ['l1', 'l2'],\n",
    "#     'C': [0.01, 2.0, 10.0, 100.0]\n",
    "# }\n",
    "# \n",
    "# # 使用GridSearchCV进行参数调优\n",
    "# logistic_regression_grid_search = GridSearchCV(logistic_regression, param_grid, cv=5)\n",
    "# logistic_regression_grid_search.fit(X_train, y_train)\n",
    "# \n",
    "# # 输出最佳参数\n",
    "# print(\"最佳参数：\", logistic_regression_grid_search.best_params_)\n",
    "# \n",
    "# # 使用最佳参数的模型进行预测\n",
    "# logistic_regression_best_model = logistic_regression_grid_search.best_estimator_\n",
    "# logistic_regression_y_pred = logistic_regression_best_model.predict(X_test)\n",
    "# logistic_regression_accuracy = accuracy_score(y_test, logistic_regression_y_pred)\n",
    "# print(\"逻辑回归准确率：\", logistic_regression_accuracy)\n"
   ]
  },
  {
   "cell_type": "code",
   "execution_count": null,
   "id": "9ab4a68d8cde4a38",
   "metadata": {
    "collapsed": false
   },
   "outputs": [],
   "source": [
    "# from sklearn.ensemble import GradientBoostingClassifier\n",
    "# \n",
    "# # 初始化梯度提升树模型\n",
    "# gradient_boosting_classifier = GradientBoostingClassifier()\n",
    "# \n",
    "# # 设置参数网格\n",
    "# param_grid = {\n",
    "#     'n_estimators': [50, 100, 300],\n",
    "#     'learning_rate': [0.01, 0.001, 10.0],\n",
    "#     'max_depth': [3, 5, 10]\n",
    "# }\n",
    "# \n",
    "# # 使用GridSearchCV进行参数调优\n",
    "# gradient_boosting_grid_search = GridSearchCV(gradient_boosting_classifier, param_grid, cv=5)\n",
    "# gradient_boosting_grid_search.fit(X_train, y_train)\n",
    "# \n",
    "# # 输出最佳参数\n",
    "# print(\"最佳参数：\", gradient_boosting_grid_search.best_params_)\n",
    "# \n",
    "# # 使用最佳参数的模型进行预测\n",
    "# gradient_boosting_best_model = gradient_boosting_grid_search.best_estimator_\n",
    "# gradient_boosting_y_pred = gradient_boosting_best_model.predict(X_test)\n",
    "# gradient_boosting_accuracy = accuracy_score(y_test, gradient_boosting_y_pred)\n",
    "# print(\"梯度提升树准确率：\", gradient_boosting_accuracy)\n"
   ]
  },
  {
   "cell_type": "code",
   "execution_count": 47,
   "id": "830da245034a2873",
   "metadata": {
    "ExecuteTime": {
     "end_time": "2024-04-22T07:19:54.504324400Z",
     "start_time": "2024-04-22T07:19:54.466242Z"
    },
    "collapsed": false
   },
   "outputs": [
    {
     "name": "stdout",
     "output_type": "stream",
     "text": [
      "分类报告：\n",
      "               precision    recall  f1-score   support\n",
      "\n",
      "           0       0.80      0.65      0.72        72\n",
      "           1       0.79      0.89      0.84       107\n",
      "\n",
      "    accuracy                           0.79       179\n",
      "   macro avg       0.79      0.77      0.78       179\n",
      "weighted avg       0.79      0.79      0.79       179\n",
      "\n"
     ]
    }
   ],
   "source": [
    "# 显示混淆矩阵和分类报告\n",
    "class_report = classification_report(y_test, xgb_y_pred)\n",
    "print(\"分类报告：\\n\", class_report)"
   ]
  },
  {
   "cell_type": "code",
   "execution_count": 13,
   "id": "d56afe7b",
   "metadata": {},
   "outputs": [
    {
     "data": {
      "text/plain": [
       "['dt_classifier.pkl']"
      ]
     },
     "execution_count": 13,
     "metadata": {},
     "output_type": "execute_result"
    }
   ],
   "source": [
    "import joblib\n",
    "joblib.dump(dt_classifier,'dt_classifier.pkl')"
   ]
  },
  {
   "cell_type": "code",
   "execution_count": 15,
   "id": "a154c4d382e39224",
   "metadata": {
    "ExecuteTime": {
     "end_time": "2024-04-22T03:51:27.963319200Z",
     "start_time": "2024-04-22T03:51:18.778109400Z"
    },
    "collapsed": false
   },
   "outputs": [
    {
     "data": {
      "text/plain": [
       "'dt_gv.png'"
      ]
     },
     "execution_count": 15,
     "metadata": {},
     "output_type": "execute_result"
    }
   ],
   "source": [
    "# 决策树可视化\n",
    "import graphviz\n",
    "import os\n",
    "\n",
    "from sklearn import tree\n",
    "dot_data = tree.export_graphviz(dt_classifier,\n",
    "                                feature_names=X.columns.tolist(), # 特征名称\n",
    "                                class_names=y.unique().astype(str).tolist(), # 目标变量的类别名\n",
    "                                filled=True, rounded=True,\n",
    "                                special_characters=True)\n",
    "graph = graphviz.Source(source=dot_data,filename='dt_gv',format='png',)\n",
    "graph.render(cleanup=True) # 保存模型可视化为png图片\n"
   ]
  },
  {
   "cell_type": "code",
   "execution_count": 33,
   "id": "870bb1d1",
   "metadata": {},
   "outputs": [
    {
     "data": {
      "text/html": [
       "\n",
       "        <iframe\n",
       "            width=\"100%\"\n",
       "            height=\"400\"\n",
       "            src=\"rf_tree.pdf\"\n",
       "            frameborder=\"0\"\n",
       "            allowfullscreen\n",
       "            \n",
       "        ></iframe>\n",
       "        "
      ],
      "text/plain": [
       "<IPython.lib.display.IFrame at 0x7f1418ae5cd0>"
      ]
     },
     "execution_count": 33,
     "metadata": {},
     "output_type": "execute_result"
    }
   ],
   "source": [
    "from sklearn.tree import export_graphviz\n",
    "# 可视化随机森林中的第一棵树\n",
    "dot_data = export_graphviz(rf_classifier.estimators_[0], out_file=None, \n",
    "                           feature_names=X_train.columns,  # 假设 X_train.columns 包含了特征名称\n",
    "                           class_names=rf_classifier.classes_.astype(str).tolist(),\n",
    "                           filled=True, rounded=True, special_characters=True)\n",
    "\n",
    "# 使用 graphviz 库将 DOT 数据转换为可视化图形\n",
    "graph = graphviz.Source(dot_data)\n",
    "graph.render(\"rf_tree\")  # 会创建一个名为 \"rf_tree.pdf\" 的文件\n",
    "\n",
    "\n",
    "from IPython.display import IFrame\n",
    "IFrame('rf_tree.pdf', width='100%', height=400)"
   ]
  },
  {
   "cell_type": "code",
   "execution_count": 29,
   "id": "cbef39a7972e26c5",
   "metadata": {
    "ExecuteTime": {
     "end_time": "2024-04-22T06:46:33.551155400Z",
     "start_time": "2024-04-22T06:46:28.812622300Z"
    },
    "collapsed": false
   },
   "outputs": [
    {
     "data": {
      "image/png": "[encoded data removed]",
      "text/plain": [
       "<Figure size 1500x600 with 1 Axes>"
      ]
     },
     "metadata": {},
     "output_type": "display_data"
    }
   ],
   "source": [
    "# 基于重抽样自举法的集成学习应用示例\n",
    "\n",
    "from sklearn.ensemble import RandomForestRegressor\n",
    "import numpy as np\n",
    "import matplotlib.pyplot as plt\n",
    "from sklearn.model_selection import train_test_split, cross_val_score\n",
    "matplotlib.rcParams['font.sans-serif'] = ['WenQuanYi Zen Hei']  # 替换为实际的中文字体名称\n",
    "matplotlib.rcParams['axes.unicode_minus'] = False  # 正确显示负号\n",
    "\n",
    "# 假设数据已经准备好，X和Y是特征和目标变量的数据集\n",
    "\n",
    "X = data.drop(columns=['Accepted'])  # 特征\n",
    "y = data['Accepted']  # 目标变量\n",
    "\n",
    "# 将数据拆分为训练集和测试集\n",
    "X_train, X_test, y_train, y_test = train_test_split(X, y, test_size=0.2, random_state=48)\n",
    "\n",
    "trainErr = []\n",
    "testErr = []\n",
    "CVErr = []\n",
    "K = np.arange(2, 50)\n",
    "\n",
    "for k in K:\n",
    "    modelRF = RandomForestRegressor(n_estimators=k, random_state=48)\n",
    "    modelRF.fit(X_train, y_train)\n",
    "    trainErr.append(1 - modelRF.score(X_train, y_train))\n",
    "    testErr.append(1 - modelRF.score(X_test, y_test))\n",
    "    Err = 1 - cross_val_score(modelRF, X, y, cv=5, scoring='r2')\n",
    "    CVErr.append(Err.mean())\n",
    "\n",
    "fig = plt.figure(figsize=(15, 6))\n",
    "ax1 = fig.add_subplot(121)\n",
    "ax1.grid(True, linestyle='-.')\n",
    "ax1.plot(K, trainErr, label=\"训练误差\", marker='o', linestyle='-')\n",
    "ax1.plot(K, testErr, label=\"旁置法测试误差\", marker='o', linestyle='-')\n",
    "ax1.plot(K, CVErr, label=\"5-折交叉验证误差\", marker='o', linestyle='--')\n",
    "ax1.set_xlabel(\"树的数量\")\n",
    "ax1.set_ylabel(\"误差（1-R方）\")\n",
    "ax1.set_title('树的数量和误差')\n",
    "ax1.legend()\n",
    "\n",
    "plt.show()\n"
   ]
  },
  {
   "cell_type": "code",
   "execution_count": null,
   "id": "9c1ed69c91e5391f",
   "metadata": {
    "ExecuteTime": {
     "end_time": "2024-04-22T07:04:57.896789500Z",
     "start_time": "2024-04-22T07:02:25.198092100Z"
    },
    "collapsed": false
   },
   "outputs": [],
   "source": [
    "from sklearn.tree import DecisionTreeRegressor\n",
    "from sklearn.ensemble import BaggingRegressor, RandomForestRegressor\n",
    "from sklearn.model_selection import cross_val_score\n",
    "import numpy as np\n",
    "import matplotlib.pyplot as plt\n",
    "\n",
    "# 假设数据已经准备好，X和Y是特征和目标变量的数据集\n",
    "\n",
    "modelDTR = DecisionTreeRegressor(max_depth=5, random_state=48)\n",
    "dtrErr = 1 - cross_val_score(modelDTR, X_train, y_train, cv=10, scoring='r2')\n",
    "\n",
    "BagY0 = []\n",
    "bagErr = []\n",
    "rfErr = []\n",
    "rfY0 = []\n",
    "\n",
    "for b in np.arange(5, 100):\n",
    "    Bag = BaggingRegressor(estimator=modelDTR, n_estimators=b, oob_score=True, random_state=48, bootstrap=True)\n",
    "    Bag.fit(X_train, y_train)\n",
    "    bagErr.append(1 - Bag.oob_score_)\n",
    "    BagY0.append(Bag.predict(X_test))\n",
    "    \n",
    "    RF = RandomForestRegressor(n_estimators=b, oob_score=True, random_state=48, bootstrap=True, max_features='sqrt')\n",
    "    RF.fit(X_train, y_train)\n",
    "    rfErr.append(1 - RF.oob_score_)\n",
    "    rfY0.append(RF.predict(X_test))\n",
    "\n",
    "# 将预测结果从数组转换为单个平均值\n",
    "BagY0_mean = np.mean(BagY0, axis=1)\n",
    "rfY0_mean = np.mean(rfY0, axis=1)\n",
    "\n",
    "fig, axes = plt.subplots(nrows=1, ncols=2, figsize=(12, 4))\n",
    "axes[0].axhline(y=dtrErr.mean(), linestyle='-.', label=\"回归树\")\n",
    "axes[0].plot(np.arange(5, 100), bagErr, linestyle='-', label=\"Bagging回归树(方差=%.3f)\" % np.var(BagY0_mean))\n",
    "axes[0].plot(np.arange(5, 100), rfErr, linestyle='--', label=\"随机森林(方差=%.3f)\" % np.var(rfY0_mean))\n",
    "axes[0].set_title(\"回归树、Bagging回归树和随机森林\")\n",
    "axes[0].set_xlabel(\"树的棵树B\")\n",
    "axes[0].set_ylabel(\"测试误差\")\n",
    "axes[0].legend()\n",
    "\n",
    "axes[1].barh(y=np.arange(len(X.columns)), width=RF.feature_importances_, tick_label=X.columns)\n",
    "axes[1].set_title(\"输入变量的重要性\")\n",
    "# for x, y in enumerate(RF.feature_importances_):\n",
    "#     axes[1].text(y + 0.01, x + 1, '%s' % round(y, 3))\n",
    "\n",
    "plt.legend()\n",
    "plt.show()\n"
   ]
  }
 ],
 "metadata": {
  "kernelspec": {
   "display_name": "Python 3",
   "language": "python",
   "name": "python3"
  },
  "language_info": {
   "codemirror_mode": {
    "name": "ipython",
    "version": 3
   },
   "file_extension": ".py",
   "mimetype": "text/x-python",
   "name": "python",
   "nbconvert_exporter": "python",
   "pygments_lexer": "ipython3",
   "version": "3.8.19"
  }
 },
 "nbformat": 4,
 "nbformat_minor": 5
}
