{
 "cells": [
  {
   "cell_type": "code",
   "execution_count": 156,
   "id": "initial_id",
   "metadata": {
    "collapsed": true,
    "ExecuteTime": {
     "end_time": "2024-03-27T01:17:53.936840900Z",
     "start_time": "2024-03-27T01:17:53.495155Z"
    }
   },
   "outputs": [],
   "source": [
    "import pandas as pd\n",
    "import numpy as np"
   ]
  },
  {
   "cell_type": "code",
   "execution_count": 157,
   "outputs": [],
   "source": [
    "    # - 第一个：每个元素是1～4（包含）随机整数\n",
    "# - 第二个：每个元素是1～3（包含）随机整数\n",
    "# - 第三个：每个元素是10000～20000（包含）随机整数\n",
    "\n",
    "\n",
    "# 设置随机种子，确保每次运行生成相同的随机数\n",
    "np.random.seed(42)\n",
    "\n",
    "# 创建三个不同长度为100的 Series\n",
    "series1 = pd.Series(np.random.randint(1, 5, size=100))  # 生成1~4范围内的随机整数\n",
    "series2 = pd.Series(np.random.randint(1, 4, size=100))  # 生成1~3范围内的随机整数\n",
    "series3 = pd.Series(np.random.randint(10000, 20001, size=100))  # 生成10000~20000范围内的随机整数"
   ],
   "metadata": {
    "collapsed": false,
    "ExecuteTime": {
     "end_time": "2024-03-27T01:17:53.936840900Z",
     "start_time": "2024-03-27T01:17:53.513756900Z"
    }
   },
   "id": "a1b0931333948c61"
  },
  {
   "cell_type": "code",
   "execution_count": 158,
   "outputs": [],
   "source": [
    "# 利用这3个Series作为3列创建一个DataFrame。\n",
    "\n",
    "df = pd.DataFrame(\n",
    "    {\n",
    "        's1': series1,\n",
    "        's2': series2,\n",
    "        's3': series3,\n",
    "    }\n",
    ")"
   ],
   "metadata": {
    "collapsed": false,
    "ExecuteTime": {
     "end_time": "2024-03-27T01:17:53.936840900Z",
     "start_time": "2024-03-27T01:17:53.524909200Z"
    }
   },
   "id": "e0950e09ce004681"
  },
  {
   "cell_type": "code",
   "execution_count": 159,
   "outputs": [
    {
     "name": "stdout",
     "output_type": "stream",
     "text": [
      "Index(['s1', 's2', 's3'], dtype='object')\n"
     ]
    }
   ],
   "source": [
    "## 问题3：将上面DataFrame的列名改为bedrs、bathrs和price_sqr_meter。\n",
    "rename_list = {'s1': 'bedrs',\n",
    "               's2': 'bathrs',\n",
    "               's3': 'price_sqr_meter'}\n",
    "df.rename(rename_list)\n",
    "\n",
    "print(df.columns)"
   ],
   "metadata": {
    "collapsed": false,
    "ExecuteTime": {
     "end_time": "2024-03-27T01:17:53.937841100Z",
     "start_time": "2024-03-27T01:17:53.541637800Z"
    }
   },
   "id": "ac122d830c3dd6a7"
  },
  {
   "cell_type": "code",
   "execution_count": 160,
   "outputs": [
    {
     "name": "stdout",
     "output_type": "stream",
     "text": [
      "0         3\n",
      "1         4\n",
      "2         1\n",
      "3         3\n",
      "4         3\n",
      "      ...  \n",
      "95    17158\n",
      "96    17400\n",
      "97    13170\n",
      "98    19874\n",
      "99    12255\n",
      "Length: 300, dtype: int32\n"
     ]
    }
   ],
   "source": [
    "# 利用上面3个Series作为1列创建一个DataFrame\n",
    "df = pd.concat([series1, series2, series3])\n",
    "\n",
    "print(df)"
   ],
   "metadata": {
    "collapsed": false,
    "ExecuteTime": {
     "end_time": "2024-03-27T01:17:53.937841100Z",
     "start_time": "2024-03-27T01:17:53.556999100Z"
    }
   },
   "id": "d66064a65651838d"
  },
  {
   "cell_type": "code",
   "execution_count": 161,
   "outputs": [],
   "source": [
    "## 问题5：上面的DataFrame的index到99为止，请将其reindex为0～299。\n",
    "df.reset_index(drop=True, inplace=True)\n",
    "df = df.reindex(range(300))"
   ],
   "metadata": {
    "collapsed": false,
    "ExecuteTime": {
     "end_time": "2024-03-27T01:17:53.937841100Z",
     "start_time": "2024-03-27T01:17:53.572499Z"
    }
   },
   "id": "283485184b84486c"
  },
  {
   "cell_type": "code",
   "execution_count": 162,
   "outputs": [
    {
     "name": "stdout",
     "output_type": "stream",
     "text": [
      "<class 'pandas.core.frame.DataFrame'>\n",
      "RangeIndex: 16 entries, 0 to 15\n",
      "Data columns (total 35 columns):\n",
      " #   Column                      Non-Null Count  Dtype  \n",
      "---  ------                      --------------  -----  \n",
      " 0   Team                        16 non-null     object \n",
      " 1   Goals                       16 non-null     int64  \n",
      " 2   Shots on target             16 non-null     int64  \n",
      " 3   Shots off target            16 non-null     int64  \n",
      " 4   Shooting Accuracy           16 non-null     object \n",
      " 5   % Goals-to-shots            16 non-null     object \n",
      " 6   Total shots (inc. Blocked)  16 non-null     int64  \n",
      " 7   Hit Woodwork                16 non-null     int64  \n",
      " 8   Penalty goals               16 non-null     int64  \n",
      " 9   Penalties not scored        16 non-null     int64  \n",
      " 10  Headed goals                16 non-null     int64  \n",
      " 11  Passes                      16 non-null     int64  \n",
      " 12  Passes completed            16 non-null     int64  \n",
      " 13  Passing Accuracy            16 non-null     object \n",
      " 14  Touches                     16 non-null     int64  \n",
      " 15  Crosses                     16 non-null     int64  \n",
      " 16  Dribbles                    16 non-null     int64  \n",
      " 17  Corners Taken               16 non-null     int64  \n",
      " 18  Tackles                     16 non-null     int64  \n",
      " 19  Clearances                  16 non-null     int64  \n",
      " 20  Interceptions               16 non-null     int64  \n",
      " 21  Clearances off line         15 non-null     float64\n",
      " 22  Clean Sheets                16 non-null     int64  \n",
      " 23  Blocks                      16 non-null     int64  \n",
      " 24  Goals conceded              16 non-null     int64  \n",
      " 25  Saves made                  16 non-null     int64  \n",
      " 26  Saves-to-shots ratio        16 non-null     object \n",
      " 27  Fouls Won                   16 non-null     int64  \n",
      " 28  Fouls Conceded              16 non-null     int64  \n",
      " 29  Offsides                    16 non-null     int64  \n",
      " 30  Yellow Cards                16 non-null     int64  \n",
      " 31  Red Cards                   16 non-null     int64  \n",
      " 32  Subs on                     16 non-null     int64  \n",
      " 33  Subs off                    16 non-null     int64  \n",
      " 34  Players Used                16 non-null     int64  \n",
      "dtypes: float64(1), int64(29), object(5)\n",
      "memory usage: 4.5+ KB\n"
     ]
    },
    {
     "data": {
      "text/plain": "None"
     },
     "metadata": {},
     "output_type": "display_data"
    },
    {
     "data": {
      "text/plain": "             Team  Goals  Shots on target  Shots off target Shooting Accuracy  \\\n0         Croatia      4               13                12             51.9%   \n1  Czech Republic      4               13                18             41.9%   \n2         Denmark      4               10                10             50.0%   \n3         England      5               11                18             50.0%   \n4          France      3               22                24             37.9%   \n\n  % Goals-to-shots  Total shots (inc. Blocked)  Hit Woodwork  Penalty goals  \\\n0            16.0%                          32             0              0   \n1            12.9%                          39             0              0   \n2            20.0%                          27             1              0   \n3            17.2%                          40             0              0   \n4             6.5%                          65             1              0   \n\n   Penalties not scored  ...  Saves made  Saves-to-shots ratio  Fouls Won  \\\n0                     0  ...          13                 81.3%         41   \n1                     0  ...           9                 60.1%         53   \n2                     0  ...          10                 66.7%         25   \n3                     0  ...          22                 88.1%         43   \n4                     0  ...           6                 54.6%         36   \n\n  Fouls Conceded  Offsides  Yellow Cards  Red Cards  Subs on  Subs off  \\\n0             62         2             9          0        9         9   \n1             73         8             7          0       11        11   \n2             38         8             4          0        7         7   \n3             45         6             5          0       11        11   \n4             51         5             6          0       11        11   \n\n   Players Used  \n0            16  \n1            19  \n2            15  \n3            16  \n4            19  \n\n[5 rows x 35 columns]",
      "text/html": "<div>\n<style scoped>\n    .dataframe tbody tr th:only-of-type {\n        vertical-align: middle;\n    }\n\n    .dataframe tbody tr th {\n        vertical-align: top;\n    }\n\n    .dataframe thead th {\n        text-align: right;\n    }\n</style>\n<table border=\"1\" class=\"dataframe\">\n  <thead>\n    <tr style=\"text-align: right;\">\n      <th></th>\n      <th>Team</th>\n      <th>Goals</th>\n      <th>Shots on target</th>\n      <th>Shots off target</th>\n      <th>Shooting Accuracy</th>\n      <th>% Goals-to-shots</th>\n      <th>Total shots (inc. Blocked)</th>\n      <th>Hit Woodwork</th>\n      <th>Penalty goals</th>\n      <th>Penalties not scored</th>\n      <th>...</th>\n      <th>Saves made</th>\n      <th>Saves-to-shots ratio</th>\n      <th>Fouls Won</th>\n      <th>Fouls Conceded</th>\n      <th>Offsides</th>\n      <th>Yellow Cards</th>\n      <th>Red Cards</th>\n      <th>Subs on</th>\n      <th>Subs off</th>\n      <th>Players Used</th>\n    </tr>\n  </thead>\n  <tbody>\n    <tr>\n      <th>0</th>\n      <td>Croatia</td>\n      <td>4</td>\n      <td>13</td>\n      <td>12</td>\n      <td>51.9%</td>\n      <td>16.0%</td>\n      <td>32</td>\n      <td>0</td>\n      <td>0</td>\n      <td>0</td>\n      <td>...</td>\n      <td>13</td>\n      <td>81.3%</td>\n      <td>41</td>\n      <td>62</td>\n      <td>2</td>\n      <td>9</td>\n      <td>0</td>\n      <td>9</td>\n      <td>9</td>\n      <td>16</td>\n    </tr>\n    <tr>\n      <th>1</th>\n      <td>Czech Republic</td>\n      <td>4</td>\n      <td>13</td>\n      <td>18</td>\n      <td>41.9%</td>\n      <td>12.9%</td>\n      <td>39</td>\n      <td>0</td>\n      <td>0</td>\n      <td>0</td>\n      <td>...</td>\n      <td>9</td>\n      <td>60.1%</td>\n      <td>53</td>\n      <td>73</td>\n      <td>8</td>\n      <td>7</td>\n      <td>0</td>\n      <td>11</td>\n      <td>11</td>\n      <td>19</td>\n    </tr>\n    <tr>\n      <th>2</th>\n      <td>Denmark</td>\n      <td>4</td>\n      <td>10</td>\n      <td>10</td>\n      <td>50.0%</td>\n      <td>20.0%</td>\n      <td>27</td>\n      <td>1</td>\n      <td>0</td>\n      <td>0</td>\n      <td>...</td>\n      <td>10</td>\n      <td>66.7%</td>\n      <td>25</td>\n      <td>38</td>\n      <td>8</td>\n      <td>4</td>\n      <td>0</td>\n      <td>7</td>\n      <td>7</td>\n      <td>15</td>\n    </tr>\n    <tr>\n      <th>3</th>\n      <td>England</td>\n      <td>5</td>\n      <td>11</td>\n      <td>18</td>\n      <td>50.0%</td>\n      <td>17.2%</td>\n      <td>40</td>\n      <td>0</td>\n      <td>0</td>\n      <td>0</td>\n      <td>...</td>\n      <td>22</td>\n      <td>88.1%</td>\n      <td>43</td>\n      <td>45</td>\n      <td>6</td>\n      <td>5</td>\n      <td>0</td>\n      <td>11</td>\n      <td>11</td>\n      <td>16</td>\n    </tr>\n    <tr>\n      <th>4</th>\n      <td>France</td>\n      <td>3</td>\n      <td>22</td>\n      <td>24</td>\n      <td>37.9%</td>\n      <td>6.5%</td>\n      <td>65</td>\n      <td>1</td>\n      <td>0</td>\n      <td>0</td>\n      <td>...</td>\n      <td>6</td>\n      <td>54.6%</td>\n      <td>36</td>\n      <td>51</td>\n      <td>5</td>\n      <td>6</td>\n      <td>0</td>\n      <td>11</td>\n      <td>11</td>\n      <td>19</td>\n    </tr>\n  </tbody>\n</table>\n<p>5 rows × 35 columns</p>\n</div>"
     },
     "execution_count": 162,
     "metadata": {},
     "output_type": "execute_result"
    }
   ],
   "source": [
    "import pandas as pd\n",
    "\n",
    "# 加载数据\n",
    "df = pd.read_csv('assets/Euro_2012_stats_TEAM.csv', sep=',')  # 2012欧洲杯统计数据\n",
    "display(df.info())\n",
    "df.head()"
   ],
   "metadata": {
    "collapsed": false,
    "ExecuteTime": {
     "end_time": "2024-03-27T01:17:53.937841100Z",
     "start_time": "2024-03-27T01:17:53.588215400Z"
    }
   },
   "id": "5a7d216fb8a6666"
  },
  {
   "cell_type": "code",
   "execution_count": 163,
   "outputs": [
    {
     "name": "stdout",
     "output_type": "stream",
     "text": [
      "    Goals\n",
      "0       4\n",
      "1       4\n",
      "2       4\n",
      "3       5\n",
      "4       3\n",
      "5      10\n",
      "6       5\n",
      "7       6\n",
      "8       2\n",
      "9       2\n",
      "10      6\n",
      "11      1\n",
      "12      5\n",
      "13     12\n",
      "14      5\n",
      "15      2\n"
     ]
    }
   ],
   "source": [
    "## 问题1：选择Goals列显示。\n",
    "print(df[['Goals']])"
   ],
   "metadata": {
    "collapsed": false,
    "ExecuteTime": {
     "end_time": "2024-03-27T01:17:53.937841100Z",
     "start_time": "2024-03-27T01:17:53.619755800Z"
    }
   },
   "id": "1eab0a0a16fb7466"
  },
  {
   "cell_type": "code",
   "execution_count": 164,
   "outputs": [
    {
     "name": "stdout",
     "output_type": "stream",
     "text": [
      "16只队伍参加Euro2012\n"
     ]
    }
   ],
   "source": [
    "## 问题2：多少队伍参加Euro2012？\n",
    "print(f'{len(df[\"Team\"].unique())}只队伍参加Euro2012')"
   ],
   "metadata": {
    "collapsed": false,
    "ExecuteTime": {
     "end_time": "2024-03-27T01:17:53.938842Z",
     "start_time": "2024-03-27T01:17:53.637284700Z"
    }
   },
   "id": "80ab33f2a762ec07"
  },
  {
   "cell_type": "code",
   "execution_count": 165,
   "outputs": [
    {
     "data": {
      "text/plain": "16"
     },
     "execution_count": 165,
     "metadata": {},
     "output_type": "execute_result"
    }
   ],
   "source": [
    "## 问题3：数据集中有多少列？\n",
    "df.shape[0]"
   ],
   "metadata": {
    "collapsed": false,
    "ExecuteTime": {
     "end_time": "2024-03-27T01:17:53.938842Z",
     "start_time": "2024-03-27T01:17:53.650280100Z"
    }
   },
   "id": "f10704d785b7cdfb"
  },
  {
   "cell_type": "code",
   "execution_count": 166,
   "outputs": [
    {
     "data": {
      "text/plain": "                   Team  Yellow Cards  Red Cards\n0               Croatia             9          0\n1        Czech Republic             7          0\n2               Denmark             4          0\n3               England             5          0\n4                France             6          0\n5               Germany             4          0\n6                Greece             9          1\n7                 Italy            16          0\n8           Netherlands             5          0\n9                Poland             7          1\n10             Portugal            12          0\n11  Republic of Ireland             6          1\n12               Russia             6          0\n13                Spain            11          0\n14               Sweden             7          0\n15              Ukraine             5          0",
      "text/html": "<div>\n<style scoped>\n    .dataframe tbody tr th:only-of-type {\n        vertical-align: middle;\n    }\n\n    .dataframe tbody tr th {\n        vertical-align: top;\n    }\n\n    .dataframe thead th {\n        text-align: right;\n    }\n</style>\n<table border=\"1\" class=\"dataframe\">\n  <thead>\n    <tr style=\"text-align: right;\">\n      <th></th>\n      <th>Team</th>\n      <th>Yellow Cards</th>\n      <th>Red Cards</th>\n    </tr>\n  </thead>\n  <tbody>\n    <tr>\n      <th>0</th>\n      <td>Croatia</td>\n      <td>9</td>\n      <td>0</td>\n    </tr>\n    <tr>\n      <th>1</th>\n      <td>Czech Republic</td>\n      <td>7</td>\n      <td>0</td>\n    </tr>\n    <tr>\n      <th>2</th>\n      <td>Denmark</td>\n      <td>4</td>\n      <td>0</td>\n    </tr>\n    <tr>\n      <th>3</th>\n      <td>England</td>\n      <td>5</td>\n      <td>0</td>\n    </tr>\n    <tr>\n      <th>4</th>\n      <td>France</td>\n      <td>6</td>\n      <td>0</td>\n    </tr>\n    <tr>\n      <th>5</th>\n      <td>Germany</td>\n      <td>4</td>\n      <td>0</td>\n    </tr>\n    <tr>\n      <th>6</th>\n      <td>Greece</td>\n      <td>9</td>\n      <td>1</td>\n    </tr>\n    <tr>\n      <th>7</th>\n      <td>Italy</td>\n      <td>16</td>\n      <td>0</td>\n    </tr>\n    <tr>\n      <th>8</th>\n      <td>Netherlands</td>\n      <td>5</td>\n      <td>0</td>\n    </tr>\n    <tr>\n      <th>9</th>\n      <td>Poland</td>\n      <td>7</td>\n      <td>1</td>\n    </tr>\n    <tr>\n      <th>10</th>\n      <td>Portugal</td>\n      <td>12</td>\n      <td>0</td>\n    </tr>\n    <tr>\n      <th>11</th>\n      <td>Republic of Ireland</td>\n      <td>6</td>\n      <td>1</td>\n    </tr>\n    <tr>\n      <th>12</th>\n      <td>Russia</td>\n      <td>6</td>\n      <td>0</td>\n    </tr>\n    <tr>\n      <th>13</th>\n      <td>Spain</td>\n      <td>11</td>\n      <td>0</td>\n    </tr>\n    <tr>\n      <th>14</th>\n      <td>Sweden</td>\n      <td>7</td>\n      <td>0</td>\n    </tr>\n    <tr>\n      <th>15</th>\n      <td>Ukraine</td>\n      <td>5</td>\n      <td>0</td>\n    </tr>\n  </tbody>\n</table>\n</div>"
     },
     "execution_count": 166,
     "metadata": {},
     "output_type": "execute_result"
    }
   ],
   "source": [
    "## 问题4：选择Team、Yellow Cards、Red Cards三列形成新的DataFrame，命名为discipline。\n",
    "discipline = pd.DataFrame(\n",
    "    {\n",
    "        'Team': df.Team,\n",
    "        'Yellow Cards': df['Yellow Cards'],\n",
    "        'Red Cards': df['Red Cards']\n",
    "    },\n",
    ")\n",
    "\n",
    "discipline"
   ],
   "metadata": {
    "collapsed": false,
    "ExecuteTime": {
     "end_time": "2024-03-27T01:17:53.938842Z",
     "start_time": "2024-03-27T01:17:53.667284400Z"
    }
   },
   "id": "d680d3ebb8fba6ad"
  },
  {
   "cell_type": "code",
   "execution_count": 167,
   "outputs": [
    {
     "data": {
      "text/plain": "                   Team  Yellow Cards  Red Cards\n6                Greece             9          1\n9                Poland             7          1\n11  Republic of Ireland             6          1\n7                 Italy            16          0\n10             Portugal            12          0\n13                Spain            11          0\n0               Croatia             9          0\n1        Czech Republic             7          0\n14               Sweden             7          0\n4                France             6          0\n12               Russia             6          0\n3               England             5          0\n8           Netherlands             5          0\n15              Ukraine             5          0\n2               Denmark             4          0\n5               Germany             4          0",
      "text/html": "<div>\n<style scoped>\n    .dataframe tbody tr th:only-of-type {\n        vertical-align: middle;\n    }\n\n    .dataframe tbody tr th {\n        vertical-align: top;\n    }\n\n    .dataframe thead th {\n        text-align: right;\n    }\n</style>\n<table border=\"1\" class=\"dataframe\">\n  <thead>\n    <tr style=\"text-align: right;\">\n      <th></th>\n      <th>Team</th>\n      <th>Yellow Cards</th>\n      <th>Red Cards</th>\n    </tr>\n  </thead>\n  <tbody>\n    <tr>\n      <th>6</th>\n      <td>Greece</td>\n      <td>9</td>\n      <td>1</td>\n    </tr>\n    <tr>\n      <th>9</th>\n      <td>Poland</td>\n      <td>7</td>\n      <td>1</td>\n    </tr>\n    <tr>\n      <th>11</th>\n      <td>Republic of Ireland</td>\n      <td>6</td>\n      <td>1</td>\n    </tr>\n    <tr>\n      <th>7</th>\n      <td>Italy</td>\n      <td>16</td>\n      <td>0</td>\n    </tr>\n    <tr>\n      <th>10</th>\n      <td>Portugal</td>\n      <td>12</td>\n      <td>0</td>\n    </tr>\n    <tr>\n      <th>13</th>\n      <td>Spain</td>\n      <td>11</td>\n      <td>0</td>\n    </tr>\n    <tr>\n      <th>0</th>\n      <td>Croatia</td>\n      <td>9</td>\n      <td>0</td>\n    </tr>\n    <tr>\n      <th>1</th>\n      <td>Czech Republic</td>\n      <td>7</td>\n      <td>0</td>\n    </tr>\n    <tr>\n      <th>14</th>\n      <td>Sweden</td>\n      <td>7</td>\n      <td>0</td>\n    </tr>\n    <tr>\n      <th>4</th>\n      <td>France</td>\n      <td>6</td>\n      <td>0</td>\n    </tr>\n    <tr>\n      <th>12</th>\n      <td>Russia</td>\n      <td>6</td>\n      <td>0</td>\n    </tr>\n    <tr>\n      <th>3</th>\n      <td>England</td>\n      <td>5</td>\n      <td>0</td>\n    </tr>\n    <tr>\n      <th>8</th>\n      <td>Netherlands</td>\n      <td>5</td>\n      <td>0</td>\n    </tr>\n    <tr>\n      <th>15</th>\n      <td>Ukraine</td>\n      <td>5</td>\n      <td>0</td>\n    </tr>\n    <tr>\n      <th>2</th>\n      <td>Denmark</td>\n      <td>4</td>\n      <td>0</td>\n    </tr>\n    <tr>\n      <th>5</th>\n      <td>Germany</td>\n      <td>4</td>\n      <td>0</td>\n    </tr>\n  </tbody>\n</table>\n</div>"
     },
     "execution_count": 167,
     "metadata": {},
     "output_type": "execute_result"
    }
   ],
   "source": [
    "## 问题5：对discipline采用Red Cards以及Yellow Cards（先按Red Cards排再按Yellow Cards排）降序排序。\n",
    "\n",
    "discipline.sort_values(['Red Cards', 'Yellow Cards'], ascending=False)"
   ],
   "metadata": {
    "collapsed": false,
    "ExecuteTime": {
     "end_time": "2024-03-27T01:17:53.938842Z",
     "start_time": "2024-03-27T01:17:53.681286400Z"
    }
   },
   "id": "569c2b65d47b9d5d"
  },
  {
   "cell_type": "code",
   "execution_count": 168,
   "outputs": [
    {
     "data": {
      "text/plain": "Team\nCroatia                 9\nCzech Republic          7\nDenmark                 4\nEngland                 5\nFrance                  6\nGermany                 4\nGreece                  9\nItaly                  16\nNetherlands             5\nPoland                  7\nPortugal               12\nRepublic of Ireland     6\nRussia                  6\nSpain                  11\nSweden                  7\nUkraine                 5\nName: Yellow Cards, dtype: int32"
     },
     "execution_count": 168,
     "metadata": {},
     "output_type": "execute_result"
    }
   ],
   "source": [
    "## 问题6：计算Team的平均Yellow Cards数，四舍五入保留整数。\n",
    "\n",
    "round(df.groupby('Team')['Yellow Cards'].mean(), 0).astype('int')"
   ],
   "metadata": {
    "collapsed": false,
    "ExecuteTime": {
     "end_time": "2024-03-27T01:17:53.938842Z",
     "start_time": "2024-03-27T01:17:53.697290200Z"
    }
   },
   "id": "f754e04176c6b6eb"
  },
  {
   "cell_type": "code",
   "execution_count": 169,
   "outputs": [
    {
     "data": {
      "text/plain": "       Team  Goals  Shots on target  Shots off target Shooting Accuracy  \\\n5   Germany     10               32                32             47.8%   \n13    Spain     12               42                33             55.9%   \n\n   % Goals-to-shots  Total shots (inc. Blocked)  Hit Woodwork  Penalty goals  \\\n5             15.6%                          80             2              1   \n13            16.0%                         100             0              1   \n\n    Penalties not scored  ...  Saves made  Saves-to-shots ratio  Fouls Won  \\\n5                      0  ...          10                 62.6%         63   \n13                     0  ...          15                 93.8%        102   \n\n   Fouls Conceded  Offsides  Yellow Cards  Red Cards  Subs on  Subs off  \\\n5              49        12             4          0       15        15   \n13             83        19            11          0       17        17   \n\n    Players Used  \n5             17  \n13            18  \n\n[2 rows x 35 columns]",
      "text/html": "<div>\n<style scoped>\n    .dataframe tbody tr th:only-of-type {\n        vertical-align: middle;\n    }\n\n    .dataframe tbody tr th {\n        vertical-align: top;\n    }\n\n    .dataframe thead th {\n        text-align: right;\n    }\n</style>\n<table border=\"1\" class=\"dataframe\">\n  <thead>\n    <tr style=\"text-align: right;\">\n      <th></th>\n      <th>Team</th>\n      <th>Goals</th>\n      <th>Shots on target</th>\n      <th>Shots off target</th>\n      <th>Shooting Accuracy</th>\n      <th>% Goals-to-shots</th>\n      <th>Total shots (inc. Blocked)</th>\n      <th>Hit Woodwork</th>\n      <th>Penalty goals</th>\n      <th>Penalties not scored</th>\n      <th>...</th>\n      <th>Saves made</th>\n      <th>Saves-to-shots ratio</th>\n      <th>Fouls Won</th>\n      <th>Fouls Conceded</th>\n      <th>Offsides</th>\n      <th>Yellow Cards</th>\n      <th>Red Cards</th>\n      <th>Subs on</th>\n      <th>Subs off</th>\n      <th>Players Used</th>\n    </tr>\n  </thead>\n  <tbody>\n    <tr>\n      <th>5</th>\n      <td>Germany</td>\n      <td>10</td>\n      <td>32</td>\n      <td>32</td>\n      <td>47.8%</td>\n      <td>15.6%</td>\n      <td>80</td>\n      <td>2</td>\n      <td>1</td>\n      <td>0</td>\n      <td>...</td>\n      <td>10</td>\n      <td>62.6%</td>\n      <td>63</td>\n      <td>49</td>\n      <td>12</td>\n      <td>4</td>\n      <td>0</td>\n      <td>15</td>\n      <td>15</td>\n      <td>17</td>\n    </tr>\n    <tr>\n      <th>13</th>\n      <td>Spain</td>\n      <td>12</td>\n      <td>42</td>\n      <td>33</td>\n      <td>55.9%</td>\n      <td>16.0%</td>\n      <td>100</td>\n      <td>0</td>\n      <td>1</td>\n      <td>0</td>\n      <td>...</td>\n      <td>15</td>\n      <td>93.8%</td>\n      <td>102</td>\n      <td>83</td>\n      <td>19</td>\n      <td>11</td>\n      <td>0</td>\n      <td>17</td>\n      <td>17</td>\n      <td>18</td>\n    </tr>\n  </tbody>\n</table>\n<p>2 rows × 35 columns</p>\n</div>"
     },
     "execution_count": 169,
     "metadata": {},
     "output_type": "execute_result"
    }
   ],
   "source": [
    "## 问题7：将进球超过6（goals>6）的行找出来。\n",
    "\n",
    "df[df['Goals'] > 6]"
   ],
   "metadata": {
    "collapsed": false,
    "ExecuteTime": {
     "end_time": "2024-03-27T01:17:53.939841600Z",
     "start_time": "2024-03-27T01:17:53.718296700Z"
    }
   },
   "id": "56bd85c514a409e3"
  },
  {
   "cell_type": "code",
   "execution_count": 170,
   "outputs": [
    {
     "name": "stdout",
     "output_type": "stream",
     "text": [
      "                   Team  Goals  Shots on target  Shots off target  \\\n",
      "6                Greece      5                8                18   \n",
      "4                France      3               22                24   \n",
      "9                Poland      2               15                23   \n",
      "1        Czech Republic      4               13                18   \n",
      "12               Russia      5                9                31   \n",
      "8           Netherlands      2               12                36   \n",
      "10             Portugal      6               22                42   \n",
      "15              Ukraine      2                7                26   \n",
      "14               Sweden      5               17                19   \n",
      "11  Republic of Ireland      1                7                12   \n",
      "0               Croatia      4               13                12   \n",
      "13                Spain     12               42                33   \n",
      "\n",
      "   Shooting Accuracy % Goals-to-shots  Total shots (inc. Blocked)  \\\n",
      "6              30.7%            19.2%                          32   \n",
      "4              37.9%             6.5%                          65   \n",
      "9              39.4%             5.2%                          48   \n",
      "1              41.9%            12.9%                          39   \n",
      "12             22.5%            12.5%                          59   \n",
      "8              25.0%             4.1%                          60   \n",
      "10             34.3%             9.3%                          82   \n",
      "15             21.2%             6.0%                          38   \n",
      "14             47.2%            13.8%                          39   \n",
      "11             36.8%             5.2%                          28   \n",
      "0              51.9%            16.0%                          32   \n",
      "13             55.9%            16.0%                         100   \n",
      "\n",
      "    Hit Woodwork  Penalty goals  Penalties not scored  ...  Saves made  \\\n",
      "6              1              1                     1  ...          13   \n",
      "4              1              0                     0  ...           6   \n",
      "9              0              0                     0  ...           6   \n",
      "1              0              0                     0  ...           9   \n",
      "12             2              0                     0  ...          10   \n",
      "8              2              0                     0  ...          12   \n",
      "10             6              0                     0  ...          10   \n",
      "15             0              0                     0  ...          13   \n",
      "14             3              0                     0  ...           8   \n",
      "11             0              0                     0  ...          17   \n",
      "0              0              0                     0  ...          13   \n",
      "13             0              1                     0  ...          15   \n",
      "\n",
      "    Saves-to-shots ratio  Fouls Won Fouls Conceded  Offsides  Yellow Cards  \\\n",
      "6                  65.1%         67             48        12             9   \n",
      "4                  54.6%         36             51         5             6   \n",
      "9                  66.7%         48             56         3             7   \n",
      "1                  60.1%         53             73         8             7   \n",
      "12                 77.0%         34             43         4             6   \n",
      "8                  70.6%         35             30         3             5   \n",
      "10                 71.5%         73             90        10            12   \n",
      "15                 76.5%         48             31         4             5   \n",
      "14                 61.6%         35             51         7             7   \n",
      "11                 65.4%         43             51        11             6   \n",
      "0                  81.3%         41             62         2             9   \n",
      "13                 93.8%        102             83        19            11   \n",
      "\n",
      "    Red Cards  Subs on  Subs off  Players Used  \n",
      "6           1       12        12            20  \n",
      "4           0       11        11            19  \n",
      "9           1        7         7            17  \n",
      "1           0       11        11            19  \n",
      "12          0        7         7            16  \n",
      "8           0        7         7            15  \n",
      "10          0       14        14            16  \n",
      "15          0        9         9            18  \n",
      "14          0        9         9            18  \n",
      "11          1       10        10            17  \n",
      "0           0        9         9            16  \n",
      "13          0       17        17            18  \n",
      "\n",
      "[12 rows x 35 columns]\n"
     ]
    }
   ],
   "source": [
    "print(df.sample(12))"
   ],
   "metadata": {
    "collapsed": false,
    "ExecuteTime": {
     "end_time": "2024-03-27T01:17:53.939841600Z",
     "start_time": "2024-03-27T01:17:53.745300800Z"
    }
   },
   "id": "c02c293d5254a8a2"
  },
  {
   "cell_type": "code",
   "execution_count": 171,
   "outputs": [
    {
     "data": {
      "text/plain": "      Team  Goals  Shots on target  Shots off target Shooting Accuracy  \\\n5  Germany     10               32                32             47.8%   \n6   Greece      5                8                18             30.7%   \n\n  % Goals-to-shots  Total shots (inc. Blocked)  Hit Woodwork  Penalty goals  \\\n5            15.6%                          80             2              1   \n6            19.2%                          32             1              1   \n\n   Penalties not scored  ...  Saves made  Saves-to-shots ratio  Fouls Won  \\\n5                     0  ...          10                 62.6%         63   \n6                     1  ...          13                 65.1%         67   \n\n  Fouls Conceded  Offsides  Yellow Cards  Red Cards  Subs on  Subs off  \\\n5             49        12             4          0       15        15   \n6             48        12             9          1       12        12   \n\n   Players Used  \n5            17  \n6            20  \n\n[2 rows x 35 columns]",
      "text/html": "<div>\n<style scoped>\n    .dataframe tbody tr th:only-of-type {\n        vertical-align: middle;\n    }\n\n    .dataframe tbody tr th {\n        vertical-align: top;\n    }\n\n    .dataframe thead th {\n        text-align: right;\n    }\n</style>\n<table border=\"1\" class=\"dataframe\">\n  <thead>\n    <tr style=\"text-align: right;\">\n      <th></th>\n      <th>Team</th>\n      <th>Goals</th>\n      <th>Shots on target</th>\n      <th>Shots off target</th>\n      <th>Shooting Accuracy</th>\n      <th>% Goals-to-shots</th>\n      <th>Total shots (inc. Blocked)</th>\n      <th>Hit Woodwork</th>\n      <th>Penalty goals</th>\n      <th>Penalties not scored</th>\n      <th>...</th>\n      <th>Saves made</th>\n      <th>Saves-to-shots ratio</th>\n      <th>Fouls Won</th>\n      <th>Fouls Conceded</th>\n      <th>Offsides</th>\n      <th>Yellow Cards</th>\n      <th>Red Cards</th>\n      <th>Subs on</th>\n      <th>Subs off</th>\n      <th>Players Used</th>\n    </tr>\n  </thead>\n  <tbody>\n    <tr>\n      <th>5</th>\n      <td>Germany</td>\n      <td>10</td>\n      <td>32</td>\n      <td>32</td>\n      <td>47.8%</td>\n      <td>15.6%</td>\n      <td>80</td>\n      <td>2</td>\n      <td>1</td>\n      <td>0</td>\n      <td>...</td>\n      <td>10</td>\n      <td>62.6%</td>\n      <td>63</td>\n      <td>49</td>\n      <td>12</td>\n      <td>4</td>\n      <td>0</td>\n      <td>15</td>\n      <td>15</td>\n      <td>17</td>\n    </tr>\n    <tr>\n      <th>6</th>\n      <td>Greece</td>\n      <td>5</td>\n      <td>8</td>\n      <td>18</td>\n      <td>30.7%</td>\n      <td>19.2%</td>\n      <td>32</td>\n      <td>1</td>\n      <td>1</td>\n      <td>1</td>\n      <td>...</td>\n      <td>13</td>\n      <td>65.1%</td>\n      <td>67</td>\n      <td>48</td>\n      <td>12</td>\n      <td>9</td>\n      <td>1</td>\n      <td>12</td>\n      <td>12</td>\n      <td>20</td>\n    </tr>\n  </tbody>\n</table>\n<p>2 rows × 35 columns</p>\n</div>"
     },
     "execution_count": 171,
     "metadata": {},
     "output_type": "execute_result"
    }
   ],
   "source": [
    "## 问题8：找出G开头Team的所有行。\n",
    "\n",
    "df.loc[df['Team'].str.startswith('G'), :]"
   ],
   "metadata": {
    "collapsed": false,
    "ExecuteTime": {
     "end_time": "2024-03-27T01:17:53.939841600Z",
     "start_time": "2024-03-27T01:17:53.762305200Z"
    }
   },
   "id": "7fdc5c03f2c75434"
  },
  {
   "cell_type": "code",
   "execution_count": 172,
   "outputs": [
    {
     "data": {
      "text/plain": "                   Team  Goals  Shots on target  Shots off target  \\\n0               Croatia      4               13                12   \n1        Czech Republic      4               13                18   \n2               Denmark      4               10                10   \n3               England      5               11                18   \n4                France      3               22                24   \n5               Germany     10               32                32   \n6                Greece      5                8                18   \n7                 Italy      6               34                45   \n8           Netherlands      2               12                36   \n9                Poland      2               15                23   \n10             Portugal      6               22                42   \n11  Republic of Ireland      1                7                12   \n12               Russia      5                9                31   \n13                Spain     12               42                33   \n14               Sweden      5               17                19   \n15              Ukraine      2                7                26   \n\n   Shooting Accuracy % Goals-to-shots  Total shots (inc. Blocked)  \\\n0              51.9%            16.0%                          32   \n1              41.9%            12.9%                          39   \n2              50.0%            20.0%                          27   \n3              50.0%            17.2%                          40   \n4              37.9%             6.5%                          65   \n5              47.8%            15.6%                          80   \n6              30.7%            19.2%                          32   \n7              43.0%             7.5%                         110   \n8              25.0%             4.1%                          60   \n9              39.4%             5.2%                          48   \n10             34.3%             9.3%                          82   \n11             36.8%             5.2%                          28   \n12             22.5%            12.5%                          59   \n13             55.9%            16.0%                         100   \n14             47.2%            13.8%                          39   \n15             21.2%             6.0%                          38   \n\n    Hit Woodwork  Penalty goals  Penalties not scored  ...  Clean Sheets  \\\n0              0              0                     0  ...             0   \n1              0              0                     0  ...             1   \n2              1              0                     0  ...             1   \n3              0              0                     0  ...             2   \n4              1              0                     0  ...             1   \n5              2              1                     0  ...             1   \n6              1              1                     1  ...             1   \n7              2              0                     0  ...             2   \n8              2              0                     0  ...             0   \n9              0              0                     0  ...             0   \n10             6              0                     0  ...             2   \n11             0              0                     0  ...             0   \n12             2              0                     0  ...             0   \n13             0              1                     0  ...             5   \n14             3              0                     0  ...             1   \n15             0              0                     0  ...             0   \n\n    Blocks  Goals conceded Saves made  Saves-to-shots ratio  Fouls Won  \\\n0       10               3         13                 81.3%         41   \n1       10               6          9                 60.1%         53   \n2       10               5         10                 66.7%         25   \n3       29               3         22                 88.1%         43   \n4        7               5          6                 54.6%         36   \n5       11               6         10                 62.6%         63   \n6       23               7         13                 65.1%         67   \n7       18               7         20                 74.1%        101   \n8        9               5         12                 70.6%         35   \n9        8               3          6                 66.7%         48   \n10      11               4         10                 71.5%         73   \n11      23               9         17                 65.4%         43   \n12       8               3         10                 77.0%         34   \n13       8               1         15                 93.8%        102   \n14      12               5          8                 61.6%         35   \n15       4               4         13                 76.5%         48   \n\n    Fouls Conceded  Offsides  Yellow Cards  Red Cards  \n0               62         2             9          0  \n1               73         8             7          0  \n2               38         8             4          0  \n3               45         6             5          0  \n4               51         5             6          0  \n5               49        12             4          0  \n6               48        12             9          1  \n7               89        16            16          0  \n8               30         3             5          0  \n9               56         3             7          1  \n10              90        10            12          0  \n11              51        11             6          1  \n12              43         4             6          0  \n13              83        19            11          0  \n14              51         7             7          0  \n15              31         4             5          0  \n\n[16 rows x 32 columns]",
      "text/html": "<div>\n<style scoped>\n    .dataframe tbody tr th:only-of-type {\n        vertical-align: middle;\n    }\n\n    .dataframe tbody tr th {\n        vertical-align: top;\n    }\n\n    .dataframe thead th {\n        text-align: right;\n    }\n</style>\n<table border=\"1\" class=\"dataframe\">\n  <thead>\n    <tr style=\"text-align: right;\">\n      <th></th>\n      <th>Team</th>\n      <th>Goals</th>\n      <th>Shots on target</th>\n      <th>Shots off target</th>\n      <th>Shooting Accuracy</th>\n      <th>% Goals-to-shots</th>\n      <th>Total shots (inc. Blocked)</th>\n      <th>Hit Woodwork</th>\n      <th>Penalty goals</th>\n      <th>Penalties not scored</th>\n      <th>...</th>\n      <th>Clean Sheets</th>\n      <th>Blocks</th>\n      <th>Goals conceded</th>\n      <th>Saves made</th>\n      <th>Saves-to-shots ratio</th>\n      <th>Fouls Won</th>\n      <th>Fouls Conceded</th>\n      <th>Offsides</th>\n      <th>Yellow Cards</th>\n      <th>Red Cards</th>\n    </tr>\n  </thead>\n  <tbody>\n    <tr>\n      <th>0</th>\n      <td>Croatia</td>\n      <td>4</td>\n      <td>13</td>\n      <td>12</td>\n      <td>51.9%</td>\n      <td>16.0%</td>\n      <td>32</td>\n      <td>0</td>\n      <td>0</td>\n      <td>0</td>\n      <td>...</td>\n      <td>0</td>\n      <td>10</td>\n      <td>3</td>\n      <td>13</td>\n      <td>81.3%</td>\n      <td>41</td>\n      <td>62</td>\n      <td>2</td>\n      <td>9</td>\n      <td>0</td>\n    </tr>\n    <tr>\n      <th>1</th>\n      <td>Czech Republic</td>\n      <td>4</td>\n      <td>13</td>\n      <td>18</td>\n      <td>41.9%</td>\n      <td>12.9%</td>\n      <td>39</td>\n      <td>0</td>\n      <td>0</td>\n      <td>0</td>\n      <td>...</td>\n      <td>1</td>\n      <td>10</td>\n      <td>6</td>\n      <td>9</td>\n      <td>60.1%</td>\n      <td>53</td>\n      <td>73</td>\n      <td>8</td>\n      <td>7</td>\n      <td>0</td>\n    </tr>\n    <tr>\n      <th>2</th>\n      <td>Denmark</td>\n      <td>4</td>\n      <td>10</td>\n      <td>10</td>\n      <td>50.0%</td>\n      <td>20.0%</td>\n      <td>27</td>\n      <td>1</td>\n      <td>0</td>\n      <td>0</td>\n      <td>...</td>\n      <td>1</td>\n      <td>10</td>\n      <td>5</td>\n      <td>10</td>\n      <td>66.7%</td>\n      <td>25</td>\n      <td>38</td>\n      <td>8</td>\n      <td>4</td>\n      <td>0</td>\n    </tr>\n    <tr>\n      <th>3</th>\n      <td>England</td>\n      <td>5</td>\n      <td>11</td>\n      <td>18</td>\n      <td>50.0%</td>\n      <td>17.2%</td>\n      <td>40</td>\n      <td>0</td>\n      <td>0</td>\n      <td>0</td>\n      <td>...</td>\n      <td>2</td>\n      <td>29</td>\n      <td>3</td>\n      <td>22</td>\n      <td>88.1%</td>\n      <td>43</td>\n      <td>45</td>\n      <td>6</td>\n      <td>5</td>\n      <td>0</td>\n    </tr>\n    <tr>\n      <th>4</th>\n      <td>France</td>\n      <td>3</td>\n      <td>22</td>\n      <td>24</td>\n      <td>37.9%</td>\n      <td>6.5%</td>\n      <td>65</td>\n      <td>1</td>\n      <td>0</td>\n      <td>0</td>\n      <td>...</td>\n      <td>1</td>\n      <td>7</td>\n      <td>5</td>\n      <td>6</td>\n      <td>54.6%</td>\n      <td>36</td>\n      <td>51</td>\n      <td>5</td>\n      <td>6</td>\n      <td>0</td>\n    </tr>\n    <tr>\n      <th>5</th>\n      <td>Germany</td>\n      <td>10</td>\n      <td>32</td>\n      <td>32</td>\n      <td>47.8%</td>\n      <td>15.6%</td>\n      <td>80</td>\n      <td>2</td>\n      <td>1</td>\n      <td>0</td>\n      <td>...</td>\n      <td>1</td>\n      <td>11</td>\n      <td>6</td>\n      <td>10</td>\n      <td>62.6%</td>\n      <td>63</td>\n      <td>49</td>\n      <td>12</td>\n      <td>4</td>\n      <td>0</td>\n    </tr>\n    <tr>\n      <th>6</th>\n      <td>Greece</td>\n      <td>5</td>\n      <td>8</td>\n      <td>18</td>\n      <td>30.7%</td>\n      <td>19.2%</td>\n      <td>32</td>\n      <td>1</td>\n      <td>1</td>\n      <td>1</td>\n      <td>...</td>\n      <td>1</td>\n      <td>23</td>\n      <td>7</td>\n      <td>13</td>\n      <td>65.1%</td>\n      <td>67</td>\n      <td>48</td>\n      <td>12</td>\n      <td>9</td>\n      <td>1</td>\n    </tr>\n    <tr>\n      <th>7</th>\n      <td>Italy</td>\n      <td>6</td>\n      <td>34</td>\n      <td>45</td>\n      <td>43.0%</td>\n      <td>7.5%</td>\n      <td>110</td>\n      <td>2</td>\n      <td>0</td>\n      <td>0</td>\n      <td>...</td>\n      <td>2</td>\n      <td>18</td>\n      <td>7</td>\n      <td>20</td>\n      <td>74.1%</td>\n      <td>101</td>\n      <td>89</td>\n      <td>16</td>\n      <td>16</td>\n      <td>0</td>\n    </tr>\n    <tr>\n      <th>8</th>\n      <td>Netherlands</td>\n      <td>2</td>\n      <td>12</td>\n      <td>36</td>\n      <td>25.0%</td>\n      <td>4.1%</td>\n      <td>60</td>\n      <td>2</td>\n      <td>0</td>\n      <td>0</td>\n      <td>...</td>\n      <td>0</td>\n      <td>9</td>\n      <td>5</td>\n      <td>12</td>\n      <td>70.6%</td>\n      <td>35</td>\n      <td>30</td>\n      <td>3</td>\n      <td>5</td>\n      <td>0</td>\n    </tr>\n    <tr>\n      <th>9</th>\n      <td>Poland</td>\n      <td>2</td>\n      <td>15</td>\n      <td>23</td>\n      <td>39.4%</td>\n      <td>5.2%</td>\n      <td>48</td>\n      <td>0</td>\n      <td>0</td>\n      <td>0</td>\n      <td>...</td>\n      <td>0</td>\n      <td>8</td>\n      <td>3</td>\n      <td>6</td>\n      <td>66.7%</td>\n      <td>48</td>\n      <td>56</td>\n      <td>3</td>\n      <td>7</td>\n      <td>1</td>\n    </tr>\n    <tr>\n      <th>10</th>\n      <td>Portugal</td>\n      <td>6</td>\n      <td>22</td>\n      <td>42</td>\n      <td>34.3%</td>\n      <td>9.3%</td>\n      <td>82</td>\n      <td>6</td>\n      <td>0</td>\n      <td>0</td>\n      <td>...</td>\n      <td>2</td>\n      <td>11</td>\n      <td>4</td>\n      <td>10</td>\n      <td>71.5%</td>\n      <td>73</td>\n      <td>90</td>\n      <td>10</td>\n      <td>12</td>\n      <td>0</td>\n    </tr>\n    <tr>\n      <th>11</th>\n      <td>Republic of Ireland</td>\n      <td>1</td>\n      <td>7</td>\n      <td>12</td>\n      <td>36.8%</td>\n      <td>5.2%</td>\n      <td>28</td>\n      <td>0</td>\n      <td>0</td>\n      <td>0</td>\n      <td>...</td>\n      <td>0</td>\n      <td>23</td>\n      <td>9</td>\n      <td>17</td>\n      <td>65.4%</td>\n      <td>43</td>\n      <td>51</td>\n      <td>11</td>\n      <td>6</td>\n      <td>1</td>\n    </tr>\n    <tr>\n      <th>12</th>\n      <td>Russia</td>\n      <td>5</td>\n      <td>9</td>\n      <td>31</td>\n      <td>22.5%</td>\n      <td>12.5%</td>\n      <td>59</td>\n      <td>2</td>\n      <td>0</td>\n      <td>0</td>\n      <td>...</td>\n      <td>0</td>\n      <td>8</td>\n      <td>3</td>\n      <td>10</td>\n      <td>77.0%</td>\n      <td>34</td>\n      <td>43</td>\n      <td>4</td>\n      <td>6</td>\n      <td>0</td>\n    </tr>\n    <tr>\n      <th>13</th>\n      <td>Spain</td>\n      <td>12</td>\n      <td>42</td>\n      <td>33</td>\n      <td>55.9%</td>\n      <td>16.0%</td>\n      <td>100</td>\n      <td>0</td>\n      <td>1</td>\n      <td>0</td>\n      <td>...</td>\n      <td>5</td>\n      <td>8</td>\n      <td>1</td>\n      <td>15</td>\n      <td>93.8%</td>\n      <td>102</td>\n      <td>83</td>\n      <td>19</td>\n      <td>11</td>\n      <td>0</td>\n    </tr>\n    <tr>\n      <th>14</th>\n      <td>Sweden</td>\n      <td>5</td>\n      <td>17</td>\n      <td>19</td>\n      <td>47.2%</td>\n      <td>13.8%</td>\n      <td>39</td>\n      <td>3</td>\n      <td>0</td>\n      <td>0</td>\n      <td>...</td>\n      <td>1</td>\n      <td>12</td>\n      <td>5</td>\n      <td>8</td>\n      <td>61.6%</td>\n      <td>35</td>\n      <td>51</td>\n      <td>7</td>\n      <td>7</td>\n      <td>0</td>\n    </tr>\n    <tr>\n      <th>15</th>\n      <td>Ukraine</td>\n      <td>2</td>\n      <td>7</td>\n      <td>26</td>\n      <td>21.2%</td>\n      <td>6.0%</td>\n      <td>38</td>\n      <td>0</td>\n      <td>0</td>\n      <td>0</td>\n      <td>...</td>\n      <td>0</td>\n      <td>4</td>\n      <td>4</td>\n      <td>13</td>\n      <td>76.5%</td>\n      <td>48</td>\n      <td>31</td>\n      <td>4</td>\n      <td>5</td>\n      <td>0</td>\n    </tr>\n  </tbody>\n</table>\n<p>16 rows × 32 columns</p>\n</div>"
     },
     "execution_count": 172,
     "metadata": {},
     "output_type": "execute_result"
    }
   ],
   "source": [
    "## 问题9：选择除了最后三列以外的所有列。\n",
    "df.iloc[:, :-3]"
   ],
   "metadata": {
    "collapsed": false,
    "ExecuteTime": {
     "end_time": "2024-03-27T01:17:53.940842100Z",
     "start_time": "2024-03-27T01:17:53.777307400Z"
    }
   },
   "id": "acb3779b19490e7a"
  },
  {
   "cell_type": "code",
   "execution_count": 173,
   "outputs": [
    {
     "data": {
      "text/plain": "       Team Shooting Accuracy\n3   England             50.0%\n7     Italy             43.0%\n12   Russia             22.5%",
      "text/html": "<div>\n<style scoped>\n    .dataframe tbody tr th:only-of-type {\n        vertical-align: middle;\n    }\n\n    .dataframe tbody tr th {\n        vertical-align: top;\n    }\n\n    .dataframe thead th {\n        text-align: right;\n    }\n</style>\n<table border=\"1\" class=\"dataframe\">\n  <thead>\n    <tr style=\"text-align: right;\">\n      <th></th>\n      <th>Team</th>\n      <th>Shooting Accuracy</th>\n    </tr>\n  </thead>\n  <tbody>\n    <tr>\n      <th>3</th>\n      <td>England</td>\n      <td>50.0%</td>\n    </tr>\n    <tr>\n      <th>7</th>\n      <td>Italy</td>\n      <td>43.0%</td>\n    </tr>\n    <tr>\n      <th>12</th>\n      <td>Russia</td>\n      <td>22.5%</td>\n    </tr>\n  </tbody>\n</table>\n</div>"
     },
     "execution_count": 173,
     "metadata": {},
     "output_type": "execute_result"
    }
   ],
   "source": [
    "## 问题10：只显示England、Italy、Russia三队的Shooting Accuracy列。\n",
    "\n",
    "df.loc[df['Team'].isin(['England', 'Italy', 'Russia']), ['Team', 'Shooting Accuracy']]"
   ],
   "metadata": {
    "collapsed": false,
    "ExecuteTime": {
     "end_time": "2024-03-27T01:17:53.940842100Z",
     "start_time": "2024-03-27T01:17:53.808315300Z"
    }
   },
   "id": "2b15d459c43c67e0"
  },
  {
   "cell_type": "code",
   "execution_count": 174,
   "outputs": [
    {
     "name": "stdout",
     "output_type": "stream",
     "text": [
      "<class 'pandas.core.frame.DataFrame'>\n",
      "Index: 943 entries, 1 to 943\n",
      "Data columns (total 4 columns):\n",
      " #   Column      Non-Null Count  Dtype \n",
      "---  ------      --------------  ----- \n",
      " 0   age         943 non-null    int64 \n",
      " 1   gender      943 non-null    object\n",
      " 2   occupation  943 non-null    object\n",
      " 3   zip_code    943 non-null    object\n",
      "dtypes: int64(1), object(3)\n",
      "memory usage: 36.8+ KB\n"
     ]
    },
    {
     "data": {
      "text/plain": "None"
     },
     "metadata": {},
     "output_type": "display_data"
    },
    {
     "data": {
      "text/plain": "         age gender  occupation zip_code\nuser_id                                 \n1         24      M  technician    85711\n2         53      F       other    94043\n3         23      M      writer    32067\n4         24      M  technician    43537\n5         33      F       other    15213",
      "text/html": "<div>\n<style scoped>\n    .dataframe tbody tr th:only-of-type {\n        vertical-align: middle;\n    }\n\n    .dataframe tbody tr th {\n        vertical-align: top;\n    }\n\n    .dataframe thead th {\n        text-align: right;\n    }\n</style>\n<table border=\"1\" class=\"dataframe\">\n  <thead>\n    <tr style=\"text-align: right;\">\n      <th></th>\n      <th>age</th>\n      <th>gender</th>\n      <th>occupation</th>\n      <th>zip_code</th>\n    </tr>\n    <tr>\n      <th>user_id</th>\n      <th></th>\n      <th></th>\n      <th></th>\n      <th></th>\n    </tr>\n  </thead>\n  <tbody>\n    <tr>\n      <th>1</th>\n      <td>24</td>\n      <td>M</td>\n      <td>technician</td>\n      <td>85711</td>\n    </tr>\n    <tr>\n      <th>2</th>\n      <td>53</td>\n      <td>F</td>\n      <td>other</td>\n      <td>94043</td>\n    </tr>\n    <tr>\n      <th>3</th>\n      <td>23</td>\n      <td>M</td>\n      <td>writer</td>\n      <td>32067</td>\n    </tr>\n    <tr>\n      <th>4</th>\n      <td>24</td>\n      <td>M</td>\n      <td>technician</td>\n      <td>43537</td>\n    </tr>\n    <tr>\n      <th>5</th>\n      <td>33</td>\n      <td>F</td>\n      <td>other</td>\n      <td>15213</td>\n    </tr>\n  </tbody>\n</table>\n</div>"
     },
     "execution_count": 174,
     "metadata": {},
     "output_type": "execute_result"
    }
   ],
   "source": [
    "import pandas as pd\n",
    "\n",
    "# 加载数据\n",
    "df = pd.read_csv('assets/u.user', sep='|', index_col='user_id')  # 职业数据\n",
    "display(df.info())\n",
    "df.head()"
   ],
   "metadata": {
    "collapsed": false,
    "ExecuteTime": {
     "end_time": "2024-03-27T01:17:53.941842700Z",
     "start_time": "2024-03-27T01:17:53.825319300Z"
    }
   },
   "id": "d0e554a1cc86f39e"
  },
  {
   "cell_type": "code",
   "execution_count": 175,
   "outputs": [
    {
     "data": {
      "text/plain": "occupation\nadministrator    38.746835\nartist           31.392857\ndoctor           43.571429\neducator         42.010526\nengineer         36.388060\nentertainment    29.222222\nexecutive        38.718750\nhealthcare       41.562500\nhomemaker        32.571429\nlawyer           36.750000\nlibrarian        40.000000\nmarketing        37.615385\nnone             26.555556\nother            34.523810\nprogrammer       33.121212\nretired          63.071429\nsalesman         35.666667\nscientist        35.548387\nstudent          22.081633\ntechnician       33.148148\nwriter           36.311111\nName: age, dtype: float64"
     },
     "execution_count": 175,
     "metadata": {},
     "output_type": "execute_result"
    }
   ],
   "source": [
    "## 问题1：计算每种职业的平均年龄。\n",
    "\n",
    "df.groupby('occupation')['age'].mean()"
   ],
   "metadata": {
    "collapsed": false,
    "ExecuteTime": {
     "end_time": "2024-03-27T01:17:53.941842700Z",
     "start_time": "2024-03-27T01:17:53.854894Z"
    }
   },
   "id": "266163f8ca1b7ebc"
  },
  {
   "cell_type": "code",
   "execution_count": 176,
   "outputs": [
    {
     "data": {
      "text/plain": "occupation\ndoctor           1.000000\nengineer         0.970149\ntechnician       0.962963\nretired          0.928571\nprogrammer       0.909091\nexecutive        0.906250\nscientist        0.903226\nentertainment    0.888889\nlawyer           0.833333\nsalesman         0.750000\neducator         0.726316\nstudent          0.693878\nother            0.657143\nmarketing        0.615385\nwriter           0.577778\nnone             0.555556\nadministrator    0.544304\nartist           0.535714\nlibrarian        0.431373\nhealthcare       0.312500\nhomemaker        0.142857\ndtype: float64"
     },
     "execution_count": 176,
     "metadata": {},
     "output_type": "execute_result"
    }
   ],
   "source": [
    "## 问题2：计算每种职业的男性占比，并从大到小排序。（难，选做）\n",
    "\n",
    "((df[df['gender'] == 'M'].groupby('occupation').size()\n",
    "  / df.groupby('occupation').size()).\n",
    " sort_values(ascending=False))"
   ],
   "metadata": {
    "collapsed": false,
    "ExecuteTime": {
     "end_time": "2024-03-27T01:17:53.941842700Z",
     "start_time": "2024-03-27T01:17:53.887142300Z"
    }
   },
   "id": "4886405f3f04e6fb"
  },
  {
   "cell_type": "code",
   "execution_count": 177,
   "outputs": [
    {
     "data": {
      "text/plain": "               min  max\noccupation             \nadministrator   21   70\nartist          19   48\ndoctor          28   64\neducator        23   63\nengineer        22   70\nentertainment   15   50\nexecutive       22   69\nhealthcare      22   62\nhomemaker       20   50\nlawyer          21   53\nlibrarian       23   69\nmarketing       24   55\nnone            11   55\nother           13   64\nprogrammer      20   63\nretired         51   73\nsalesman        18   66\nscientist       23   55\nstudent          7   42\ntechnician      21   55\nwriter          18   60",
      "text/html": "<div>\n<style scoped>\n    .dataframe tbody tr th:only-of-type {\n        vertical-align: middle;\n    }\n\n    .dataframe tbody tr th {\n        vertical-align: top;\n    }\n\n    .dataframe thead th {\n        text-align: right;\n    }\n</style>\n<table border=\"1\" class=\"dataframe\">\n  <thead>\n    <tr style=\"text-align: right;\">\n      <th></th>\n      <th>min</th>\n      <th>max</th>\n    </tr>\n    <tr>\n      <th>occupation</th>\n      <th></th>\n      <th></th>\n    </tr>\n  </thead>\n  <tbody>\n    <tr>\n      <th>administrator</th>\n      <td>21</td>\n      <td>70</td>\n    </tr>\n    <tr>\n      <th>artist</th>\n      <td>19</td>\n      <td>48</td>\n    </tr>\n    <tr>\n      <th>doctor</th>\n      <td>28</td>\n      <td>64</td>\n    </tr>\n    <tr>\n      <th>educator</th>\n      <td>23</td>\n      <td>63</td>\n    </tr>\n    <tr>\n      <th>engineer</th>\n      <td>22</td>\n      <td>70</td>\n    </tr>\n    <tr>\n      <th>entertainment</th>\n      <td>15</td>\n      <td>50</td>\n    </tr>\n    <tr>\n      <th>executive</th>\n      <td>22</td>\n      <td>69</td>\n    </tr>\n    <tr>\n      <th>healthcare</th>\n      <td>22</td>\n      <td>62</td>\n    </tr>\n    <tr>\n      <th>homemaker</th>\n      <td>20</td>\n      <td>50</td>\n    </tr>\n    <tr>\n      <th>lawyer</th>\n      <td>21</td>\n      <td>53</td>\n    </tr>\n    <tr>\n      <th>librarian</th>\n      <td>23</td>\n      <td>69</td>\n    </tr>\n    <tr>\n      <th>marketing</th>\n      <td>24</td>\n      <td>55</td>\n    </tr>\n    <tr>\n      <th>none</th>\n      <td>11</td>\n      <td>55</td>\n    </tr>\n    <tr>\n      <th>other</th>\n      <td>13</td>\n      <td>64</td>\n    </tr>\n    <tr>\n      <th>programmer</th>\n      <td>20</td>\n      <td>63</td>\n    </tr>\n    <tr>\n      <th>retired</th>\n      <td>51</td>\n      <td>73</td>\n    </tr>\n    <tr>\n      <th>salesman</th>\n      <td>18</td>\n      <td>66</td>\n    </tr>\n    <tr>\n      <th>scientist</th>\n      <td>23</td>\n      <td>55</td>\n    </tr>\n    <tr>\n      <th>student</th>\n      <td>7</td>\n      <td>42</td>\n    </tr>\n    <tr>\n      <th>technician</th>\n      <td>21</td>\n      <td>55</td>\n    </tr>\n    <tr>\n      <th>writer</th>\n      <td>18</td>\n      <td>60</td>\n    </tr>\n  </tbody>\n</table>\n</div>"
     },
     "execution_count": 177,
     "metadata": {},
     "output_type": "execute_result"
    }
   ],
   "source": [
    "## 问题3： 对于每种职业，计算最小和最大年龄。\n",
    "df.groupby('occupation')['age'].agg(['min','max'])\n"
   ],
   "metadata": {
    "collapsed": false,
    "ExecuteTime": {
     "end_time": "2024-03-27T01:17:53.958845400Z",
     "start_time": "2024-03-27T01:17:53.888215Z"
    }
   },
   "id": "a493c496ae1333df"
  },
  {
   "cell_type": "code",
   "execution_count": 178,
   "outputs": [
    {
     "data": {
      "text/plain": "occupation     gender\nadministrator  F         40.638889\n               M         37.162791\nartist         F         30.307692\n               M         32.333333\ndoctor         M         43.571429\neducator       F         39.115385\n               M         43.101449\nengineer       F         29.500000\n               M         36.600000\nentertainment  F         31.000000\n               M         29.000000\nexecutive      F         44.000000\n               M         38.172414\nhealthcare     F         39.818182\n               M         45.400000\nhomemaker      F         34.166667\n               M         23.000000\nlawyer         F         39.500000\n               M         36.200000\nlibrarian      F         40.000000\n               M         40.000000\nmarketing      F         37.200000\n               M         37.875000\nnone           F         36.500000\n               M         18.600000\nother          F         35.472222\n               M         34.028986\nprogrammer     F         32.166667\n               M         33.216667\nretired        F         70.000000\n               M         62.538462\nsalesman       F         27.000000\n               M         38.555556\nscientist      F         28.333333\n               M         36.321429\nstudent        F         20.750000\n               M         22.669118\ntechnician     F         38.000000\n               M         32.961538\nwriter         F         37.631579\n               M         35.346154\nName: age, dtype: float64"
     },
     "execution_count": 178,
     "metadata": {},
     "output_type": "execute_result"
    }
   ],
   "source": [
    "## 问题4：按职业、性别分组，计算平均年龄。\n",
    "\n",
    "df.groupby(['occupation','gender'])['age'].mean()"
   ],
   "metadata": {
    "collapsed": false,
    "ExecuteTime": {
     "end_time": "2024-03-27T01:17:53.958845400Z",
     "start_time": "2024-03-27T01:17:53.901832700Z"
    }
   },
   "id": "c98492c881e2edfa"
  },
  {
   "cell_type": "code",
   "execution_count": 179,
   "outputs": [
    {
     "data": {
      "text/plain": "occupation     gender\ndoctor         M         1.000000\nengineer       M         0.970149\ntechnician     M         0.962963\nretired        M         0.928571\nprogrammer     M         0.909091\nexecutive      M         0.906250\nscientist      M         0.903226\nentertainment  M         0.888889\nhomemaker      F         0.857143\nlawyer         M         0.833333\nsalesman       M         0.750000\neducator       M         0.726316\nstudent        M         0.693878\nhealthcare     F         0.687500\nother          M         0.657143\nmarketing      M         0.615385\nwriter         M         0.577778\nlibrarian      F         0.568627\nnone           M         0.555556\nadministrator  M         0.544304\nartist         M         0.535714\n               F         0.464286\nadministrator  F         0.455696\nnone           F         0.444444\nlibrarian      M         0.431373\nwriter         F         0.422222\nmarketing      F         0.384615\nother          F         0.342857\nhealthcare     M         0.312500\nstudent        F         0.306122\neducator       F         0.273684\nsalesman       F         0.250000\nlawyer         F         0.166667\nhomemaker      M         0.142857\nentertainment  F         0.111111\nscientist      F         0.096774\nexecutive      F         0.093750\nprogrammer     F         0.090909\nretired        F         0.071429\ntechnician     F         0.037037\nengineer       F         0.029851\ndtype: float64"
     },
     "execution_count": 179,
     "metadata": {},
     "output_type": "execute_result"
    }
   ],
   "source": [
    "## 问题5：对于每种职业，显示男女性别占比。（难，选做）\n",
    "\n",
    "((df.groupby(['occupation','gender']).size()\n",
    "  / df.groupby('occupation').size()).\n",
    " sort_values(ascending=False))"
   ],
   "metadata": {
    "collapsed": false,
    "ExecuteTime": {
     "end_time": "2024-03-27T01:17:53.958845400Z",
     "start_time": "2024-03-27T01:17:53.919836900Z"
    }
   },
   "id": "e7700995806eb643"
  },
  {
   "cell_type": "code",
   "execution_count": 180,
   "outputs": [
    {
     "name": "stdout",
     "output_type": "stream",
     "text": [
      "gender            F      M\n",
      "occupation                \n",
      "administrator  36.0   43.0\n",
      "artist         13.0   15.0\n",
      "doctor          0.0    7.0\n",
      "educator       26.0   69.0\n",
      "engineer        2.0   65.0\n",
      "entertainment   2.0   16.0\n",
      "executive       3.0   29.0\n",
      "healthcare     11.0    5.0\n",
      "homemaker       6.0    1.0\n",
      "lawyer          2.0   10.0\n",
      "librarian      29.0   22.0\n",
      "marketing      10.0   16.0\n",
      "none            4.0    5.0\n",
      "other          36.0   69.0\n",
      "programmer      6.0   60.0\n",
      "retired         1.0   13.0\n",
      "salesman        3.0    9.0\n",
      "scientist       3.0   28.0\n",
      "student        60.0  136.0\n",
      "technician      1.0   26.0\n",
      "writer         19.0   26.0\n"
     ]
    },
    {
     "data": {
      "text/plain": "gender                F         M\noccupation                       \nadministrator  0.455696  0.544304\nartist         0.464286  0.535714\ndoctor         0.000000  1.000000\neducator       0.273684  0.726316\nengineer       0.029851  0.970149\nentertainment  0.111111  0.888889\nexecutive      0.093750  0.906250\nhealthcare     0.687500  0.312500\nhomemaker      0.857143  0.142857\nlawyer         0.166667  0.833333\nlibrarian      0.568627  0.431373\nmarketing      0.384615  0.615385\nnone           0.444444  0.555556\nother          0.342857  0.657143\nprogrammer     0.090909  0.909091\nretired        0.071429  0.928571\nsalesman       0.250000  0.750000\nscientist      0.096774  0.903226\nstudent        0.306122  0.693878\ntechnician     0.037037  0.962963\nwriter         0.422222  0.577778",
      "text/html": "<div>\n<style scoped>\n    .dataframe tbody tr th:only-of-type {\n        vertical-align: middle;\n    }\n\n    .dataframe tbody tr th {\n        vertical-align: top;\n    }\n\n    .dataframe thead th {\n        text-align: right;\n    }\n</style>\n<table border=\"1\" class=\"dataframe\">\n  <thead>\n    <tr style=\"text-align: right;\">\n      <th>gender</th>\n      <th>F</th>\n      <th>M</th>\n    </tr>\n    <tr>\n      <th>occupation</th>\n      <th></th>\n      <th></th>\n    </tr>\n  </thead>\n  <tbody>\n    <tr>\n      <th>administrator</th>\n      <td>0.455696</td>\n      <td>0.544304</td>\n    </tr>\n    <tr>\n      <th>artist</th>\n      <td>0.464286</td>\n      <td>0.535714</td>\n    </tr>\n    <tr>\n      <th>doctor</th>\n      <td>0.000000</td>\n      <td>1.000000</td>\n    </tr>\n    <tr>\n      <th>educator</th>\n      <td>0.273684</td>\n      <td>0.726316</td>\n    </tr>\n    <tr>\n      <th>engineer</th>\n      <td>0.029851</td>\n      <td>0.970149</td>\n    </tr>\n    <tr>\n      <th>entertainment</th>\n      <td>0.111111</td>\n      <td>0.888889</td>\n    </tr>\n    <tr>\n      <th>executive</th>\n      <td>0.093750</td>\n      <td>0.906250</td>\n    </tr>\n    <tr>\n      <th>healthcare</th>\n      <td>0.687500</td>\n      <td>0.312500</td>\n    </tr>\n    <tr>\n      <th>homemaker</th>\n      <td>0.857143</td>\n      <td>0.142857</td>\n    </tr>\n    <tr>\n      <th>lawyer</th>\n      <td>0.166667</td>\n      <td>0.833333</td>\n    </tr>\n    <tr>\n      <th>librarian</th>\n      <td>0.568627</td>\n      <td>0.431373</td>\n    </tr>\n    <tr>\n      <th>marketing</th>\n      <td>0.384615</td>\n      <td>0.615385</td>\n    </tr>\n    <tr>\n      <th>none</th>\n      <td>0.444444</td>\n      <td>0.555556</td>\n    </tr>\n    <tr>\n      <th>other</th>\n      <td>0.342857</td>\n      <td>0.657143</td>\n    </tr>\n    <tr>\n      <th>programmer</th>\n      <td>0.090909</td>\n      <td>0.909091</td>\n    </tr>\n    <tr>\n      <th>retired</th>\n      <td>0.071429</td>\n      <td>0.928571</td>\n    </tr>\n    <tr>\n      <th>salesman</th>\n      <td>0.250000</td>\n      <td>0.750000</td>\n    </tr>\n    <tr>\n      <th>scientist</th>\n      <td>0.096774</td>\n      <td>0.903226</td>\n    </tr>\n    <tr>\n      <th>student</th>\n      <td>0.306122</td>\n      <td>0.693878</td>\n    </tr>\n    <tr>\n      <th>technician</th>\n      <td>0.037037</td>\n      <td>0.962963</td>\n    </tr>\n    <tr>\n      <th>writer</th>\n      <td>0.422222</td>\n      <td>0.577778</td>\n    </tr>\n  </tbody>\n</table>\n</div>"
     },
     "execution_count": 180,
     "metadata": {},
     "output_type": "execute_result"
    }
   ],
   "source": [
    "# 计算每种职业男性和女性的人数\n",
    "gender_counts = df.groupby(['occupation', 'gender']).size().unstack().fillna(0)\n",
    "print(gender_counts)\n",
    "# 计算每种职业的总人数\n",
    "total_counts = gender_counts.sum(axis=1)\n",
    "\n",
    "# 计算男女性别比例\n",
    "gender_ratio = gender_counts.div(total_counts, axis=0)\n",
    "\n",
    "gender_ratio"
   ],
   "metadata": {
    "collapsed": false,
    "ExecuteTime": {
     "end_time": "2024-03-27T01:17:54.227726900Z",
     "start_time": "2024-03-27T01:17:53.933840Z"
    }
   },
   "id": "77370f2278a8c065"
  },
  {
   "cell_type": "code",
   "execution_count": 181,
   "outputs": [
    {
     "name": "stdout",
     "output_type": "stream",
     "text": [
      "<class 'pandas.core.frame.DataFrame'>\n",
      "RangeIndex: 395 entries, 0 to 394\n",
      "Data columns (total 33 columns):\n",
      " #   Column      Non-Null Count  Dtype \n",
      "---  ------      --------------  ----- \n",
      " 0   school      395 non-null    object\n",
      " 1   sex         395 non-null    object\n",
      " 2   age         395 non-null    int64 \n",
      " 3   address     395 non-null    object\n",
      " 4   famsize     395 non-null    object\n",
      " 5   Pstatus     395 non-null    object\n",
      " 6   Medu        395 non-null    int64 \n",
      " 7   Fedu        395 non-null    int64 \n",
      " 8   Mjob        395 non-null    object\n",
      " 9   Fjob        395 non-null    object\n",
      " 10  reason      395 non-null    object\n",
      " 11  guardian    395 non-null    object\n",
      " 12  traveltime  395 non-null    int64 \n",
      " 13  studytime   395 non-null    int64 \n",
      " 14  failures    395 non-null    int64 \n",
      " 15  schoolsup   395 non-null    object\n",
      " 16  famsup      395 non-null    object\n",
      " 17  paid        395 non-null    object\n",
      " 18  activities  395 non-null    object\n",
      " 19  nursery     395 non-null    object\n",
      " 20  higher      395 non-null    object\n",
      " 21  internet    395 non-null    object\n",
      " 22  romantic    395 non-null    object\n",
      " 23  famrel      395 non-null    int64 \n",
      " 24  freetime    395 non-null    int64 \n",
      " 25  goout       395 non-null    int64 \n",
      " 26  Dalc        395 non-null    int64 \n",
      " 27  Walc        395 non-null    int64 \n",
      " 28  health      395 non-null    int64 \n",
      " 29  absences    395 non-null    int64 \n",
      " 30  G1          395 non-null    int64 \n",
      " 31  G2          395 non-null    int64 \n",
      " 32  G3          395 non-null    int64 \n",
      "dtypes: int64(16), object(17)\n",
      "memory usage: 102.0+ KB\n"
     ]
    },
    {
     "data": {
      "text/plain": "None"
     },
     "metadata": {},
     "output_type": "display_data"
    },
    {
     "data": {
      "text/plain": "  school sex  age address famsize Pstatus  Medu  Fedu     Mjob      Fjob  ...  \\\n0     GP   F   18       U     GT3       A     4     4  at_home   teacher  ...   \n1     GP   F   17       U     GT3       T     1     1  at_home     other  ...   \n2     GP   F   15       U     LE3       T     1     1  at_home     other  ...   \n3     GP   F   15       U     GT3       T     4     2   health  services  ...   \n4     GP   F   16       U     GT3       T     3     3    other     other  ...   \n\n  famrel freetime  goout  Dalc  Walc health absences  G1  G2  G3  \n0      4        3      4     1     1      3        6   5   6   6  \n1      5        3      3     1     1      3        4   5   5   6  \n2      4        3      2     2     3      3       10   7   8  10  \n3      3        2      2     1     1      5        2  15  14  15  \n4      4        3      2     1     2      5        4   6  10  10  \n\n[5 rows x 33 columns]",
      "text/html": "<div>\n<style scoped>\n    .dataframe tbody tr th:only-of-type {\n        vertical-align: middle;\n    }\n\n    .dataframe tbody tr th {\n        vertical-align: top;\n    }\n\n    .dataframe thead th {\n        text-align: right;\n    }\n</style>\n<table border=\"1\" class=\"dataframe\">\n  <thead>\n    <tr style=\"text-align: right;\">\n      <th></th>\n      <th>school</th>\n      <th>sex</th>\n      <th>age</th>\n      <th>address</th>\n      <th>famsize</th>\n      <th>Pstatus</th>\n      <th>Medu</th>\n      <th>Fedu</th>\n      <th>Mjob</th>\n      <th>Fjob</th>\n      <th>...</th>\n      <th>famrel</th>\n      <th>freetime</th>\n      <th>goout</th>\n      <th>Dalc</th>\n      <th>Walc</th>\n      <th>health</th>\n      <th>absences</th>\n      <th>G1</th>\n      <th>G2</th>\n      <th>G3</th>\n    </tr>\n  </thead>\n  <tbody>\n    <tr>\n      <th>0</th>\n      <td>GP</td>\n      <td>F</td>\n      <td>18</td>\n      <td>U</td>\n      <td>GT3</td>\n      <td>A</td>\n      <td>4</td>\n      <td>4</td>\n      <td>at_home</td>\n      <td>teacher</td>\n      <td>...</td>\n      <td>4</td>\n      <td>3</td>\n      <td>4</td>\n      <td>1</td>\n      <td>1</td>\n      <td>3</td>\n      <td>6</td>\n      <td>5</td>\n      <td>6</td>\n      <td>6</td>\n    </tr>\n    <tr>\n      <th>1</th>\n      <td>GP</td>\n      <td>F</td>\n      <td>17</td>\n      <td>U</td>\n      <td>GT3</td>\n      <td>T</td>\n      <td>1</td>\n      <td>1</td>\n      <td>at_home</td>\n      <td>other</td>\n      <td>...</td>\n      <td>5</td>\n      <td>3</td>\n      <td>3</td>\n      <td>1</td>\n      <td>1</td>\n      <td>3</td>\n      <td>4</td>\n      <td>5</td>\n      <td>5</td>\n      <td>6</td>\n    </tr>\n    <tr>\n      <th>2</th>\n      <td>GP</td>\n      <td>F</td>\n      <td>15</td>\n      <td>U</td>\n      <td>LE3</td>\n      <td>T</td>\n      <td>1</td>\n      <td>1</td>\n      <td>at_home</td>\n      <td>other</td>\n      <td>...</td>\n      <td>4</td>\n      <td>3</td>\n      <td>2</td>\n      <td>2</td>\n      <td>3</td>\n      <td>3</td>\n      <td>10</td>\n      <td>7</td>\n      <td>8</td>\n      <td>10</td>\n    </tr>\n    <tr>\n      <th>3</th>\n      <td>GP</td>\n      <td>F</td>\n      <td>15</td>\n      <td>U</td>\n      <td>GT3</td>\n      <td>T</td>\n      <td>4</td>\n      <td>2</td>\n      <td>health</td>\n      <td>services</td>\n      <td>...</td>\n      <td>3</td>\n      <td>2</td>\n      <td>2</td>\n      <td>1</td>\n      <td>1</td>\n      <td>5</td>\n      <td>2</td>\n      <td>15</td>\n      <td>14</td>\n      <td>15</td>\n    </tr>\n    <tr>\n      <th>4</th>\n      <td>GP</td>\n      <td>F</td>\n      <td>16</td>\n      <td>U</td>\n      <td>GT3</td>\n      <td>T</td>\n      <td>3</td>\n      <td>3</td>\n      <td>other</td>\n      <td>other</td>\n      <td>...</td>\n      <td>4</td>\n      <td>3</td>\n      <td>2</td>\n      <td>1</td>\n      <td>2</td>\n      <td>5</td>\n      <td>4</td>\n      <td>6</td>\n      <td>10</td>\n      <td>10</td>\n    </tr>\n  </tbody>\n</table>\n<p>5 rows × 33 columns</p>\n</div>"
     },
     "execution_count": 181,
     "metadata": {},
     "output_type": "execute_result"
    }
   ],
   "source": [
    "import pandas as pd\n",
    "import numpy\n",
    "\n",
    "# 准备数据\n",
    "df = pd.read_csv('assets/student-mat.csv') #美国学生饮酒消费数据 \n",
    "display(df.info())\n",
    "df.head()"
   ],
   "metadata": {
    "collapsed": false,
    "ExecuteTime": {
     "end_time": "2024-03-27T01:17:54.256839600Z",
     "start_time": "2024-03-27T01:17:53.966849100Z"
    }
   },
   "id": "170b60252476966d"
  },
  {
   "cell_type": "code",
   "execution_count": 182,
   "outputs": [
    {
     "data": {
      "text/plain": "    school sex  age address famsize Pstatus  Medu  Fedu      Mjob      Fjob  \\\n0       GP   F   18       U     GT3       A     4     4   at_home   teacher   \n1       GP   F   17       U     GT3       T     1     1   at_home     other   \n2       GP   F   15       U     LE3       T     1     1   at_home     other   \n3       GP   F   15       U     GT3       T     4     2    health  services   \n4       GP   F   16       U     GT3       T     3     3     other     other   \n..     ...  ..  ...     ...     ...     ...   ...   ...       ...       ...   \n390     MS   M   20       U     LE3       A     2     2  services  services   \n391     MS   M   17       U     LE3       T     3     1  services  services   \n392     MS   M   21       R     GT3       T     1     1     other     other   \n393     MS   M   18       R     LE3       T     3     2  services     other   \n394     MS   M   19       U     LE3       T     1     1     other   at_home   \n\n     reason guardian  \n0    course   mother  \n1    course   father  \n2     other   mother  \n3      home   mother  \n4      home   father  \n..      ...      ...  \n390  course    other  \n391  course   mother  \n392  course    other  \n393  course   mother  \n394  course   father  \n\n[395 rows x 12 columns]",
      "text/html": "<div>\n<style scoped>\n    .dataframe tbody tr th:only-of-type {\n        vertical-align: middle;\n    }\n\n    .dataframe tbody tr th {\n        vertical-align: top;\n    }\n\n    .dataframe thead th {\n        text-align: right;\n    }\n</style>\n<table border=\"1\" class=\"dataframe\">\n  <thead>\n    <tr style=\"text-align: right;\">\n      <th></th>\n      <th>school</th>\n      <th>sex</th>\n      <th>age</th>\n      <th>address</th>\n      <th>famsize</th>\n      <th>Pstatus</th>\n      <th>Medu</th>\n      <th>Fedu</th>\n      <th>Mjob</th>\n      <th>Fjob</th>\n      <th>reason</th>\n      <th>guardian</th>\n    </tr>\n  </thead>\n  <tbody>\n    <tr>\n      <th>0</th>\n      <td>GP</td>\n      <td>F</td>\n      <td>18</td>\n      <td>U</td>\n      <td>GT3</td>\n      <td>A</td>\n      <td>4</td>\n      <td>4</td>\n      <td>at_home</td>\n      <td>teacher</td>\n      <td>course</td>\n      <td>mother</td>\n    </tr>\n    <tr>\n      <th>1</th>\n      <td>GP</td>\n      <td>F</td>\n      <td>17</td>\n      <td>U</td>\n      <td>GT3</td>\n      <td>T</td>\n      <td>1</td>\n      <td>1</td>\n      <td>at_home</td>\n      <td>other</td>\n      <td>course</td>\n      <td>father</td>\n    </tr>\n    <tr>\n      <th>2</th>\n      <td>GP</td>\n      <td>F</td>\n      <td>15</td>\n      <td>U</td>\n      <td>LE3</td>\n      <td>T</td>\n      <td>1</td>\n      <td>1</td>\n      <td>at_home</td>\n      <td>other</td>\n      <td>other</td>\n      <td>mother</td>\n    </tr>\n    <tr>\n      <th>3</th>\n      <td>GP</td>\n      <td>F</td>\n      <td>15</td>\n      <td>U</td>\n      <td>GT3</td>\n      <td>T</td>\n      <td>4</td>\n      <td>2</td>\n      <td>health</td>\n      <td>services</td>\n      <td>home</td>\n      <td>mother</td>\n    </tr>\n    <tr>\n      <th>4</th>\n      <td>GP</td>\n      <td>F</td>\n      <td>16</td>\n      <td>U</td>\n      <td>GT3</td>\n      <td>T</td>\n      <td>3</td>\n      <td>3</td>\n      <td>other</td>\n      <td>other</td>\n      <td>home</td>\n      <td>father</td>\n    </tr>\n    <tr>\n      <th>...</th>\n      <td>...</td>\n      <td>...</td>\n      <td>...</td>\n      <td>...</td>\n      <td>...</td>\n      <td>...</td>\n      <td>...</td>\n      <td>...</td>\n      <td>...</td>\n      <td>...</td>\n      <td>...</td>\n      <td>...</td>\n    </tr>\n    <tr>\n      <th>390</th>\n      <td>MS</td>\n      <td>M</td>\n      <td>20</td>\n      <td>U</td>\n      <td>LE3</td>\n      <td>A</td>\n      <td>2</td>\n      <td>2</td>\n      <td>services</td>\n      <td>services</td>\n      <td>course</td>\n      <td>other</td>\n    </tr>\n    <tr>\n      <th>391</th>\n      <td>MS</td>\n      <td>M</td>\n      <td>17</td>\n      <td>U</td>\n      <td>LE3</td>\n      <td>T</td>\n      <td>3</td>\n      <td>1</td>\n      <td>services</td>\n      <td>services</td>\n      <td>course</td>\n      <td>mother</td>\n    </tr>\n    <tr>\n      <th>392</th>\n      <td>MS</td>\n      <td>M</td>\n      <td>21</td>\n      <td>R</td>\n      <td>GT3</td>\n      <td>T</td>\n      <td>1</td>\n      <td>1</td>\n      <td>other</td>\n      <td>other</td>\n      <td>course</td>\n      <td>other</td>\n    </tr>\n    <tr>\n      <th>393</th>\n      <td>MS</td>\n      <td>M</td>\n      <td>18</td>\n      <td>R</td>\n      <td>LE3</td>\n      <td>T</td>\n      <td>3</td>\n      <td>2</td>\n      <td>services</td>\n      <td>other</td>\n      <td>course</td>\n      <td>mother</td>\n    </tr>\n    <tr>\n      <th>394</th>\n      <td>MS</td>\n      <td>M</td>\n      <td>19</td>\n      <td>U</td>\n      <td>LE3</td>\n      <td>T</td>\n      <td>1</td>\n      <td>1</td>\n      <td>other</td>\n      <td>at_home</td>\n      <td>course</td>\n      <td>father</td>\n    </tr>\n  </tbody>\n</table>\n<p>395 rows × 12 columns</p>\n</div>"
     },
     "execution_count": 182,
     "metadata": {},
     "output_type": "execute_result"
    }
   ],
   "source": [
    "## 问题1：切片列school到列guardian。\n",
    "\n",
    "df.loc[:,'school':'guardian']"
   ],
   "metadata": {
    "collapsed": false,
    "ExecuteTime": {
     "end_time": "2024-03-27T01:17:54.257839800Z",
     "start_time": "2024-03-27T01:17:53.998854700Z"
    }
   },
   "id": "62f8411d85baedd"
  },
  {
   "cell_type": "code",
   "execution_count": 183,
   "outputs": [
    {
     "data": {
      "text/plain": "0       Teacher\n1         Other\n2         Other\n3      Services\n4         Other\n         ...   \n390    Services\n391    Services\n392       Other\n393       Other\n394     At_home\nName: Fjob, Length: 395, dtype: object"
     },
     "execution_count": 183,
     "metadata": {},
     "output_type": "execute_result"
    }
   ],
   "source": [
    "## 问题2：创建lambda函数用于将字符串首字母大写，并应用到Mjob和Fjob列数据。\n",
    "\n",
    "df['Mjob'].apply(lambda x:str(x).capitalize())\n",
    "df['Fjob'].apply(lambda x:str(x).capitalize())"
   ],
   "metadata": {
    "collapsed": false,
    "ExecuteTime": {
     "end_time": "2024-03-27T01:17:54.257839800Z",
     "start_time": "2024-03-27T01:17:54.029990400Z"
    }
   },
   "id": "c93403bd57a00c6"
  },
  {
   "cell_type": "code",
   "execution_count": 184,
   "outputs": [
    {
     "data": {
      "text/plain": "    school sex  age address famsize Pstatus  Medu  Fedu      Mjob      Fjob  \\\n0       GP   F   18       U     GT3       A     4     4   at_home   teacher   \n1       GP   F   17       U     GT3       T     1     1   at_home     other   \n2       GP   F   15       U     LE3       T     1     1   at_home     other   \n3       GP   F   15       U     GT3       T     4     2    health  services   \n4       GP   F   16       U     GT3       T     3     3     other     other   \n..     ...  ..  ...     ...     ...     ...   ...   ...       ...       ...   \n390     MS   M   20       U     LE3       A     2     2  services  services   \n391     MS   M   17       U     LE3       T     3     1  services  services   \n392     MS   M   21       R     GT3       T     1     1     other     other   \n393     MS   M   18       R     LE3       T     3     2  services     other   \n394     MS   M   19       U     LE3       T     1     1     other   at_home   \n\n     ... freetime goout  Dalc  Walc  health absences  G1  G2  G3 legal_drinker  \n0    ...        3     4     1     1       3        6   5   6   6          True  \n1    ...        3     3     1     1       3        4   5   5   6          True  \n2    ...        3     2     2     3       3       10   7   8  10         False  \n3    ...        2     2     1     1       5        2  15  14  15         False  \n4    ...        3     2     1     2       5        4   6  10  10         False  \n..   ...      ...   ...   ...   ...     ...      ...  ..  ..  ..           ...  \n390  ...        5     4     4     5       4       11   9   9   9          True  \n391  ...        4     5     3     4       2        3  14  16  16          True  \n392  ...        5     3     3     3       3        3  10   8   7          True  \n393  ...        4     1     3     4       5        0  11  12  10          True  \n394  ...        2     3     3     3       5        5   8   9   9          True  \n\n[395 rows x 34 columns]",
      "text/html": "<div>\n<style scoped>\n    .dataframe tbody tr th:only-of-type {\n        vertical-align: middle;\n    }\n\n    .dataframe tbody tr th {\n        vertical-align: top;\n    }\n\n    .dataframe thead th {\n        text-align: right;\n    }\n</style>\n<table border=\"1\" class=\"dataframe\">\n  <thead>\n    <tr style=\"text-align: right;\">\n      <th></th>\n      <th>school</th>\n      <th>sex</th>\n      <th>age</th>\n      <th>address</th>\n      <th>famsize</th>\n      <th>Pstatus</th>\n      <th>Medu</th>\n      <th>Fedu</th>\n      <th>Mjob</th>\n      <th>Fjob</th>\n      <th>...</th>\n      <th>freetime</th>\n      <th>goout</th>\n      <th>Dalc</th>\n      <th>Walc</th>\n      <th>health</th>\n      <th>absences</th>\n      <th>G1</th>\n      <th>G2</th>\n      <th>G3</th>\n      <th>legal_drinker</th>\n    </tr>\n  </thead>\n  <tbody>\n    <tr>\n      <th>0</th>\n      <td>GP</td>\n      <td>F</td>\n      <td>18</td>\n      <td>U</td>\n      <td>GT3</td>\n      <td>A</td>\n      <td>4</td>\n      <td>4</td>\n      <td>at_home</td>\n      <td>teacher</td>\n      <td>...</td>\n      <td>3</td>\n      <td>4</td>\n      <td>1</td>\n      <td>1</td>\n      <td>3</td>\n      <td>6</td>\n      <td>5</td>\n      <td>6</td>\n      <td>6</td>\n      <td>True</td>\n    </tr>\n    <tr>\n      <th>1</th>\n      <td>GP</td>\n      <td>F</td>\n      <td>17</td>\n      <td>U</td>\n      <td>GT3</td>\n      <td>T</td>\n      <td>1</td>\n      <td>1</td>\n      <td>at_home</td>\n      <td>other</td>\n      <td>...</td>\n      <td>3</td>\n      <td>3</td>\n      <td>1</td>\n      <td>1</td>\n      <td>3</td>\n      <td>4</td>\n      <td>5</td>\n      <td>5</td>\n      <td>6</td>\n      <td>True</td>\n    </tr>\n    <tr>\n      <th>2</th>\n      <td>GP</td>\n      <td>F</td>\n      <td>15</td>\n      <td>U</td>\n      <td>LE3</td>\n      <td>T</td>\n      <td>1</td>\n      <td>1</td>\n      <td>at_home</td>\n      <td>other</td>\n      <td>...</td>\n      <td>3</td>\n      <td>2</td>\n      <td>2</td>\n      <td>3</td>\n      <td>3</td>\n      <td>10</td>\n      <td>7</td>\n      <td>8</td>\n      <td>10</td>\n      <td>False</td>\n    </tr>\n    <tr>\n      <th>3</th>\n      <td>GP</td>\n      <td>F</td>\n      <td>15</td>\n      <td>U</td>\n      <td>GT3</td>\n      <td>T</td>\n      <td>4</td>\n      <td>2</td>\n      <td>health</td>\n      <td>services</td>\n      <td>...</td>\n      <td>2</td>\n      <td>2</td>\n      <td>1</td>\n      <td>1</td>\n      <td>5</td>\n      <td>2</td>\n      <td>15</td>\n      <td>14</td>\n      <td>15</td>\n      <td>False</td>\n    </tr>\n    <tr>\n      <th>4</th>\n      <td>GP</td>\n      <td>F</td>\n      <td>16</td>\n      <td>U</td>\n      <td>GT3</td>\n      <td>T</td>\n      <td>3</td>\n      <td>3</td>\n      <td>other</td>\n      <td>other</td>\n      <td>...</td>\n      <td>3</td>\n      <td>2</td>\n      <td>1</td>\n      <td>2</td>\n      <td>5</td>\n      <td>4</td>\n      <td>6</td>\n      <td>10</td>\n      <td>10</td>\n      <td>False</td>\n    </tr>\n    <tr>\n      <th>...</th>\n      <td>...</td>\n      <td>...</td>\n      <td>...</td>\n      <td>...</td>\n      <td>...</td>\n      <td>...</td>\n      <td>...</td>\n      <td>...</td>\n      <td>...</td>\n      <td>...</td>\n      <td>...</td>\n      <td>...</td>\n      <td>...</td>\n      <td>...</td>\n      <td>...</td>\n      <td>...</td>\n      <td>...</td>\n      <td>...</td>\n      <td>...</td>\n      <td>...</td>\n      <td>...</td>\n    </tr>\n    <tr>\n      <th>390</th>\n      <td>MS</td>\n      <td>M</td>\n      <td>20</td>\n      <td>U</td>\n      <td>LE3</td>\n      <td>A</td>\n      <td>2</td>\n      <td>2</td>\n      <td>services</td>\n      <td>services</td>\n      <td>...</td>\n      <td>5</td>\n      <td>4</td>\n      <td>4</td>\n      <td>5</td>\n      <td>4</td>\n      <td>11</td>\n      <td>9</td>\n      <td>9</td>\n      <td>9</td>\n      <td>True</td>\n    </tr>\n    <tr>\n      <th>391</th>\n      <td>MS</td>\n      <td>M</td>\n      <td>17</td>\n      <td>U</td>\n      <td>LE3</td>\n      <td>T</td>\n      <td>3</td>\n      <td>1</td>\n      <td>services</td>\n      <td>services</td>\n      <td>...</td>\n      <td>4</td>\n      <td>5</td>\n      <td>3</td>\n      <td>4</td>\n      <td>2</td>\n      <td>3</td>\n      <td>14</td>\n      <td>16</td>\n      <td>16</td>\n      <td>True</td>\n    </tr>\n    <tr>\n      <th>392</th>\n      <td>MS</td>\n      <td>M</td>\n      <td>21</td>\n      <td>R</td>\n      <td>GT3</td>\n      <td>T</td>\n      <td>1</td>\n      <td>1</td>\n      <td>other</td>\n      <td>other</td>\n      <td>...</td>\n      <td>5</td>\n      <td>3</td>\n      <td>3</td>\n      <td>3</td>\n      <td>3</td>\n      <td>3</td>\n      <td>10</td>\n      <td>8</td>\n      <td>7</td>\n      <td>True</td>\n    </tr>\n    <tr>\n      <th>393</th>\n      <td>MS</td>\n      <td>M</td>\n      <td>18</td>\n      <td>R</td>\n      <td>LE3</td>\n      <td>T</td>\n      <td>3</td>\n      <td>2</td>\n      <td>services</td>\n      <td>other</td>\n      <td>...</td>\n      <td>4</td>\n      <td>1</td>\n      <td>3</td>\n      <td>4</td>\n      <td>5</td>\n      <td>0</td>\n      <td>11</td>\n      <td>12</td>\n      <td>10</td>\n      <td>True</td>\n    </tr>\n    <tr>\n      <th>394</th>\n      <td>MS</td>\n      <td>M</td>\n      <td>19</td>\n      <td>U</td>\n      <td>LE3</td>\n      <td>T</td>\n      <td>1</td>\n      <td>1</td>\n      <td>other</td>\n      <td>at_home</td>\n      <td>...</td>\n      <td>2</td>\n      <td>3</td>\n      <td>3</td>\n      <td>3</td>\n      <td>5</td>\n      <td>5</td>\n      <td>8</td>\n      <td>9</td>\n      <td>9</td>\n      <td>True</td>\n    </tr>\n  </tbody>\n</table>\n<p>395 rows × 34 columns</p>\n</div>"
     },
     "execution_count": 184,
     "metadata": {},
     "output_type": "execute_result"
    }
   ],
   "source": [
    "\n",
    "## 问题3：创建函数is_legal()，并应用到数据集，返回一个新列legal_drinker，列元素值为布尔类型，True表示学生年龄大于等于17（合法饮酒），False表示小于17（不合法饮酒）。\n",
    "\n",
    "def is_legal(age):\n",
    "    return age >= 17\n",
    "\n",
    "# 应用函数到数据集创建新列legal_drinker\n",
    "df['legal_drinker'] = df['age'].apply(is_legal)\n",
    "\n",
    "df"
   ],
   "metadata": {
    "collapsed": false,
    "ExecuteTime": {
     "end_time": "2024-03-27T01:17:54.290418900Z",
     "start_time": "2024-03-27T01:17:54.045185700Z"
    }
   },
   "id": "86b9f16827e1b560"
  },
  {
   "cell_type": "code",
   "execution_count": 185,
   "outputs": [
    {
     "name": "stdout",
     "output_type": "stream",
     "text": [
      "    school sex  age address famsize Pstatus  Medu  Fedu      Mjob      Fjob  \\\n",
      "0       GP   F   18       U     GT3       A     4     4   at_home   teacher   \n",
      "1       GP   F   17       U     GT3       T     1     1   at_home     other   \n",
      "2       GP   F   15       U     LE3       T     1     1   at_home     other   \n",
      "3       GP   F   15       U     GT3       T     4     2    health  services   \n",
      "4       GP   F   16       U     GT3       T     3     3     other     other   \n",
      "..     ...  ..  ...     ...     ...     ...   ...   ...       ...       ...   \n",
      "390     MS   M   20       U     LE3       A     2     2  services  services   \n",
      "391     MS   M   17       U     LE3       T     3     1  services  services   \n",
      "392     MS   M   21       R     GT3       T     1     1     other     other   \n",
      "393     MS   M   18       R     LE3       T     3     2  services     other   \n",
      "394     MS   M   19       U     LE3       T     1     1     other   at_home   \n",
      "\n",
      "     ... freetime goout  Dalc  Walc  health absences  G1  G2  G3 legal_drinker  \n",
      "0    ...        3     4     1     1       3        6   5   6   6          True  \n",
      "1    ...        3     3     1     1       3        4   5   5   6          True  \n",
      "2    ...        3     2     2     3       3       10   7   8  10         False  \n",
      "3    ...        2     2     1     1       5        2  15  14  15         False  \n",
      "4    ...        3     2     1     2       5        4   6  10  10         False  \n",
      "..   ...      ...   ...   ...   ...     ...      ...  ..  ..  ..           ...  \n",
      "390  ...        5     4     4     5       4       11   9   9   9          True  \n",
      "391  ...        4     5     3     4       2        3  14  16  16          True  \n",
      "392  ...        5     3     3     3       3        3  10   8   7          True  \n",
      "393  ...        4     1     3     4       5        0  11  12  10          True  \n",
      "394  ...        2     3     3     3       5        5   8   9   9          True  \n",
      "\n",
      "[395 rows x 34 columns]\n"
     ]
    }
   ],
   "source": [
    "print(df)"
   ],
   "metadata": {
    "collapsed": false,
    "ExecuteTime": {
     "end_time": "2024-03-27T01:17:54.319841100Z",
     "start_time": "2024-03-27T01:17:54.075518100Z"
    }
   },
   "id": "fde2087f96411c34"
  },
  {
   "cell_type": "code",
   "execution_count": 186,
   "outputs": [
    {
     "name": "stdout",
     "output_type": "stream",
     "text": [
      "<class 'pandas.core.frame.DataFrame'>\n",
      "RangeIndex: 1016395 entries, 0 to 1016394\n",
      "Data columns (total 7 columns):\n",
      " #   Column      Non-Null Count    Dtype \n",
      "---  ------      --------------    ----- \n",
      " 0   Unnamed: 0  1016395 non-null  int64 \n",
      " 1   Id          1016395 non-null  int64 \n",
      " 2   Name        1016395 non-null  object\n",
      " 3   Year        1016395 non-null  int64 \n",
      " 4   Gender      1016395 non-null  object\n",
      " 5   State       1016395 non-null  object\n",
      " 6   Count       1016395 non-null  int64 \n",
      "dtypes: int64(4), object(3)\n",
      "memory usage: 54.3+ MB\n"
     ]
    },
    {
     "data": {
      "text/plain": "   Unnamed: 0     Id     Name  Year Gender State  Count\n0       11349  11350     Emma  2004      F    AK     62\n1       11350  11351  Madison  2004      F    AK     48\n2       11351  11352   Hannah  2004      F    AK     46\n3       11352  11353    Grace  2004      F    AK     44\n4       11353  11354    Emily  2004      F    AK     41",
      "text/html": "<div>\n<style scoped>\n    .dataframe tbody tr th:only-of-type {\n        vertical-align: middle;\n    }\n\n    .dataframe tbody tr th {\n        vertical-align: top;\n    }\n\n    .dataframe thead th {\n        text-align: right;\n    }\n</style>\n<table border=\"1\" class=\"dataframe\">\n  <thead>\n    <tr style=\"text-align: right;\">\n      <th></th>\n      <th>Unnamed: 0</th>\n      <th>Id</th>\n      <th>Name</th>\n      <th>Year</th>\n      <th>Gender</th>\n      <th>State</th>\n      <th>Count</th>\n    </tr>\n  </thead>\n  <tbody>\n    <tr>\n      <th>0</th>\n      <td>11349</td>\n      <td>11350</td>\n      <td>Emma</td>\n      <td>2004</td>\n      <td>F</td>\n      <td>AK</td>\n      <td>62</td>\n    </tr>\n    <tr>\n      <th>1</th>\n      <td>11350</td>\n      <td>11351</td>\n      <td>Madison</td>\n      <td>2004</td>\n      <td>F</td>\n      <td>AK</td>\n      <td>48</td>\n    </tr>\n    <tr>\n      <th>2</th>\n      <td>11351</td>\n      <td>11352</td>\n      <td>Hannah</td>\n      <td>2004</td>\n      <td>F</td>\n      <td>AK</td>\n      <td>46</td>\n    </tr>\n    <tr>\n      <th>3</th>\n      <td>11352</td>\n      <td>11353</td>\n      <td>Grace</td>\n      <td>2004</td>\n      <td>F</td>\n      <td>AK</td>\n      <td>44</td>\n    </tr>\n    <tr>\n      <th>4</th>\n      <td>11353</td>\n      <td>11354</td>\n      <td>Emily</td>\n      <td>2004</td>\n      <td>F</td>\n      <td>AK</td>\n      <td>41</td>\n    </tr>\n  </tbody>\n</table>\n</div>"
     },
     "execution_count": 186,
     "metadata": {},
     "output_type": "execute_result"
    }
   ],
   "source": [
    "import pandas as pd\n",
    "\n",
    "# 加载数据\n",
    "df = pd.read_csv('assets/US_Baby_Names_right.csv') #婴儿名字数据\n",
    "df.info()\n",
    "df.head()"
   ],
   "metadata": {
    "collapsed": false,
    "ExecuteTime": {
     "end_time": "2024-03-27T01:17:55.043290700Z",
     "start_time": "2024-03-27T01:17:54.090527200Z"
    }
   },
   "id": "d9fa70737c52551e"
  },
  {
   "cell_type": "code",
   "execution_count": 187,
   "outputs": [
    {
     "data": {
      "text/plain": "            Name  Year Gender State  Count\n0           Emma  2004      F    AK     62\n1        Madison  2004      F    AK     48\n2         Hannah  2004      F    AK     46\n3          Grace  2004      F    AK     44\n4          Emily  2004      F    AK     41\n...          ...   ...    ...   ...    ...\n1016390     Seth  2014      M    WY      5\n1016391  Spencer  2014      M    WY      5\n1016392     Tyce  2014      M    WY      5\n1016393   Victor  2014      M    WY      5\n1016394   Waylon  2014      M    WY      5\n\n[1016395 rows x 5 columns]",
      "text/html": "<div>\n<style scoped>\n    .dataframe tbody tr th:only-of-type {\n        vertical-align: middle;\n    }\n\n    .dataframe tbody tr th {\n        vertical-align: top;\n    }\n\n    .dataframe thead th {\n        text-align: right;\n    }\n</style>\n<table border=\"1\" class=\"dataframe\">\n  <thead>\n    <tr style=\"text-align: right;\">\n      <th></th>\n      <th>Name</th>\n      <th>Year</th>\n      <th>Gender</th>\n      <th>State</th>\n      <th>Count</th>\n    </tr>\n  </thead>\n  <tbody>\n    <tr>\n      <th>0</th>\n      <td>Emma</td>\n      <td>2004</td>\n      <td>F</td>\n      <td>AK</td>\n      <td>62</td>\n    </tr>\n    <tr>\n      <th>1</th>\n      <td>Madison</td>\n      <td>2004</td>\n      <td>F</td>\n      <td>AK</td>\n      <td>48</td>\n    </tr>\n    <tr>\n      <th>2</th>\n      <td>Hannah</td>\n      <td>2004</td>\n      <td>F</td>\n      <td>AK</td>\n      <td>46</td>\n    </tr>\n    <tr>\n      <th>3</th>\n      <td>Grace</td>\n      <td>2004</td>\n      <td>F</td>\n      <td>AK</td>\n      <td>44</td>\n    </tr>\n    <tr>\n      <th>4</th>\n      <td>Emily</td>\n      <td>2004</td>\n      <td>F</td>\n      <td>AK</td>\n      <td>41</td>\n    </tr>\n    <tr>\n      <th>...</th>\n      <td>...</td>\n      <td>...</td>\n      <td>...</td>\n      <td>...</td>\n      <td>...</td>\n    </tr>\n    <tr>\n      <th>1016390</th>\n      <td>Seth</td>\n      <td>2014</td>\n      <td>M</td>\n      <td>WY</td>\n      <td>5</td>\n    </tr>\n    <tr>\n      <th>1016391</th>\n      <td>Spencer</td>\n      <td>2014</td>\n      <td>M</td>\n      <td>WY</td>\n      <td>5</td>\n    </tr>\n    <tr>\n      <th>1016392</th>\n      <td>Tyce</td>\n      <td>2014</td>\n      <td>M</td>\n      <td>WY</td>\n      <td>5</td>\n    </tr>\n    <tr>\n      <th>1016393</th>\n      <td>Victor</td>\n      <td>2014</td>\n      <td>M</td>\n      <td>WY</td>\n      <td>5</td>\n    </tr>\n    <tr>\n      <th>1016394</th>\n      <td>Waylon</td>\n      <td>2014</td>\n      <td>M</td>\n      <td>WY</td>\n      <td>5</td>\n    </tr>\n  </tbody>\n</table>\n<p>1016395 rows × 5 columns</p>\n</div>"
     },
     "execution_count": 187,
     "metadata": {},
     "output_type": "execute_result"
    }
   ],
   "source": [
    "## 问题1：删除列'Unnamed: 0' 和 'Id'。\n",
    "\n",
    "df.drop(['Unnamed: 0','Id'],axis=1,inplace=True)\n",
    "df"
   ],
   "metadata": {
    "collapsed": false,
    "ExecuteTime": {
     "end_time": "2024-03-27T01:17:55.081844300Z",
     "start_time": "2024-03-27T01:17:54.587047400Z"
    }
   },
   "id": "b6118f769134279a"
  },
  {
   "cell_type": "code",
   "execution_count": 188,
   "outputs": [
    {
     "data": {
      "text/plain": "         Count\nGender        \nF       558846\nM       457549",
      "text/html": "<div>\n<style scoped>\n    .dataframe tbody tr th:only-of-type {\n        vertical-align: middle;\n    }\n\n    .dataframe tbody tr th {\n        vertical-align: top;\n    }\n\n    .dataframe thead th {\n        text-align: right;\n    }\n</style>\n<table border=\"1\" class=\"dataframe\">\n  <thead>\n    <tr style=\"text-align: right;\">\n      <th></th>\n      <th>Count</th>\n    </tr>\n    <tr>\n      <th>Gender</th>\n      <th></th>\n    </tr>\n  </thead>\n  <tbody>\n    <tr>\n      <th>F</th>\n      <td>558846</td>\n    </tr>\n    <tr>\n      <th>M</th>\n      <td>457549</td>\n    </tr>\n  </tbody>\n</table>\n</div>"
     },
     "execution_count": 188,
     "metadata": {},
     "output_type": "execute_result"
    }
   ],
   "source": [
    "## 问题2：男孩和女孩的总数是多少？\n",
    "\n",
    "df.groupby('Gender').agg({'Count':'count'})"
   ],
   "metadata": {
    "collapsed": false,
    "ExecuteTime": {
     "end_time": "2024-03-27T01:17:55.106344700Z",
     "start_time": "2024-03-27T01:17:54.617491900Z"
    }
   },
   "id": "5e0779ae100c28d2"
  },
  {
   "cell_type": "code",
   "execution_count": 189,
   "outputs": [
    {
     "data": {
      "text/plain": "Name\nJacob         242874\nEmma          214852\nMichael       214405\nEthan         209277\nIsabella      204798\n               ...  \nEniola             5\nAtlantis           5\nMarci              5\nSimarpreet         5\nNita               5\nName: Count, Length: 17632, dtype: int64"
     },
     "execution_count": 189,
     "metadata": {},
     "output_type": "execute_result"
    }
   ],
   "source": [
    "## 问题3：将数据按照Name分组统计出现数量，并按照降序排列。\n",
    "\n",
    "df.groupby('Name')['Count'].sum().sort_values(ascending=False)"
   ],
   "metadata": {
    "collapsed": false,
    "ExecuteTime": {
     "end_time": "2024-03-27T01:17:55.228049800Z",
     "start_time": "2024-03-27T01:17:54.683569700Z"
    }
   },
   "id": "5eb9148d5b523658"
  },
  {
   "cell_type": "code",
   "execution_count": 190,
   "outputs": [
    {
     "name": "stdout",
     "output_type": "stream",
     "text": [
      "数据集中有17632个不同的名字\n"
     ]
    }
   ],
   "source": [
    "## 问题4：数据集中有多少不同名字？\n",
    "\n",
    "print(f\"数据集中有{len(df['Name'].unique().tolist())}个不同的名字\")"
   ],
   "metadata": {
    "collapsed": false,
    "ExecuteTime": {
     "end_time": "2024-03-27T01:17:55.229060600Z",
     "start_time": "2024-03-27T01:17:54.789380600Z"
    }
   },
   "id": "7e6297dd2e2bf180"
  },
  {
   "cell_type": "code",
   "execution_count": 191,
   "outputs": [
    {
     "data": {
      "text/plain": "Name\nJacob        242874\nNita              5\n出现频率     [max, min]\nName: Count, dtype: object"
     },
     "execution_count": 191,
     "metadata": {},
     "output_type": "execute_result"
    }
   ],
   "source": [
    "## 问题5： 出现频率最多和最少的名字是（可能数量不唯一，按排序结果）？\n",
    "\n",
    "name_count_df = df.groupby('Name')['Count'].sum().sort_values(ascending=False).iloc[[0,-1]]\n",
    "name_count_df['出现频率'] = ['max','min']\n",
    "name_count_df"
   ],
   "metadata": {
    "collapsed": false,
    "ExecuteTime": {
     "end_time": "2024-03-27T01:17:55.229060600Z",
     "start_time": "2024-03-27T01:17:54.866749500Z"
    }
   },
   "id": "8de0c7121f068b6d"
  },
  {
   "cell_type": "code",
   "execution_count": 192,
   "outputs": [
    {
     "data": {
      "text/plain": "    Name   Count 出现频率\n0  Jacob  242874  max\n1   Nita       5  min",
      "text/html": "<div>\n<style scoped>\n    .dataframe tbody tr th:only-of-type {\n        vertical-align: middle;\n    }\n\n    .dataframe tbody tr th {\n        vertical-align: top;\n    }\n\n    .dataframe thead th {\n        text-align: right;\n    }\n</style>\n<table border=\"1\" class=\"dataframe\">\n  <thead>\n    <tr style=\"text-align: right;\">\n      <th></th>\n      <th>Name</th>\n      <th>Count</th>\n      <th>出现频率</th>\n    </tr>\n  </thead>\n  <tbody>\n    <tr>\n      <th>0</th>\n      <td>Jacob</td>\n      <td>242874</td>\n      <td>max</td>\n    </tr>\n    <tr>\n      <th>1</th>\n      <td>Nita</td>\n      <td>5</td>\n      <td>min</td>\n    </tr>\n  </tbody>\n</table>\n</div>"
     },
     "execution_count": 192,
     "metadata": {},
     "output_type": "execute_result"
    }
   ],
   "source": [
    "name_count_df = df.groupby('Name')['Count'].sum().sort_values(ascending=False).iloc[[0,-1]].to_frame().reset_index()\n",
    "name_count_df['出现频率'] = ['max', 'min']\n",
    "\n",
    "name_count_df"
   ],
   "metadata": {
    "collapsed": false,
    "ExecuteTime": {
     "end_time": "2024-03-27T01:17:55.315351400Z",
     "start_time": "2024-03-27T01:17:54.974930200Z"
    }
   },
   "id": "2c7471630a183f10"
  },
  {
   "cell_type": "code",
   "execution_count": 210,
   "outputs": [
    {
     "name": "stdout",
     "output_type": "stream",
     "text": [
      "最大值为：1112, 对应的Name有：Riley\n",
      "最小值为：1, 对应的Name有：Aadarsh, Aadhav, Aadin, Aahna, Aaima, Aalaya, Aaminah, Aaniya, Aaria, Aariana, Aarika, Aarini, Aariv, Aarron, Aarvi, Aaryav, Aasha, Aashritha, Aasia, Aayansh, Aayat, Abanoub, Abbiegail, Abdalla, Abdifatah, Abdihafid, Abdikadir, Abdiqani, Abdirahim, Abdishakur, Abdo, Abdon, Abdurahman, Abeeha, Abeer, Abelino, Abenezer, Abhijot, Abhimanyu, Abigaile, Abiha, Aboubakar, Abri, Absidy, Abygale, Access, Acelin, Aceyn, Ackley, Adalae, Adalay, Adaleen, Adalin, Adams, Adanelly, Adanely, Adarian, Adayah, Addalie, Addeline, Addis, Addisson, Adeeb, Adeena, Adelai, Adelayda, Adena, Aderinsola, Adessa, Adhara, Adiana, Adianna, Admir, Adonnis, Adore, Adriane, Adrick, Adrion, Advith, Adyline, Aerianna, Aerilyn, Afnan, Afra, Afsheen, Ahlana, Ahliyah, Ahmadou, Ahmarion, Ahmiyah, Ahniah, Ahniyah, Ahriana, Ahyan, Aidaly, Aideen, Aidsa, Aidynn, Aika, Ailah, Ailanie, Aileene, Aileth, Aina, Ainhoa, Aireanna, Aisatou, Aisea, Aitan, Aivah, Aivy, Aiyla, Aizlynn, Ajahni, Ajit, Ajooni, Akane, Akaylah, Akela, Akia, Akila, Akio, Akiyah, Alacia, Alaija, Alaila, Alaiza, Alandria, Alania, Alante, Alassane, Alayia, Alayssa, Alayzia, Alazne, Albi, Albin, Albina, Albion, Alcides, Aldrich, Aleanna, Aleea, Alegandro, Aleiya, Alejah, Alejandrina, Aleksia, Alekxander, Aleli, Alexanderjames, Alexandrya, Alexssa, Alexxia, Alexyss, Alezander, Alezandra, Alian, Aliciana, Alie, Aliena, Alif, Alii, Alisher, Alishia, Alisi, Alissia, Alivea, Aliyanah, Alizea, Alizey, Alla, Allaina, Allia, Alliah, Allianna, Allisa, Allyzon, Almendra, Almir, Almira, Alohilani, Alyjah, Alyne, Alysah, Alyx, Alyxandria, Alyzabeth, Alyze, Amana, Amanpreet, Amarilis, Amariona, Amarius, Amariyon, Amarri, Amberleigh, Amberlie, Amberlin, Amberrose, Ambika, Ambrie, Ambrosia, Ambry, Amee, Ameli, Ameliana, Ameliya, Ameri, Ameyalli, Amilah, Amiliana, Amiree, Amirjon, Amitai, Amjad, Ammi, Amonie, Amori, Amra, Amyre, Amyriah, Amzie, Anabeth, Anacarolina, Anaceli, Anacristina, Anaelle, Anagabriela, Anahis, Anaily, Anaira, Anajah, Anaka, Analaya, Analeigha, Analena, Analisse, Analiya, Analuiza, Analya, Analyn, Analynn, Anamika, Anant, Anara, Anareli, Anaria, Anastasija, Anayiah, Anayla, Anaysia, Andoni, Andreana, Andreanna, Andrian, Andriy, Anelis, Anella, Anesa, Anet, Aneta, Aneudy, Angeldejesus, Angelea, Angeliah, Angelinah, Angelinne, Angelito, Angeliyah, Angeljesus, Angelmarie, Aniaya, Anija, Anikah, Anina, Aniqa, Anique, Anise, Anisjon, Anisty, Anitza, Aniza, Anjani, Anjolina, Ankit, Anmarie, Annai, Annajulia, Annakate, Annalissa, Annaliz, Annalucia, Annaluiza, Annalysa, Annarose, Annasofia, Annelyse, Annett, Annora, Annya, Anoop, Antasia, Anthonny, Anthonyjr, Antigone, Antjuan, Antone, Antonela, Antonieta, Antonios, Antrell, Antwane, Antwann, Antwoine, Anurag, Anureet, Anvay, Anwita, Anyae, Anye, Anysa, Aoi, Apolo, Apoorva, Aquil, Aquinnah, Aracelie, Aracelys, Arafat, Arbi, Archibald, Archita, Ardian, Ardit, Ardyn, Areej, Areesha, Arek, Areonna, Argelio, Argentina, Ariahna, Arianie, Ariannie, Arias, Ariauna, Ariba, Arica, Arick, Ariele, Arien, Arienne, Arihana, Arihant, Arikka, Arinze, Aristea, Ariv, Arleene, Arlenis, Arlenne, Arliz, Armida, Armine, Arna, Arnel, Arno, Arpita, Arrington, Arsalan, Arshiya, Artan, Artavis, Artis, Artyom, Arul, Aryanah, Aryav, Aryelle, Aryia, Arynn, Aryona, Asadbek, Asaf, Asenath, Asenet, Aseneth, Ashanta, Ashante, Asheley, Ashiyah, Ashland, Ashleymarie, Ashleynicole, Ashmit, Ashmita, Ashot, Ashraf, Ashrith, Ashwika, Ashya, Asianna, Aslynn, Asmi, Assa, Assael, Assata, Astha, Atarah, Athos, Athyna, Atiksh, Atiya, Atlanta, Atlantis, Atleigh, Atul, Atzi, Atzin, Aubrea, Aubriel, Audi, Audrena, Audreyana, Audreyanna, Audria, Audryana, Augustas, Auguste, Aukai, Aum, Aurea, Aureliano, Aurelie, Auriella, Autzen, Avagrace, Avelardo, Avelynn, Averly, Avetis, Aviella, Avina, Aviya, Avo, Avon, Avram, Avri, Avriana, Avrielle, Avyn, Avyukt, Axxel, Axzel, Ayako, Ayame, Aydee, Aydeen, Aydyn, Ayeden, Ayianna, Aylana, Aylet, Ayleth, Ayram, Ayriana, Ayrianna, Aysel, Ayshia, Ayson, Ayyan, Ayyub, Azad, Azaliah, Azarias, Azavion, Azayla, Azazel, Azel, Azhar, Azimjon, Azion, Azula, Azyria, Bader, Baelyn, Balthazar, Banesa, Bani, Banner, Baran, Barrington, Bartolo, Barton, Baruc, Basel, Basem, Bashy, Basia, Batool, Bauer, Baylea, Baylei, Bayler, Baylin, Beata, Beatris, Beauregard, Beckem, Becket, Behruz, Beily, Belal, Belia, Belina, Bellina, Beren, Berenize, Berline, Berta, Bertrand, Bethania, Bethlehem, Bethsy, Bethzaida, Bethzi, Betsey, Bettina, Betzayra, Betzi, Biana, Bindi, Bisma, Biviana, Blakelynn, Blakleigh, Blakley, Blyss, Bodi, Bonifacio, Bora, Bradan, Bradey, Bradleigh, Braelan, Braelin, Braheem, Branae, Brandel, Braniya, Brannen, Brany, Brasen, Braun, Braxston, Braxtin, Braycen, Breahna, Brealynn, Breanah, Breaunna, Brecklynn, Breeann, Breelle, Breely, Breelynn, Breezy, Breina, Brek, Breken, Breland, Brenae, Brenan, Brennyn, Bretton, Brevan, Brevyn, Breya, Breyona, Briah, Brianah, Briany, Brieana, Brighid, Brigida, Brigido, Brigit, Brinda, Briniyah, Brinklee, Briselda, Bristal, Brita, Brithanny, Britt, Brittanny, Brittanya, Brittni, Britzy, Brizia, Brodyn, Bronco, Bronner, Bronte, Brooklee, Brookley, Brya, Bryanah, Bryanne, Bryna, Bryndee, Brynnleigh, Bryor, Bryssa, Brysun, Burhan, Buster, Byanka, Cadynce, Caelen, Caeley, Caelin, Caellum, Caelum, Caera, Caeson, Caidan, Caillou, Calab, Calan, Calee, Calirose, Calise, Calisi, Calixto, Callyn, Calub, Calypso, Camauri, Camil, Camillia, Cana, Candida, Candie, Candise, Cane, Caniyah, Canton, Carah, Carden, Caridad, Carizma, Carlosdaniel, Carlye, Carlynn, Carmya, Carola, Carolena, Carolin, Carolyna, Cashlynn, Casie, Casin, Caspar, Cassiel, Castin, Cataleah, Catcher, Caterin, Cathaleya, Catheryn, Catriona, Caydan, Caydin, Caylah, Caylyn, Caylynn, Ceana, Cecy, Celestine, Cervando, Chaitra, Champion, Chancelor, Chandra, Chania, Chanina, Chanler, Chanse, Chantell, Chantz, Charline, Charlsie, Charlyn, Charvi, Chaselyn, Chasiti, Chasya, Chatham, Chavi, Chayden, Chelsee, Cherlyn, Chetan, Cheveyo, Cheyla, Chezky, Chiam, Chidinma, Chihiro, Childnotnamed, Chinedu, Chrisangel, Chriss, Christabelle, Christell, Christo, Christon, Christoph, Christyana, Chuck, Chukwuebuka, Chuna, Chyla, Chynna, Cicely, Cici, Ciclaly, Ciela, Ciella, Cierrah, Cinch, Citlalic, Clarise, Clariza, Claryssa, Claudine, Clayten, Clementina, Clodagh, Cloud, Clowie, Coalton, Cobe, Cobey, Cobi, Codie, Collyns, Colm, Conall, Connell, Constantinos, Conway, Coopar, Copper, Coralynn, Corbett, Cordale, Cordaro, Corday, Corion, Corley, Cornelia, Corra, Corrin, Cortlen, Cosima, Cotton, Courtlynn, Cowen, Coyt, Creek, Criselda, Crist, Cristin, Crixus, Crosley, Crystian, Cung, Cyanne, Cylee, Cylis, Cyndi, Cyniah, Cyriah, Cyrine, Czarina, Daana, Dabria, Dacian, Dacorian, Daelen, Daelin, Daelon, Daemian, Daesha, Daeshaun, Dafina, Dafnee, Dagmawi, Dago, Daichi, Daiden, Dailon, Daily, Dailynn, Daimien, Daimon, Daire, Dairon, Daissy, Dajanay, Dajanique, Daksha, Dalan, Dalana, Dalayza, Daleisa, Daleiza, Dalena, Dalexa, Dallanara, Dalon, Damary, Damiah, Damiana, Damilola, Damone, Danaisha, Danaja, Danajah, Danera, Danessa, Danette, Daniele, Danieljr, Danish, Danita, Dannae, Danniela, Dannielynn, Danyale, Danyela, Danyka, Daoud, Darek, Dariella, Darionna, Daris, Dariya, Darlyne, Darshan, Darwyn, Dashun, Davanee, Davarion, Daveyon, Davida, Davide, Davier, Davinah, Davinci, Davonta, Dawit, Dawsen, Daxten, Daxx, Dayamy, Dayanne, Daycee, Dayden, Dayjah, Daytona, Dayveon, Dayvian, Daziah, Deaira, Deandria, Deanne, Deavion, Debanhy, Decarlos, Decklan, Decklyn, Decorian, Deema, Deidre, Deigo, Deija, Dekker, Delayne, Delaynie, Deleyza, Delorean, Delsa, Delshawn, Demarie, Demarious, Demarrion, Demontre, Dennys, Deona, Deondra, Deontre, Dequavious, Derica, Derius, Derrian, Derrianna, Derricka, Derron, Deryck, Deryk, Desaree, Desiderio, Destan, Destenie, Deston, Destry, Destyn, Devesh, Deviny, Devyne, Dewey, Dewin, Dexton, Deyanara, Deziah, Deziray, Dhairya, Dhanya, Dhillon, Dhwani, Dhyan, Diamonte, Diandra, Dianelly, Dianely, Dianelys, Dianey, Diante, Dickson, Diem, Digna, Dilara, Dillen, Dillian, Dilon, Dilraj, Dim, Dinari, Dinora, Diogenes, Disaya, Diyora, Dj, Djuan, Dlaney, Doc, Dodger, Domenik, Dominga, Dominyk, Donoven, Doran, Doroteo, Dottie, Dquan, Draden, Dragon, Draiden, Draizy, Drayson, Dreama, Drelon, Drelynn, Dreshawn, Duilio, Dujuan, Dulcinea, Duron, Dusti, Dyami, Dyanara, Dyanne, Dylin, Dynasti, Eagan, Eames, Eashan, Eavan, Ebubechukwu, Edahi, Eddrick, Edilson, Edina, Edrei, Edrik, Edris, Eduar, Edwing, Eevee, Efrat, Efrayim, Eilene, Einar, Eisen, Ej, Elad, Elane, Elanna, Elanor, Elara, Eleah, Eleanna, Eleen, Elek, Elenoa, Eleora, Eleuterio, Eliav, Eliazer, Eliberto, Elih, Elijahjames, Elijio, Eliodoro, Elis, Elisabetta, Elisea, Elisse, Elizar, Elizebeth, Elizeth, Ellamarie, Ellanore, Ellarose, Ellayna, Ellerie, Elley, Elliemae, Ellissa, Ellyse, Ellyson, Ellyssa, Elmin, Elnatan, Elonna, Elpidio, Elroy, Elsi, Elvina, Elwin, Elza, Emanie, Emanuella, Emaya, Embree, Emelee, Emilyann, Emira, Emitt, Emmaclaire, Emmajean, Emmalia, Emmalynne, Emmarae, Emmerie, Emmilyn, Emron, Emunah, Emya, Endi, Eneida, Enes, Eniola, Enna, Enson, Ephram, Epifanio, Epiphany, Erabella, Erek, Erielle, Erilyn, Ermelinda, Ervey, Esaul, Escher, Esiah, Esmie, Essie, Estefano, Estreya, Etai, Ethanjacob, Ethanjoseph, Ethanmatthew, Ethon, Euan, Eudora, Euna, Evalee, Evaleigh, Evalena, Evalette, Evalin, Evaline, Evangaline, Evanny, Evelen, Evelett, Evelio, Evely, Evenny, Everlie, Everlyn, Evoleht, Evon, Evonne, Evrett, Exzavier, Eydan, Eyoel, Ezel, Eztli, Fabianna, Fabrizzio, Fahd, Faithlyn, Faizah, Fajr, Falcon, Fallou, Famous, Fancy, Farhana, Fariza, Farrell, Farris, Farzana, Farzeen, Fateh, Fathima, Fatim, Fatimatou, Fatin, Feather, Fedra, Felicitas, Felton, Fender, Fergie, Feynman, Fianna, Filipe, Filomena, Fin, Finbar, Findlay, Fiora, Firman, Fouad, Francella, Franki, Frederik, Freidy, Frimmy, Furkan, Gabbie, Gable, Gabreil, Gabrian, Gabrianna, Gabryela, Gaddiel, Gagandeep, Gagik, Gahel, Gaines, Gaius, Gal, Gali, Galiana, Galvin, Galya, Ganesh, Gao, Gared, Garo, Garon, Garvin, Gaspard, Gatlyn, Gayathri, Gayatri, Geetika, Gelsey, Genelle, Genendy, Genesiss, Genessa, Genises, Ger, Geraldy, Germani, Geselle, Getzel, Ghadeer, Ghazal, Gianpaolo, Ginobili, Giordan, Giordano, Giulian, Gleb, Glendon, Glendy, Gloriana, Godfrey, Godson, Goretti, Gorgeous, Grabiel, Graceson, Graceyn, Graciana, Gradyn, Grahm, Graison, Grason, Graycie, Greenley, Gregg, Greggory, Greidy, Greko, Grettell, Grissel, Guerin, Guido, Gumaro, Gurfateh, Gurkirat, Gurneet, Gursirat, Gurtaaj, Gwendolynn, Gwenivere, Gwynneth, Gyanna, Gyasi, Haadi, Haaheo, Haddon, Hade, Haedyn, Haelee, Haeley, Haely, Haelyn, Haide, Haidi, Haifa, Hailei, Haillie, Haja, Hajj, Haldrin, Haleem, Haliegh, Haliey, Halimah, Halimatou, Halleigh, Hally, Haloa, Hamad, Hamdan, Hamish, Hammad, Hamse, Hani, Haniyah, Haniyyah, Hannahgrace, Hanny, Hannya, Hanzel, Harbor, Harkirat, Harleyquinn, Harlin, Harlon, Harlym, Harsha, Harshaan, Harshith, Hartlee, Harumi, Harveer, Hasmik, Hassani, Hayat, Hayla, Haze, Hazell, Heavenleigh, Hedy, Heer, Heinrich, Henoch, Henya, Heraclio, Herby, Hercules, Herschel, Hervey, Heydy, Heyward, Hibah, Hibba, Hiiaka, Hikari, Himani, Hinaea, Hindel, Hiromy, Hiyab, Holiday, Holston, Holten, Honora, Hortencia, Hossain, Hovhannes, Howie, Hudy, Huey, Hung, Hunt, Hy, Iaan, Icey, Idil, Idman, Idrissa, Ijeoma, Iktan, Ilah, Ilany, Ilay, Ilda, Ilette, Ilham, Ilihia, Imane, Imogene, Imoni, Inari, Infinity, Ingris, Inigo, Inioluwa, Insiya, Io, Iraida, Iraima, Irania, Irany, Irasema, Ireoluwa, Ireri, Irianna, Irineo, Isaah, Isabeau, Isack, Isel, Ishraq, Ishrat, Iskander, Ismaila, Issack, Issai, Itcel, Ithan, Ithzel, Itzamara, Itzela, Ivannia, Ivet, Iviana, Iyan, Iyona, Iysis, Izacc, Izaiyah, Izaria, Izekiel, Izela, Izellah, Izelle, Izumi, Izzabelle, Izzak, Jaanvi, Jabarie, Jabraylen, Jabree, Jacai, Jacalyn, Jacarie, Jaceion, Jacinta, Jackey, Jacklin, Jacobey, Jacoria, Jacque, Jadalee, Jadalys, Jadarion, Jadarious, Jadasia, Jadden, Jadey, Jadine, Jaedynn, Jaelee, Jafar, Jafeth, Jahel, Jahiya, Jahkai, Jahkari, Jahkeem, Jahliyah, Jahlon, Jahmani, Jahmarion, Jahmeer, Jahmez, Jahmiere, Jahmire, Jahn, Jahnae, Jahnasia, Jahnia, Jahnyah, Jahzaria, Jahziah, Jaiah, Jaiana, Jaianna, Jaicob, Jaidalyn, Jaidin, Jailia, Jailon, Jaion, Jaire, Jairon, Jaise, Jaiveon, Jak, Jakala, Jakarri, Jakaylah, Jakel, Jakevious, Jakye, Jakyria, Jakyrin, Jakyron, Jalal, Jalana, Jalayna, Jaleigha, Jaleria, Jalik, Jamail, Jamaine, Jamair, Jamall, Jamani, Jamareon, Jamariya, Jamarques, Jamaurie, Jamayah, Jamea, Jameela, Jamela, Jamera, Jamicheal, Jamiel, Jamiere, Jamilett, Jamilla, Jamilyn, Jamisen, Jamoni, Jamylah, Jamyri, Jamyriah, Jamyrie, Jamyron, Janard, Janari, Jandiel, Janeah, Janecia, Janesa, Jani, Janiaya, Janila, Janique, Janira, Janisha, Jannell, Jannessa, Jansel, Janthony, Jantzen, Japleen, Jaqualon, Jaquel, Jaquelinne, Jaques, Jaquitta, Jarden, Jarethzy, Jarrius, Jaryn, Jasalyn, Jasaun, Jasher, Jasira, Jasiri, Jasiya, Jaskirat, Jaslynne, Jasmely, Jasminemarie, Jasminerose, Jasminne, Jasneet, Jasraj, Jassmine, Jasyah, Jatavia, Jatavius, Jatoria, Javaeh, Javar, Javaria, Javeion, Javel, Javery, Javoni, Javonna, Javonni, Jawan, Jawon, Jawuan, Jaxtin, Jaxxson, Jayan, Jayanthony, Jaycelynn, Jaydalynn, Jaydie, Jaye, Jayel, Jayin, Jayjay, Jaylei, Jaylun, Jaymar, Jaymir, Jayona, Jayr, Jaysha, Jaythian, Jayvier, Jazariyah, Jazzalyn, Jazzel, Jazzy, Jb, Jdyn, Jedd, Jedi, Jedrek, Jefte, Jeily, Jeison, Jenai, Jenalee, Jenaveve, Jenell, Jenessy, Jenin, Jenine, Jenisha, Jenisis, Jenisse, Jennelle, Jenyfer, Jeramie, Jerelyn, Jeremey, Jeremiyah, Jeren, Jeriko, Jerilyn, Jerlyn, Jermell, Jerri, Jerrin, Jerusalem, Jerusha, Jesaiah, Jese, Jeslin, Jessee, Jessyca, Jestine, Jesua, Jesusjr, Jesusmanuel, Jetson, Jettson, Jeury, Jevaughn, Jevonte, Jewelia, Jewelisa, Jewelissa, Jewelyssa, Jewelz, Jeylah, Jeylen, Jeyren, Jezebelle, Jeziel, Jezlyn, Jhamari, Jhayden, Jiaqi, Jiayi, Jibran, Jie, Jihaad, Jihan, Jilliana, Jillianna, Jimin, Jina, Jinger, Jinny, Jiro, Jishnu, Jj, Jleigh, Jnya, Joahan, Joaquim, Jobani, Jocilyn, Joclyn, Joelie, Joelyn, Joelynn, Johanny, Johna, Johnbenedict, Johnpatrick, Jojo, Joleena, Jolett, Joli, Jolissa, Jona, Jonan, Jonanthony, Jonaven, Jonavon, Joncarlos, Jonelle, Jonhatan, Jonibek, Jonier, Jonna, Jonnie, Jontrell, Jonylah, Joon, Jophy, Jordann, Jorgen, Josaline, Josearmando, Joseenrique, Josefa, Josejr, Josejuan, Joselinne, Joselle, Joseth, Josgar, Joshuajohn, Joshuamichael, Joshuan, Joshwa, Josten, Joud, Journii, Jovannie, Jovian, Jovin, Jovita, Jovonni, Joycelin, Jozlin, Jrake, Jsean, Jshaun, Jshawn, Juanangel, Juanjr, Juany, Juhi, Jujuan, Julee, Juliani, Juliannah, Juliya, Julyanna, Junia, Jupiter, Jurnie, Justeen, Juvencio, Jyrin, Jyron, Kaaliyah, Kabeer, Kadi, Kadijah, Kadijatou, Kadrian, Kaedan, Kaedance, Kaede, Kaelly, Kaelynne, Kahmani, Kahmari, Kahne, Kahseem, Kaikane, Kail, Kailia, Kaimalu, Kaimi, Kainan, Kaire, Kais, Kaisei, Kaisyn, Kaity, Kaizlee, Kajuan, Kalanie, Kalden, Kalem, Kalev, Kaliyanei, Kalliyan, Kallyn, Kaloni, Kalyan, Kalyse, Kam, Kamaehu, Kamakana, Kamaree, Kamareon, Kamarri, Kamberlyn, Kameria, Kamile, Kamillah, Kamilo, Kamoria, Kamrie, Kamsiyochukwu, Kamyia, Kanaloa, Kanard, Kanav, Kandi, Kanisha, Kanna, Kapena, Karder, Kareemah, Karenna, Kariyah, Karlin, Karlyn, Karmina, Karolynn, Karsynn, Karthika, Kasai, Kaselyn, Kashish, Kashlynn, Kasidy, Kassia, Kassim, Kassius, Kassy, Kaston, Kataleyah, Kateleen, Katelen, Katelyne, Kathelyn, Katherina, Katherinne, Kathrynn, Katina, Katriel, Katrin, Katryna, Kaua, Kaushik, Kavari, Kavir, Kavita, Kayah, Kayceon, Kayda, Kaydi, Kaydie, Kaydyn, Kayelee, Kayelynn, Kayin, Kayleah, Kayleeann, Kayleena, Kaylena, Kayln, Kaylonnie, Kaylynne, Kaysan, Kaysean, Kaysha, Kaytee, Kayton, Kazuki, Kc, Keaden, Keaghan, Keandrea, Keano, Keanthony, Kearstin, Keatyn, Keeland, Keeleigh, Keerthi, Kehaulani, Keileigh, Keionna, Keir, Keisean, Keisi, Keivon, Kelcee, Kelcy, Kelia, Kelii, Kemarrion, Kemaury, Kemaya, Kemiya, Kemontae, Kemuel, Kendalynn, Kendrah, Kenechukwu, Keniah, Kenlei, Kennan, Kenner, Kennidy, Kenniyah, Kensli, Kenson, Kentavius, Kentravion, Kentravious, Keny, Kenzee, Kenzli, Keo, Keonta, Keosha, Kerstyn, Kerwin, Kesan, Keshawna, Kesley, Keslyn, Kessler, Kethan, Keveon, Kevonte, Keyarah, Keylani, Keyleen, Keylie, Keyonni, Keyshia, Keyshon, Khachik, Khadir, Khadra, Khalea, Khalen, Khalessi, Khalilah, Khaliya, Khamila, Kharter, Khaseem, Khianna, Khiara, Khizar, Khodee, Khyleigh, Khyli, Khyren, Khyrie, Kiahna, Kiai, Kiaira, Kiannah, Kiaraliz, Kiasia, Kieara, Kiela, Kien, Kinan, Kinga, Kinzee, Kinzleigh, Kion, Kip, Kiril, Kirti, Kirubel, Kit, Kiyara, Klaus, Klea, Klever, Klyde, Knoah, Koah, Koalii, Koben, Kodey, Kodiak, Kohana, Kohei, Kolette, Kollins, Kolsen, Kong, Koran, Korde, Kornelia, Korrina, Korrine, Kort, Kortlynn, Kortni, Kotryna, Kou, Kourtni, Kowen, Kraig, Kreindy, Krishan, Krishawn, Kriss, Krissa, Krissy, Kristelle, Kritika, Krrish, Krupa, Krystiana, Kseniya, Kulia, Kupaa, Kupono, Kuuipo, Kvon, Kwadwo, Kwesi, Kyaira, Kyia, Kyiah, Kyliegh, Kynlea, Kynlei, Kynzlie, Kyo, Kyrian, Kyro, Kyzer, La, Labella, Labria, Ladamien, Ladan, Ladarion, Ladarrion, Lahela, Lahna, Laiden, Laisa, Laityn, Laiya, Laiyla, Lakely, Laksh, Laksmi, Lalani, Lalia, Lam, Lama, Lamiah, Lamiracle, Lan, Lanah, Lancelot, Lander, Lanea, Lanessa, Langdon, Lanier, Lansana, Lanyia, Lanyiah, Larae, Lareen, Larenz, Lariza, Larsen, Lathen, Latisha, Latonya, Lautaro, Lavaeh, Lavaris, Lavi, Lavontae, Lawaia, Lawayne, Layana, Layani, Laykin, Layleen, Laylene, Layonna, Leahna, Leala, Lean, Leanah, Leea, Leeam, Leeasia, Leelee, Leeon, Lehi, Lehiwa, Leialoha, Leighanne, Leilanee, Leilaney, Leileen, Leily, Leiya, Lelah, Lemar, Lenya, Leoni, Leovardo, Lesieli, Levar, Levii, Lexii, Lexxi, Lexxie, Leyland, Leylany, Lezli, Liahna, Liane, Liannah, Lianni, Liany, Liav, Libertad, Lida, Lidya, Lileigh, Liliah, Lilikoi, Lilley, Lillybeth, Lilou, Lilu, Lilyanah, Lilyona, Lin, Linsy, Lio, Lion, Lirio, Lisett, Lissete, Lithzy, Livan, Liviana, Livier, Livvy, Lizbett, Lizvet, Lizzett, Llana, Lochlann, Lochlyn, Lofton, Lolah, Londin, Lorali, Loralye, Loreley, Loriann, Lorianna, Lorie, Lorik, Lorissa, Louden, Lowen, Luann, Luanna, Luccas, Lucious, Ludwika, Ludwin, Luisana, Luisantonio, Luismiguel, Lunabella, Lunden, Lundon, Lusero, Luxe, Lyann, Lylia, Lyniah, Lynleigh, Lynnox, Lynzee, Lyrica, Lyrical, Lyssa, Maalik, Mable, Macallan, Macarena, Maciah, Maclain, Madailein, Madalin, Madasyn, Maddi, Maddon, Madeira, Madelena, Madeleyn, Madelis, Madisynn, Madysin, Maebry, Maela, Maesyn, Magdala, Magdaleno, Magdalyn, Magen, Maham, Mahari, Mahati, Mahin, Mahiyah, Mahjabeen, Mahreen, Mailin, Mairany, Mairim, Maisey, Maizee, Maizen, Majestic, Makailyn, Makalynn, Makaylie, Makaylin, Makenah, Makenlee, Makenlie, Makinlee, Makua, Makyia, Makynzee, Makynzi, Mala, Malacai, Malai, Malajah, Malakhai, Maleigh, Malibu, Malini, Malone, Maloree, Malosi, Malvin, Man, Manasa, Manasi, Mandie, Manessa, Manisha, Manmeet, Mansoor, Mansour, Mantas, Mantej, Manvi, Mao, Maor, Mar, Marcelle, Marci, Marcjacob, Marcuz, Marelie, Marelly, Marena, Margret, Mariaceleste, Mariaemilia, Marianela, Mariapaula, Mariateresa, Mariem, Marieme, Marigold, Marija, Marilena, Mariluz, Marino, Marisabel, Marium, Marjory, Markavion, Markeese, Markella, Markevion, Markiyah, Marlaina, Marline, Marlyne, Marni, Marquavion, Marrion, Marrisa, Marry, Marsean, Marshun, Martinjr, Martino, Martrell, Martynas, Marvella, Marven, Marvion, Marvyn, Marybella, Marybelle, Maryela, Maryella, Marykatherine, Marylyn, Marylynn, Marysa, Maryse, Masha, Mashayla, Masiya, Masson, Mataio, Matalyn, Mathayus, Mathea, Mathews, Matis, Matison, Matisyahu, Mato, Mattheus, Matthewjames, Mattingly, Maveric, Mavrik, Maxamillion, Maxen, Maxi, Maxymilian, Mayalen, Mayan, Mayank, Mayara, Maygan, Maytal, Maytte, Mc, Mccrae, Mckaela, Mckennah, Mckenzey, Mckenzye, Mckinnley, Mckinzee, Mckinzy, Mckoy, Meelah, Meeya, Megumi, Mehr, Mehreen, Meila, Meiling, Meilyn, Mela, Melchor, Melea, Meleana, Melecio, Meleena, Meleni, Melida, Mellisa, Menasha, Meng, Menna, Mercer, Merelyn, Meriah, Merilyn, Merit, Merna, Meron, Merrik, Mery, Messi, Meygan, Mher, Miaisabella, Micaella, Micahel, Micel, Michale, Michelina, Michiah, Michoel, Mickael, Migdalia, Mihran, Mikaeel, Mikeila, Mikela, Mikhaela, Mikiya, Miklo, Mileah, Mileigh, Milenka, Mileydi, Miliano, Milos, Min, Minah, Minha, Minnah, Miqueas, Miquela, Mirai, Mirakle, Miral, Mirely, Mirielle, Miron, Miroslav, Mirza, Misel, Mishel, Misk, Mister, Mithra, Miu, Mixtli, Miyonna, Miyu, Miyuki, Mj, Mkayla, Mohamadali, Mohamadou, Mohan, Momina, Monalisa, Moncerat, Moncerrath, Montae, Montanna, Montzerrat, Monzeratt, Moorea, Mordchai, Morrissey, Mouhamad, Mourad, Moustafa, Muaad, Muhammadali, Mujahid, Mujtaba, Mukhtar, Mukund, Munachiso, Mung, Munirah, Muntas, Murat, Mursal, Mychaela, Mychelle, Mykael, Mykalah, Mykale, Mylea, Myley, Myli, Mylin, Mystique, Naailah, Naama, Naasia, Naasir, Naava, Naba, Nabor, Nadeem, Nadezhda, Nadja, Naeema, Naeemah, Nahlia, Nahshon, Nahsir, Naiara, Naiema, Naika, Nailani, Nain, Naiovy, Naithen, Naji, Najir, Najmo, Nakhia, Nakira, Nakya, Nakyia, Nakyla, Nalini, Namirah, Namish, Namrata, Nandan, Nandi, Nanette, Naoki, Narali, Nari, Nasean, Nashay, Nasia, Nasier, Nasif, Nasire, Nastassja, Nataliah, Nathalye, Nathanal, Nathanuel, Nathin, Natnael, Natsumi, Nautika, Navah, Navarro, Navey, Naviah, Navie, Navina, Navneet, Nawaal, Naydeline, Naydelyn, Nayden, Nayeliz, Nayleah, Naylee, Nayra, Nayvie, Nayzeth, Nazeli, Nazia, Nazly, Nedved, Neeka, Neelah, Neeraj, Nefertari, Neidy, Neisha, Neli, Nelsy, Nemesis, Nephtalie, Neriyah, Nero, Netra, Nevaan, Nevah, Neven, Neya, Neysa, Nezar, Nhyla, Nicanor, Nicasio, Nicholaos, Nicholes, Nicholos, Nickita, Nicollas, Nicolly, Nida, Niema, Niesha, Nihira, Nik, Nikka, Nikoloz, Nilani, Nilmar, Nimco, Nirel, Nirvan, Nishan, Nishika, Nissa, Nissen, Nita, Nitika, Niveah, Nixie, Niyana, Niyanna, Nnamdi, No, Noahjames, Noeh, Nohealani, Nolberto, Nomi, Nona, Noriah, Novak, Novaleigh, Novalie, Nuala, Nube, Nuri, Nusaiba, Nyair, Nyala, Nyamal, Nyanna, Nyanza, Nyari, Nyasiah, Nycere, Nyeisha, Nyeli, Nyelli, Nyemah, Nygel, Nykerria, Nykira, Nykolas, Nylia, Nyquan, Nyrell, Nyshawn, Nyx, Oak, Oaks, Obi, Odaliz, Odell, Odeth, Oisin, Ole, Olegario, Oleksandr, Oliana, Oliva, Olivea, Oliverio, Olufemi, Oluwadamilola, Oluwaseun, Oluwaseyi, Oluwatomisin, Omaria, Omarie, Omran, Onalee, Ondine, Onesimo, Onyinyechi, Oracio, Orchid, Oreoluwa, Orian, Ornella, Orpha, Oshane, Oshea, Oshen, Osnas, Oswin, Oved, Oviya, Owais, Oyuki, Ozil, Pacey, Packer, Paco, Padma, Padraic, Paeton, Pahola, Paisyn, Paiten, Paitynn, Palak, Palin, Papa, Parnika, Parrish, Parthenia, Parys, Pate, Pater, Patrisha, Patsy, Paxon, Paxtyn, Payslee, Payzlee, Pecos, Peightyn, Pella, Pema, Pennelope, Percilla, Pernell, Pesha, Peytin, Phillipe, Philopateer, Phyllis, Pieter, Pincus, Placido, Polo, Porsha, Posey, Prabhleen, Pragya, Prajna, Pranathi, Prentiss, Prescilla, Prescott, Preslea, Presten, Prestin, Priscella, Prynce, Pualani, Qalid, Quandarius, Quasir, Quavion, Quetzal, Quetzally, Quinlee, Quinley, Quinlyn, Quinterrius, Quintyn, Raahim, Raaina, Rachele, Radin, Radwan, Raechel, Rael, Raeley, Raeli, Raevyn, Rafan, Rafay, Raffaella, Rafia, Rafuel, Raha, Rahat, Rahiem, Raidyn, Rainbow, Rajdeep, Rajiv, Rakel, Rakin, Rakiya, Raley, Ramata, Ramces, Rameen, Ramell, Ranbir, Randee, Randiel, Ranferi, Ranijah, Rashaan, Rashan, Ravin, Ravleen, Rawley, Rayane, Rayansh, Raydon, Rayhona, Rayla, Rayland, Raylena, Raynav, Rayon, Razi, Raziah, Raziyah, Rea, Reagen, Reana, Reba, Rece, Record, Reda, Reemas, Reeva, Reeya, Reginal, Regis, Rehana, Rehman, Remas, Remie, Remigio, Remmy, Renesme, Renny, Retaj, Retal, Reygan, Reylene, Reyly, Rheya, Rhylan, Rhylin, Rhythm, Riannah, Riccardo, Ricco, Richy, Riddhima, Ridhaan, Rielyn, Rihaan, Riham, Rika, Rinoa, Rishit, Rivaan, Rivaldo, Rivan, Riyad, Rizwan, Rjay, Roark, Robben, Roby, Roc, Rocsi, Rodger, Rohaan, Rohith, Rokia, Rolen, Rollins, Romaisa, Romano, Rona, Ronell, Roniel, Rosaisela, Rosaleigh, Rosalin, Rosanne, Rosaria, Roseanna, Roselia, Roselie, Roseline, Rosely, Rosene, Rosha, Rosibel, Rosina, Rossi, Roston, Rouguiatou, Rowena, Roxi, Rozalynn, Roze, Rubee, Rubens, Rubina, Rudi, Rudolfo, Rukaya, Ruperto, Ruqaya, Ruqayyah, Rus, Rustyn, Ruthanna, Rutledge, Ryana, Ryane, Rydan, Ryenn, Ryer, Ryleeann, Rylon, Ryman, Saahir, Saathvik, Saatvik, Sabah, Sabarin, Sable, Sabra, Sabrie, Sabrin, Sachiko, Sadhana, Sadiee, Sadiyah, Sadler, Sadrac, Sady, Sadye, Safi, Safiatou, Safina, Sagan, Sahas, Sahmir, Sahori, Saidy, Saifullah, Sair, Sairy, Sajada, Sajan, Sakai, Sakariye, Salesi, Salif, Saliha, Saliyah, Salmo, Samai, Samanthamarie, Samanyu, Sameerah, Samera, Sameria, Samhitha, Samik, Samiul, Samorah, Samoria, Samra, Samreen, Samyak, Sanae, Sanaia, Sandeep, Sandie, Sandor, Sanii, Saniyya, Sanjida, Sankalp, Sanna, Santasia, Sanyia, Sarae, Sarahgrace, Saraiah, Saraih, Saraiya, Saralyn, Sarely, Sarika, Sarine, Sarrinah, Saryn, Saud, Saumya, Saurav, Savier, Savir, Savon, Savreen, Savvy, Saxton, Sayana, Saysha, Sayvion, Seananthony, Seanpatrick, Secilia, Seeley, Seirra, Seleen, Selenia, Sema, Senai, Senia, Seniyah, Sensi, Sereena, Serenitee, Seri, Serigne, Seriyah, Serra, Seryna, Setareh, Setayesh, Sevak, Severo, Sevilla, Sevinch, Seydou, Seylah, Seynabou, Shabd, Shabnam, Shadi, Shadia, Shadiamond, Shadrach, Shaelee, Shahan, Shaheen, Shaianne, Shailen, Shaily, Shakim, Shakiyah, Shalee, Shalim, Shalimar, Shalva, Shama, Shamell, Shamiracle, Shamirah, Shamyah, Shamyia, Shanai, Shandi, Shaniece, Shanzay, Shara, Sharell, Shari, Shariff, Shariq, Sharla, Sharrod, Shatavia, Shatha, Shawntez, Shaydon, Shayma, Shem, Sherif, Sherlene, Sherlynn, Sherri, Sherrie, Sheylin, Sheza, Shian, Shianna, Shifa, Shilat, Shilynn, Shine, Shir, Shiran, Shireen, Shivali, Shmeil, Shneor, Shoaib, Shohjahon, Shomari, Shouana, Shraddha, Shravya, Shreyansh, Shrihan, Shriyan, Shriyans, Shuaib, Shuban, Shubham, Shulamis, Shyasia, Shymir, Siah, Siam, Sibylla, Sidi, Sidnee, Sieanna, Siennah, Sigifredo, Sihaam, Sila, Siler, Simarpreet, Simranjit, Simrit, Simy, Sinahi, Sindhu, Sindi, Sinthia, Sion, Sirenity, Siria, Siris, Sirius, Sirus, Sitlali, Skyelynn, Skylor, Slaton, Sloka, Smrithi, Snigdha, Sofija, Sohil, Solay, Solon, Solstice, Solyana, Somer, Somtochukwu, Somya, Sonakshi, Sonal, Sonnet, Sonnie, Sonoma, Sophiagrace, Sophiah, Sophy, Soul, Soumya, Spenser, Spring, Sreeja, Stalin, Starlee, Starlene, Starlett, Starlynn, Stassi, Stavro, Stefanos, Steffani, Steffen, Steffi, Stellarose, Storie, Strummer, Su, Sua, Suad, Sucely, Sue, Sufyaan, Suheidy, Suhey, Sukanya, Sukhpreet, Sulayman, Suleima, Suley, Sumayya, Sumedha, Sumer, Sumner, Surabhi, Suriyah, Surveen, Susanne, Swayzie, Syair, Syaire, Syanna, Syire, Symantha, Synai, Syon, Syrah, Syrai, Syrianna, Syris, Ta, Tabetha, Tabor, Tabytha, Taeler, Taequan, Taeshawn, Tahari, Taheem, Tahitoa, Tahjir, Tahjmir, Taide, Taige, Taija, Taisley, Taitum, Taiya, Tajae, Tajh, Takai, Takeshi, Takhia, Takia, Talar, Talasia, Taleyah, Talik, Talina, Taline, Tallula, Talulah, Talus, Tamana, Tamanna, Tamarah, Tamarcus, Tameem, Tamim, Tamryn, Tamyah, Tan, Tanea, Tanesha, Taniela, Tanmay, Tanveer, Tanyon, Taras, Tarell, Tarryn, Tarynn, Tashana, Tashawna, Taslin, Tasmia, Tatevik, Tatiyanna, Tavita, Tayana, Tayde, Tayo, Tayon, Tayona, Tayonna, Tayquan, Taysean, Tayshon, Tayshun, Tayte, Tayzlee, Taziyah, Tedrick, Teja, Tejon, Telia, Temiloluwa, Temmy, Temur, Teniola, Tenleigh, Tensley, Teodora, Teona, Terique, Terrah, Terryn, Teshawn, Teyla, Teyona, Thaddaeus, Thamara, Thanh, Thanya, Thao, Thayer, Theadora, Theia, Theodoros, Thi, Thora, Tianah, Tiannah, Tiarah, Tiasia, Tighe, Tihani, Tilda, Timara, Timaya, Tin, Tinlee, Tion, Tionne, Tisha, Tiwatope, Tiya, Tniya, Tobechukwu, Tobyn, Toccara, Toluwalase, Toma, Tomoki, Toney, Tonia, Tonny, Topacio, Tora, Torianna, Toriano, Toure, Townsend, Traevion, Tram, Tramon, Trang, Trashawn, Trask, Trason, Traxton, Traylon, Trayon, Tremel, Trenden, Tres, Treshon, Treshun, Trevell, Treyon, Treyshawn, Trianna, Trig, Trinitie, Trung, Tryniti, Trynity, Trysta, Trystin, Tsion, Tsitsiki, Tuan, Tuck, Tuleen, Tulsi, Tushar, Tya, Tyashia, Tycen, Tycho, Tydus, Tyesha, Tyion, Tyke, Tykeem, Tylashia, Tymarion, Tynan, Tyneshia, Tynleigh, Tyrah, Tyreik, Tyrel, Tyriana, Tyrice, Tyrie, Tyrielle, Tysir, Tyvon, Tywan, Tzipa, Tzivi, Uchenna, Ugochukwu, Ulani, Ulyana, Umaiza, Umer, Umme, Urias, Usiel, Uziah, Vaani, Vaden, Vaishnav, Valdemar, Valerye, Vaneza, Vanness, Vanshika, Varick, Varshini, Varvara, Vashti, Vasilisa, Vedansh, Veera, Velia, Vella, Verania, Verenise, Vianet, Vianne, Vibhav, Vicktoria, Videl, Vidushi, Vignesh, Vikrant, Vin, Vineet, Vinicio, Viren, Vitali, Vitor, Viva, Vivia, Vivika, Vivyana, Viyan, Volf, Volvi, Vonn, Vuk, Vung, Wally, Walt, Walton, Wanda, Waris, Washington, Webb, Wendall, Wendolyn, Weslie, Wesly, Weslyn, Wess, Wheeler, Whit, Whitman, Whittaker, Wicahpi, Wiktor, Wil, Wilfrido, Wiliam, Wilkens, Wilton, Winsley, Wolfe, Woodley, Wright, Wyeth, Wynston, Xandra, Xayla, Xaylee, Xela, Xia, Xiadani, Xian, Xiao, Xiara, Xion, Xitlally, Xochilth, Xoey, Xolani, Xuan, Xylina, Xymena, Yaacov, Yacqub, Yadir, Yadirah, Yafet, Yagmur, Yago, Yahshua, Yailene, Yailyn, Yakeline, Yalexi, Yamato, Yandell, Yaneisy, Yanell, Yanellie, Yanette, Yanina, Yanique, Yanis, Yann, Yanna, Yaqueline, Yarelin, Yareliz, Yaremi, Yarethzi, Yaretsy, Yari, Yariah, Yaribeth, Yarisbeth, Yaroslav, Yashica, Yasirah, Yaslene, Yavuz, Yaxiel, Yazleemar, Yazlyn, Yegor, Yeiden, Yeila, Yelenis, Yeneisy, Yenna, Yeraldi, Yeraldine, Yerick, Yesmin, Yezenia, Yhair, Yianna, Yiannis, Yichen, Yilia, Ying, Yisell, Yissachar, Yissochor, Yitel, Yo, Yoali, Yobany, Yoceline, Yohance, Yomara, Yomtov, Yonason, Yordan, Yordy, Yosbel, Yoscar, Yossef, Yosuf, Yoyo, Ysenia, Yuan, Yudany, Yuepheng, Yuhan, Yukari, Yulie, Yulitza, Yumalai, Yumiko, Yuren, Yuriel, Yussef, Yussuf, Yvan, Yveth, Yvett, Zaakir, Zacari, Zacaria, Zacariah, Zaheer, Zahrah, Zahro, Zaidee, Zailee, Zailynn, Zaima, Zaineb, Zaiya, Zakkery, Zakyra, Zaliah, Zamauri, Zamyah, Zamyria, Zana, Zanae, Zanai, Zanaria, Zanayah, Zandra, Zani, Zaniel, Zanna, Zanyia, Zarahi, Zaraya, Zareena, Zarela, Zariel, Zarin, Zarius, Zaryiah, Zaveon, Zavior, Zayana, Zaybree, Zayde, Zaydrian, Zayed, Zayley, Zayli, Zayvian, Zayvien, Zayyan, Zeba, Zebastian, Zeena, Zeenat, Zeeshan, Zeferino, Zein, Zeinabou, Zekhi, Zeltzin, Zemirah, Zenab, Zeniyah, Zeno, Zenon, Zerenity, Zeyad, Ziare, Zienna, Zimere, Zinachidi, Zita, Zitlalli, Ziv, Ziyan, Ziza, Zlatan, Zniyah, Zo, Zoejane, Zoelle, Zohaib, Zohal, Zorawar, Zoria, Zosia, Zuleidy, Zunaira, Zyairah, Zyeria, Zyien, Zyire, Zykeriah, Zykierra, Zymari, Zyquavious, Zyren\n"
     ]
    }
   ],
   "source": [
    "name_count_df = (df.groupby('Name')['Count'].count().reset_index())\n",
    "\n",
    "max_count = name_count_df['Count'].max()\n",
    "min_count = name_count_df['Count'].min()\n",
    "\n",
    "# 找到最大值和最小值对应的Name\n",
    "max_names = name_count_df.loc[name_count_df['Count'] == max_count, 'Name'].tolist()\n",
    "min_names = name_count_df.loc[name_count_df['Count'] == min_count, 'Name'].tolist()\n",
    "\n",
    "print(f\"最大值为：{max_count}, 对应的Name有：{', '.join(max_names)}\")\n",
    "print(f\"最小值为：{min_count}, 对应的Name有：{', '.join(min_names)}\")"
   ],
   "metadata": {
    "collapsed": false,
    "ExecuteTime": {
     "end_time": "2024-03-27T01:29:28.273996300Z",
     "start_time": "2024-03-27T01:29:28.180592200Z"
    }
   },
   "id": "175c9fa4572789e7"
  }
 ],
 "metadata": {
  "kernelspec": {
   "display_name": "Python 3",
   "language": "python",
   "name": "python3"
  },
  "language_info": {
   "codemirror_mode": {
    "name": "ipython",
    "version": 2
   },
   "file_extension": ".py",
   "mimetype": "text/x-python",
   "name": "python",
   "nbconvert_exporter": "python",
   "pygments_lexer": "ipython2",
   "version": "2.7.6"
  }
 },
 "nbformat": 4,
 "nbformat_minor": 5
}
