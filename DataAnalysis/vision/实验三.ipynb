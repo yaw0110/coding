{
 "cells": [
  {
   "cell_type": "code",
   "execution_count": 1,
   "outputs": [],
   "source": [
    "import numpy as np\n",
    "import pandas as pd"
   ],
   "metadata": {
    "collapsed": false,
    "ExecuteTime": {
     "end_time": "2024-03-19T13:26:29.337853400Z",
     "start_time": "2024-03-19T13:26:28.632235800Z"
    }
   },
   "id": "d3eceff2d3d7fd42"
  },
  {
   "cell_type": "code",
   "execution_count": 3,
   "outputs": [
    {
     "name": "stdout",
     "output_type": "stream",
     "text": [
      "0      India\n",
      "1     Canada\n",
      "2    Germany\n",
      "Name: Countries, dtype: object\n"
     ]
    }
   ],
   "source": [
    "Countries = pd.Series([\"India\", \"Canada\", \"Germany\"], name=\"Countries\")\n",
    "print(Countries)"
   ],
   "metadata": {
    "collapsed": false,
    "ExecuteTime": {
     "end_time": "2024-03-19T13:27:05.339722900Z",
     "start_time": "2024-03-19T13:27:05.330056600Z"
    }
   },
   "id": "initial_id"
  },
  {
   "cell_type": "code",
   "execution_count": 4,
   "outputs": [
    {
     "name": "stdout",
     "output_type": "stream",
     "text": [
      "IND        India\n",
      "CAN       Canada\n",
      "AUS    Australia\n",
      "JAP        Japan\n",
      "GER      Germany\n",
      "FRA       France\n",
      "Name: Countries, dtype: object\n"
     ]
    }
   ],
   "source": [
    "values = [\"India\", \"Canada\", \"Australia\", \"Japan\", \"Germany\", \"France\"]\n",
    "inds = [\"IND\", \"CAN\", \"AUS\", \"JAP\", \"GER\", \"FRA\"]\n",
    "\n",
    "Countries = pd.Series(values, index=inds, name=\"Countries\")\n",
    "print(Countries)"
   ],
   "metadata": {
    "collapsed": false,
    "ExecuteTime": {
     "end_time": "2024-03-19T13:28:42.459350200Z",
     "start_time": "2024-03-19T13:28:42.446868Z"
    }
   },
   "id": "2316877b99c77f89"
  },
  {
   "cell_type": "code",
   "execution_count": 16,
   "outputs": [
    {
     "name": "stdout",
     "output_type": "stream",
     "text": [
      "           Score\n",
      "Jane         4.6\n",
      "Nick         8.3\n",
      "Aaron        9.0\n",
      "Penelope     3.3\n",
      "Dean         1.8\n",
      "Christina    9.5\n",
      "Cornelia     2.2\n",
      "           Color  Score\n",
      "Jane        Blue    4.6\n",
      "Nick       Green    8.3\n",
      "Aaron        Red    9.0\n",
      "Penelope   White    3.3\n",
      "Dean        Gray    1.8\n",
      "Christina  Black    9.5\n",
      "Cornelia     Red    2.2\n",
      "           Age  Height\n",
      "Jane        30     165\n",
      "Nick        20      70\n",
      "Aaron       22     120\n",
      "Penelope    40      80\n",
      "Dean        32     180\n",
      "Christina   28     172\n",
      "Cornelia    39     150\n",
      "           Age  Height  Score\n",
      "Jane        30     165    4.6\n",
      "Nick        20      70    8.3\n",
      "Aaron       22     120    9.0\n",
      "Penelope    40      80    3.3\n",
      "Dean        32     180    1.8\n",
      "Christina   28     172    9.5\n",
      "Cornelia    39     150    2.2\n"
     ]
    }
   ],
   "source": [
    "\n",
    "df = pd.DataFrame(data = {'Age': [30, 20, 22, 40, 32, 28, 39], \n",
    "                   'Color': ['Blue', 'Green', 'Red', 'White', 'Gray', 'Black', 'Red'], \n",
    "                   'Food': ['Steak', 'Lamb', 'Mango', 'Apple', 'Cheese', 'Melon', 'Beans'], \n",
    "                   'Height': [165, 70, 120, 80, 180, 172, 150], \n",
    "                   'Score': [4.6, 8.3, 9.0, 3.3, 1.8, 9.5, 2.2], \n",
    "                   'State': ['NY', 'TX', 'FL', 'AL', 'AK', 'TX', 'TX']}, \n",
    "                  index = ['Jane', 'Nick', 'Aaron', 'Penelope', 'Dean', 'Christina', 'Cornelia'])\n",
    "\n",
    "# 1、显示Score列\n",
    "print(df[['Score']])\n",
    "# 2、显示Color、Score两列\n",
    "print(df[['Color','Score']])\n",
    "# 3、显示为整数值的列\n",
    "print(df.select_dtypes('int'))\n",
    "# 4、显示非字符串的列\n",
    "print(df.select_dtypes(exclude='object'))"
   ],
   "metadata": {
    "collapsed": false,
    "ExecuteTime": {
     "end_time": "2024-03-19T13:38:02.968992700Z",
     "start_time": "2024-03-19T13:38:02.953149500Z"
    }
   },
   "id": "248cc06958ba7f0e"
  },
  {
   "cell_type": "code",
   "execution_count": 23,
   "outputs": [
    {
     "name": "stdout",
     "output_type": "stream",
     "text": [
      "          Age  Color   Food  Height  Score State\n",
      "Penelope   40  White  Apple      80    3.3    AL\n",
      "          Age Color    Food  Height  Score State\n",
      "Cornelia   39   Red   Beans     150    2.2    TX\n",
      "Jane       30  Blue   Steak     165    4.6    NY\n",
      "Dean       32  Gray  Cheese     180    1.8    AK\n",
      "          Age  Color    Food  Height  Score State\n",
      "Aaron      22    Red   Mango     120    9.0    FL\n",
      "Penelope   40  White   Apple      80    3.3    AL\n",
      "Dean       32   Gray  Cheese     180    1.8    AK\n"
     ]
    }
   ],
   "source": [
    "df = pd.DataFrame(data = {'Age': [30, 20, 22, 40, 32, 28, 39], \n",
    "                   'Color': ['Blue', 'Green', 'Red', 'White', 'Gray', 'Black', 'Red'], \n",
    "                   'Food': ['Steak', 'Lamb', 'Mango', 'Apple', 'Cheese', 'Melon', 'Beans'], \n",
    "                   'Height': [165, 70, 120, 80, 180, 172, 150], \n",
    "                   'Score': [4.6, 8.3, 9.0, 3.3, 1.8, 9.5, 2.2], \n",
    "                   'State': ['NY', 'TX', 'FL', 'AL', 'AK', 'TX', 'TX']}, \n",
    "                  index = ['Jane', 'Nick', 'Aaron', 'Penelope', 'Dean', 'Christina', 'Cornelia'])\n",
    "\n",
    "# 显示Penelope行\n",
    "print(df.loc[['Penelope']])\n",
    "# 显示Cornelia, Jane, Dean三行\n",
    "print(df.loc[['Cornelia', 'Jane', 'Dean']])\n",
    "# 显示Aaron到Dean行（包括Dean行）\n",
    "print(df.loc['Aaron':'Dean'])"
   ],
   "metadata": {
    "collapsed": false,
    "ExecuteTime": {
     "end_time": "2024-03-19T13:42:32.362939100Z",
     "start_time": "2024-03-19T13:42:32.336270900Z"
    }
   },
   "id": "364f1f4ec33f35cf"
  },
  {
   "cell_type": "code",
   "execution_count": 31,
   "outputs": [
    {
     "name": "stdout",
     "output_type": "stream",
     "text": [
      "          Age  Color   Food  Height  Score State\n",
      "Penelope   40  White  Apple      80    3.3    AL\n",
      "          Age Color    Food  Height  Score State\n",
      "Cornelia   39   Red   Beans     150    2.2    TX\n",
      "Jane       30  Blue   Steak     165    4.6    NY\n",
      "Dean       32  Gray  Cheese     180    1.8    AK\n",
      "          Age  Color    Food  Height  Score State\n",
      "Aaron      22    Red   Mango     120    9.0    FL\n",
      "Penelope   40  White   Apple      80    3.3    AL\n",
      "Dean       32   Gray  Cheese     180    1.8    AK\n"
     ]
    }
   ],
   "source": [
    "df = pd.DataFrame(data = {'Age': [30, 20, 22, 40, 32, 28, 39], \n",
    "                   'Color': ['Blue', 'Green', 'Red', 'White', 'Gray', 'Black', 'Red'], \n",
    "                   'Food': ['Steak', 'Lamb', 'Mango', 'Apple', 'Cheese', 'Melon', 'Beans'], \n",
    "                   'Height': [165, 70, 120, 80, 180, 172, 150], \n",
    "                   'Score': [4.6, 8.3, 9.0, 3.3, 1.8, 9.5, 2.2], \n",
    "                   'State': ['NY', 'TX', 'FL', 'AL', 'AK', 'TX', 'TX']}, \n",
    "                  index = ['Jane', 'Nick', 'Aaron', 'Penelope', 'Dean', 'Christina', 'Cornelia'])\n",
    "\n",
    "# 1、显示Penelope行\n",
    "print(df.iloc[[3]])\n",
    "# 2、显示Cornelia, Jane, Dean三行\n",
    "print(df.iloc[[-1, 0, -3]])\n",
    "# 3、显示Aaron到Dean行（包括Dean行）\n",
    "print(df.iloc[2:5,:])"
   ],
   "metadata": {
    "collapsed": false,
    "ExecuteTime": {
     "end_time": "2024-03-19T13:47:43.966062Z",
     "start_time": "2024-03-19T13:47:43.945142400Z"
    }
   },
   "id": "aee7eeb1b1e8d7bd"
  },
  {
   "cell_type": "code",
   "execution_count": 34,
   "outputs": [
    {
     "name": "stdout",
     "output_type": "stream",
     "text": [
      "          Color  Height\n",
      "Penelope  White      80\n",
      "           Color    Food  Height\n",
      "Penelope   White   Apple      80\n",
      "Dean        Gray  Cheese     180\n",
      "Christina  Black   Melon     172\n",
      "          Age State\n",
      "Jane       30    NY\n",
      "Penelope   40    AL\n",
      "Cornelia   39    TX\n"
     ]
    }
   ],
   "source": [
    "df = pd.DataFrame(data = {'Age': [30, 20, 22, 40, 32, 28, 39], \n",
    "                   'Color': ['Blue', 'Green', 'Red', 'White', 'Gray', 'Black', 'Red'], \n",
    "                   'Food': ['Steak', 'Lamb', 'Mango', 'Apple', 'Cheese', 'Melon', 'Beans'], \n",
    "                   'Height': [165, 70, 120, 80, 180, 172, 150], \n",
    "                   'Score': [4.6, 8.3, 9.0, 3.3, 1.8, 9.5, 2.2], \n",
    "                   'State': ['NY', 'TX', 'FL', 'AL', 'AK', 'TX', 'TX']}, \n",
    "                  index = ['Jane', 'Nick', 'Aaron', 'Penelope', 'Dean', 'Christina', 'Cornelia'])\n",
    "\n",
    "# 1、选取Penelope行，Color、Height两列\n",
    "print(df.loc[['Penelope'],['Color','Height']])\n",
    "# 2、选取Penelope到Christina三行，Color到Height三列\n",
    "print(df.loc['Penelope':'Christina','Color':'Height'])\n",
    "# 3、选取Jane、Penelope、Cornelia三行，Age、State两列\n",
    "print(df.loc[['Jane','Penelope','Cornelia'],['Age','State']])"
   ],
   "metadata": {
    "collapsed": false,
    "ExecuteTime": {
     "end_time": "2024-03-19T13:49:55.507112700Z",
     "start_time": "2024-03-19T13:49:55.451360400Z"
    }
   },
   "id": "67a4f0293bd9d088"
  },
  {
   "cell_type": "code",
   "execution_count": 37,
   "outputs": [
    {
     "name": "stdout",
     "output_type": "stream",
     "text": [
      "          Color  Height\n",
      "Penelope  White      80\n",
      "           Color    Food  Height\n",
      "Penelope   White   Apple      80\n",
      "Dean        Gray  Cheese     180\n",
      "Christina  Black   Melon     172\n",
      "          Age State\n",
      "Jane       30    NY\n",
      "Penelope   40    AL\n",
      "Cornelia   39    TX\n"
     ]
    }
   ],
   "source": [
    "df = pd.DataFrame(data = {'Age': [30, 20, 22, 40, 32, 28, 39], \n",
    "                   'Color': ['Blue', 'Green', 'Red', 'White', 'Gray', 'Black', 'Red'], \n",
    "                   'Food': ['Steak', 'Lamb', 'Mango', 'Apple', 'Cheese', 'Melon', 'Beans'], \n",
    "                   'Height': [165, 70, 120, 80, 180, 172, 150], \n",
    "                   'Score': [4.6, 8.3, 9.0, 3.3, 1.8, 9.5, 2.2], \n",
    "                   'State': ['NY', 'TX', 'FL', 'AL', 'AK', 'TX', 'TX']}, \n",
    "                  index = ['Jane', 'Nick', 'Aaron', 'Penelope', 'Dean', 'Christina', 'Cornelia'])\n",
    "\n",
    "# 1、选取Penelope行，Color、Height两列\n",
    "print(df.iloc[[3],[1,3]])\n",
    "# 2、选取Penelope到Christina三行，Color到Height三列\n",
    "print(df.iloc[-4:-1,1:4])\n",
    "# 3、选取Jane、Penelope、Cornelia三行，Age、State两列\n",
    "print(df.iloc[[0,3,-1],[0,-1]])"
   ],
   "metadata": {
    "collapsed": false,
    "ExecuteTime": {
     "end_time": "2024-03-19T13:53:03.788014700Z",
     "start_time": "2024-03-19T13:53:03.768993800Z"
    }
   },
   "id": "fd5a0b06b5d9fbf2"
  },
  {
   "cell_type": "code",
   "execution_count": 52,
   "outputs": [
    {
     "data": {
      "text/plain": "           Age  Color    Food  Height  Score State\nJane        30   Blue   Steak     165    4.6    NY\nNick        20  Green    Lamb      70    8.3    TX\nAaron       22    Red   Mango     120    9.0    FL\nPenelope    40  White   Apple      80    3.3    AL\nDean        32   Gray  Cheese     180    1.8    AK\nChristina   28  Black   Melon     172    9.5    TX\nCornelia    39    Red   Beans     150    2.2    TX",
      "text/html": "<div>\n<style scoped>\n    .dataframe tbody tr th:only-of-type {\n        vertical-align: middle;\n    }\n\n    .dataframe tbody tr th {\n        vertical-align: top;\n    }\n\n    .dataframe thead th {\n        text-align: right;\n    }\n</style>\n<table border=\"1\" class=\"dataframe\">\n  <thead>\n    <tr style=\"text-align: right;\">\n      <th></th>\n      <th>Age</th>\n      <th>Color</th>\n      <th>Food</th>\n      <th>Height</th>\n      <th>Score</th>\n      <th>State</th>\n    </tr>\n  </thead>\n  <tbody>\n    <tr>\n      <th>Jane</th>\n      <td>30</td>\n      <td>Blue</td>\n      <td>Steak</td>\n      <td>165</td>\n      <td>4.6</td>\n      <td>NY</td>\n    </tr>\n    <tr>\n      <th>Nick</th>\n      <td>20</td>\n      <td>Green</td>\n      <td>Lamb</td>\n      <td>70</td>\n      <td>8.3</td>\n      <td>TX</td>\n    </tr>\n    <tr>\n      <th>Aaron</th>\n      <td>22</td>\n      <td>Red</td>\n      <td>Mango</td>\n      <td>120</td>\n      <td>9.0</td>\n      <td>FL</td>\n    </tr>\n    <tr>\n      <th>Penelope</th>\n      <td>40</td>\n      <td>White</td>\n      <td>Apple</td>\n      <td>80</td>\n      <td>3.3</td>\n      <td>AL</td>\n    </tr>\n    <tr>\n      <th>Dean</th>\n      <td>32</td>\n      <td>Gray</td>\n      <td>Cheese</td>\n      <td>180</td>\n      <td>1.8</td>\n      <td>AK</td>\n    </tr>\n    <tr>\n      <th>Christina</th>\n      <td>28</td>\n      <td>Black</td>\n      <td>Melon</td>\n      <td>172</td>\n      <td>9.5</td>\n      <td>TX</td>\n    </tr>\n    <tr>\n      <th>Cornelia</th>\n      <td>39</td>\n      <td>Red</td>\n      <td>Beans</td>\n      <td>150</td>\n      <td>2.2</td>\n      <td>TX</td>\n    </tr>\n  </tbody>\n</table>\n</div>"
     },
     "metadata": {},
     "output_type": "display_data"
    },
    {
     "name": "stdout",
     "output_type": "stream",
     "text": [
      "           Age  Color  Height\n",
      "Nick        20  Green      70\n",
      "Aaron       22    Red     120\n",
      "Christina   28  Black     172\n",
      "           Age  Color  Height\n",
      "Nick        20  Green      70\n",
      "Aaron       22    Red     120\n",
      "Christina   28  Black     172\n",
      "       Age Color   Food  Height  Score State\n",
      "Jane    30  Blue  Steak     165    4.6    NY\n",
      "Aaron   22   Red  Mango     120    9.0    FL\n",
      "       Age Color   Food  Height  Score State\n",
      "Jane    30  Blue  Steak     165    4.6    NY\n",
      "Aaron   22   Red  Mango     120    9.0    FL\n"
     ]
    }
   ],
   "source": [
    "\n",
    "df = pd.DataFrame(data = {'Age': [30, 20, 22, 40, 32, 28, 39], \n",
    "                   'Color': ['Blue', 'Green', 'Red', 'White', 'Gray', 'Black', 'Red'], \n",
    "                   'Food': ['Steak', 'Lamb', 'Mango', 'Apple', 'Cheese', 'Melon', 'Beans'], \n",
    "                   'Height': [165, 70, 120, 80, 180, 172, 150], \n",
    "                   'Score': [4.6, 8.3, 9.0, 3.3, 1.8, 9.5, 2.2], \n",
    "                   'State': ['NY', 'TX', 'FL', 'AL', 'AK', 'TX', 'TX']}, \n",
    "                  index = ['Jane', 'Nick', 'Aaron', 'Penelope', 'Dean', 'Christina', 'Cornelia'])\n",
    "\n",
    "display(df)\n",
    "\n",
    "# 1、返回Age小于30的Age、Color、Height三列，采用loc\n",
    "print(df[df['Age']<30].loc[:,['Age','Color','Height']])\n",
    "# 2、返回Age小于30的Age、Color、Height三列，采用iloc\n",
    "print(df[df['Age']<30].iloc[:,[0,1,3]])\n",
    "# 3、返回Height在120到170之间，Score大于3的所有列，采用loc\n",
    "print(df.loc[(df['Height']>=120)&(df['Height']<=170)&(df['Score']>3),:])\n",
    "# 4、返回Height在120到170之间，Score大于3的所有列，采用iloc\n",
    "print(df.iloc[((df['Height']>=120)&(df['Height']<=170)&(df['Score']>3)).values,:])"
   ],
   "metadata": {
    "collapsed": false,
    "ExecuteTime": {
     "end_time": "2024-03-19T14:05:41.961856400Z",
     "start_time": "2024-03-19T14:05:41.940158500Z"
    }
   },
   "id": "4b24d3a4ffcb52b8"
  },
  {
   "cell_type": "code",
   "execution_count": 48,
   "outputs": [
    {
     "name": "stdout",
     "output_type": "stream",
     "text": [
      "Original DataFrame:\n"
     ]
    },
    {
     "data": {
      "text/plain": "           Age  Color    Food  Height  Score State\nJane        30   Blue   Steak     165    4.6    NY\nNick        20  Green    Lamb      70    8.3    TX\nAaron       22    Red   Mango     120    9.0    FL\nPenelope    40  White   Apple      80    3.3    AL\nDean        32   Gray  Cheese     180    1.8    AK\nChristina   28  Black   Melon     172    9.5    TX\nCornelia    39    Red   Beans     150    2.2    TX",
      "text/html": "<div>\n<style scoped>\n    .dataframe tbody tr th:only-of-type {\n        vertical-align: middle;\n    }\n\n    .dataframe tbody tr th {\n        vertical-align: top;\n    }\n\n    .dataframe thead th {\n        text-align: right;\n    }\n</style>\n<table border=\"1\" class=\"dataframe\">\n  <thead>\n    <tr style=\"text-align: right;\">\n      <th></th>\n      <th>Age</th>\n      <th>Color</th>\n      <th>Food</th>\n      <th>Height</th>\n      <th>Score</th>\n      <th>State</th>\n    </tr>\n  </thead>\n  <tbody>\n    <tr>\n      <th>Jane</th>\n      <td>30</td>\n      <td>Blue</td>\n      <td>Steak</td>\n      <td>165</td>\n      <td>4.6</td>\n      <td>NY</td>\n    </tr>\n    <tr>\n      <th>Nick</th>\n      <td>20</td>\n      <td>Green</td>\n      <td>Lamb</td>\n      <td>70</td>\n      <td>8.3</td>\n      <td>TX</td>\n    </tr>\n    <tr>\n      <th>Aaron</th>\n      <td>22</td>\n      <td>Red</td>\n      <td>Mango</td>\n      <td>120</td>\n      <td>9.0</td>\n      <td>FL</td>\n    </tr>\n    <tr>\n      <th>Penelope</th>\n      <td>40</td>\n      <td>White</td>\n      <td>Apple</td>\n      <td>80</td>\n      <td>3.3</td>\n      <td>AL</td>\n    </tr>\n    <tr>\n      <th>Dean</th>\n      <td>32</td>\n      <td>Gray</td>\n      <td>Cheese</td>\n      <td>180</td>\n      <td>1.8</td>\n      <td>AK</td>\n    </tr>\n    <tr>\n      <th>Christina</th>\n      <td>28</td>\n      <td>Black</td>\n      <td>Melon</td>\n      <td>172</td>\n      <td>9.5</td>\n      <td>TX</td>\n    </tr>\n    <tr>\n      <th>Cornelia</th>\n      <td>39</td>\n      <td>Red</td>\n      <td>Beans</td>\n      <td>150</td>\n      <td>2.2</td>\n      <td>TX</td>\n    </tr>\n  </tbody>\n</table>\n</div>"
     },
     "metadata": {},
     "output_type": "display_data"
    },
    {
     "name": "stdout",
     "output_type": "stream",
     "text": [
      "\n",
      "Result using loc for Age < 30:\n"
     ]
    },
    {
     "data": {
      "text/plain": "           Age  Color  Height\nNick        20  Green      70\nAaron       22    Red     120\nChristina   28  Black     172",
      "text/html": "<div>\n<style scoped>\n    .dataframe tbody tr th:only-of-type {\n        vertical-align: middle;\n    }\n\n    .dataframe tbody tr th {\n        vertical-align: top;\n    }\n\n    .dataframe thead th {\n        text-align: right;\n    }\n</style>\n<table border=\"1\" class=\"dataframe\">\n  <thead>\n    <tr style=\"text-align: right;\">\n      <th></th>\n      <th>Age</th>\n      <th>Color</th>\n      <th>Height</th>\n    </tr>\n  </thead>\n  <tbody>\n    <tr>\n      <th>Nick</th>\n      <td>20</td>\n      <td>Green</td>\n      <td>70</td>\n    </tr>\n    <tr>\n      <th>Aaron</th>\n      <td>22</td>\n      <td>Red</td>\n      <td>120</td>\n    </tr>\n    <tr>\n      <th>Christina</th>\n      <td>28</td>\n      <td>Black</td>\n      <td>172</td>\n    </tr>\n  </tbody>\n</table>\n</div>"
     },
     "metadata": {},
     "output_type": "display_data"
    },
    {
     "name": "stdout",
     "output_type": "stream",
     "text": [
      "\n",
      "Result using iloc for Age < 30:\n"
     ]
    },
    {
     "data": {
      "text/plain": "           Age  Color  Height\nNick        20  Green      70\nAaron       22    Red     120\nChristina   28  Black     172",
      "text/html": "<div>\n<style scoped>\n    .dataframe tbody tr th:only-of-type {\n        vertical-align: middle;\n    }\n\n    .dataframe tbody tr th {\n        vertical-align: top;\n    }\n\n    .dataframe thead th {\n        text-align: right;\n    }\n</style>\n<table border=\"1\" class=\"dataframe\">\n  <thead>\n    <tr style=\"text-align: right;\">\n      <th></th>\n      <th>Age</th>\n      <th>Color</th>\n      <th>Height</th>\n    </tr>\n  </thead>\n  <tbody>\n    <tr>\n      <th>Nick</th>\n      <td>20</td>\n      <td>Green</td>\n      <td>70</td>\n    </tr>\n    <tr>\n      <th>Aaron</th>\n      <td>22</td>\n      <td>Red</td>\n      <td>120</td>\n    </tr>\n    <tr>\n      <th>Christina</th>\n      <td>28</td>\n      <td>Black</td>\n      <td>172</td>\n    </tr>\n  </tbody>\n</table>\n</div>"
     },
     "metadata": {},
     "output_type": "display_data"
    },
    {
     "name": "stdout",
     "output_type": "stream",
     "text": [
      "\n",
      "Result using loc for Height (120-170) and Score > 3:\n"
     ]
    },
    {
     "data": {
      "text/plain": "       Age Color   Food  Height  Score State\nJane    30  Blue  Steak     165    4.6    NY\nAaron   22   Red  Mango     120    9.0    FL",
      "text/html": "<div>\n<style scoped>\n    .dataframe tbody tr th:only-of-type {\n        vertical-align: middle;\n    }\n\n    .dataframe tbody tr th {\n        vertical-align: top;\n    }\n\n    .dataframe thead th {\n        text-align: right;\n    }\n</style>\n<table border=\"1\" class=\"dataframe\">\n  <thead>\n    <tr style=\"text-align: right;\">\n      <th></th>\n      <th>Age</th>\n      <th>Color</th>\n      <th>Food</th>\n      <th>Height</th>\n      <th>Score</th>\n      <th>State</th>\n    </tr>\n  </thead>\n  <tbody>\n    <tr>\n      <th>Jane</th>\n      <td>30</td>\n      <td>Blue</td>\n      <td>Steak</td>\n      <td>165</td>\n      <td>4.6</td>\n      <td>NY</td>\n    </tr>\n    <tr>\n      <th>Aaron</th>\n      <td>22</td>\n      <td>Red</td>\n      <td>Mango</td>\n      <td>120</td>\n      <td>9.0</td>\n      <td>FL</td>\n    </tr>\n  </tbody>\n</table>\n</div>"
     },
     "metadata": {},
     "output_type": "display_data"
    },
    {
     "name": "stdout",
     "output_type": "stream",
     "text": [
      "\n",
      "Result using iloc for Height (120-170) and Score > 3:\n"
     ]
    },
    {
     "data": {
      "text/plain": "       Age Color   Food  Height  Score State\nJane    30  Blue  Steak     165    4.6    NY\nAaron   22   Red  Mango     120    9.0    FL",
      "text/html": "<div>\n<style scoped>\n    .dataframe tbody tr th:only-of-type {\n        vertical-align: middle;\n    }\n\n    .dataframe tbody tr th {\n        vertical-align: top;\n    }\n\n    .dataframe thead th {\n        text-align: right;\n    }\n</style>\n<table border=\"1\" class=\"dataframe\">\n  <thead>\n    <tr style=\"text-align: right;\">\n      <th></th>\n      <th>Age</th>\n      <th>Color</th>\n      <th>Food</th>\n      <th>Height</th>\n      <th>Score</th>\n      <th>State</th>\n    </tr>\n  </thead>\n  <tbody>\n    <tr>\n      <th>Jane</th>\n      <td>30</td>\n      <td>Blue</td>\n      <td>Steak</td>\n      <td>165</td>\n      <td>4.6</td>\n      <td>NY</td>\n    </tr>\n    <tr>\n      <th>Aaron</th>\n      <td>22</td>\n      <td>Red</td>\n      <td>Mango</td>\n      <td>120</td>\n      <td>9.0</td>\n      <td>FL</td>\n    </tr>\n  </tbody>\n</table>\n</div>"
     },
     "metadata": {},
     "output_type": "display_data"
    }
   ],
   "source": [
    "import pandas as pd\n",
    "\n",
    "df = pd.DataFrame(data={'Age': [30, 20, 22, 40, 32, 28, 39],\n",
    "                        'Color': ['Blue', 'Green', 'Red', 'White', 'Gray', 'Black', 'Red'],\n",
    "                        'Food': ['Steak', 'Lamb', 'Mango', 'Apple', 'Cheese', 'Melon', 'Beans'],\n",
    "                        'Height': [165, 70, 120, 80, 180, 172, 150],\n",
    "                        'Score': [4.6, 8.3, 9.0, 3.3, 1.8, 9.5, 2.2],\n",
    "                        'State': ['NY', 'TX', 'FL', 'AL', 'AK', 'TX', 'TX']},\n",
    "                  index=['Jane', 'Nick', 'Aaron', 'Penelope', 'Dean', 'Christina', 'Cornelia'])\n",
    "\n",
    "print(\"Original DataFrame:\")\n",
    "display(df)\n",
    "\n",
    "# 返回Age小于30的Age、Color、Height三列，采用loc\n",
    "result_loc_age_lt_30 = df.loc[df['Age'] < 30, ['Age', 'Color', 'Height']]\n",
    "print(\"\\nResult using loc for Age < 30:\")\n",
    "display(result_loc_age_lt_30)\n",
    "\n",
    "# 返回Age小于30的Age、Color、Height三列，采用iloc\n",
    "result_iloc_age_lt_30 = df.iloc[(df['Age'] < 30).values, [0, 1, 3]]\n",
    "print(\"\\nResult using iloc for Age < 30:\")\n",
    "display(result_iloc_age_lt_30)\n",
    "\n",
    "# 返回Height在120到170之间，Score大于3的所有列，采用loc\n",
    "result_loc_height_score = df.loc[(df['Height'] >= 120) & (df['Height'] <= 170) & (df['Score'] > 3)]\n",
    "print(\"\\nResult using loc for Height (120-170) and Score > 3:\")\n",
    "display(result_loc_height_score)\n",
    "\n",
    "# 返回Height在120到170之间，Score大于3的所有列，采用iloc\n",
    "result_iloc_height_score = df.iloc[((df['Height'] >= 120) & (df['Height'] <= 170) & (df['Score'] > 3)).values]\n",
    "print(\"\\nResult using iloc for Height (120-170) and Score > 3:\")\n",
    "display(result_iloc_height_score)\n"
   ],
   "metadata": {
    "collapsed": false,
    "ExecuteTime": {
     "end_time": "2024-03-19T14:00:04.763650800Z",
     "start_time": "2024-03-19T14:00:04.622592300Z"
    }
   },
   "id": "8268a065c9a29e7e"
  },
  {
   "cell_type": "code",
   "execution_count": 55,
   "outputs": [
    {
     "name": "stdout",
     "output_type": "stream",
     "text": [
      "DataFrame with DateTime Index and Filled with 0s:\n",
      "            A  B  C\n",
      "2023-01-01  0  0  0\n",
      "2023-01-02  0  0  0\n",
      "2023-01-03  0  0  0\n",
      "2023-01-04  0  0  0\n",
      "2023-01-05  0  0  0\n",
      "2023-01-06  0  0  0\n",
      "2023-01-07  0  0  0\n",
      "2023-01-08  0  0  0\n",
      "2023-01-09  0  0  0\n",
      "2023-01-10  0  0  0\n"
     ]
    }
   ],
   "source": [
    "import pandas as pd\n",
    "import datetime\n",
    "\n",
    "# 创建空的 DataFrame\n",
    "df = pd.DataFrame(columns=['A', 'B', 'C'])\n",
    "\n",
    "# 创建时间索引\n",
    "start_date = datetime.datetime(2023, 1, 1)\n",
    "end_date = datetime.datetime(2023, 1, 10)\n",
    "date_range = pd.date_range(start=start_date, end=end_date, freq='D')\n",
    "\n",
    "# 为 DataFrame 添加时间索引\n",
    "df = df.reindex(date_range)\n",
    "\n",
    "# 用 0 值填充\n",
    "df = df.fillna(0)\n",
    "\n",
    "print(\"DataFrame with DateTime Index and Filled with 0s:\")\n",
    "print(df)\n"
   ],
   "metadata": {
    "collapsed": false,
    "ExecuteTime": {
     "end_time": "2024-03-19T14:14:03.065226800Z",
     "start_time": "2024-03-19T14:14:03.017525300Z"
    }
   },
   "id": "759ed31111aae3ef"
  },
  {
   "cell_type": "code",
   "execution_count": 58,
   "outputs": [
    {
     "data": {
      "text/plain": "   C   A  B\nc  0   6  3\nb  1   8 -1\na  2  10  7",
      "text/html": "<div>\n<style scoped>\n    .dataframe tbody tr th:only-of-type {\n        vertical-align: middle;\n    }\n\n    .dataframe tbody tr th {\n        vertical-align: top;\n    }\n\n    .dataframe thead th {\n        text-align: right;\n    }\n</style>\n<table border=\"1\" class=\"dataframe\">\n  <thead>\n    <tr style=\"text-align: right;\">\n      <th></th>\n      <th>C</th>\n      <th>A</th>\n      <th>B</th>\n    </tr>\n  </thead>\n  <tbody>\n    <tr>\n      <th>c</th>\n      <td>0</td>\n      <td>6</td>\n      <td>3</td>\n    </tr>\n    <tr>\n      <th>b</th>\n      <td>1</td>\n      <td>8</td>\n      <td>-1</td>\n    </tr>\n    <tr>\n      <th>a</th>\n      <td>2</td>\n      <td>10</td>\n      <td>7</td>\n    </tr>\n  </tbody>\n</table>\n</div>"
     },
     "metadata": {},
     "output_type": "display_data"
    },
    {
     "name": "stdout",
     "output_type": "stream",
     "text": [
      "    A  B  C\n",
      "c   6  3  0\n",
      "b   8 -1  1\n",
      "a  10  7  2\n"
     ]
    }
   ],
   "source": [
    "data = {'C':[0,1,2], 'A':[6,8,10], 'B':[3,-1,7]}\n",
    "df = pd.DataFrame(data,index=['c','b','a'])\n",
    "display(df)\n",
    "\n",
    "# 1、改变列顺序从C A B到A B C\n",
    "df = df.reindex(columns=['A', 'B', 'C'])\n",
    "print(df)"
   ],
   "metadata": {
    "collapsed": false,
    "ExecuteTime": {
     "end_time": "2024-03-19T14:17:13.394311200Z",
     "start_time": "2024-03-19T14:17:13.355573800Z"
    }
   },
   "id": "50cce288fa552bfd"
  },
  {
   "cell_type": "code",
   "execution_count": 59,
   "outputs": [
    {
     "data": {
      "text/plain": "   C   A  B\nc  0   6  3\nb  1   8 -1\na  2  10  7",
      "text/html": "<div>\n<style scoped>\n    .dataframe tbody tr th:only-of-type {\n        vertical-align: middle;\n    }\n\n    .dataframe tbody tr th {\n        vertical-align: top;\n    }\n\n    .dataframe thead th {\n        text-align: right;\n    }\n</style>\n<table border=\"1\" class=\"dataframe\">\n  <thead>\n    <tr style=\"text-align: right;\">\n      <th></th>\n      <th>C</th>\n      <th>A</th>\n      <th>B</th>\n    </tr>\n  </thead>\n  <tbody>\n    <tr>\n      <th>c</th>\n      <td>0</td>\n      <td>6</td>\n      <td>3</td>\n    </tr>\n    <tr>\n      <th>b</th>\n      <td>1</td>\n      <td>8</td>\n      <td>-1</td>\n    </tr>\n    <tr>\n      <th>a</th>\n      <td>2</td>\n      <td>10</td>\n      <td>7</td>\n    </tr>\n  </tbody>\n</table>\n</div>"
     },
     "metadata": {},
     "output_type": "display_data"
    },
    {
     "name": "stdout",
     "output_type": "stream",
     "text": [
      "   C   A  B\n",
      "a  2  10  7\n",
      "b  1   8 -1\n",
      "c  0   6  3\n"
     ]
    }
   ],
   "source": [
    "data = {'C':[0,1,2], 'A':[6,8,10], 'B':[3,-1,7]}\n",
    "df = pd.DataFrame(data,index=['c','b','a'])\n",
    "display(df)\n",
    "\n",
    "# 2、改变行顺序从c b a到a b c\n",
    "df = df.reindex(['a','b','c'])\n",
    "print(df)"
   ],
   "metadata": {
    "collapsed": false,
    "ExecuteTime": {
     "end_time": "2024-03-19T14:19:53.255577200Z",
     "start_time": "2024-03-19T14:19:53.210090700Z"
    }
   },
   "id": "425ebfa9fbc8a619"
  },
  {
   "cell_type": "code",
   "execution_count": 61,
   "outputs": [
    {
     "data": {
      "text/plain": "           Age  Color    Food  Height  Score State\nJane        30   Blue   Steak     165    4.6    NY\nNick        20  Green    Lamb      70    8.3    TX\nAaron       22    Red   Mango     120    9.0    FL\nPenelope    40  White   Apple      80    3.3    AL\nDean        32   Gray  Cheese     180    1.8    AK\nChristina   28  Black   Melon     172    9.5    TX\nCornelia    39    Red   Beans     150    2.2    TX",
      "text/html": "<div>\n<style scoped>\n    .dataframe tbody tr th:only-of-type {\n        vertical-align: middle;\n    }\n\n    .dataframe tbody tr th {\n        vertical-align: top;\n    }\n\n    .dataframe thead th {\n        text-align: right;\n    }\n</style>\n<table border=\"1\" class=\"dataframe\">\n  <thead>\n    <tr style=\"text-align: right;\">\n      <th></th>\n      <th>Age</th>\n      <th>Color</th>\n      <th>Food</th>\n      <th>Height</th>\n      <th>Score</th>\n      <th>State</th>\n    </tr>\n  </thead>\n  <tbody>\n    <tr>\n      <th>Jane</th>\n      <td>30</td>\n      <td>Blue</td>\n      <td>Steak</td>\n      <td>165</td>\n      <td>4.6</td>\n      <td>NY</td>\n    </tr>\n    <tr>\n      <th>Nick</th>\n      <td>20</td>\n      <td>Green</td>\n      <td>Lamb</td>\n      <td>70</td>\n      <td>8.3</td>\n      <td>TX</td>\n    </tr>\n    <tr>\n      <th>Aaron</th>\n      <td>22</td>\n      <td>Red</td>\n      <td>Mango</td>\n      <td>120</td>\n      <td>9.0</td>\n      <td>FL</td>\n    </tr>\n    <tr>\n      <th>Penelope</th>\n      <td>40</td>\n      <td>White</td>\n      <td>Apple</td>\n      <td>80</td>\n      <td>3.3</td>\n      <td>AL</td>\n    </tr>\n    <tr>\n      <th>Dean</th>\n      <td>32</td>\n      <td>Gray</td>\n      <td>Cheese</td>\n      <td>180</td>\n      <td>1.8</td>\n      <td>AK</td>\n    </tr>\n    <tr>\n      <th>Christina</th>\n      <td>28</td>\n      <td>Black</td>\n      <td>Melon</td>\n      <td>172</td>\n      <td>9.5</td>\n      <td>TX</td>\n    </tr>\n    <tr>\n      <th>Cornelia</th>\n      <td>39</td>\n      <td>Red</td>\n      <td>Beans</td>\n      <td>150</td>\n      <td>2.2</td>\n      <td>TX</td>\n    </tr>\n  </tbody>\n</table>\n</div>"
     },
     "metadata": {},
     "output_type": "display_data"
    },
    {
     "data": {
      "text/plain": "Age         int64\nColor      object\nFood       object\nHeight      int64\nScore     float64\nState      object\ndtype: object"
     },
     "metadata": {},
     "output_type": "display_data"
    },
    {
     "name": "stdout",
     "output_type": "stream",
     "text": [
      "Age         int64\n",
      "Color      object\n",
      "Food       object\n",
      "Height    float64\n",
      "Score      object\n",
      "State      object\n",
      "dtype: object\n"
     ]
    }
   ],
   "source": [
    "df = pd.DataFrame(data = {'Age': [30, 20, 22, 40, 32, 28, 39], \n",
    "                   'Color': ['Blue', 'Green', 'Red', 'White', 'Gray', 'Black', 'Red'], \n",
    "                   'Food': ['Steak', 'Lamb', 'Mango', 'Apple', 'Cheese', 'Melon', 'Beans'], \n",
    "                   'Height': [165, 70, 120, 80, 180, 172, 150], \n",
    "                   'Score': [4.6, 8.3, 9.0, 3.3, 1.8, 9.5, 2.2], \n",
    "                   'State': ['NY', 'TX', 'FL', 'AL', 'AK', 'TX', 'TX']}, \n",
    "                  index = ['Jane', 'Nick', 'Aaron', 'Penelope', 'Dean', 'Christina', 'Cornelia'])\n",
    "\n",
    "display(df)\n",
    "display(df.dtypes)\n",
    "\n",
    "# 1、将Height列数据从int64改为float64\n",
    "df['Height'] = df['Height'].astype('float64')\n",
    "\n",
    "# 2、将Score列数据从float64改为str\n",
    "df['Score'] = df['Score'].astype('str')\n",
    "print(df.dtypes)"
   ],
   "metadata": {
    "collapsed": false,
    "ExecuteTime": {
     "end_time": "2024-03-19T14:22:42.535470700Z",
     "start_time": "2024-03-19T14:22:42.489064600Z"
    }
   },
   "id": "c655a04bfb0a9104"
  },
  {
   "cell_type": "code",
   "execution_count": 67,
   "outputs": [
    {
     "name": "stdout",
     "output_type": "stream",
     "text": [
      "           Age  Height  Score State  Color    Food\n",
      "Jane        30   165.0    4.6    NY    NaN     NaN\n",
      "Nick        20    70.0    8.3    TX    NaN     NaN\n",
      "Aaron       22   120.0    9.0    FL    NaN     NaN\n",
      "Penelope    40    80.0    3.3    AL    NaN     NaN\n",
      "Dean        32     NaN    1.8    AK   Gray  Cheese\n",
      "Christina   28     NaN    9.5    TX  Black   Melon\n",
      "Cornelia    39     NaN    2.2    TX    Red   Beans\n"
     ]
    }
   ],
   "source": [
    "\n",
    "df1 = pd.DataFrame({'Age': [30, 20, 22, 40], \n",
    "                    'Height': [165, 70, 120, 80], \n",
    "                    'Score': [4.6, 8.3, 9.0, 3.3], \n",
    "                    'State': ['NY', 'TX', 'FL', 'AL']}, \n",
    "                   index=['Jane', 'Nick', 'Aaron', 'Penelope'])\n",
    " \n",
    "df2 = pd.DataFrame({'Age': [32, 28, 39], \n",
    "                    'Color': ['Gray', 'Black', 'Red'],\n",
    "                    'Food': ['Cheese', 'Melon', 'Beans'],\n",
    "                    'Score': [1.8, 9.5, 2.2], 'State': ['AK', 'TX', 'TX']}, \n",
    "                   index=['Dean', 'Christina', 'Cornelia'])\n",
    "\n",
    "# df1和df2合，按列排序\n",
    "df3 = pd.concat([df1,df2])\n",
    "print(df3)"
   ],
   "metadata": {
    "collapsed": false,
    "ExecuteTime": {
     "end_time": "2024-03-19T14:35:14.192378500Z",
     "start_time": "2024-03-19T14:35:14.179482200Z"
    }
   },
   "id": "3164daf9d6c4b96"
  },
  {
   "cell_type": "code",
   "execution_count": 72,
   "outputs": [
    {
     "data": {
      "text/plain": "   Country  Income  Age\n0    China   10000   50\n1    China   10000   43\n2    India    5000   34\n3    India    5002   40\n4  America   40000   25\n5    Japan   50000   25\n6    China    8000   45\n7    India    5000   32",
      "text/html": "<div>\n<style scoped>\n    .dataframe tbody tr th:only-of-type {\n        vertical-align: middle;\n    }\n\n    .dataframe tbody tr th {\n        vertical-align: top;\n    }\n\n    .dataframe thead th {\n        text-align: right;\n    }\n</style>\n<table border=\"1\" class=\"dataframe\">\n  <thead>\n    <tr style=\"text-align: right;\">\n      <th></th>\n      <th>Country</th>\n      <th>Income</th>\n      <th>Age</th>\n    </tr>\n  </thead>\n  <tbody>\n    <tr>\n      <th>0</th>\n      <td>China</td>\n      <td>10000</td>\n      <td>50</td>\n    </tr>\n    <tr>\n      <th>1</th>\n      <td>China</td>\n      <td>10000</td>\n      <td>43</td>\n    </tr>\n    <tr>\n      <th>2</th>\n      <td>India</td>\n      <td>5000</td>\n      <td>34</td>\n    </tr>\n    <tr>\n      <th>3</th>\n      <td>India</td>\n      <td>5002</td>\n      <td>40</td>\n    </tr>\n    <tr>\n      <th>4</th>\n      <td>America</td>\n      <td>40000</td>\n      <td>25</td>\n    </tr>\n    <tr>\n      <th>5</th>\n      <td>Japan</td>\n      <td>50000</td>\n      <td>25</td>\n    </tr>\n    <tr>\n      <th>6</th>\n      <td>China</td>\n      <td>8000</td>\n      <td>45</td>\n    </tr>\n    <tr>\n      <th>7</th>\n      <td>India</td>\n      <td>5000</td>\n      <td>32</td>\n    </tr>\n  </tbody>\n</table>\n</div>"
     },
     "metadata": {},
     "output_type": "display_data"
    },
    {
     "name": "stdout",
     "output_type": "stream",
     "text": [
      "   Country  Income\n",
      "0    China   10000\n",
      "1    China   10000\n",
      "2    India    5000\n",
      "3    India    5002\n",
      "4  America   40000\n",
      "5    Japan   50000\n",
      "6    China    8000\n",
      "7    India    5000\n"
     ]
    }
   ],
   "source": [
    "df = pd.DataFrame({\n",
    "    'Country': ['China', 'China', 'India', 'India', 'America','Japan', 'China', 'India'], \n",
    "    'Income': [10000, 10000, 5000, 5002, 40000, 50000, 8000, 5000], \n",
    "    'Age': [50, 43, 34, 40, 25, 25, 45, 32]\n",
    "})\n",
    "display(df)\n",
    "\n",
    "# 1、删除第3行\n",
    "df.drop(2)\n",
    "# 2、删除Income列\n",
    "df.drop('Income',axis=1)\n",
    "# 3、删除Age列，原DataFrame发生改变，提示inplace参数\n",
    "df.drop('Age',axis=1,inplace=True)\n",
    "\n",
    "print(df)"
   ],
   "metadata": {
    "collapsed": false,
    "ExecuteTime": {
     "end_time": "2024-03-19T14:39:29.091931Z",
     "start_time": "2024-03-19T14:39:29.072164Z"
    }
   },
   "id": "d82e00b733f090cd"
  },
  {
   "cell_type": "code",
   "execution_count": 82,
   "outputs": [
    {
     "data": {
      "text/plain": "         Apple  Orange  Banana  Pear\nBasket1     10      20      30    40\nBasket2      7      14      21    28\nBasket3      5       5       0     0",
      "text/html": "<div>\n<style scoped>\n    .dataframe tbody tr th:only-of-type {\n        vertical-align: middle;\n    }\n\n    .dataframe tbody tr th {\n        vertical-align: top;\n    }\n\n    .dataframe thead th {\n        text-align: right;\n    }\n</style>\n<table border=\"1\" class=\"dataframe\">\n  <thead>\n    <tr style=\"text-align: right;\">\n      <th></th>\n      <th>Apple</th>\n      <th>Orange</th>\n      <th>Banana</th>\n      <th>Pear</th>\n    </tr>\n  </thead>\n  <tbody>\n    <tr>\n      <th>Basket1</th>\n      <td>10</td>\n      <td>20</td>\n      <td>30</td>\n      <td>40</td>\n    </tr>\n    <tr>\n      <th>Basket2</th>\n      <td>7</td>\n      <td>14</td>\n      <td>21</td>\n      <td>28</td>\n    </tr>\n    <tr>\n      <th>Basket3</th>\n      <td>5</td>\n      <td>5</td>\n      <td>0</td>\n      <td>0</td>\n    </tr>\n  </tbody>\n</table>\n</div>"
     },
     "metadata": {},
     "output_type": "display_data"
    },
    {
     "name": "stdout",
     "output_type": "stream",
     "text": [
      "|            |    Apple |   Orange |   Banana |    Pear |   Basket mean |\n",
      "|:-----------|---------:|---------:|---------:|--------:|--------------:|\n",
      "| Basket1    | 10       |       20 |       30 | 40      |          25   |\n",
      "| Basket2    |  7       |       14 |       21 | 28      |          17.5 |\n",
      "| Basket3    |  5       |        5 |        0 |  0      |           2.5 |\n",
      "| Fruit mean |  7.33333 |       13 |       17 | 22.6667 |          15   |\n"
     ]
    }
   ],
   "source": [
    "df = pd.DataFrame([[10, 20, 30, 40], [7, 14, 21, 28], [5, 5, 0, 0]],\n",
    "                  columns=['Apple', 'Orange', 'Banana', 'Pear'],\n",
    "                  index=['Basket1', 'Basket2', 'Basket3'])\n",
    "display(df)\n",
    "\n",
    "# 1、按列统计均值\n",
    "df.mean()\n",
    "# 2、按行统计均值\n",
    "df.mean(axis=1)\n",
    "# 3、增加一列'Basket mean'，该列为行均值\n",
    "df['Basket mean'] = df.mean(axis=1)\n",
    "# 4、增加一行'Fruit mean'，该行为列均值\n",
    "df.loc['Fruit mean'] = df.mean()\n",
    "\n",
    "print(df.to_markdown())"
   ],
   "metadata": {
    "collapsed": false,
    "ExecuteTime": {
     "end_time": "2024-03-19T14:46:10.315769200Z",
     "start_time": "2024-03-19T14:46:10.286392700Z"
    }
   },
   "id": "383db2151c9d17bd"
  },
  {
   "cell_type": "code",
   "execution_count": 84,
   "outputs": [
    {
     "data": {
      "text/plain": "         Apple  Orange  Banana  Pear\nBasket1     10      20      30    40\nBasket2      7      14      21    28\nBasket3      5       5       0     0",
      "text/html": "<div>\n<style scoped>\n    .dataframe tbody tr th:only-of-type {\n        vertical-align: middle;\n    }\n\n    .dataframe tbody tr th {\n        vertical-align: top;\n    }\n\n    .dataframe thead th {\n        text-align: right;\n    }\n</style>\n<table border=\"1\" class=\"dataframe\">\n  <thead>\n    <tr style=\"text-align: right;\">\n      <th></th>\n      <th>Apple</th>\n      <th>Orange</th>\n      <th>Banana</th>\n      <th>Pear</th>\n    </tr>\n  </thead>\n  <tbody>\n    <tr>\n      <th>Basket1</th>\n      <td>10</td>\n      <td>20</td>\n      <td>30</td>\n      <td>40</td>\n    </tr>\n    <tr>\n      <th>Basket2</th>\n      <td>7</td>\n      <td>14</td>\n      <td>21</td>\n      <td>28</td>\n    </tr>\n    <tr>\n      <th>Basket3</th>\n      <td>5</td>\n      <td>5</td>\n      <td>0</td>\n      <td>0</td>\n    </tr>\n  </tbody>\n</table>\n</div>"
     },
     "metadata": {},
     "output_type": "display_data"
    },
    {
     "name": "stdout",
     "output_type": "stream",
     "text": [
      "           Apple  Orange  Banana  Pear  Basket sum\n",
      "Basket1       10      20      30    40         100\n",
      "Basket2        7      14      21    28          70\n",
      "Basket3        5       5       0     0          10\n",
      "Fruit sum     22      39      51    68         180\n"
     ]
    }
   ],
   "source": [
    "\n",
    "df = pd.DataFrame([[10, 20, 30, 40], [7, 14, 21, 28], [5, 5, 0, 0]],\n",
    "                  columns=['Apple', 'Orange', 'Banana', 'Pear'],\n",
    "                  index=['Basket1', 'Basket2', 'Basket3'])\n",
    "display(df)\n",
    "\n",
    "# 1、按列统计总和\n",
    "df.sum()\n",
    "# 2、按行统计总和\n",
    "df.sum(axis=1)\n",
    "# 3、增加一列'Basket sum'，该列为行总和\n",
    "df['Basket sum'] = df.sum(axis=1)\n",
    "# 4、增加一行'Fruit sum'，该行为列总和\n",
    "df.loc['Fruit sum'] = df.sum()\n",
    "\n",
    "print(df)"
   ],
   "metadata": {
    "collapsed": false,
    "ExecuteTime": {
     "end_time": "2024-03-19T14:49:40.916992400Z",
     "start_time": "2024-03-19T14:49:40.899869100Z"
    }
   },
   "id": "edf93fd5502be959"
  },
  {
   "cell_type": "code",
   "execution_count": 87,
   "outputs": [
    {
     "name": "stdout",
     "output_type": "stream",
     "text": [
      "          DateOfBirth State\n",
      "Aaron      1976-01-01    FL\n",
      "Christina  1990-03-07    TX\n",
      "Cornelia   1999-07-09    TX\n",
      "Frane      1983-06-04    AK\n",
      "Jane       1986-11-11    NY\n",
      "Pane       1999-05-12    TX\n",
      "Penelope   1986-06-01    AL\n",
      "          DateOfBirth State\n",
      "Penelope   1986-06-01    AL\n",
      "Pane       1999-05-12    TX\n",
      "Jane       1986-11-11    NY\n",
      "Frane      1983-06-04    AK\n",
      "Cornelia   1999-07-09    TX\n",
      "Christina  1990-03-07    TX\n",
      "Aaron      1976-01-01    FL\n"
     ]
    }
   ],
   "source": [
    "df = pd.DataFrame({'DateOfBirth': ['1986-11-11', '1999-05-12', '1976-01-01','1986-06-01', '1983-06-04', '1990-03-07', '1999-07-09'],\n",
    "                   'State': ['NY', 'TX', 'FL', 'AL', 'AK', 'TX', 'TX']}, \n",
    "                  index=['Jane', 'Pane', 'Aaron', 'Penelope', 'Frane', 'Christina', 'Cornelia'])\n",
    "\n",
    "# 1、对索引进行排序\n",
    "print(df.sort_index())\n",
    "# 2、按降序对索引值进行排序\n",
    "print(df.sort_index(ascending=False))"
   ],
   "metadata": {
    "collapsed": false,
    "ExecuteTime": {
     "end_time": "2024-03-20T06:14:03.306429200Z",
     "start_time": "2024-03-20T06:14:03.270708700Z"
    }
   },
   "id": "9a5ef890f0d62609"
  },
  {
   "cell_type": "code",
   "execution_count": 88,
   "outputs": [
    {
     "name": "stdout",
     "output_type": "stream",
     "text": [
      "          State DateOfBirth\n",
      "Jane         NY  1986-11-11\n",
      "Pane         TX  1999-05-12\n",
      "Aaron        FL  1976-01-01\n",
      "Penelope     AL  1986-06-01\n",
      "Frane        AK  1983-06-04\n",
      "Christina    TX  1990-03-07\n",
      "Cornelia     TX  1999-07-09\n"
     ]
    }
   ],
   "source": [
    "# 编程\n",
    "\n",
    "df = pd.DataFrame({'DateOfBirth': ['1986-11-11', '1999-05-12', '1976-01-01','1986-06-01', '1983-06-04', '1990-03-07', '1999-07-09'],\n",
    "                   'State': ['NY', 'TX', 'FL', 'AL', 'AK', 'TX', 'TX']}, \n",
    "                  index=['Jane', 'Pane', 'Aaron', 'Penelope', 'Frane', 'Christina', 'Cornelia'])\n",
    "\n",
    "# 按降序对列名进行排序\n",
    "print(df[sorted(df.columns,reverse=True)])"
   ],
   "metadata": {
    "collapsed": false,
    "ExecuteTime": {
     "end_time": "2024-03-20T06:16:35.096384800Z",
     "start_time": "2024-03-20T06:16:35.025412600Z"
    }
   },
   "id": "5ed71b8f1d9958fb"
  },
  {
   "cell_type": "code",
   "execution_count": 91,
   "outputs": [
    {
     "name": "stdout",
     "output_type": "stream",
     "text": [
      "          DateOfBirth State\n",
      "Frane      1983-06-04    AK\n",
      "Penelope   1986-06-01    AL\n",
      "Aaron      1976-01-01    FL\n",
      "Jane       1986-11-11    NY\n",
      "Pane       1999-05-12    TX\n",
      "Christina  1990-03-07    TX\n",
      "Cornelia   1999-07-09    TX\n",
      "          DateOfBirth State\n",
      "Frane      1983-06-04    AK\n",
      "Penelope   1986-06-01    AL\n",
      "Aaron      1976-01-01    FL\n",
      "Jane       1986-11-11    NY\n",
      "Christina  1990-03-07    TX\n",
      "Pane       1999-05-12    TX\n",
      "Cornelia   1999-07-09    TX\n"
     ]
    }
   ],
   "source": [
    "\n",
    "df = pd.DataFrame({'DateOfBirth': ['1986-11-11', '1999-05-12', '1976-01-01','1986-06-01', '1983-06-04', '1990-03-07', '1999-07-09'],\n",
    "                   'State': ['NY', 'TX', 'FL', 'AL', 'AK', 'TX', 'TX']}, \n",
    "                  index=['Jane', 'Pane', 'Aaron', 'Penelope', 'Frane', 'Christina', 'Cornelia'])\n",
    "\n",
    "# 1、对state列的值进行排序\n",
    "print(df.sort_values('State'))\n",
    "# 2、对state、DateOfBirth两列的值进行降序排序，并改变原DataFrame\n",
    "df.sort_values(['State','DateOfBirth'],inplace=True)\n",
    "print(df)"
   ],
   "metadata": {
    "collapsed": false,
    "ExecuteTime": {
     "end_time": "2024-03-20T06:19:56.666259Z",
     "start_time": "2024-03-20T06:19:56.632941400Z"
    }
   },
   "id": "f1f3ea40f6966d75"
  },
  {
   "cell_type": "code",
   "execution_count": 103,
   "outputs": [
    {
     "data": {
      "text/plain": "    fruit  price\n0   apple      5\n1  banana      6\n2   grape      7",
      "text/html": "<div>\n<style scoped>\n    .dataframe tbody tr th:only-of-type {\n        vertical-align: middle;\n    }\n\n    .dataframe tbody tr th {\n        vertical-align: top;\n    }\n\n    .dataframe thead th {\n        text-align: right;\n    }\n</style>\n<table border=\"1\" class=\"dataframe\">\n  <thead>\n    <tr style=\"text-align: right;\">\n      <th></th>\n      <th>fruit</th>\n      <th>price</th>\n    </tr>\n  </thead>\n  <tbody>\n    <tr>\n      <th>0</th>\n      <td>apple</td>\n      <td>5</td>\n    </tr>\n    <tr>\n      <th>1</th>\n      <td>banana</td>\n      <td>6</td>\n    </tr>\n    <tr>\n      <th>2</th>\n      <td>grape</td>\n      <td>7</td>\n    </tr>\n  </tbody>\n</table>\n</div>"
     },
     "metadata": {},
     "output_type": "display_data"
    },
    {
     "name": "stdout",
     "output_type": "stream",
     "text": [
      "    fruit price\n",
      "0   Apple    5元\n",
      "1  Banana    6元\n",
      "2   Grape    7元\n"
     ]
    }
   ],
   "source": [
    "\n",
    "data = {'fruit':['apple','banana','grape'],'price':[5,6,7]}\n",
    "df = pd.DataFrame(data)\n",
    "display(df)\n",
    "\n",
    "# 1、编写函数将price中整数改为字串，例如5改为5元\n",
    "df['price'] = df['price'].map(lambda x: str(x) + '元')\n",
    "# 2、将fruit列中首字母大写\n",
    "df['fruit'] = df['fruit'].map(lambda x: x.capitalize())\n",
    "\n",
    "print(df)"
   ],
   "metadata": {
    "collapsed": false,
    "ExecuteTime": {
     "end_time": "2024-03-20T06:29:24.752697400Z",
     "start_time": "2024-03-20T06:29:24.709893Z"
    }
   },
   "id": "da86a271265f5017"
  },
  {
   "cell_type": "code",
   "execution_count": 104,
   "outputs": [
    {
     "data": {
      "text/plain": "    fruit  price\n0   apple      5\n1  banana      6\n2   grape      7",
      "text/html": "<div>\n<style scoped>\n    .dataframe tbody tr th:only-of-type {\n        vertical-align: middle;\n    }\n\n    .dataframe tbody tr th {\n        vertical-align: top;\n    }\n\n    .dataframe thead th {\n        text-align: right;\n    }\n</style>\n<table border=\"1\" class=\"dataframe\">\n  <thead>\n    <tr style=\"text-align: right;\">\n      <th></th>\n      <th>fruit</th>\n      <th>price</th>\n    </tr>\n  </thead>\n  <tbody>\n    <tr>\n      <th>0</th>\n      <td>apple</td>\n      <td>5</td>\n    </tr>\n    <tr>\n      <th>1</th>\n      <td>banana</td>\n      <td>6</td>\n    </tr>\n    <tr>\n      <th>2</th>\n      <td>grape</td>\n      <td>7</td>\n    </tr>\n  </tbody>\n</table>\n</div>"
     },
     "metadata": {},
     "output_type": "display_data"
    },
    {
     "name": "stdout",
     "output_type": "stream",
     "text": [
      "0    5.0\n",
      "1    6.0\n",
      "2    7.0\n",
      "Name: price, dtype: float64\n"
     ]
    }
   ],
   "source": [
    "data = {'fruit':['apple','banana','grape'],'price':[5,6,7]}\n",
    "df = pd.DataFrame(data)\n",
    "display(df)\n",
    "\n",
    "# 将price中数据从整数转为浮点数，采用map()\n",
    "print(df['price'].map(lambda x:float(x)))"
   ],
   "metadata": {
    "collapsed": false,
    "ExecuteTime": {
     "end_time": "2024-03-20T06:31:26.367856200Z",
     "start_time": "2024-03-20T06:31:26.308868600Z"
    }
   },
   "id": "a5a1c94bda6bbfb1"
  },
  {
   "cell_type": "code",
   "execution_count": 106,
   "outputs": [
    {
     "data": {
      "text/plain": "          A         B         C\na  0.027220  0.573798  0.573558\nb  0.902736  0.330899  0.836692\nc  0.145094  0.387702  0.231120",
      "text/html": "<div>\n<style scoped>\n    .dataframe tbody tr th:only-of-type {\n        vertical-align: middle;\n    }\n\n    .dataframe tbody tr th {\n        vertical-align: top;\n    }\n\n    .dataframe thead th {\n        text-align: right;\n    }\n</style>\n<table border=\"1\" class=\"dataframe\">\n  <thead>\n    <tr style=\"text-align: right;\">\n      <th></th>\n      <th>A</th>\n      <th>B</th>\n      <th>C</th>\n    </tr>\n  </thead>\n  <tbody>\n    <tr>\n      <th>a</th>\n      <td>0.027220</td>\n      <td>0.573798</td>\n      <td>0.573558</td>\n    </tr>\n    <tr>\n      <th>b</th>\n      <td>0.902736</td>\n      <td>0.330899</td>\n      <td>0.836692</td>\n    </tr>\n    <tr>\n      <th>c</th>\n      <td>0.145094</td>\n      <td>0.387702</td>\n      <td>0.231120</td>\n    </tr>\n  </tbody>\n</table>\n</div>"
     },
     "metadata": {},
     "output_type": "display_data"
    },
    {
     "name": "stdout",
     "output_type": "stream",
     "text": [
      "       A      B      C\n",
      "a  0.027  0.574  0.574\n",
      "b  0.903  0.331  0.837\n",
      "c  0.145  0.388  0.231\n"
     ]
    },
    {
     "name": "stderr",
     "output_type": "stream",
     "text": [
      "C:\\Users\\27116\\AppData\\Local\\Temp\\ipykernel_48056\\4165608361.py:5: FutureWarning: DataFrame.applymap has been deprecated. Use DataFrame.map instead.\n",
      "  print(df.applymap(lambda x: format(x, '.3f')))\n"
     ]
    }
   ],
   "source": [
    "\n",
    "df = pd.DataFrame(np.random.rand(3,3), index=['a','b','c'], columns=['A','B','C'])\n",
    "display(df)\n",
    "\n",
    "# 将所有数据改为小数点后三位，采用applymap()\n",
    "print(df.applymap(lambda x: format(x, '.3f')))"
   ],
   "metadata": {
    "collapsed": false,
    "ExecuteTime": {
     "end_time": "2024-03-20T06:33:02.669789500Z",
     "start_time": "2024-03-20T06:33:02.604034300Z"
    }
   },
   "id": "be40b2d06abf178c"
  },
  {
   "cell_type": "code",
   "execution_count": 110,
   "outputs": [
    {
     "name": "stdout",
     "output_type": "stream",
     "text": [
      "       名字      投票人数        类型    产地                 上映时间   时长    年代   评分    首映地点\n",
      "0  肖申克的救赎  692795.0     剧情/犯罪    美国  1994-09-10 00:00:00  142  1994  9.6  多伦多电影节\n",
      "1    控方证人   42995.0  剧情/悬疑/犯罪    美国  1957-12-17 00:00:00  116  1957  9.5      美国\n",
      "2   美丽人生   327855.0  剧情/喜剧/爱情   意大利  1997-12-20 00:00:00  116  1997  9.5     意大利\n",
      "3    阿甘正传  580897.0     剧情/爱情    美国  1994-06-23 00:00:00  142  1994  9.4   洛杉矶首映\n",
      "4    霸王别姬  478523.0  剧情/爱情/同性  中国大陆  1993-01-01 00:00:00  171  1993  9.4      香港\n",
      "|       | 名字                                                                 |   投票人数 | 类型                     | 产地     | 上映时间            |   时长 |   年代 |   评分 | 首映地点   |\n",
      "|------:|:---------------------------------------------------------------------|-----------:|:-------------------------|:---------|:--------------------|-------:|-------:|-------:|:-----------|\n",
      "| 38733 | 神学院 S                                                             |         46 | Adult                    | 法国     | 1905-06-05 00:00:00 |     58 |   1983 |    8.6 | 美国       |\n",
      "| 38734 | 1935年                                                               |         57 | 喜剧/歌舞                | 美国     | 1935-03-15 00:00:00 |     98 |   1935 |    7.6 | 美国       |\n",
      "| 38735 | 血溅画屏                                                             |         95 | 剧情/悬疑/犯罪/武侠/古装 | 中国大陆 | 1905-06-08 00:00:00 |     91 |   1986 |    7.1 | 美国       |\n",
      "| 38736 | 魔窟中的幻想                                                         |         51 | 惊悚/恐怖/儿童           | 中国大陆 | 1905-06-08 00:00:00 |     78 |   1986 |    8   | 美国       |\n",
      "| 38737 | 列宁格勒围困之星火战役 Блокада: Фильм 2: Ленинградский метроном. Опе |         32 | 剧情/战争                | 苏联     | 1905-05-30 00:00:00 |     97 |   1977 |    6.6 | 美国       |\n",
      "              名字    投票人数     类型   产地                 上映时间   时长    年代   评分 首映地点\n",
      "27642  我的女儿，我的天使   731.0     犯罪  加拿大  2007-02-16 00:00:00   86  2007  6.6   美国\n",
      "36396        访问者    61.0     剧情   韩国  2006-11-15 00:00:00   92  2005  6.5   韩国\n",
      "28572     午夜凶铃2(  2171.0  悬疑/恐怖   美国  2005-04-07 00:00:00  110  2005  6.0   美国\n",
      "4484          誓约   390.0     爱情   其他  2008-02-29 00:00:00   60  2008  8.1   美国\n",
      "3134       包芬格计划   523.0     喜剧   美国  1999-08-13 00:00:00   97  1999  7.6   美国\n"
     ]
    }
   ],
   "source": [
    "# 编程\n",
    "\n",
    "df = pd.read_excel('assets/豆瓣电影数据.xlsx') # read_excel方法进行读取excel文件 \n",
    "\n",
    "# 1、显示前5行\n",
    "print(df[:5].to_string())\n",
    "# 2、显示后5行\n",
    "print(df.tail(5).to_markdown())\n",
    "# 3、随机选5行\n",
    "print(df.sample(5).to_string())"
   ],
   "metadata": {
    "collapsed": false,
    "ExecuteTime": {
     "end_time": "2024-03-20T06:37:34.873748300Z",
     "start_time": "2024-03-20T06:37:26.620052500Z"
    }
   },
   "id": "4702c1ce6a943377"
  },
  {
   "cell_type": "code",
   "execution_count": 121,
   "outputs": [
    {
     "name": "stdout",
     "output_type": "stream",
     "text": [
      "                投票人数            评分\n",
      "count   38738.000000  38738.000000\n",
      "mean     6185.833702      6.935704\n",
      "std     26143.518786      1.270101\n",
      "min      -118.000000      2.000000\n",
      "25%        98.000000      6.300000\n",
      "50%       341.000000      7.100000\n",
      "75%      1739.750000      7.800000\n",
      "max    692795.000000      9.900000\n",
      "<class 'pandas.core.frame.DataFrame'>\n",
      "RangeIndex: 38738 entries, 0 to 38737\n",
      "Data columns (total 9 columns):\n",
      " #   Column  Non-Null Count  Dtype  \n",
      "---  ------  --------------  -----  \n",
      " 0   名字      38178 non-null  object \n",
      " 1   投票人数    38738 non-null  float64\n",
      " 2   类型      38738 non-null  object \n",
      " 3   产地      38738 non-null  object \n",
      " 4   上映时间    38736 non-null  object \n",
      " 5   时长      38738 non-null  object \n",
      " 6   年代      38738 non-null  object \n",
      " 7   评分      38738 non-null  float64\n",
      " 8   首映地点    38737 non-null  object \n",
      "dtypes: float64(2), object(7)\n",
      "memory usage: 2.7+ MB\n",
      "None\n"
     ]
    }
   ],
   "source": [
    "\n",
    "# 4、选取产地为泰国，'名字','类型'两列 loc()方法\n",
    "df.loc[df['产地'] == '泰国', ['名字', '类型']]\n",
    "# 5、选取评分大于9.5，'名字','类型','产地'三列 loc方法\n",
    "df.loc[df.评分>9.5,['名字', '类型','产地']]\n",
    "# 6、选取评分大于9且投票人数大于1000的数据 query方法\n",
    "df.query('评分 > 9 and 投票人数 > 1000')\n",
    "# 7、查看整个数据集的统计信息\n",
    "print(df.describe())\n",
    "# 8、查看整个数据基本信息\n",
    "print(df.info())"
   ],
   "metadata": {
    "collapsed": false,
    "ExecuteTime": {
     "end_time": "2024-03-20T06:44:51.255356400Z",
     "start_time": "2024-03-20T06:44:51.162729300Z"
    }
   },
   "id": "f01182f0440b46fa"
  }
 ],
 "metadata": {
  "kernelspec": {
   "display_name": "Python 3",
   "language": "python",
   "name": "python3"
  },
  "language_info": {
   "codemirror_mode": {
    "name": "ipython",
    "version": 2
   },
   "file_extension": ".py",
   "mimetype": "text/x-python",
   "name": "python",
   "nbconvert_exporter": "python",
   "pygments_lexer": "ipython2",
   "version": "2.7.6"
  }
 },
 "nbformat": 4,
 "nbformat_minor": 5
}
