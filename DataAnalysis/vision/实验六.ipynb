{
 "cells": [
  {
   "cell_type": "code",
   "execution_count": 247,
   "id": "initial_id",
   "metadata": {
    "collapsed": true,
    "ExecuteTime": {
     "end_time": "2024-04-08T08:43:57.349554800Z",
     "start_time": "2024-04-08T08:43:56.635794600Z"
    }
   },
   "outputs": [],
   "source": [
    "import numpy as np\n",
    "import pandas as pd\n",
    "import matplotlib.pyplot as plt\n",
    "%matplotlib inline\n",
    "\n",
    "plt.rcParams['font.sans-serif'] = ['Arial Unicode MS'] # SimHei.ttf\n",
    "plt.rcParams['axes.unicode_minus'] = False \n",
    "\n",
    "import warnings\n",
    "warnings.filterwarnings('ignore')"
   ]
  },
  {
   "cell_type": "code",
   "execution_count": 248,
   "outputs": [
    {
     "data": {
      "text/plain": "                                                字段1   字段2  字段3  字段4  \\\nNaN                                             NaN   NaN  NaN  NaN   \n0.0             香港嘉湖海逸酒店(Harbour Plaza Resort City)  休闲度假   香港   元朗   \n1.0  香港铜锣湾皇悦酒店(Empire Hotel Hong Kong-Causeway Bay)  浪漫情侣   香港   东区   \n2.0                              香港碧荟酒店(The BEACON)  商务出行   香港  油尖旺   \n3.0                       香港湾仔帝盛酒店(Dorsett Wanchai)  浪漫情侣   香港   湾仔   \n\n               字段5  字段6      字段7    字段8  \nNaN            NaN  NaN      NaN    NaN  \n0.0     天水围 天恩路18号  4.6  17604.0  422.0  \n1.0       铜锣湾永兴街8号  4.5  12708.0  693.0  \n2.0     九龙旺角洗衣街88号  4.7    328.0  747.0  \n3.0  皇后大道东387-397号  4.4   5014.0  693.0  ",
      "text/html": "<div>\n<style scoped>\n    .dataframe tbody tr th:only-of-type {\n        vertical-align: middle;\n    }\n\n    .dataframe tbody tr th {\n        vertical-align: top;\n    }\n\n    .dataframe thead th {\n        text-align: right;\n    }\n</style>\n<table border=\"1\" class=\"dataframe\">\n  <thead>\n    <tr style=\"text-align: right;\">\n      <th></th>\n      <th>字段1</th>\n      <th>字段2</th>\n      <th>字段3</th>\n      <th>字段4</th>\n      <th>字段5</th>\n      <th>字段6</th>\n      <th>字段7</th>\n      <th>字段8</th>\n    </tr>\n  </thead>\n  <tbody>\n    <tr>\n      <th>NaN</th>\n      <td>NaN</td>\n      <td>NaN</td>\n      <td>NaN</td>\n      <td>NaN</td>\n      <td>NaN</td>\n      <td>NaN</td>\n      <td>NaN</td>\n      <td>NaN</td>\n    </tr>\n    <tr>\n      <th>0.0</th>\n      <td>香港嘉湖海逸酒店(Harbour Plaza Resort City)</td>\n      <td>休闲度假</td>\n      <td>香港</td>\n      <td>元朗</td>\n      <td>天水围 天恩路18号</td>\n      <td>4.6</td>\n      <td>17604.0</td>\n      <td>422.0</td>\n    </tr>\n    <tr>\n      <th>1.0</th>\n      <td>香港铜锣湾皇悦酒店(Empire Hotel Hong Kong-Causeway Bay)</td>\n      <td>浪漫情侣</td>\n      <td>香港</td>\n      <td>东区</td>\n      <td>铜锣湾永兴街8号</td>\n      <td>4.5</td>\n      <td>12708.0</td>\n      <td>693.0</td>\n    </tr>\n    <tr>\n      <th>2.0</th>\n      <td>香港碧荟酒店(The BEACON)</td>\n      <td>商务出行</td>\n      <td>香港</td>\n      <td>油尖旺</td>\n      <td>九龙旺角洗衣街88号</td>\n      <td>4.7</td>\n      <td>328.0</td>\n      <td>747.0</td>\n    </tr>\n    <tr>\n      <th>3.0</th>\n      <td>香港湾仔帝盛酒店(Dorsett Wanchai)</td>\n      <td>浪漫情侣</td>\n      <td>香港</td>\n      <td>湾仔</td>\n      <td>皇后大道东387-397号</td>\n      <td>4.4</td>\n      <td>5014.0</td>\n      <td>693.0</td>\n    </tr>\n  </tbody>\n</table>\n</div>"
     },
     "execution_count": 248,
     "metadata": {},
     "output_type": "execute_result"
    }
   ],
   "source": [
    "df = pd.read_excel('assets/香港酒店数据.xlsx', index_col=0)\n",
    "df.head()"
   ],
   "metadata": {
    "collapsed": false,
    "ExecuteTime": {
     "end_time": "2024-04-08T08:43:57.349554800Z",
     "start_time": "2024-04-08T08:43:56.652277700Z"
    }
   },
   "id": "9d1f6a2202ab75eb"
  },
  {
   "cell_type": "code",
   "execution_count": 249,
   "outputs": [
    {
     "data": {
      "text/plain": "Index(['名字', '类型', '城市', '地区', '地点', '评分', '评分人数', '价格'], dtype='object')"
     },
     "execution_count": 249,
     "metadata": {},
     "output_type": "execute_result"
    }
   ],
   "source": [
    "### 1. 按照数据的内容，重新设置数据的索引，重新设置列名称为'名字','类型','城市','地区','地点','评分','评分人数','价格'。\n",
    "\n",
    "df.columns = ['名字','类型','城市','地区','地点','评分','评分人数','价格']\n",
    "df.columns"
   ],
   "metadata": {
    "collapsed": false,
    "ExecuteTime": {
     "end_time": "2024-04-08T08:43:57.349554800Z",
     "start_time": "2024-04-08T08:43:56.801697Z"
    }
   },
   "id": "2fb714f8e0ec9410"
  },
  {
   "cell_type": "code",
   "execution_count": 250,
   "outputs": [
    {
     "data": {
      "text/plain": "                                                      名字    类型  城市   地区  \\\n2.0                                   香港碧荟酒店(The BEACON)  商务出行  香港  油尖旺   \n38.0                                香港99号宝恒酒店(99 Bonham)  商务出行  香港  中西区   \n41.0                                 香港大都酒店(Dadol Hotel)  商务出行  香港  油尖旺   \n71.0                                香港哲维斯酒店(The Jervois)  商务出行  香港  中西区   \n90.0        香港美利酒店(The Murray Hong Kong a Niccolo Hotel)  商务出行  香港  中西区   \n148.0              香港六国酒店(Gloucester Luk Kwok Hong Kong)  商务出行  香港   湾仔   \n168.0  香港中环荷李活道彩鸿酒店(原晋逸好莱坞精品酒店)(Travelodge Central Ho...  商务出行  香港  中西区   \n198.0  香港湾仔睿景酒店(原湾仔维景酒店)(Kew Green Hotel Wanchai Hong...  商务出行  香港   湾仔   \n226.0        香港盛捷维园公寓酒店(Somerset Victoria Park Hongkong)  商务出行  香港   东区   \n230.0                                        Y旅舍(Y Loft)  商务出行  香港   东区   \n232.0  逸东轩住寓(香港湾仔峡道店)(Eaton Residences Wan Chai Gap R...  商务出行  香港   湾仔   \n257.0              香港宝轩酒店(中环)(The Bauhinia HotelCentral)  商务出行  香港  中西区   \n267.0                        香港湾仔八十八酒店(Wanchai 88 Hotel)  商务出行  香港   湾仔   \n288.0   奥华·时尚精品酒店 - 中环(Ovolo Central – 2 Arbuthnot Road)  商务出行  香港  中西区   \n\n                                  地点   评分    评分人数      价格  \n2.0                       九龙旺角洗衣街88号  4.7   328.0   747.0  \n38.0                       上环文咸东街99号  4.5   297.0  1162.0  \n41.0   九龙尖沙咀金巴利道16号香槟大厦1字楼 (美丽华商场对面)  4.1   356.0   401.0  \n71.0                          苏杭街89号  4.6    27.0  3159.0  \n90.0                          红棉路22号  4.7   575.0  2710.0  \n148.0                     湾仔告士打道七十二号  4.6  1408.0  1006.0  \n168.0                   香港中环荷李活道263号  4.4   840.0   468.0  \n198.0                     轩尼诗道41-49号  4.6  2493.0   766.0  \n226.0                     铜锣湾电气道118号  4.5  1340.0   581.0  \n230.0                 柴湾道238号青年广场12楼  4.5  1121.0   637.0  \n232.0                       湾仔峡道3-5号  4.4   240.0   871.0  \n257.0                   干诺道中119-121号  4.5   513.0   513.0  \n267.0                        谭臣道139号  4.4    92.0   566.0  \n288.0                       中环亚毕诺道2号  4.6    67.0     NaN  ",
      "text/html": "<div>\n<style scoped>\n    .dataframe tbody tr th:only-of-type {\n        vertical-align: middle;\n    }\n\n    .dataframe tbody tr th {\n        vertical-align: top;\n    }\n\n    .dataframe thead th {\n        text-align: right;\n    }\n</style>\n<table border=\"1\" class=\"dataframe\">\n  <thead>\n    <tr style=\"text-align: right;\">\n      <th></th>\n      <th>名字</th>\n      <th>类型</th>\n      <th>城市</th>\n      <th>地区</th>\n      <th>地点</th>\n      <th>评分</th>\n      <th>评分人数</th>\n      <th>价格</th>\n    </tr>\n  </thead>\n  <tbody>\n    <tr>\n      <th>2.0</th>\n      <td>香港碧荟酒店(The BEACON)</td>\n      <td>商务出行</td>\n      <td>香港</td>\n      <td>油尖旺</td>\n      <td>九龙旺角洗衣街88号</td>\n      <td>4.7</td>\n      <td>328.0</td>\n      <td>747.0</td>\n    </tr>\n    <tr>\n      <th>38.0</th>\n      <td>香港99号宝恒酒店(99 Bonham)</td>\n      <td>商务出行</td>\n      <td>香港</td>\n      <td>中西区</td>\n      <td>上环文咸东街99号</td>\n      <td>4.5</td>\n      <td>297.0</td>\n      <td>1162.0</td>\n    </tr>\n    <tr>\n      <th>41.0</th>\n      <td>香港大都酒店(Dadol Hotel)</td>\n      <td>商务出行</td>\n      <td>香港</td>\n      <td>油尖旺</td>\n      <td>九龙尖沙咀金巴利道16号香槟大厦1字楼 (美丽华商场对面)</td>\n      <td>4.1</td>\n      <td>356.0</td>\n      <td>401.0</td>\n    </tr>\n    <tr>\n      <th>71.0</th>\n      <td>香港哲维斯酒店(The Jervois)</td>\n      <td>商务出行</td>\n      <td>香港</td>\n      <td>中西区</td>\n      <td>苏杭街89号</td>\n      <td>4.6</td>\n      <td>27.0</td>\n      <td>3159.0</td>\n    </tr>\n    <tr>\n      <th>90.0</th>\n      <td>香港美利酒店(The Murray Hong Kong a Niccolo Hotel)</td>\n      <td>商务出行</td>\n      <td>香港</td>\n      <td>中西区</td>\n      <td>红棉路22号</td>\n      <td>4.7</td>\n      <td>575.0</td>\n      <td>2710.0</td>\n    </tr>\n    <tr>\n      <th>148.0</th>\n      <td>香港六国酒店(Gloucester Luk Kwok Hong Kong)</td>\n      <td>商务出行</td>\n      <td>香港</td>\n      <td>湾仔</td>\n      <td>湾仔告士打道七十二号</td>\n      <td>4.6</td>\n      <td>1408.0</td>\n      <td>1006.0</td>\n    </tr>\n    <tr>\n      <th>168.0</th>\n      <td>香港中环荷李活道彩鸿酒店(原晋逸好莱坞精品酒店)(Travelodge Central Ho...</td>\n      <td>商务出行</td>\n      <td>香港</td>\n      <td>中西区</td>\n      <td>香港中环荷李活道263号</td>\n      <td>4.4</td>\n      <td>840.0</td>\n      <td>468.0</td>\n    </tr>\n    <tr>\n      <th>198.0</th>\n      <td>香港湾仔睿景酒店(原湾仔维景酒店)(Kew Green Hotel Wanchai Hong...</td>\n      <td>商务出行</td>\n      <td>香港</td>\n      <td>湾仔</td>\n      <td>轩尼诗道41-49号</td>\n      <td>4.6</td>\n      <td>2493.0</td>\n      <td>766.0</td>\n    </tr>\n    <tr>\n      <th>226.0</th>\n      <td>香港盛捷维园公寓酒店(Somerset Victoria Park Hongkong)</td>\n      <td>商务出行</td>\n      <td>香港</td>\n      <td>东区</td>\n      <td>铜锣湾电气道118号</td>\n      <td>4.5</td>\n      <td>1340.0</td>\n      <td>581.0</td>\n    </tr>\n    <tr>\n      <th>230.0</th>\n      <td>Y旅舍(Y Loft)</td>\n      <td>商务出行</td>\n      <td>香港</td>\n      <td>东区</td>\n      <td>柴湾道238号青年广场12楼</td>\n      <td>4.5</td>\n      <td>1121.0</td>\n      <td>637.0</td>\n    </tr>\n    <tr>\n      <th>232.0</th>\n      <td>逸东轩住寓(香港湾仔峡道店)(Eaton Residences Wan Chai Gap R...</td>\n      <td>商务出行</td>\n      <td>香港</td>\n      <td>湾仔</td>\n      <td>湾仔峡道3-5号</td>\n      <td>4.4</td>\n      <td>240.0</td>\n      <td>871.0</td>\n    </tr>\n    <tr>\n      <th>257.0</th>\n      <td>香港宝轩酒店(中环)(The Bauhinia HotelCentral)</td>\n      <td>商务出行</td>\n      <td>香港</td>\n      <td>中西区</td>\n      <td>干诺道中119-121号</td>\n      <td>4.5</td>\n      <td>513.0</td>\n      <td>513.0</td>\n    </tr>\n    <tr>\n      <th>267.0</th>\n      <td>香港湾仔八十八酒店(Wanchai 88 Hotel)</td>\n      <td>商务出行</td>\n      <td>香港</td>\n      <td>湾仔</td>\n      <td>谭臣道139号</td>\n      <td>4.4</td>\n      <td>92.0</td>\n      <td>566.0</td>\n    </tr>\n    <tr>\n      <th>288.0</th>\n      <td>奥华·时尚精品酒店 - 中环(Ovolo Central – 2 Arbuthnot Road)</td>\n      <td>商务出行</td>\n      <td>香港</td>\n      <td>中西区</td>\n      <td>中环亚毕诺道2号</td>\n      <td>4.6</td>\n      <td>67.0</td>\n      <td>NaN</td>\n    </tr>\n  </tbody>\n</table>\n</div>"
     },
     "execution_count": 250,
     "metadata": {},
     "output_type": "execute_result"
    }
   ],
   "source": [
    "### 2. 查看所有类型为“商务出行”的酒店。\n",
    "\n",
    "df.query('类型==\"商务出行\"')"
   ],
   "metadata": {
    "collapsed": false,
    "ExecuteTime": {
     "end_time": "2024-04-08T08:43:57.349554800Z",
     "start_time": "2024-04-08T08:43:56.815664300Z"
    }
   },
   "id": "292f12eeee16daae"
  },
  {
   "cell_type": "code",
   "execution_count": 251,
   "outputs": [
    {
     "data": {
      "text/plain": "                                                      名字    类型  城市  地区  \\\n3.0                            香港湾仔帝盛酒店(Dorsett Wanchai)  浪漫情侣  香港  湾仔   \n5.0               香港隆堡柏宁顿酒店(Hotel Pennington by Rhombus)  浪漫情侣  香港  湾仔   \n23.0                         香港南洋酒店(South Pacific Hotel)  浪漫情侣  香港  湾仔   \n35.0                       香港遨舍卫兰轩(OZO Wesley Hong Kong)  浪漫情侣  香港  湾仔   \n67.0                     香港星网商务精品酒店(Wifi Boutique Hotel)  浪漫情侣  香港  湾仔   \n72.0                    香港丽骏酒店(Brighton Hotel Hong Kong)  浪漫情侣  香港  湾仔   \n123.0                       香港逸兰精品酒店(Lanson Place Hotel)  浪漫情侣  香港  湾仔   \n128.0                   香港珀丽酒店(Rosedale Hotel Hong Kong)  浪漫情侣  香港  湾仔   \n133.0                   英皇骏景酒店(香港湾仔店)(The Emperor Hotel)  浪漫情侣  香港  湾仔   \n159.0  香港华丽铜锣湾酒店(原香港华丽精品酒店)(Best Western Hotel Causew...  浪漫情侣  香港  湾仔   \n160.0  香港铜锣湾智选假日酒店(Holiday Inn Express Hong Kong Caus...  浪漫情侣  香港  湾仔   \n182.0                        香港问月酒店(Mira Moon Hong Kong)  浪漫情侣  香港  湾仔   \n183.0                        帆船精品酒店(VELA BOUTIQUE HOTEL)  浪漫情侣  香港  湾仔   \n184.0                 铜锣湾迷你精品酒店(Mini Hotel Causeway Bay)  浪漫情侣  香港  湾仔   \n217.0                         香港君临海域酒店(Gloucester Hotel)  浪漫情侣  香港  湾仔   \n\n                  地点   评分    评分人数      价格  \n3.0    皇后大道东387-397号  4.4  5014.0   693.0  \n5.0    铜锣湾边宁顿街13-15号  4.5  1938.0   869.0  \n23.0        摩理臣山道23号  4.5  7981.0   445.0  \n35.0       湾仔轩尼诗道22号  4.6  3283.0   871.0  \n67.0      湾仔 骆克道366号  4.4  1527.0   412.0  \n72.0       湾仔骆克道128号  4.5  2383.0  1152.0  \n123.0     铜锣湾礼顿道133号  4.7  2053.0  1349.0  \n128.0       铜锣湾信德街8号  4.4  7342.0   457.0  \n133.0      皇后大道东373号  4.5  1040.0   526.0  \n159.0     铜锣湾坚拿道西祥和里  4.2  5707.0   309.0  \n160.0     铜锣湾 霎东街33号  4.5  4550.0   774.0  \n182.0        谢斐道388号  4.5  1044.0  1282.0  \n183.0    摩理臣山道84-86号  4.2  2063.0   413.0  \n184.0       铜锣湾新会道8号  4.3  4882.0   368.0  \n217.0    铜锣湾告士打道218号  4.5  2324.0   957.0  ",
      "text/html": "<div>\n<style scoped>\n    .dataframe tbody tr th:only-of-type {\n        vertical-align: middle;\n    }\n\n    .dataframe tbody tr th {\n        vertical-align: top;\n    }\n\n    .dataframe thead th {\n        text-align: right;\n    }\n</style>\n<table border=\"1\" class=\"dataframe\">\n  <thead>\n    <tr style=\"text-align: right;\">\n      <th></th>\n      <th>名字</th>\n      <th>类型</th>\n      <th>城市</th>\n      <th>地区</th>\n      <th>地点</th>\n      <th>评分</th>\n      <th>评分人数</th>\n      <th>价格</th>\n    </tr>\n  </thead>\n  <tbody>\n    <tr>\n      <th>3.0</th>\n      <td>香港湾仔帝盛酒店(Dorsett Wanchai)</td>\n      <td>浪漫情侣</td>\n      <td>香港</td>\n      <td>湾仔</td>\n      <td>皇后大道东387-397号</td>\n      <td>4.4</td>\n      <td>5014.0</td>\n      <td>693.0</td>\n    </tr>\n    <tr>\n      <th>5.0</th>\n      <td>香港隆堡柏宁顿酒店(Hotel Pennington by Rhombus)</td>\n      <td>浪漫情侣</td>\n      <td>香港</td>\n      <td>湾仔</td>\n      <td>铜锣湾边宁顿街13-15号</td>\n      <td>4.5</td>\n      <td>1938.0</td>\n      <td>869.0</td>\n    </tr>\n    <tr>\n      <th>23.0</th>\n      <td>香港南洋酒店(South Pacific Hotel)</td>\n      <td>浪漫情侣</td>\n      <td>香港</td>\n      <td>湾仔</td>\n      <td>摩理臣山道23号</td>\n      <td>4.5</td>\n      <td>7981.0</td>\n      <td>445.0</td>\n    </tr>\n    <tr>\n      <th>35.0</th>\n      <td>香港遨舍卫兰轩(OZO Wesley Hong Kong)</td>\n      <td>浪漫情侣</td>\n      <td>香港</td>\n      <td>湾仔</td>\n      <td>湾仔轩尼诗道22号</td>\n      <td>4.6</td>\n      <td>3283.0</td>\n      <td>871.0</td>\n    </tr>\n    <tr>\n      <th>67.0</th>\n      <td>香港星网商务精品酒店(Wifi Boutique Hotel)</td>\n      <td>浪漫情侣</td>\n      <td>香港</td>\n      <td>湾仔</td>\n      <td>湾仔 骆克道366号</td>\n      <td>4.4</td>\n      <td>1527.0</td>\n      <td>412.0</td>\n    </tr>\n    <tr>\n      <th>72.0</th>\n      <td>香港丽骏酒店(Brighton Hotel Hong Kong)</td>\n      <td>浪漫情侣</td>\n      <td>香港</td>\n      <td>湾仔</td>\n      <td>湾仔骆克道128号</td>\n      <td>4.5</td>\n      <td>2383.0</td>\n      <td>1152.0</td>\n    </tr>\n    <tr>\n      <th>123.0</th>\n      <td>香港逸兰精品酒店(Lanson Place Hotel)</td>\n      <td>浪漫情侣</td>\n      <td>香港</td>\n      <td>湾仔</td>\n      <td>铜锣湾礼顿道133号</td>\n      <td>4.7</td>\n      <td>2053.0</td>\n      <td>1349.0</td>\n    </tr>\n    <tr>\n      <th>128.0</th>\n      <td>香港珀丽酒店(Rosedale Hotel Hong Kong)</td>\n      <td>浪漫情侣</td>\n      <td>香港</td>\n      <td>湾仔</td>\n      <td>铜锣湾信德街8号</td>\n      <td>4.4</td>\n      <td>7342.0</td>\n      <td>457.0</td>\n    </tr>\n    <tr>\n      <th>133.0</th>\n      <td>英皇骏景酒店(香港湾仔店)(The Emperor Hotel)</td>\n      <td>浪漫情侣</td>\n      <td>香港</td>\n      <td>湾仔</td>\n      <td>皇后大道东373号</td>\n      <td>4.5</td>\n      <td>1040.0</td>\n      <td>526.0</td>\n    </tr>\n    <tr>\n      <th>159.0</th>\n      <td>香港华丽铜锣湾酒店(原香港华丽精品酒店)(Best Western Hotel Causew...</td>\n      <td>浪漫情侣</td>\n      <td>香港</td>\n      <td>湾仔</td>\n      <td>铜锣湾坚拿道西祥和里</td>\n      <td>4.2</td>\n      <td>5707.0</td>\n      <td>309.0</td>\n    </tr>\n    <tr>\n      <th>160.0</th>\n      <td>香港铜锣湾智选假日酒店(Holiday Inn Express Hong Kong Caus...</td>\n      <td>浪漫情侣</td>\n      <td>香港</td>\n      <td>湾仔</td>\n      <td>铜锣湾 霎东街33号</td>\n      <td>4.5</td>\n      <td>4550.0</td>\n      <td>774.0</td>\n    </tr>\n    <tr>\n      <th>182.0</th>\n      <td>香港问月酒店(Mira Moon Hong Kong)</td>\n      <td>浪漫情侣</td>\n      <td>香港</td>\n      <td>湾仔</td>\n      <td>谢斐道388号</td>\n      <td>4.5</td>\n      <td>1044.0</td>\n      <td>1282.0</td>\n    </tr>\n    <tr>\n      <th>183.0</th>\n      <td>帆船精品酒店(VELA BOUTIQUE HOTEL)</td>\n      <td>浪漫情侣</td>\n      <td>香港</td>\n      <td>湾仔</td>\n      <td>摩理臣山道84-86号</td>\n      <td>4.2</td>\n      <td>2063.0</td>\n      <td>413.0</td>\n    </tr>\n    <tr>\n      <th>184.0</th>\n      <td>铜锣湾迷你精品酒店(Mini Hotel Causeway Bay)</td>\n      <td>浪漫情侣</td>\n      <td>香港</td>\n      <td>湾仔</td>\n      <td>铜锣湾新会道8号</td>\n      <td>4.3</td>\n      <td>4882.0</td>\n      <td>368.0</td>\n    </tr>\n    <tr>\n      <th>217.0</th>\n      <td>香港君临海域酒店(Gloucester Hotel)</td>\n      <td>浪漫情侣</td>\n      <td>香港</td>\n      <td>湾仔</td>\n      <td>铜锣湾告士打道218号</td>\n      <td>4.5</td>\n      <td>2324.0</td>\n      <td>957.0</td>\n    </tr>\n  </tbody>\n</table>\n</div>"
     },
     "execution_count": 251,
     "metadata": {},
     "output_type": "execute_result"
    }
   ],
   "source": [
    "### 3. 查看所有类型为“浪漫情侣”，地区在湾仔的酒店。\n",
    "\n",
    "df.query('类型==\"浪漫情侣\" and 地区==\"湾仔\"')"
   ],
   "metadata": {
    "collapsed": false,
    "ExecuteTime": {
     "end_time": "2024-04-08T08:43:57.349554800Z",
     "start_time": "2024-04-08T08:43:56.864792800Z"
    }
   },
   "id": "4c2f29a4c696653e"
  },
  {
   "cell_type": "code",
   "execution_count": 252,
   "outputs": [
    {
     "data": {
      "text/plain": "                                                      名字    类型  城市   地区  \\\n2.0                                   香港碧荟酒店(The BEACON)  商务出行  香港  油尖旺   \n4.0                                 如心艾朗酒店(L‘hotel elan)  浪漫情侣  香港   观塘   \n6.0    海景嘉福洲际酒店(InterContinental Grand Stanford Hong ...  海滨风光  香港  油尖旺   \n8.0                        香港富豪九龙酒店(Regal Kowloon Hotel)  休闲度假  香港  油尖旺   \n10.0                    香港广易商务宾馆(家庭旅馆)(WIDE EVER HOSTEL)  地铁周边  香港  油尖旺   \n...                                                  ...   ...  ..  ...   \n363.0                  香港珊瑚酒店(家庭旅馆)((Coral Inn)(Hostel))  地铁周边  香港  油尖旺   \n372.0                                   香港意乐旅馆(eLog Inn)  地铁周边  香港  油尖旺   \n378.0               香港牛津尊贵旅舍(Oxford Premium Guest House)   NaN  香港  油尖旺   \n379.0                             香港恒好宾馆(Hang Ho Hostel)  地铁周边  香港  油尖旺   \n395.0                          香港御珑馆(家庭旅馆)(Hotel Conext)  地铁周边  香港  油尖旺   \n\n                                 地点   评分     评分人数      价格  \n2.0                      九龙旺角洗衣街88号  4.7    328.0   747.0  \n4.0                        观塘创业街38号  4.6   3427.0   581.0  \n6.0                     尖沙咀東部麽地道70号  4.7   4366.0  1296.0  \n8.0                       尖沙嘴麽地道71号  4.5  11265.0   692.0  \n10.0         九龙旺角弥敦道607号新兴大厦14楼16单位  4.1   1029.0   218.0  \n...                             ...  ...      ...     ...  \n363.0  香港九龙尖沙咀弥敦道83-97号华源大厦9/F十楼D2室  4.4    149.0   379.0  \n372.0               佐敦道22号鸿运大厦4字楼H室  4.3    155.0   237.0  \n378.0      尖沙咀弥敦道56-58号美丽都大厦16字楼A2室  4.7     15.0     NaN  \n379.0            九龙弥敦道242号立信大厦6字楼B室  4.5    142.0   445.0  \n395.0             九龙弥敦道240号立信大厦3楼B室  4.2    359.0   317.0  \n\n[139 rows x 8 columns]",
      "text/html": "<div>\n<style scoped>\n    .dataframe tbody tr th:only-of-type {\n        vertical-align: middle;\n    }\n\n    .dataframe tbody tr th {\n        vertical-align: top;\n    }\n\n    .dataframe thead th {\n        text-align: right;\n    }\n</style>\n<table border=\"1\" class=\"dataframe\">\n  <thead>\n    <tr style=\"text-align: right;\">\n      <th></th>\n      <th>名字</th>\n      <th>类型</th>\n      <th>城市</th>\n      <th>地区</th>\n      <th>地点</th>\n      <th>评分</th>\n      <th>评分人数</th>\n      <th>价格</th>\n    </tr>\n  </thead>\n  <tbody>\n    <tr>\n      <th>2.0</th>\n      <td>香港碧荟酒店(The BEACON)</td>\n      <td>商务出行</td>\n      <td>香港</td>\n      <td>油尖旺</td>\n      <td>九龙旺角洗衣街88号</td>\n      <td>4.7</td>\n      <td>328.0</td>\n      <td>747.0</td>\n    </tr>\n    <tr>\n      <th>4.0</th>\n      <td>如心艾朗酒店(L‘hotel elan)</td>\n      <td>浪漫情侣</td>\n      <td>香港</td>\n      <td>观塘</td>\n      <td>观塘创业街38号</td>\n      <td>4.6</td>\n      <td>3427.0</td>\n      <td>581.0</td>\n    </tr>\n    <tr>\n      <th>6.0</th>\n      <td>海景嘉福洲际酒店(InterContinental Grand Stanford Hong ...</td>\n      <td>海滨风光</td>\n      <td>香港</td>\n      <td>油尖旺</td>\n      <td>尖沙咀東部麽地道70号</td>\n      <td>4.7</td>\n      <td>4366.0</td>\n      <td>1296.0</td>\n    </tr>\n    <tr>\n      <th>8.0</th>\n      <td>香港富豪九龙酒店(Regal Kowloon Hotel)</td>\n      <td>休闲度假</td>\n      <td>香港</td>\n      <td>油尖旺</td>\n      <td>尖沙嘴麽地道71号</td>\n      <td>4.5</td>\n      <td>11265.0</td>\n      <td>692.0</td>\n    </tr>\n    <tr>\n      <th>10.0</th>\n      <td>香港广易商务宾馆(家庭旅馆)(WIDE EVER HOSTEL)</td>\n      <td>地铁周边</td>\n      <td>香港</td>\n      <td>油尖旺</td>\n      <td>九龙旺角弥敦道607号新兴大厦14楼16单位</td>\n      <td>4.1</td>\n      <td>1029.0</td>\n      <td>218.0</td>\n    </tr>\n    <tr>\n      <th>...</th>\n      <td>...</td>\n      <td>...</td>\n      <td>...</td>\n      <td>...</td>\n      <td>...</td>\n      <td>...</td>\n      <td>...</td>\n      <td>...</td>\n    </tr>\n    <tr>\n      <th>363.0</th>\n      <td>香港珊瑚酒店(家庭旅馆)((Coral Inn)(Hostel))</td>\n      <td>地铁周边</td>\n      <td>香港</td>\n      <td>油尖旺</td>\n      <td>香港九龙尖沙咀弥敦道83-97号华源大厦9/F十楼D2室</td>\n      <td>4.4</td>\n      <td>149.0</td>\n      <td>379.0</td>\n    </tr>\n    <tr>\n      <th>372.0</th>\n      <td>香港意乐旅馆(eLog Inn)</td>\n      <td>地铁周边</td>\n      <td>香港</td>\n      <td>油尖旺</td>\n      <td>佐敦道22号鸿运大厦4字楼H室</td>\n      <td>4.3</td>\n      <td>155.0</td>\n      <td>237.0</td>\n    </tr>\n    <tr>\n      <th>378.0</th>\n      <td>香港牛津尊贵旅舍(Oxford Premium Guest House)</td>\n      <td>NaN</td>\n      <td>香港</td>\n      <td>油尖旺</td>\n      <td>尖沙咀弥敦道56-58号美丽都大厦16字楼A2室</td>\n      <td>4.7</td>\n      <td>15.0</td>\n      <td>NaN</td>\n    </tr>\n    <tr>\n      <th>379.0</th>\n      <td>香港恒好宾馆(Hang Ho Hostel)</td>\n      <td>地铁周边</td>\n      <td>香港</td>\n      <td>油尖旺</td>\n      <td>九龙弥敦道242号立信大厦6字楼B室</td>\n      <td>4.5</td>\n      <td>142.0</td>\n      <td>445.0</td>\n    </tr>\n    <tr>\n      <th>395.0</th>\n      <td>香港御珑馆(家庭旅馆)(Hotel Conext)</td>\n      <td>地铁周边</td>\n      <td>香港</td>\n      <td>油尖旺</td>\n      <td>九龙弥敦道240号立信大厦3楼B室</td>\n      <td>4.2</td>\n      <td>359.0</td>\n      <td>317.0</td>\n    </tr>\n  </tbody>\n</table>\n<p>139 rows × 8 columns</p>\n</div>"
     },
     "execution_count": 252,
     "metadata": {},
     "output_type": "execute_result"
    }
   ],
   "source": [
    "### 4. 查看所有地址在观塘或者油尖旺，评分大于4的酒店。\n",
    "\n",
    "df.query('评分>4 and (地区==\"观塘\" or 地区==\"油尖旺\")')"
   ],
   "metadata": {
    "collapsed": false,
    "ExecuteTime": {
     "end_time": "2024-04-08T08:43:57.349554800Z",
     "start_time": "2024-04-08T08:43:56.897480200Z"
    }
   },
   "id": "828a20faa72f64fe"
  },
  {
   "cell_type": "code",
   "execution_count": 253,
   "outputs": [
    {
     "data": {
      "text/plain": "                                                     名字   类型   城市   地区  \\\nNaN                                                 NaN  NaN  NaN  NaN   \n39.0          香港颐庭酒店(铜锣湾店)(Eco Tree Hotel Causeway Bay)  NaN   香港   东区   \n187.0                                  工業家酒店(IND Hotel)  NaN   香港   观塘   \n200.0                        香港永倫800酒店(WINLAND800HOTEL)  NaN   香港   葵青   \n241.0                    香港港湾酒店(Hong Kong Harbor Hotel)  NaN   香港   南区   \n268.0                                  香港奥斯酒店(O‘ Hotel)  NaN   香港  九龙城   \n284.0                巴黎旅馆(Paris Guest House (D2, 10/F))  NaN   香港  NaN   \n300.0        香港海景渡假乐园(Hong Kong Seaview Holiday Resort)  NaN   香港   离岛   \n301.0                           香港海边小屋(The Cove Hostel)  NaN   香港   离岛   \n304.0                      香港和平宾馆(HK Peace Guest House)  NaN   香港  NaN   \n306.0                            香港文苑宾馆(Man Yuen Hotel)  NaN   香港  油尖旺   \n315.0                           墨尔本宾馆(Melbourne Hostel)  NaN   香港  NaN   \n318.0                          香港百丽旅馆(Park Guest House)  NaN   香港  油尖旺   \n321.0             香港尊贵旅馆(Hong Kong Premium Guest House)  NaN   香港  油尖旺   \n322.0                      香港美华宾馆(Mei Wah  Guest House)  NaN   香港  NaN   \n323.0                                           香港威尼斯宾馆  NaN   香港  NaN   \n327.0  80后潘多拉旅馆(香港佐敦店)(原华丰宾馆)(Pandora After 80s Jordan)  NaN   香港  油尖旺   \n335.0                       香港Primo旅馆(Primo Guesthouse)  NaN   香港  NaN   \n337.0                           纳里旅馆(Narli Guest House)  NaN   香港  油尖旺   \n343.0                                香港宿雾宾馆(Cebu Hotel)  NaN   香港  NaN   \n348.0                            美丽宾馆(Lily Guest House)  NaN   香港  NaN   \n364.0                                  全球旅舍(Global Inn)  NaN   香港  NaN   \n371.0                   珠峰宾馆(Everest Guest House (3/F))  NaN   香港  NaN   \n378.0              香港牛津尊贵旅舍(Oxford Premium Guest House)  NaN   香港  油尖旺   \n381.0                           香港俄罗斯旅舍(Russian Hostel)  NaN   香港  NaN   \n384.0                            尊贵闲庭酒店(Premium Lounge)  NaN   香港  NaN   \n399.0                       香港新天天酒店(Everyday Inn Hotel)  NaN   香港  油尖旺   \n403.0                         伍德斯托克旅馆(Woodstock Hostel)  NaN   香港  NaN   \n404.0                          旅客宾馆(Traveller‘s Hostel)  NaN   香港  NaN   \n405.0                                 欧若旅馆(Euro Hostel)  NaN   香港  NaN   \n406.0                 香港Prestige旅馆(Prestige Guesthouse)  NaN   香港  NaN   \n411.0                             香港兰涛度假屋(Lantau Lodge)  NaN   香港   荃湾   \n\n                                                      地点   评分    评分人数      价格  \nNaN                                                  NaN  NaN     NaN     NaN  \n39.0                                           铜锣湾水星街15号  4.6    15.0   567.0  \n187.0                                        九龙观塘观塘道326号  4.2     6.0   448.0  \n200.0                                            新界青衣路一号  3.4  3098.0   196.0  \n241.0                                         香港仔石排湾道47号  3.8   709.0   259.0  \n268.0                                  香港九龙土瓜湾九龙城道42-46号  3.7   869.0   369.0  \n284.0  Flat D2, 10/F, Block D, Chungking Mansion, 40 ...  2.0     5.0    67.0  \n300.0                                       大屿山梅窝东湾头路11号  2.9     5.0   881.0  \n301.0                                    大屿山塘福村17D,1-2字楼  NaN     2.0   352.0  \n304.0                               尖沙咀弥敦道58号美丽都大厦13楼A5室  NaN     NaN   201.0  \n306.0                                  旺角弥敦道737号金轮大厦二楼H室  4.7     5.0   169.0  \n315.0                           九龙尖沙咀弥敦道40号重庆大厦E座10字楼E1室  NaN     2.0    93.0  \n318.0                            九龙尖沙咀海防道53至55号海防大厦1楼10号  NaN     6.0   445.0  \n321.0       尖沙咀弥敦道56-58号美丽都大厦16字楼B2,A5室（前台入住办理设在16字楼A2室）  4.8    19.0   166.0  \n322.0                               九龙旺角弥敦道737号金轮大厦9字楼F座  4.0    27.0   250.0  \n323.0                              香港油尖旺区旺角弥顿道580号恒隆大厦4楼  4.7    48.0   298.0  \n327.0                                九龙佐敦佐敦道15号华丰大厦1字楼H室  3.1    36.0    70.0  \n335.0                            九龙尖沙咀弥敦道40号重庆大厦E座3字楼E3室  NaN     1.0   131.0  \n337.0                          尖沙咀弥敦道36-44号重庆大厦16字楼D座D8室  NaN     NaN   175.0  \n343.0                        弥敦道36-44号重庆大厦A座17字楼A6 & A7室  NaN     1.0   113.0  \n348.0              九龙尖沙咀弥敦道40号重庆大厦E座8字楼E3室（于E座8楼E1室登记入住）  NaN     NaN   165.0  \n364.0                弥敦道36-44号重庆大厦C座6楼C2室 (登记前台於E座8楼E1室)  NaN     2.0   165.0  \n371.0                           九龙尖沙咀弥敦道40号重庆大厦D座3字楼5-6室  NaN     1.0   181.0  \n378.0                           尖沙咀弥敦道56-58号美丽都大厦16字楼A2室  4.7    15.0     NaN  \n381.0                              香港九龙弥敦道40号重庆大厦D座16楼1室  NaN     NaN   175.0  \n384.0  Flat A6 & A7, 16/F, Block A, Chungking Mansion...  NaN     1.0   166.0  \n399.0                              佐敦庙街230-236号韶兴大厦5字楼B座  NaN     NaN   350.0  \n403.0  Flat A1-A6, 16/F, Block A, Chungking Mansions,...  NaN     NaN   172.0  \n404.0                       九龙尖沙咀弥敦道40号重庆大厦A座16字楼A1& A2室  NaN     NaN   269.0  \n405.0          Flat 6, Block D, 17/F, Chungking Mansion,  NaN     NaN   174.0  \n406.0                                 弥敦道40号重庆大厦E座3字楼E1室  NaN     NaN   122.0  \n411.0                                       大屿山水口村47A号2楼  NaN     NaN  1035.0  ",
      "text/html": "<div>\n<style scoped>\n    .dataframe tbody tr th:only-of-type {\n        vertical-align: middle;\n    }\n\n    .dataframe tbody tr th {\n        vertical-align: top;\n    }\n\n    .dataframe thead th {\n        text-align: right;\n    }\n</style>\n<table border=\"1\" class=\"dataframe\">\n  <thead>\n    <tr style=\"text-align: right;\">\n      <th></th>\n      <th>名字</th>\n      <th>类型</th>\n      <th>城市</th>\n      <th>地区</th>\n      <th>地点</th>\n      <th>评分</th>\n      <th>评分人数</th>\n      <th>价格</th>\n    </tr>\n  </thead>\n  <tbody>\n    <tr>\n      <th>NaN</th>\n      <td>NaN</td>\n      <td>NaN</td>\n      <td>NaN</td>\n      <td>NaN</td>\n      <td>NaN</td>\n      <td>NaN</td>\n      <td>NaN</td>\n      <td>NaN</td>\n    </tr>\n    <tr>\n      <th>39.0</th>\n      <td>香港颐庭酒店(铜锣湾店)(Eco Tree Hotel Causeway Bay)</td>\n      <td>NaN</td>\n      <td>香港</td>\n      <td>东区</td>\n      <td>铜锣湾水星街15号</td>\n      <td>4.6</td>\n      <td>15.0</td>\n      <td>567.0</td>\n    </tr>\n    <tr>\n      <th>187.0</th>\n      <td>工業家酒店(IND Hotel)</td>\n      <td>NaN</td>\n      <td>香港</td>\n      <td>观塘</td>\n      <td>九龙观塘观塘道326号</td>\n      <td>4.2</td>\n      <td>6.0</td>\n      <td>448.0</td>\n    </tr>\n    <tr>\n      <th>200.0</th>\n      <td>香港永倫800酒店(WINLAND800HOTEL)</td>\n      <td>NaN</td>\n      <td>香港</td>\n      <td>葵青</td>\n      <td>新界青衣路一号</td>\n      <td>3.4</td>\n      <td>3098.0</td>\n      <td>196.0</td>\n    </tr>\n    <tr>\n      <th>241.0</th>\n      <td>香港港湾酒店(Hong Kong Harbor Hotel)</td>\n      <td>NaN</td>\n      <td>香港</td>\n      <td>南区</td>\n      <td>香港仔石排湾道47号</td>\n      <td>3.8</td>\n      <td>709.0</td>\n      <td>259.0</td>\n    </tr>\n    <tr>\n      <th>268.0</th>\n      <td>香港奥斯酒店(O‘ Hotel)</td>\n      <td>NaN</td>\n      <td>香港</td>\n      <td>九龙城</td>\n      <td>香港九龙土瓜湾九龙城道42-46号</td>\n      <td>3.7</td>\n      <td>869.0</td>\n      <td>369.0</td>\n    </tr>\n    <tr>\n      <th>284.0</th>\n      <td>巴黎旅馆(Paris Guest House (D2, 10/F))</td>\n      <td>NaN</td>\n      <td>香港</td>\n      <td>NaN</td>\n      <td>Flat D2, 10/F, Block D, Chungking Mansion, 40 ...</td>\n      <td>2.0</td>\n      <td>5.0</td>\n      <td>67.0</td>\n    </tr>\n    <tr>\n      <th>300.0</th>\n      <td>香港海景渡假乐园(Hong Kong Seaview Holiday Resort)</td>\n      <td>NaN</td>\n      <td>香港</td>\n      <td>离岛</td>\n      <td>大屿山梅窝东湾头路11号</td>\n      <td>2.9</td>\n      <td>5.0</td>\n      <td>881.0</td>\n    </tr>\n    <tr>\n      <th>301.0</th>\n      <td>香港海边小屋(The Cove Hostel)</td>\n      <td>NaN</td>\n      <td>香港</td>\n      <td>离岛</td>\n      <td>大屿山塘福村17D,1-2字楼</td>\n      <td>NaN</td>\n      <td>2.0</td>\n      <td>352.0</td>\n    </tr>\n    <tr>\n      <th>304.0</th>\n      <td>香港和平宾馆(HK Peace Guest House)</td>\n      <td>NaN</td>\n      <td>香港</td>\n      <td>NaN</td>\n      <td>尖沙咀弥敦道58号美丽都大厦13楼A5室</td>\n      <td>NaN</td>\n      <td>NaN</td>\n      <td>201.0</td>\n    </tr>\n    <tr>\n      <th>306.0</th>\n      <td>香港文苑宾馆(Man Yuen Hotel)</td>\n      <td>NaN</td>\n      <td>香港</td>\n      <td>油尖旺</td>\n      <td>旺角弥敦道737号金轮大厦二楼H室</td>\n      <td>4.7</td>\n      <td>5.0</td>\n      <td>169.0</td>\n    </tr>\n    <tr>\n      <th>315.0</th>\n      <td>墨尔本宾馆(Melbourne Hostel)</td>\n      <td>NaN</td>\n      <td>香港</td>\n      <td>NaN</td>\n      <td>九龙尖沙咀弥敦道40号重庆大厦E座10字楼E1室</td>\n      <td>NaN</td>\n      <td>2.0</td>\n      <td>93.0</td>\n    </tr>\n    <tr>\n      <th>318.0</th>\n      <td>香港百丽旅馆(Park Guest House)</td>\n      <td>NaN</td>\n      <td>香港</td>\n      <td>油尖旺</td>\n      <td>九龙尖沙咀海防道53至55号海防大厦1楼10号</td>\n      <td>NaN</td>\n      <td>6.0</td>\n      <td>445.0</td>\n    </tr>\n    <tr>\n      <th>321.0</th>\n      <td>香港尊贵旅馆(Hong Kong Premium Guest House)</td>\n      <td>NaN</td>\n      <td>香港</td>\n      <td>油尖旺</td>\n      <td>尖沙咀弥敦道56-58号美丽都大厦16字楼B2,A5室（前台入住办理设在16字楼A2室）</td>\n      <td>4.8</td>\n      <td>19.0</td>\n      <td>166.0</td>\n    </tr>\n    <tr>\n      <th>322.0</th>\n      <td>香港美华宾馆(Mei Wah  Guest House)</td>\n      <td>NaN</td>\n      <td>香港</td>\n      <td>NaN</td>\n      <td>九龙旺角弥敦道737号金轮大厦9字楼F座</td>\n      <td>4.0</td>\n      <td>27.0</td>\n      <td>250.0</td>\n    </tr>\n    <tr>\n      <th>323.0</th>\n      <td>香港威尼斯宾馆</td>\n      <td>NaN</td>\n      <td>香港</td>\n      <td>NaN</td>\n      <td>香港油尖旺区旺角弥顿道580号恒隆大厦4楼</td>\n      <td>4.7</td>\n      <td>48.0</td>\n      <td>298.0</td>\n    </tr>\n    <tr>\n      <th>327.0</th>\n      <td>80后潘多拉旅馆(香港佐敦店)(原华丰宾馆)(Pandora After 80s Jordan)</td>\n      <td>NaN</td>\n      <td>香港</td>\n      <td>油尖旺</td>\n      <td>九龙佐敦佐敦道15号华丰大厦1字楼H室</td>\n      <td>3.1</td>\n      <td>36.0</td>\n      <td>70.0</td>\n    </tr>\n    <tr>\n      <th>335.0</th>\n      <td>香港Primo旅馆(Primo Guesthouse)</td>\n      <td>NaN</td>\n      <td>香港</td>\n      <td>NaN</td>\n      <td>九龙尖沙咀弥敦道40号重庆大厦E座3字楼E3室</td>\n      <td>NaN</td>\n      <td>1.0</td>\n      <td>131.0</td>\n    </tr>\n    <tr>\n      <th>337.0</th>\n      <td>纳里旅馆(Narli Guest House)</td>\n      <td>NaN</td>\n      <td>香港</td>\n      <td>油尖旺</td>\n      <td>尖沙咀弥敦道36-44号重庆大厦16字楼D座D8室</td>\n      <td>NaN</td>\n      <td>NaN</td>\n      <td>175.0</td>\n    </tr>\n    <tr>\n      <th>343.0</th>\n      <td>香港宿雾宾馆(Cebu Hotel)</td>\n      <td>NaN</td>\n      <td>香港</td>\n      <td>NaN</td>\n      <td>弥敦道36-44号重庆大厦A座17字楼A6 &amp; A7室</td>\n      <td>NaN</td>\n      <td>1.0</td>\n      <td>113.0</td>\n    </tr>\n    <tr>\n      <th>348.0</th>\n      <td>美丽宾馆(Lily Guest House)</td>\n      <td>NaN</td>\n      <td>香港</td>\n      <td>NaN</td>\n      <td>九龙尖沙咀弥敦道40号重庆大厦E座8字楼E3室（于E座8楼E1室登记入住）</td>\n      <td>NaN</td>\n      <td>NaN</td>\n      <td>165.0</td>\n    </tr>\n    <tr>\n      <th>364.0</th>\n      <td>全球旅舍(Global Inn)</td>\n      <td>NaN</td>\n      <td>香港</td>\n      <td>NaN</td>\n      <td>弥敦道36-44号重庆大厦C座6楼C2室 (登记前台於E座8楼E1室)</td>\n      <td>NaN</td>\n      <td>2.0</td>\n      <td>165.0</td>\n    </tr>\n    <tr>\n      <th>371.0</th>\n      <td>珠峰宾馆(Everest Guest House (3/F))</td>\n      <td>NaN</td>\n      <td>香港</td>\n      <td>NaN</td>\n      <td>九龙尖沙咀弥敦道40号重庆大厦D座3字楼5-6室</td>\n      <td>NaN</td>\n      <td>1.0</td>\n      <td>181.0</td>\n    </tr>\n    <tr>\n      <th>378.0</th>\n      <td>香港牛津尊贵旅舍(Oxford Premium Guest House)</td>\n      <td>NaN</td>\n      <td>香港</td>\n      <td>油尖旺</td>\n      <td>尖沙咀弥敦道56-58号美丽都大厦16字楼A2室</td>\n      <td>4.7</td>\n      <td>15.0</td>\n      <td>NaN</td>\n    </tr>\n    <tr>\n      <th>381.0</th>\n      <td>香港俄罗斯旅舍(Russian Hostel)</td>\n      <td>NaN</td>\n      <td>香港</td>\n      <td>NaN</td>\n      <td>香港九龙弥敦道40号重庆大厦D座16楼1室</td>\n      <td>NaN</td>\n      <td>NaN</td>\n      <td>175.0</td>\n    </tr>\n    <tr>\n      <th>384.0</th>\n      <td>尊贵闲庭酒店(Premium Lounge)</td>\n      <td>NaN</td>\n      <td>香港</td>\n      <td>NaN</td>\n      <td>Flat A6 &amp; A7, 16/F, Block A, Chungking Mansion...</td>\n      <td>NaN</td>\n      <td>1.0</td>\n      <td>166.0</td>\n    </tr>\n    <tr>\n      <th>399.0</th>\n      <td>香港新天天酒店(Everyday Inn Hotel)</td>\n      <td>NaN</td>\n      <td>香港</td>\n      <td>油尖旺</td>\n      <td>佐敦庙街230-236号韶兴大厦5字楼B座</td>\n      <td>NaN</td>\n      <td>NaN</td>\n      <td>350.0</td>\n    </tr>\n    <tr>\n      <th>403.0</th>\n      <td>伍德斯托克旅馆(Woodstock Hostel)</td>\n      <td>NaN</td>\n      <td>香港</td>\n      <td>NaN</td>\n      <td>Flat A1-A6, 16/F, Block A, Chungking Mansions,...</td>\n      <td>NaN</td>\n      <td>NaN</td>\n      <td>172.0</td>\n    </tr>\n    <tr>\n      <th>404.0</th>\n      <td>旅客宾馆(Traveller‘s Hostel)</td>\n      <td>NaN</td>\n      <td>香港</td>\n      <td>NaN</td>\n      <td>九龙尖沙咀弥敦道40号重庆大厦A座16字楼A1&amp; A2室</td>\n      <td>NaN</td>\n      <td>NaN</td>\n      <td>269.0</td>\n    </tr>\n    <tr>\n      <th>405.0</th>\n      <td>欧若旅馆(Euro Hostel)</td>\n      <td>NaN</td>\n      <td>香港</td>\n      <td>NaN</td>\n      <td>Flat 6, Block D, 17/F, Chungking Mansion,</td>\n      <td>NaN</td>\n      <td>NaN</td>\n      <td>174.0</td>\n    </tr>\n    <tr>\n      <th>406.0</th>\n      <td>香港Prestige旅馆(Prestige Guesthouse)</td>\n      <td>NaN</td>\n      <td>香港</td>\n      <td>NaN</td>\n      <td>弥敦道40号重庆大厦E座3字楼E1室</td>\n      <td>NaN</td>\n      <td>NaN</td>\n      <td>122.0</td>\n    </tr>\n    <tr>\n      <th>411.0</th>\n      <td>香港兰涛度假屋(Lantau Lodge)</td>\n      <td>NaN</td>\n      <td>香港</td>\n      <td>荃湾</td>\n      <td>大屿山水口村47A号2楼</td>\n      <td>NaN</td>\n      <td>NaN</td>\n      <td>1035.0</td>\n    </tr>\n  </tbody>\n</table>\n</div>"
     },
     "execution_count": 253,
     "metadata": {},
     "output_type": "execute_result"
    }
   ],
   "source": [
    "### 5. 查看类型缺失的数据。\n",
    "\n",
    "df.loc[df['类型'].isnull()]"
   ],
   "metadata": {
    "collapsed": false,
    "ExecuteTime": {
     "end_time": "2024-04-08T08:43:57.375411100Z",
     "start_time": "2024-04-08T08:43:56.930669600Z"
    }
   },
   "id": "2e0b56cef6db5a6b"
  },
  {
   "cell_type": "code",
   "execution_count": 254,
   "outputs": [],
   "source": [
    "### 6. 用“其他”填充类型和地区。\n",
    "\n",
    "df['类型'].fillna('其他',inplace=True)\n",
    "df['地区'].fillna('其他',inplace=True)"
   ],
   "metadata": {
    "collapsed": false,
    "ExecuteTime": {
     "end_time": "2024-04-08T08:43:57.414777600Z",
     "start_time": "2024-04-08T08:43:56.967205600Z"
    }
   },
   "id": "2df0d37ab6db89d7"
  },
  {
   "cell_type": "code",
   "execution_count": 255,
   "outputs": [
    {
     "data": {
      "text/plain": "Empty DataFrame\nColumns: [名字, 类型, 城市, 地区, 地点, 评分, 评分人数, 价格]\nIndex: []",
      "text/html": "<div>\n<style scoped>\n    .dataframe tbody tr th:only-of-type {\n        vertical-align: middle;\n    }\n\n    .dataframe tbody tr th {\n        vertical-align: top;\n    }\n\n    .dataframe thead th {\n        text-align: right;\n    }\n</style>\n<table border=\"1\" class=\"dataframe\">\n  <thead>\n    <tr style=\"text-align: right;\">\n      <th></th>\n      <th>名字</th>\n      <th>类型</th>\n      <th>城市</th>\n      <th>地区</th>\n      <th>地点</th>\n      <th>评分</th>\n      <th>评分人数</th>\n      <th>价格</th>\n    </tr>\n  </thead>\n  <tbody>\n  </tbody>\n</table>\n</div>"
     },
     "execution_count": 255,
     "metadata": {},
     "output_type": "execute_result"
    }
   ],
   "source": [
    "### 7. 用评分均值填充缺失值。\n",
    "\n",
    "df['评分'].fillna(df['评分'].mean,inplace=True)\n",
    "\n",
    "df.loc[df['评分'].isnull()]"
   ],
   "metadata": {
    "collapsed": false,
    "ExecuteTime": {
     "end_time": "2024-04-08T08:43:57.415913400Z",
     "start_time": "2024-04-08T08:43:56.984087300Z"
    }
   },
   "id": "e063f609506716c4"
  },
  {
   "cell_type": "code",
   "execution_count": 256,
   "outputs": [
    {
     "name": "stdout",
     "output_type": "stream",
     "text": [
      "<class 'pandas.core.frame.DataFrame'>\n",
      "Index: 397 entries, 0.0 to 419.0\n",
      "Data columns (total 8 columns):\n",
      " #   Column  Non-Null Count  Dtype  \n",
      "---  ------  --------------  -----  \n",
      " 0   名字      397 non-null    object \n",
      " 1   类型      397 non-null    object \n",
      " 2   城市      397 non-null    object \n",
      " 3   地区      397 non-null    object \n",
      " 4   地点      397 non-null    object \n",
      " 5   评分      397 non-null    object \n",
      " 6   评分人数    397 non-null    float64\n",
      " 7   价格      397 non-null    float64\n",
      "dtypes: float64(2), object(6)\n",
      "memory usage: 27.9+ KB\n"
     ]
    }
   ],
   "source": [
    "### 8. 删除价格和评分人数的缺失值。\n",
    "\n",
    "df.dropna(subset=['价格', '评分人数'],inplace=True)\n",
    "\n",
    "df.info()"
   ],
   "metadata": {
    "collapsed": false,
    "ExecuteTime": {
     "end_time": "2024-04-08T08:43:57.415913400Z",
     "start_time": "2024-04-08T08:43:57.004717500Z"
    }
   },
   "id": "6e0d02ddd7273703"
  },
  {
   "cell_type": "code",
   "execution_count": 257,
   "outputs": [
    {
     "name": "stdout",
     "output_type": "stream",
     "text": [
      "<class 'pandas.core.frame.DataFrame'>\n",
      "Index: 397 entries, 0.0 to 419.0\n",
      "Data columns (total 8 columns):\n",
      " #   Column  Non-Null Count  Dtype  \n",
      "---  ------  --------------  -----  \n",
      " 0   名字      397 non-null    object \n",
      " 1   类型      397 non-null    object \n",
      " 2   城市      397 non-null    object \n",
      " 3   地区      397 non-null    object \n",
      " 4   地点      397 non-null    object \n",
      " 5   评分      397 non-null    object \n",
      " 6   评分人数    397 non-null    float64\n",
      " 7   价格      397 non-null    float64\n",
      "dtypes: float64(2), object(6)\n",
      "memory usage: 27.9+ KB\n"
     ]
    }
   ],
   "source": [
    "df.info()"
   ],
   "metadata": {
    "collapsed": false,
    "ExecuteTime": {
     "end_time": "2024-04-08T08:43:57.415913400Z",
     "start_time": "2024-04-08T08:43:57.033243700Z"
    }
   },
   "id": "316b15b58c356607"
  },
  {
   "cell_type": "code",
   "execution_count": 258,
   "outputs": [
    {
     "data": {
      "text/plain": "                                             名字    类型  城市   地区  \\\n402.0             香港中 港酒店(家庭旅馆)(HK-China Hotel)  地铁周边  香港  油尖旺   \n284.0        巴黎旅馆(Paris Guest House (D2, 10/F))    其他  香港   其他   \n282.0  香港经济型酒店  (家庭旅馆)(Hong Kong Budget Hostel)  地铁周边  香港  油尖旺   \n370.0           香港港龙酒店(Comfort Lodge Hong Kong)  地铁周边  香港  油尖旺   \n362.0                                香港京华宾馆(佐敦)  地铁周边  香港   其他   \n...                                         ...   ...  ..  ...   \n409.0           香港珠峰旅馆(Everest Inn Guest House)  地铁周边  香港   其他   \n410.0                                  深圳月亮月亮公寓    民宿  香港  罗湖区   \n412.0                   香港航天星际酒店(Hotel Skystar)  地铁周边  香港   其他   \n413.0                 香港HotelVenus(Hotel Venus)  地铁周边  香港  油尖旺   \n414.0                                    香港金泉酒店  地铁周边  香港   其他   \n\n                                                      地点   评分  评分人数     价格  \n402.0                    碧街33-39号永华大厦1楼（油麻地地铁站A1出口直走50米）  1.5   7.0  429.0  \n284.0  Flat D2, 10/F, Block D, Chungking Mansion, 40 ...  2.0   5.0   67.0  \n282.0                       弥敦道36-44号重庆大厦10字楼D,E座D8& E2室  2.0  29.0   67.0  \n370.0                        香港九龙佐敦德兴街7-8号（礼苑，接待处位于A座2楼）  2.2  18.0  492.0  \n362.0                                 九龙佐敦南京街19-21号3楼2/F  2.3  40.0  328.0  \n...                                                  ...  ...   ...    ...  \n409.0                      香港弥敦道40号重庆大厦D座16字楼3室(尖沙咀地铁站旁)  NaN   7.0  175.0  \n410.0                                           深圳罗湖区渔民村  NaN  24.0  506.0  \n412.0                           尖沙咀弥敦道36-40号重庆大厦E座14楼E3室  NaN   3.0  172.0  \n413.0                           尖沙咀弥敦道36-40号重庆大厦C座12楼C6室  NaN   2.0  172.0  \n414.0                               香港旺角弥敦道607号新兴大厦1407室  NaN  16.0  245.0  \n\n[397 rows x 8 columns]",
      "text/html": "<div>\n<style scoped>\n    .dataframe tbody tr th:only-of-type {\n        vertical-align: middle;\n    }\n\n    .dataframe tbody tr th {\n        vertical-align: top;\n    }\n\n    .dataframe thead th {\n        text-align: right;\n    }\n</style>\n<table border=\"1\" class=\"dataframe\">\n  <thead>\n    <tr style=\"text-align: right;\">\n      <th></th>\n      <th>名字</th>\n      <th>类型</th>\n      <th>城市</th>\n      <th>地区</th>\n      <th>地点</th>\n      <th>评分</th>\n      <th>评分人数</th>\n      <th>价格</th>\n    </tr>\n  </thead>\n  <tbody>\n    <tr>\n      <th>402.0</th>\n      <td>香港中 港酒店(家庭旅馆)(HK-China Hotel)</td>\n      <td>地铁周边</td>\n      <td>香港</td>\n      <td>油尖旺</td>\n      <td>碧街33-39号永华大厦1楼（油麻地地铁站A1出口直走50米）</td>\n      <td>1.5</td>\n      <td>7.0</td>\n      <td>429.0</td>\n    </tr>\n    <tr>\n      <th>284.0</th>\n      <td>巴黎旅馆(Paris Guest House (D2, 10/F))</td>\n      <td>其他</td>\n      <td>香港</td>\n      <td>其他</td>\n      <td>Flat D2, 10/F, Block D, Chungking Mansion, 40 ...</td>\n      <td>2.0</td>\n      <td>5.0</td>\n      <td>67.0</td>\n    </tr>\n    <tr>\n      <th>282.0</th>\n      <td>香港经济型酒店  (家庭旅馆)(Hong Kong Budget Hostel)</td>\n      <td>地铁周边</td>\n      <td>香港</td>\n      <td>油尖旺</td>\n      <td>弥敦道36-44号重庆大厦10字楼D,E座D8&amp; E2室</td>\n      <td>2.0</td>\n      <td>29.0</td>\n      <td>67.0</td>\n    </tr>\n    <tr>\n      <th>370.0</th>\n      <td>香港港龙酒店(Comfort Lodge Hong Kong)</td>\n      <td>地铁周边</td>\n      <td>香港</td>\n      <td>油尖旺</td>\n      <td>香港九龙佐敦德兴街7-8号（礼苑，接待处位于A座2楼）</td>\n      <td>2.2</td>\n      <td>18.0</td>\n      <td>492.0</td>\n    </tr>\n    <tr>\n      <th>362.0</th>\n      <td>香港京华宾馆(佐敦)</td>\n      <td>地铁周边</td>\n      <td>香港</td>\n      <td>其他</td>\n      <td>九龙佐敦南京街19-21号3楼2/F</td>\n      <td>2.3</td>\n      <td>40.0</td>\n      <td>328.0</td>\n    </tr>\n    <tr>\n      <th>...</th>\n      <td>...</td>\n      <td>...</td>\n      <td>...</td>\n      <td>...</td>\n      <td>...</td>\n      <td>...</td>\n      <td>...</td>\n      <td>...</td>\n    </tr>\n    <tr>\n      <th>409.0</th>\n      <td>香港珠峰旅馆(Everest Inn Guest House)</td>\n      <td>地铁周边</td>\n      <td>香港</td>\n      <td>其他</td>\n      <td>香港弥敦道40号重庆大厦D座16字楼3室(尖沙咀地铁站旁)</td>\n      <td>NaN</td>\n      <td>7.0</td>\n      <td>175.0</td>\n    </tr>\n    <tr>\n      <th>410.0</th>\n      <td>深圳月亮月亮公寓</td>\n      <td>民宿</td>\n      <td>香港</td>\n      <td>罗湖区</td>\n      <td>深圳罗湖区渔民村</td>\n      <td>NaN</td>\n      <td>24.0</td>\n      <td>506.0</td>\n    </tr>\n    <tr>\n      <th>412.0</th>\n      <td>香港航天星际酒店(Hotel Skystar)</td>\n      <td>地铁周边</td>\n      <td>香港</td>\n      <td>其他</td>\n      <td>尖沙咀弥敦道36-40号重庆大厦E座14楼E3室</td>\n      <td>NaN</td>\n      <td>3.0</td>\n      <td>172.0</td>\n    </tr>\n    <tr>\n      <th>413.0</th>\n      <td>香港HotelVenus(Hotel Venus)</td>\n      <td>地铁周边</td>\n      <td>香港</td>\n      <td>油尖旺</td>\n      <td>尖沙咀弥敦道36-40号重庆大厦C座12楼C6室</td>\n      <td>NaN</td>\n      <td>2.0</td>\n      <td>172.0</td>\n    </tr>\n    <tr>\n      <th>414.0</th>\n      <td>香港金泉酒店</td>\n      <td>地铁周边</td>\n      <td>香港</td>\n      <td>其他</td>\n      <td>香港旺角弥敦道607号新兴大厦1407室</td>\n      <td>NaN</td>\n      <td>16.0</td>\n      <td>245.0</td>\n    </tr>\n  </tbody>\n</table>\n<p>397 rows × 8 columns</p>\n</div>"
     },
     "execution_count": 258,
     "metadata": {},
     "output_type": "execute_result"
    }
   ],
   "source": [
    "df['评分'] = pd.to_numeric(df['评分'], errors='coerce')\n",
    "\n",
    "# 降序\n",
    "df.sort_values(['评分'],ascending=False)\n",
    "# 升序\n",
    "df.sort_values(['评分'])"
   ],
   "metadata": {
    "collapsed": false,
    "ExecuteTime": {
     "end_time": "2024-04-08T08:43:57.415913400Z",
     "start_time": "2024-04-08T08:43:57.053983200Z"
    }
   },
   "id": "7243d559d9d27232"
  },
  {
   "cell_type": "code",
   "execution_count": 259,
   "outputs": [
    {
     "data": {
      "text/plain": "                                                     名字    类型  城市   地区  \\\n117.0              香港四季酒店(Four Seasons Hotel Hong Kong)  海滨风光  香港  中西区   \n116.0     香港置地文华东方酒店(The Landmark Mandarin Oriental HK)  休闲度假  香港  中西区   \n89.0                                奕居(The Upper House)  海滨风光  香港  中西区   \n83.0                    香港半岛酒店(The Peninsula Hong Kong)  海滨风光  香港  油尖旺   \n19.0              香港文华东方酒店(Mandarin Oriental Hong Kong)  海滨风光  香港  中西区   \n...                                                 ...   ...  ..  ...   \n193.0                              香港加尔文青年旅舍(HK HOSTEL)  青年旅舍  香港  油尖旺   \n327.0  80后潘多拉旅馆(香港佐敦店)(原华丰宾馆)(Pandora After 80s Jordan)    其他  香港  油尖旺   \n375.0                      香港日夜宾馆(Day and Night Hostel)  地铁周边  香港  油尖旺   \n284.0                巴黎旅馆(Paris Guest House (D2, 10/F))    其他  香港   其他   \n282.0          香港经济型酒店  (家庭旅馆)(Hong Kong Budget Hostel)  地铁周边  香港  油尖旺   \n\n                                                      地点   评分    评分人数       价格  \n117.0                                           中环 金融街8号  4.8  3461.0  12926.0  \n116.0                                    中环 皇后大道中15号置地广场  4.8  1285.0   4443.0  \n89.0                                          金钟道88号太古广场  4.8  1369.0   4356.0  \n83.0                                            尖沙咀梳士巴利道  4.8  3693.0   3862.0  \n19.0                                            中环干诺道中5号  4.8  2452.0   3609.0  \n...                                                  ...  ...     ...      ...  \n193.0                                  佐敦道13-15号华丰大厦7楼A室  4.2  1480.0     70.0  \n327.0                                九龙佐敦佐敦道15号华丰大厦1字楼H室  3.1    36.0     70.0  \n375.0                       弥敦道36-44号重庆大厦10字楼D,E座D8& E2室  3.3    63.0     68.0  \n284.0  Flat D2, 10/F, Block D, Chungking Mansion, 40 ...  2.0     5.0     67.0  \n282.0                       弥敦道36-44号重庆大厦10字楼D,E座D8& E2室  2.0    29.0     67.0  \n\n[397 rows x 8 columns]",
      "text/html": "<div>\n<style scoped>\n    .dataframe tbody tr th:only-of-type {\n        vertical-align: middle;\n    }\n\n    .dataframe tbody tr th {\n        vertical-align: top;\n    }\n\n    .dataframe thead th {\n        text-align: right;\n    }\n</style>\n<table border=\"1\" class=\"dataframe\">\n  <thead>\n    <tr style=\"text-align: right;\">\n      <th></th>\n      <th>名字</th>\n      <th>类型</th>\n      <th>城市</th>\n      <th>地区</th>\n      <th>地点</th>\n      <th>评分</th>\n      <th>评分人数</th>\n      <th>价格</th>\n    </tr>\n  </thead>\n  <tbody>\n    <tr>\n      <th>117.0</th>\n      <td>香港四季酒店(Four Seasons Hotel Hong Kong)</td>\n      <td>海滨风光</td>\n      <td>香港</td>\n      <td>中西区</td>\n      <td>中环 金融街8号</td>\n      <td>4.8</td>\n      <td>3461.0</td>\n      <td>12926.0</td>\n    </tr>\n    <tr>\n      <th>116.0</th>\n      <td>香港置地文华东方酒店(The Landmark Mandarin Oriental HK)</td>\n      <td>休闲度假</td>\n      <td>香港</td>\n      <td>中西区</td>\n      <td>中环 皇后大道中15号置地广场</td>\n      <td>4.8</td>\n      <td>1285.0</td>\n      <td>4443.0</td>\n    </tr>\n    <tr>\n      <th>89.0</th>\n      <td>奕居(The Upper House)</td>\n      <td>海滨风光</td>\n      <td>香港</td>\n      <td>中西区</td>\n      <td>金钟道88号太古广场</td>\n      <td>4.8</td>\n      <td>1369.0</td>\n      <td>4356.0</td>\n    </tr>\n    <tr>\n      <th>83.0</th>\n      <td>香港半岛酒店(The Peninsula Hong Kong)</td>\n      <td>海滨风光</td>\n      <td>香港</td>\n      <td>油尖旺</td>\n      <td>尖沙咀梳士巴利道</td>\n      <td>4.8</td>\n      <td>3693.0</td>\n      <td>3862.0</td>\n    </tr>\n    <tr>\n      <th>19.0</th>\n      <td>香港文华东方酒店(Mandarin Oriental Hong Kong)</td>\n      <td>海滨风光</td>\n      <td>香港</td>\n      <td>中西区</td>\n      <td>中环干诺道中5号</td>\n      <td>4.8</td>\n      <td>2452.0</td>\n      <td>3609.0</td>\n    </tr>\n    <tr>\n      <th>...</th>\n      <td>...</td>\n      <td>...</td>\n      <td>...</td>\n      <td>...</td>\n      <td>...</td>\n      <td>...</td>\n      <td>...</td>\n      <td>...</td>\n    </tr>\n    <tr>\n      <th>193.0</th>\n      <td>香港加尔文青年旅舍(HK HOSTEL)</td>\n      <td>青年旅舍</td>\n      <td>香港</td>\n      <td>油尖旺</td>\n      <td>佐敦道13-15号华丰大厦7楼A室</td>\n      <td>4.2</td>\n      <td>1480.0</td>\n      <td>70.0</td>\n    </tr>\n    <tr>\n      <th>327.0</th>\n      <td>80后潘多拉旅馆(香港佐敦店)(原华丰宾馆)(Pandora After 80s Jordan)</td>\n      <td>其他</td>\n      <td>香港</td>\n      <td>油尖旺</td>\n      <td>九龙佐敦佐敦道15号华丰大厦1字楼H室</td>\n      <td>3.1</td>\n      <td>36.0</td>\n      <td>70.0</td>\n    </tr>\n    <tr>\n      <th>375.0</th>\n      <td>香港日夜宾馆(Day and Night Hostel)</td>\n      <td>地铁周边</td>\n      <td>香港</td>\n      <td>油尖旺</td>\n      <td>弥敦道36-44号重庆大厦10字楼D,E座D8&amp; E2室</td>\n      <td>3.3</td>\n      <td>63.0</td>\n      <td>68.0</td>\n    </tr>\n    <tr>\n      <th>284.0</th>\n      <td>巴黎旅馆(Paris Guest House (D2, 10/F))</td>\n      <td>其他</td>\n      <td>香港</td>\n      <td>其他</td>\n      <td>Flat D2, 10/F, Block D, Chungking Mansion, 40 ...</td>\n      <td>2.0</td>\n      <td>5.0</td>\n      <td>67.0</td>\n    </tr>\n    <tr>\n      <th>282.0</th>\n      <td>香港经济型酒店  (家庭旅馆)(Hong Kong Budget Hostel)</td>\n      <td>地铁周边</td>\n      <td>香港</td>\n      <td>油尖旺</td>\n      <td>弥敦道36-44号重庆大厦10字楼D,E座D8&amp; E2室</td>\n      <td>2.0</td>\n      <td>29.0</td>\n      <td>67.0</td>\n    </tr>\n  </tbody>\n</table>\n<p>397 rows × 8 columns</p>\n</div>"
     },
     "execution_count": 259,
     "metadata": {},
     "output_type": "execute_result"
    }
   ],
   "source": [
    "### 3. 对酒店按照价格进行排名，计算“油尖旺”地区的均价。\n",
    "df.sort_values('价格',ascending=False).assign()\n"
   ],
   "metadata": {
    "collapsed": false,
    "ExecuteTime": {
     "end_time": "2024-04-08T08:43:57.415913400Z",
     "start_time": "2024-04-08T08:43:57.095243100Z"
    }
   },
   "id": "c0cff976da20a7ae"
  },
  {
   "cell_type": "code",
   "execution_count": 260,
   "outputs": [
    {
     "name": "stdout",
     "output_type": "stream",
     "text": [
      "油尖旺地区的均价为: 544.3621621621621\n"
     ]
    },
    {
     "data": {
      "text/plain": "                                                     名字    类型  城市   地区  \\\n117.0              香港四季酒店(Four Seasons Hotel Hong Kong)  海滨风光  香港  中西区   \n116.0     香港置地文华东方酒店(The Landmark Mandarin Oriental HK)  休闲度假  香港  中西区   \n89.0                                奕居(The Upper House)  海滨风光  香港  中西区   \n83.0                    香港半岛酒店(The Peninsula Hong Kong)  海滨风光  香港  油尖旺   \n19.0              香港文华东方酒店(Mandarin Oriental Hong Kong)  海滨风光  香港  中西区   \n...                                                 ...   ...  ..  ...   \n193.0                              香港加尔文青年旅舍(HK HOSTEL)  青年旅舍  香港  油尖旺   \n327.0  80后潘多拉旅馆(香港佐敦店)(原华丰宾馆)(Pandora After 80s Jordan)    其他  香港  油尖旺   \n375.0                      香港日夜宾馆(Day and Night Hostel)  地铁周边  香港  油尖旺   \n284.0                巴黎旅馆(Paris Guest House (D2, 10/F))    其他  香港   其他   \n282.0          香港经济型酒店  (家庭旅馆)(Hong Kong Budget Hostel)  地铁周边  香港  油尖旺   \n\n                                                      地点   评分    评分人数  \\\n117.0                                           中环 金融街8号  4.8  3461.0   \n116.0                                    中环 皇后大道中15号置地广场  4.8  1285.0   \n89.0                                          金钟道88号太古广场  4.8  1369.0   \n83.0                                            尖沙咀梳士巴利道  4.8  3693.0   \n19.0                                            中环干诺道中5号  4.8  2452.0   \n...                                                  ...  ...     ...   \n193.0                                  佐敦道13-15号华丰大厦7楼A室  4.2  1480.0   \n327.0                                九龙佐敦佐敦道15号华丰大厦1字楼H室  3.1    36.0   \n375.0                       弥敦道36-44号重庆大厦10字楼D,E座D8& E2室  3.3    63.0   \n284.0  Flat D2, 10/F, Block D, Chungking Mansion, 40 ...  2.0     5.0   \n282.0                       弥敦道36-44号重庆大厦10字楼D,E座D8& E2室  2.0    29.0   \n\n            价格     排名  \n117.0  12926.0    1.0  \n116.0   4443.0    2.0  \n89.0    4356.0    3.0  \n83.0    3862.0    4.0  \n19.0    3609.0    5.0  \n...        ...    ...  \n193.0     70.0  393.5  \n327.0     70.0  393.5  \n375.0     68.0  395.0  \n284.0     67.0  396.5  \n282.0     67.0  396.5  \n\n[397 rows x 9 columns]",
      "text/html": "<div>\n<style scoped>\n    .dataframe tbody tr th:only-of-type {\n        vertical-align: middle;\n    }\n\n    .dataframe tbody tr th {\n        vertical-align: top;\n    }\n\n    .dataframe thead th {\n        text-align: right;\n    }\n</style>\n<table border=\"1\" class=\"dataframe\">\n  <thead>\n    <tr style=\"text-align: right;\">\n      <th></th>\n      <th>名字</th>\n      <th>类型</th>\n      <th>城市</th>\n      <th>地区</th>\n      <th>地点</th>\n      <th>评分</th>\n      <th>评分人数</th>\n      <th>价格</th>\n      <th>排名</th>\n    </tr>\n  </thead>\n  <tbody>\n    <tr>\n      <th>117.0</th>\n      <td>香港四季酒店(Four Seasons Hotel Hong Kong)</td>\n      <td>海滨风光</td>\n      <td>香港</td>\n      <td>中西区</td>\n      <td>中环 金融街8号</td>\n      <td>4.8</td>\n      <td>3461.0</td>\n      <td>12926.0</td>\n      <td>1.0</td>\n    </tr>\n    <tr>\n      <th>116.0</th>\n      <td>香港置地文华东方酒店(The Landmark Mandarin Oriental HK)</td>\n      <td>休闲度假</td>\n      <td>香港</td>\n      <td>中西区</td>\n      <td>中环 皇后大道中15号置地广场</td>\n      <td>4.8</td>\n      <td>1285.0</td>\n      <td>4443.0</td>\n      <td>2.0</td>\n    </tr>\n    <tr>\n      <th>89.0</th>\n      <td>奕居(The Upper House)</td>\n      <td>海滨风光</td>\n      <td>香港</td>\n      <td>中西区</td>\n      <td>金钟道88号太古广场</td>\n      <td>4.8</td>\n      <td>1369.0</td>\n      <td>4356.0</td>\n      <td>3.0</td>\n    </tr>\n    <tr>\n      <th>83.0</th>\n      <td>香港半岛酒店(The Peninsula Hong Kong)</td>\n      <td>海滨风光</td>\n      <td>香港</td>\n      <td>油尖旺</td>\n      <td>尖沙咀梳士巴利道</td>\n      <td>4.8</td>\n      <td>3693.0</td>\n      <td>3862.0</td>\n      <td>4.0</td>\n    </tr>\n    <tr>\n      <th>19.0</th>\n      <td>香港文华东方酒店(Mandarin Oriental Hong Kong)</td>\n      <td>海滨风光</td>\n      <td>香港</td>\n      <td>中西区</td>\n      <td>中环干诺道中5号</td>\n      <td>4.8</td>\n      <td>2452.0</td>\n      <td>3609.0</td>\n      <td>5.0</td>\n    </tr>\n    <tr>\n      <th>...</th>\n      <td>...</td>\n      <td>...</td>\n      <td>...</td>\n      <td>...</td>\n      <td>...</td>\n      <td>...</td>\n      <td>...</td>\n      <td>...</td>\n      <td>...</td>\n    </tr>\n    <tr>\n      <th>193.0</th>\n      <td>香港加尔文青年旅舍(HK HOSTEL)</td>\n      <td>青年旅舍</td>\n      <td>香港</td>\n      <td>油尖旺</td>\n      <td>佐敦道13-15号华丰大厦7楼A室</td>\n      <td>4.2</td>\n      <td>1480.0</td>\n      <td>70.0</td>\n      <td>393.5</td>\n    </tr>\n    <tr>\n      <th>327.0</th>\n      <td>80后潘多拉旅馆(香港佐敦店)(原华丰宾馆)(Pandora After 80s Jordan)</td>\n      <td>其他</td>\n      <td>香港</td>\n      <td>油尖旺</td>\n      <td>九龙佐敦佐敦道15号华丰大厦1字楼H室</td>\n      <td>3.1</td>\n      <td>36.0</td>\n      <td>70.0</td>\n      <td>393.5</td>\n    </tr>\n    <tr>\n      <th>375.0</th>\n      <td>香港日夜宾馆(Day and Night Hostel)</td>\n      <td>地铁周边</td>\n      <td>香港</td>\n      <td>油尖旺</td>\n      <td>弥敦道36-44号重庆大厦10字楼D,E座D8&amp; E2室</td>\n      <td>3.3</td>\n      <td>63.0</td>\n      <td>68.0</td>\n      <td>395.0</td>\n    </tr>\n    <tr>\n      <th>284.0</th>\n      <td>巴黎旅馆(Paris Guest House (D2, 10/F))</td>\n      <td>其他</td>\n      <td>香港</td>\n      <td>其他</td>\n      <td>Flat D2, 10/F, Block D, Chungking Mansion, 40 ...</td>\n      <td>2.0</td>\n      <td>5.0</td>\n      <td>67.0</td>\n      <td>396.5</td>\n    </tr>\n    <tr>\n      <th>282.0</th>\n      <td>香港经济型酒店  (家庭旅馆)(Hong Kong Budget Hostel)</td>\n      <td>地铁周边</td>\n      <td>香港</td>\n      <td>油尖旺</td>\n      <td>弥敦道36-44号重庆大厦10字楼D,E座D8&amp; E2室</td>\n      <td>2.0</td>\n      <td>29.0</td>\n      <td>67.0</td>\n      <td>396.5</td>\n    </tr>\n  </tbody>\n</table>\n<p>397 rows × 9 columns</p>\n</div>"
     },
     "execution_count": 260,
     "metadata": {},
     "output_type": "execute_result"
    }
   ],
   "source": [
    "# 对酒店按价格进行降序排列\n",
    "sorted_df = df.sort_values('价格', ascending=False)\n",
    "\n",
    "# 计算“油尖旺”地区的均价\n",
    "yau_tsim_mong_avg_price = sorted_df[sorted_df['地区'] == '油尖旺']['价格'].mean()\n",
    "\n",
    "# 使用 assign() 方法添加排名列\n",
    "sorted_df = sorted_df.assign(排名=sorted_df['价格'].rank(ascending=False))\n",
    "\n",
    "print(\"油尖旺地区的均价为:\", yau_tsim_mong_avg_price)\n",
    "sorted_df\n"
   ],
   "metadata": {
    "collapsed": false,
    "ExecuteTime": {
     "end_time": "2024-04-08T08:43:57.415913400Z",
     "start_time": "2024-04-08T08:43:57.136670700Z"
    }
   },
   "id": "b84e83d8282ed992"
  },
  {
   "cell_type": "code",
   "execution_count": 261,
   "outputs": [
    {
     "data": {
      "text/plain": "count      397.000000\nmean       681.659950\nstd        906.282671\nmin         67.000000\n25%        247.000000\n50%        418.000000\n75%        766.000000\nmax      12926.000000\nName: 价格, dtype: float64"
     },
     "execution_count": 261,
     "metadata": {},
     "output_type": "execute_result"
    }
   ],
   "source": [
    "### 4. 对酒店数据进行描述性统计，并求所有价格的均值方差，最大最小值，中值。\n",
    "\n",
    "df['价格'].describe()"
   ],
   "metadata": {
    "collapsed": false,
    "ExecuteTime": {
     "end_time": "2024-04-08T08:43:57.415913400Z",
     "start_time": "2024-04-08T08:43:57.183037100Z"
    }
   },
   "id": "36a31aec44c33e91"
  },
  {
   "cell_type": "code",
   "execution_count": 262,
   "outputs": [
    {
     "name": "stdout",
     "output_type": "stream",
     "text": [
      "评分和价格之间的相关系数: 0.2911706378402462\n",
      "评分和价格之间的协方差: 137.05597948948272\n"
     ]
    }
   ],
   "source": [
    "### 5. 计算评分和价格之间的的相关系数，协方差。\n",
    "\n",
    "# 计算评分和价格之间的相关系数\n",
    "correlation = df['评分'].corr(df['价格'])\n",
    "\n",
    "# 计算评分和价格之间的协方差\n",
    "covariance = df['评分'].cov(df['价格'])\n",
    "\n",
    "print(\"评分和价格之间的相关系数:\", correlation)\n",
    "print(\"评分和价格之间的协方差:\", covariance)"
   ],
   "metadata": {
    "collapsed": false,
    "ExecuteTime": {
     "end_time": "2024-04-08T08:43:57.415913400Z",
     "start_time": "2024-04-08T08:43:57.210352500Z"
    }
   },
   "id": "f28cf4361694569b"
  },
  {
   "cell_type": "code",
   "execution_count": 263,
   "outputs": [
    {
     "data": {
      "text/plain": "                                              名字    类型  城市   地区  \\\n211.0           香港李女士宾馆(家庭旅馆)(MS LI GUEST HOUSE)  地铁周边  香港  油尖旺   \n338.0      香港新金冠宾馆(New Golden Crown Guest House)    客栈  香港  油尖旺   \n321.0      香港尊贵旅馆(Hong Kong Premium Guest House)    其他  香港  油尖旺   \n199.0                         香港鸣人宾馆(Naruto Inn)  地铁周边  香港  油尖旺   \n75.0              香港和平客栈(HK Peaceful Guesthouse)    民宿  香港   其他   \n...                                          ...   ...  ..  ...   \n318.0                   香港百丽旅馆(Park Guest House)    其他  香港  油尖旺   \n346.0                     香港Come Inn宾馆(Come Inn)  地铁周边  香港  油尖旺   \n410.0                                   深圳月亮月亮公寓    民宿  香港  罗湖区   \n290.0                     香港中港酒店(China HK Hotel)    客栈  香港   东区   \n401.0  香港加勒比海宾馆(家庭旅馆)(Caribbean Sea Guest House)  地铁周边  香港  油尖旺   \n\n                                                 地点   评分   评分人数      价格  \n211.0                           弥敦道58号美丽都大厦E座5字楼E1室  4.9    7.0   351.0  \n338.0                            尖沙咀弥敦道68号金冠大厦13楼C室  4.9   10.0   395.0  \n321.0  尖沙咀弥敦道56-58号美丽都大厦16字楼B2,A5室（前台入住办理设在16字楼A2室）  4.8   19.0   166.0  \n199.0                       尖沙咀弥敦道83-97号华源大厦10F B4室  4.8  921.0   190.0  \n75.0                尖沙咀弥敦道58号美丽都大厦13楼B1室于13楼C2室登记入住  4.8  511.0   264.0  \n...                                             ...  ...    ...     ...  \n318.0                       九龙尖沙咀海防道53至55号海防大厦1楼10号  NaN    6.0   445.0  \n346.0                         尖沙咀金巴利道27-33号永利大厦9楼F座  NaN    2.0   500.0  \n410.0                                      深圳罗湖区渔民村  NaN   24.0   506.0  \n290.0                                北角七姊妹道25-31号一楼  NaN    1.0   553.0  \n401.0                         弥敦道36号-44号重庆大厦C座5楼C1室  NaN    5.0  1520.0  \n\n[397 rows x 8 columns]",
      "text/html": "<div>\n<style scoped>\n    .dataframe tbody tr th:only-of-type {\n        vertical-align: middle;\n    }\n\n    .dataframe tbody tr th {\n        vertical-align: top;\n    }\n\n    .dataframe thead th {\n        text-align: right;\n    }\n</style>\n<table border=\"1\" class=\"dataframe\">\n  <thead>\n    <tr style=\"text-align: right;\">\n      <th></th>\n      <th>名字</th>\n      <th>类型</th>\n      <th>城市</th>\n      <th>地区</th>\n      <th>地点</th>\n      <th>评分</th>\n      <th>评分人数</th>\n      <th>价格</th>\n    </tr>\n  </thead>\n  <tbody>\n    <tr>\n      <th>211.0</th>\n      <td>香港李女士宾馆(家庭旅馆)(MS LI GUEST HOUSE)</td>\n      <td>地铁周边</td>\n      <td>香港</td>\n      <td>油尖旺</td>\n      <td>弥敦道58号美丽都大厦E座5字楼E1室</td>\n      <td>4.9</td>\n      <td>7.0</td>\n      <td>351.0</td>\n    </tr>\n    <tr>\n      <th>338.0</th>\n      <td>香港新金冠宾馆(New Golden Crown Guest House)</td>\n      <td>客栈</td>\n      <td>香港</td>\n      <td>油尖旺</td>\n      <td>尖沙咀弥敦道68号金冠大厦13楼C室</td>\n      <td>4.9</td>\n      <td>10.0</td>\n      <td>395.0</td>\n    </tr>\n    <tr>\n      <th>321.0</th>\n      <td>香港尊贵旅馆(Hong Kong Premium Guest House)</td>\n      <td>其他</td>\n      <td>香港</td>\n      <td>油尖旺</td>\n      <td>尖沙咀弥敦道56-58号美丽都大厦16字楼B2,A5室（前台入住办理设在16字楼A2室）</td>\n      <td>4.8</td>\n      <td>19.0</td>\n      <td>166.0</td>\n    </tr>\n    <tr>\n      <th>199.0</th>\n      <td>香港鸣人宾馆(Naruto Inn)</td>\n      <td>地铁周边</td>\n      <td>香港</td>\n      <td>油尖旺</td>\n      <td>尖沙咀弥敦道83-97号华源大厦10F B4室</td>\n      <td>4.8</td>\n      <td>921.0</td>\n      <td>190.0</td>\n    </tr>\n    <tr>\n      <th>75.0</th>\n      <td>香港和平客栈(HK Peaceful Guesthouse)</td>\n      <td>民宿</td>\n      <td>香港</td>\n      <td>其他</td>\n      <td>尖沙咀弥敦道58号美丽都大厦13楼B1室于13楼C2室登记入住</td>\n      <td>4.8</td>\n      <td>511.0</td>\n      <td>264.0</td>\n    </tr>\n    <tr>\n      <th>...</th>\n      <td>...</td>\n      <td>...</td>\n      <td>...</td>\n      <td>...</td>\n      <td>...</td>\n      <td>...</td>\n      <td>...</td>\n      <td>...</td>\n    </tr>\n    <tr>\n      <th>318.0</th>\n      <td>香港百丽旅馆(Park Guest House)</td>\n      <td>其他</td>\n      <td>香港</td>\n      <td>油尖旺</td>\n      <td>九龙尖沙咀海防道53至55号海防大厦1楼10号</td>\n      <td>NaN</td>\n      <td>6.0</td>\n      <td>445.0</td>\n    </tr>\n    <tr>\n      <th>346.0</th>\n      <td>香港Come Inn宾馆(Come Inn)</td>\n      <td>地铁周边</td>\n      <td>香港</td>\n      <td>油尖旺</td>\n      <td>尖沙咀金巴利道27-33号永利大厦9楼F座</td>\n      <td>NaN</td>\n      <td>2.0</td>\n      <td>500.0</td>\n    </tr>\n    <tr>\n      <th>410.0</th>\n      <td>深圳月亮月亮公寓</td>\n      <td>民宿</td>\n      <td>香港</td>\n      <td>罗湖区</td>\n      <td>深圳罗湖区渔民村</td>\n      <td>NaN</td>\n      <td>24.0</td>\n      <td>506.0</td>\n    </tr>\n    <tr>\n      <th>290.0</th>\n      <td>香港中港酒店(China HK Hotel)</td>\n      <td>客栈</td>\n      <td>香港</td>\n      <td>东区</td>\n      <td>北角七姊妹道25-31号一楼</td>\n      <td>NaN</td>\n      <td>1.0</td>\n      <td>553.0</td>\n    </tr>\n    <tr>\n      <th>401.0</th>\n      <td>香港加勒比海宾馆(家庭旅馆)(Caribbean Sea Guest House)</td>\n      <td>地铁周边</td>\n      <td>香港</td>\n      <td>油尖旺</td>\n      <td>弥敦道36号-44号重庆大厦C座5楼C1室</td>\n      <td>NaN</td>\n      <td>5.0</td>\n      <td>1520.0</td>\n    </tr>\n  </tbody>\n</table>\n<p>397 rows × 8 columns</p>\n</div>"
     },
     "execution_count": 263,
     "metadata": {},
     "output_type": "execute_result"
    }
   ],
   "source": [
    "### 6. 按照评分降序排序，评分相同时按价格升序排序。\n",
    "\n",
    "df.sort_values(['评分','价格'],ascending=[False,True])"
   ],
   "metadata": {
    "collapsed": false,
    "ExecuteTime": {
     "end_time": "2024-04-08T08:43:57.415913400Z",
     "start_time": "2024-04-08T08:43:57.226833800Z"
    }
   },
   "id": "999860547c640e89"
  },
  {
   "cell_type": "code",
   "execution_count": 264,
   "outputs": [
    {
     "name": "stdout",
     "output_type": "stream",
     "text": [
      "评分小于3分的酒店数量为12，占比为0.033\n"
     ]
    }
   ],
   "source": [
    "### 7. 计算评分小于3分的酒店数量和占比。\n",
    "\n",
    "cnt = df.loc[df['评分']<3]['评分'].count()\n",
    "\n",
    "occu =  cnt / df['评分'].count()\n",
    "\n",
    "print(f'评分小于3分的酒店数量为{cnt}，占比为{occu:.3f}')"
   ],
   "metadata": {
    "collapsed": false,
    "ExecuteTime": {
     "end_time": "2024-04-08T08:43:57.431922300Z",
     "start_time": "2024-04-08T08:43:57.267078600Z"
    }
   },
   "id": "e214d477a9b6b4cd"
  },
  {
   "cell_type": "code",
   "execution_count": 265,
   "outputs": [
    {
     "name": "stdout",
     "output_type": "stream",
     "text": [
      "酒店评分大于等于4分的酒店的价格均值:786.95\n"
     ]
    }
   ],
   "source": [
    "### 8. 计算酒店评分大于等于4分的酒店的价格均值。\n",
    "\n",
    "print(f\"酒店评分大于等于4分的酒店的价格均值:{df.loc[df['评分'] >= 4]['价格'].mean():.2f}\")"
   ],
   "metadata": {
    "collapsed": false,
    "ExecuteTime": {
     "end_time": "2024-04-08T08:43:57.431922300Z",
     "start_time": "2024-04-08T08:43:57.276674800Z"
    }
   },
   "id": "f74ea38bd7238c55"
  },
  {
   "cell_type": "code",
   "execution_count": 266,
   "outputs": [
    {
     "data": {
      "text/plain": "地区\n东区      0.040302\n中西区     0.083123\n九龙城     0.052897\n元朗      0.005038\n其他      0.141058\n南区      0.012594\n屯门      0.005038\n沙田      0.010076\n油尖旺     0.465995\n深水埗区    0.002519\n湾仔      0.103275\n离岛      0.027708\n罗湖区     0.002519\n荃湾      0.017632\n葵青      0.012594\n观塘      0.017632\ndtype: float64"
     },
     "execution_count": 266,
     "metadata": {},
     "output_type": "execute_result"
    }
   ],
   "source": [
    "### 9. 计算出每个地区的酒店占总酒店数量的比例。\n",
    "\n",
    "df.groupby('地区').size() / len(df)\n",
    "\n"
   ],
   "metadata": {
    "collapsed": false,
    "ExecuteTime": {
     "end_time": "2024-04-08T08:43:57.431922300Z",
     "start_time": "2024-04-08T08:43:57.291934600Z"
    }
   },
   "id": "b4ff29349f0dda43"
  },
  {
   "cell_type": "code",
   "execution_count": 267,
   "outputs": [
    {
     "data": {
      "text/plain": "<bound method Series.mean of 418.0     709.0\n417.0     709.0\n82.0     1115.0\n91.0      569.0\n0.0       422.0\n108.0    1265.0\n105.0    1667.0\n86.0      759.0\n12.0      562.0\n81.0     1760.0\n18.0      358.0\n1.0       693.0\n138.0    1278.0\n127.0    1052.0\n8.0       692.0\n14.0     1899.0\n95.0     1988.0\n92.0      968.0\n111.0    3068.0\n120.0     678.0\n13.0      447.0\n118.0     548.0\n94.0     1348.0\n30.0     1525.0\n125.0     517.0\n27.0      748.0\n97.0     1612.0\n24.0      594.0\n88.0     1936.0\n129.0     308.0\n20.0      692.0\nName: 价格, dtype: float64>"
     },
     "execution_count": 267,
     "metadata": {},
     "output_type": "execute_result"
    }
   ],
   "source": [
    "### 10. 找出酒店评分人数排名前20的酒店，并计算他们的价格均值。\n",
    "\n",
    "df.sort_values('评分人数',ascending=False).loc[:20,'价格'].mean"
   ],
   "metadata": {
    "collapsed": false,
    "ExecuteTime": {
     "end_time": "2024-04-08T08:43:57.431922300Z",
     "start_time": "2024-04-08T08:43:57.308425200Z"
    }
   },
   "id": "d86ccc4b6b95a888"
  },
  {
   "cell_type": "code",
   "execution_count": 268,
   "outputs": [
    {
     "name": "stdout",
     "output_type": "stream",
     "text": [
      "评分人数排名前20的酒店的价格均值为: 1110.55\n"
     ]
    }
   ],
   "source": [
    "top_20_hotels = df.sort_values('评分人数', ascending=False).head(20)\n",
    "average_price_top_20 = top_20_hotels['价格'].mean()\n",
    "\n",
    "\n",
    "print(\"评分人数排名前20的酒店的价格均值为:\", average_price_top_20)"
   ],
   "metadata": {
    "collapsed": false,
    "ExecuteTime": {
     "end_time": "2024-04-08T08:43:57.431922300Z",
     "start_time": "2024-04-08T08:43:57.333342600Z"
    }
   },
   "id": "99b30c9dba1d45fc"
  },
  {
   "cell_type": "code",
   "execution_count": 269,
   "outputs": [
    {
     "name": "stdout",
     "output_type": "stream",
     "text": [
      "酒店分布的类型数量:18\n",
      "酒店分布的地区数量:16\n",
      "每一行的和:\n",
      "类型\n",
      "交通方便       1.0\n",
      "亲子酒店       5.0\n",
      "休闲度假      31.0\n",
      "其他        20.0\n",
      "印象好        1.0\n",
      "商务出行      13.0\n",
      "地铁周边     172.0\n",
      "大学周边       1.0\n",
      "客栈         3.0\n",
      "干净卫生       1.0\n",
      "民宿         6.0\n",
      "浪漫情侣      68.0\n",
      "海滨风光      61.0\n",
      "火车站周边      1.0\n",
      "环境不错       3.0\n",
      "老板热情       1.0\n",
      "酒店公寓       5.0\n",
      "青年旅舍       4.0\n",
      "dtype: float64\n",
      "\n",
      "\n",
      "每一列的和:\n",
      "    地区  \n",
      "名字  东区       16.0\n",
      "    中西区      33.0\n",
      "    九龙城      21.0\n",
      "    元朗        2.0\n",
      "    其他       56.0\n",
      "    南区        5.0\n",
      "    屯门        2.0\n",
      "    沙田        4.0\n",
      "    油尖旺     185.0\n",
      "    深水埗区      1.0\n",
      "    湾仔       41.0\n",
      "    离岛       11.0\n",
      "    罗湖区       1.0\n",
      "    荃湾        7.0\n",
      "    葵青        5.0\n",
      "    观塘        7.0\n",
      "dtype: float64\n"
     ]
    }
   ],
   "source": [
    "### 11. 查看酒店分布的类型数量和地区数量，并统计各个类型和地区包含的酒店数量。\n",
    "\n",
    "print(f\"酒店分布的类型数量:{len(df['类型'].unique())}\")\n",
    "print(f\"酒店分布的地区数量:{len(df['地区'].unique())}\")\n",
    "\n",
    "type_area_df = df.groupby(['类型','地区']).agg(\n",
    "    {\n",
    "        '名字':'count'\n",
    "    }\n",
    ").unstack()\n",
    "\n",
    "# 统计每一行的和\n",
    "row_sums = type_area_df.sum(axis=1)\n",
    "\n",
    "# 统计每一列的和\n",
    "col_sums = type_area_df.sum(axis=0)\n",
    "\n",
    "print(f\"每一行的和:\\n{row_sums}\\n\")\n",
    "print(f\"\\n每一列的和:\\n{col_sums}\")"
   ],
   "metadata": {
    "collapsed": false,
    "ExecuteTime": {
     "end_time": "2024-04-08T08:43:57.480372700Z",
     "start_time": "2024-04-08T08:43:57.341547800Z"
    }
   },
   "id": "f00f54597cc738a7"
  },
  {
   "cell_type": "code",
   "execution_count": 270,
   "outputs": [
    {
     "data": {
      "text/plain": "           评分人数\n类型             \n交通方便      152.0\n亲子酒店    11492.0\n休闲度假   237261.0\n其他       4858.0\n印象好        68.0\n商务出行     9630.0\n地铁周边    91323.0\n大学周边       23.0\n客栈        229.0\n干净卫生      146.0\n民宿       2493.0\n浪漫情侣   238436.0\n海滨风光   394600.0\n火车站周边     578.0\n环境不错     1327.0\n老板热情       48.0\n酒店公寓     1967.0\n青年旅舍     2605.0",
      "text/html": "<div>\n<style scoped>\n    .dataframe tbody tr th:only-of-type {\n        vertical-align: middle;\n    }\n\n    .dataframe tbody tr th {\n        vertical-align: top;\n    }\n\n    .dataframe thead th {\n        text-align: right;\n    }\n</style>\n<table border=\"1\" class=\"dataframe\">\n  <thead>\n    <tr style=\"text-align: right;\">\n      <th></th>\n      <th>评分人数</th>\n    </tr>\n    <tr>\n      <th>类型</th>\n      <th></th>\n    </tr>\n  </thead>\n  <tbody>\n    <tr>\n      <th>交通方便</th>\n      <td>152.0</td>\n    </tr>\n    <tr>\n      <th>亲子酒店</th>\n      <td>11492.0</td>\n    </tr>\n    <tr>\n      <th>休闲度假</th>\n      <td>237261.0</td>\n    </tr>\n    <tr>\n      <th>其他</th>\n      <td>4858.0</td>\n    </tr>\n    <tr>\n      <th>印象好</th>\n      <td>68.0</td>\n    </tr>\n    <tr>\n      <th>商务出行</th>\n      <td>9630.0</td>\n    </tr>\n    <tr>\n      <th>地铁周边</th>\n      <td>91323.0</td>\n    </tr>\n    <tr>\n      <th>大学周边</th>\n      <td>23.0</td>\n    </tr>\n    <tr>\n      <th>客栈</th>\n      <td>229.0</td>\n    </tr>\n    <tr>\n      <th>干净卫生</th>\n      <td>146.0</td>\n    </tr>\n    <tr>\n      <th>民宿</th>\n      <td>2493.0</td>\n    </tr>\n    <tr>\n      <th>浪漫情侣</th>\n      <td>238436.0</td>\n    </tr>\n    <tr>\n      <th>海滨风光</th>\n      <td>394600.0</td>\n    </tr>\n    <tr>\n      <th>火车站周边</th>\n      <td>578.0</td>\n    </tr>\n    <tr>\n      <th>环境不错</th>\n      <td>1327.0</td>\n    </tr>\n    <tr>\n      <th>老板热情</th>\n      <td>48.0</td>\n    </tr>\n    <tr>\n      <th>酒店公寓</th>\n      <td>1967.0</td>\n    </tr>\n    <tr>\n      <th>青年旅舍</th>\n      <td>2605.0</td>\n    </tr>\n  </tbody>\n</table>\n</div>"
     },
     "execution_count": 270,
     "metadata": {},
     "output_type": "execute_result"
    }
   ],
   "source": [
    "### 12. 用数据透视表，计算每个类型的酒店的评分人数总数量。\n",
    "\n",
    "pivot_table = pd.pivot_table(df, index='类型', values='评分人数', aggfunc='sum')\n",
    "\n",
    "pivot_table\n"
   ],
   "metadata": {
    "collapsed": false,
    "ExecuteTime": {
     "end_time": "2024-04-08T08:43:57.778207400Z",
     "start_time": "2024-04-08T08:43:57.365681Z"
    }
   },
   "id": "1607ba73ea6ac3e7"
  },
  {
   "cell_type": "code",
   "execution_count": 271,
   "outputs": [
    {
     "data": {
      "text/plain": "              mean          std\n                价格           价格\n类型                             \n交通方便    421.000000          NaN\n亲子酒店    745.400000   546.616227\n休闲度假   1127.774194   827.492707\n其他      269.300000   199.264727\n印象好     297.000000          NaN\n商务出行   1045.153846   870.595663\n地铁周边    374.139535   377.604830\n大学周边    325.000000          NaN\n客栈      397.666667   154.017315\n干净卫生    185.000000          NaN\n民宿      258.500000   127.000394\n浪漫情侣    608.573529   303.356119\n海滨风光   1543.573770  1746.828349\n火车站周边   968.000000          NaN\n环境不错    357.666667   161.283394\n老板热情    385.000000          NaN\n酒店公寓   1182.000000   697.624899\n青年旅舍    189.250000   116.851401",
      "text/html": "<div>\n<style scoped>\n    .dataframe tbody tr th:only-of-type {\n        vertical-align: middle;\n    }\n\n    .dataframe tbody tr th {\n        vertical-align: top;\n    }\n\n    .dataframe thead tr th {\n        text-align: left;\n    }\n\n    .dataframe thead tr:last-of-type th {\n        text-align: right;\n    }\n</style>\n<table border=\"1\" class=\"dataframe\">\n  <thead>\n    <tr>\n      <th></th>\n      <th>mean</th>\n      <th>std</th>\n    </tr>\n    <tr>\n      <th></th>\n      <th>价格</th>\n      <th>价格</th>\n    </tr>\n    <tr>\n      <th>类型</th>\n      <th></th>\n      <th></th>\n    </tr>\n  </thead>\n  <tbody>\n    <tr>\n      <th>交通方便</th>\n      <td>421.000000</td>\n      <td>NaN</td>\n    </tr>\n    <tr>\n      <th>亲子酒店</th>\n      <td>745.400000</td>\n      <td>546.616227</td>\n    </tr>\n    <tr>\n      <th>休闲度假</th>\n      <td>1127.774194</td>\n      <td>827.492707</td>\n    </tr>\n    <tr>\n      <th>其他</th>\n      <td>269.300000</td>\n      <td>199.264727</td>\n    </tr>\n    <tr>\n      <th>印象好</th>\n      <td>297.000000</td>\n      <td>NaN</td>\n    </tr>\n    <tr>\n      <th>商务出行</th>\n      <td>1045.153846</td>\n      <td>870.595663</td>\n    </tr>\n    <tr>\n      <th>地铁周边</th>\n      <td>374.139535</td>\n      <td>377.604830</td>\n    </tr>\n    <tr>\n      <th>大学周边</th>\n      <td>325.000000</td>\n      <td>NaN</td>\n    </tr>\n    <tr>\n      <th>客栈</th>\n      <td>397.666667</td>\n      <td>154.017315</td>\n    </tr>\n    <tr>\n      <th>干净卫生</th>\n      <td>185.000000</td>\n      <td>NaN</td>\n    </tr>\n    <tr>\n      <th>民宿</th>\n      <td>258.500000</td>\n      <td>127.000394</td>\n    </tr>\n    <tr>\n      <th>浪漫情侣</th>\n      <td>608.573529</td>\n      <td>303.356119</td>\n    </tr>\n    <tr>\n      <th>海滨风光</th>\n      <td>1543.573770</td>\n      <td>1746.828349</td>\n    </tr>\n    <tr>\n      <th>火车站周边</th>\n      <td>968.000000</td>\n      <td>NaN</td>\n    </tr>\n    <tr>\n      <th>环境不错</th>\n      <td>357.666667</td>\n      <td>161.283394</td>\n    </tr>\n    <tr>\n      <th>老板热情</th>\n      <td>385.000000</td>\n      <td>NaN</td>\n    </tr>\n    <tr>\n      <th>酒店公寓</th>\n      <td>1182.000000</td>\n      <td>697.624899</td>\n    </tr>\n    <tr>\n      <th>青年旅舍</th>\n      <td>189.250000</td>\n      <td>116.851401</td>\n    </tr>\n  </tbody>\n</table>\n</div>"
     },
     "execution_count": 271,
     "metadata": {},
     "output_type": "execute_result"
    }
   ],
   "source": [
    "### 13. 用数据透视表，计算每个类型的酒店价格的均值和标准差。\n",
    "pd.pivot_table(df, index='类型', values='价格', aggfunc=['mean','std'])"
   ],
   "metadata": {
    "collapsed": false,
    "ExecuteTime": {
     "end_time": "2024-04-08T08:43:57.832187900Z",
     "start_time": "2024-04-08T08:43:57.390623300Z"
    }
   },
   "id": "a477e54fc56e2b1"
  },
  {
   "cell_type": "code",
   "execution_count": 272,
   "outputs": [
    {
     "data": {
      "text/plain": "          max         min     \n           价格   评分     价格   评分\n地区                            \n东区     1908.0  4.7  331.0  4.2\n中西区   12926.0  4.8  254.0  3.8\n九龙城    1742.0  4.8  137.0  3.7\n元朗      425.0  4.6  422.0  4.5\n其他     1450.0  4.8   67.0  2.0\n南区      553.0  4.4  185.0  3.8\n屯门      696.0  4.7  582.0  4.5\n沙田     1052.0  4.7  569.0  4.4\n油尖旺    3862.0  4.9   67.0  1.5\n深水埗区    648.0  4.3  648.0  4.3\n湾仔     2856.0  4.7  131.0  3.4\n离岛     1667.0  4.8  352.0  2.9\n罗湖区     506.0  NaN  506.0  NaN\n荃湾      709.0  4.5  225.0  4.3\n葵青      423.0  4.4  196.0  3.4\n观塘     1132.0  4.6  448.0  4.2",
      "text/html": "<div>\n<style scoped>\n    .dataframe tbody tr th:only-of-type {\n        vertical-align: middle;\n    }\n\n    .dataframe tbody tr th {\n        vertical-align: top;\n    }\n\n    .dataframe thead tr th {\n        text-align: left;\n    }\n\n    .dataframe thead tr:last-of-type th {\n        text-align: right;\n    }\n</style>\n<table border=\"1\" class=\"dataframe\">\n  <thead>\n    <tr>\n      <th></th>\n      <th colspan=\"2\" halign=\"left\">max</th>\n      <th colspan=\"2\" halign=\"left\">min</th>\n    </tr>\n    <tr>\n      <th></th>\n      <th>价格</th>\n      <th>评分</th>\n      <th>价格</th>\n      <th>评分</th>\n    </tr>\n    <tr>\n      <th>地区</th>\n      <th></th>\n      <th></th>\n      <th></th>\n      <th></th>\n    </tr>\n  </thead>\n  <tbody>\n    <tr>\n      <th>东区</th>\n      <td>1908.0</td>\n      <td>4.7</td>\n      <td>331.0</td>\n      <td>4.2</td>\n    </tr>\n    <tr>\n      <th>中西区</th>\n      <td>12926.0</td>\n      <td>4.8</td>\n      <td>254.0</td>\n      <td>3.8</td>\n    </tr>\n    <tr>\n      <th>九龙城</th>\n      <td>1742.0</td>\n      <td>4.8</td>\n      <td>137.0</td>\n      <td>3.7</td>\n    </tr>\n    <tr>\n      <th>元朗</th>\n      <td>425.0</td>\n      <td>4.6</td>\n      <td>422.0</td>\n      <td>4.5</td>\n    </tr>\n    <tr>\n      <th>其他</th>\n      <td>1450.0</td>\n      <td>4.8</td>\n      <td>67.0</td>\n      <td>2.0</td>\n    </tr>\n    <tr>\n      <th>南区</th>\n      <td>553.0</td>\n      <td>4.4</td>\n      <td>185.0</td>\n      <td>3.8</td>\n    </tr>\n    <tr>\n      <th>屯门</th>\n      <td>696.0</td>\n      <td>4.7</td>\n      <td>582.0</td>\n      <td>4.5</td>\n    </tr>\n    <tr>\n      <th>沙田</th>\n      <td>1052.0</td>\n      <td>4.7</td>\n      <td>569.0</td>\n      <td>4.4</td>\n    </tr>\n    <tr>\n      <th>油尖旺</th>\n      <td>3862.0</td>\n      <td>4.9</td>\n      <td>67.0</td>\n      <td>1.5</td>\n    </tr>\n    <tr>\n      <th>深水埗区</th>\n      <td>648.0</td>\n      <td>4.3</td>\n      <td>648.0</td>\n      <td>4.3</td>\n    </tr>\n    <tr>\n      <th>湾仔</th>\n      <td>2856.0</td>\n      <td>4.7</td>\n      <td>131.0</td>\n      <td>3.4</td>\n    </tr>\n    <tr>\n      <th>离岛</th>\n      <td>1667.0</td>\n      <td>4.8</td>\n      <td>352.0</td>\n      <td>2.9</td>\n    </tr>\n    <tr>\n      <th>罗湖区</th>\n      <td>506.0</td>\n      <td>NaN</td>\n      <td>506.0</td>\n      <td>NaN</td>\n    </tr>\n    <tr>\n      <th>荃湾</th>\n      <td>709.0</td>\n      <td>4.5</td>\n      <td>225.0</td>\n      <td>4.3</td>\n    </tr>\n    <tr>\n      <th>葵青</th>\n      <td>423.0</td>\n      <td>4.4</td>\n      <td>196.0</td>\n      <td>3.4</td>\n    </tr>\n    <tr>\n      <th>观塘</th>\n      <td>1132.0</td>\n      <td>4.6</td>\n      <td>448.0</td>\n      <td>4.2</td>\n    </tr>\n  </tbody>\n</table>\n</div>"
     },
     "execution_count": 272,
     "metadata": {},
     "output_type": "execute_result"
    }
   ],
   "source": [
    "### 14. 用数据透视表，计算每个地区酒店价格和评分的最大值和最小值。\n",
    "\n",
    "pd.pivot_table(df, index='地区', values=['价格','评分'], aggfunc=['max','min'])"
   ],
   "metadata": {
    "collapsed": false,
    "ExecuteTime": {
     "end_time": "2024-04-08T08:43:57.832187900Z",
     "start_time": "2024-04-08T08:43:57.431922300Z"
    }
   },
   "id": "13a6eb269698e369"
  },
  {
   "cell_type": "code",
   "execution_count": 273,
   "outputs": [
    {
     "data": {
      "text/plain": "            mean       std\n              评分        评分\n地区  类型                    \n东区  其他    4.6000       NaN\n    商务出行  4.5000  0.000000\n    浪漫情侣  4.4250  0.150000\n    海滨风光  4.5125  0.155265\n中西区 亲子酒店  4.6000       NaN\n...          ...       ...\n葵青  浪漫情侣  4.2000  0.230940\n观塘  休闲度假  4.6000  0.000000\n    其他    4.2000       NaN\n    浪漫情侣  4.5500  0.070711\n    海滨风光  4.5000  0.141421\n\n[71 rows x 2 columns]",
      "text/html": "<div>\n<style scoped>\n    .dataframe tbody tr th:only-of-type {\n        vertical-align: middle;\n    }\n\n    .dataframe tbody tr th {\n        vertical-align: top;\n    }\n\n    .dataframe thead tr th {\n        text-align: left;\n    }\n\n    .dataframe thead tr:last-of-type th {\n        text-align: right;\n    }\n</style>\n<table border=\"1\" class=\"dataframe\">\n  <thead>\n    <tr>\n      <th></th>\n      <th></th>\n      <th>mean</th>\n      <th>std</th>\n    </tr>\n    <tr>\n      <th></th>\n      <th></th>\n      <th>评分</th>\n      <th>评分</th>\n    </tr>\n    <tr>\n      <th>地区</th>\n      <th>类型</th>\n      <th></th>\n      <th></th>\n    </tr>\n  </thead>\n  <tbody>\n    <tr>\n      <th rowspan=\"4\" valign=\"top\">东区</th>\n      <th>其他</th>\n      <td>4.6000</td>\n      <td>NaN</td>\n    </tr>\n    <tr>\n      <th>商务出行</th>\n      <td>4.5000</td>\n      <td>0.000000</td>\n    </tr>\n    <tr>\n      <th>浪漫情侣</th>\n      <td>4.4250</td>\n      <td>0.150000</td>\n    </tr>\n    <tr>\n      <th>海滨风光</th>\n      <td>4.5125</td>\n      <td>0.155265</td>\n    </tr>\n    <tr>\n      <th>中西区</th>\n      <th>亲子酒店</th>\n      <td>4.6000</td>\n      <td>NaN</td>\n    </tr>\n    <tr>\n      <th>...</th>\n      <th>...</th>\n      <td>...</td>\n      <td>...</td>\n    </tr>\n    <tr>\n      <th>葵青</th>\n      <th>浪漫情侣</th>\n      <td>4.2000</td>\n      <td>0.230940</td>\n    </tr>\n    <tr>\n      <th rowspan=\"4\" valign=\"top\">观塘</th>\n      <th>休闲度假</th>\n      <td>4.6000</td>\n      <td>0.000000</td>\n    </tr>\n    <tr>\n      <th>其他</th>\n      <td>4.2000</td>\n      <td>NaN</td>\n    </tr>\n    <tr>\n      <th>浪漫情侣</th>\n      <td>4.5500</td>\n      <td>0.070711</td>\n    </tr>\n    <tr>\n      <th>海滨风光</th>\n      <td>4.5000</td>\n      <td>0.141421</td>\n    </tr>\n  </tbody>\n</table>\n<p>71 rows × 2 columns</p>\n</div>"
     },
     "execution_count": 273,
     "metadata": {},
     "output_type": "execute_result"
    }
   ],
   "source": [
    "### 15. 用数据透视表，计算每个地区和类型的酒店的评分的均值和标准差。\n",
    "\n",
    "pd.pivot_table(df, index=['地区','类型'], values=['评分'], aggfunc=['mean','std'])"
   ],
   "metadata": {
    "collapsed": false,
    "ExecuteTime": {
     "end_time": "2024-04-08T08:43:57.869431700Z",
     "start_time": "2024-04-08T08:43:57.470257200Z"
    }
   },
   "id": "dcfeaf306a38c25e"
  },
  {
   "cell_type": "code",
   "execution_count": 274,
   "outputs": [],
   "source": [
    "### 16. 将“类型”和“名字”设置为层次化索引，并交换索引的位置。然后将层次化索引取消。\n",
    "\n",
    "# 将“类型”和“名字”设置为层次化索引，并交换索引的位置\n",
    "# df.set_index(['类型', '名字'], inplace=True)\n",
    "# df = df.swaplevel('类型', '名字')\n",
    "# \n",
    "# df.reset_index(inplace=True)\n",
    "# \n",
    "# df\n",
    "\n"
   ],
   "metadata": {
    "collapsed": false,
    "ExecuteTime": {
     "end_time": "2024-04-08T08:43:57.870788700Z",
     "start_time": "2024-04-08T08:43:57.498417500Z"
    }
   },
   "id": "8d05cb1b01e46a64"
  },
  {
   "cell_type": "code",
   "execution_count": 275,
   "outputs": [
    {
     "name": "stdout",
     "output_type": "stream",
     "text": [
      "<class 'pandas.core.frame.DataFrame'>\n",
      "Index: 397 entries, 0.0 to 419.0\n",
      "Data columns (total 8 columns):\n",
      " #   Column  Non-Null Count  Dtype  \n",
      "---  ------  --------------  -----  \n",
      " 0   名字      397 non-null    object \n",
      " 1   类型      397 non-null    object \n",
      " 2   城市      397 non-null    object \n",
      " 3   地区      397 non-null    object \n",
      " 4   地点      397 non-null    object \n",
      " 5   评分      366 non-null    float64\n",
      " 6   评分人数    397 non-null    float64\n",
      " 7   价格      397 non-null    float64\n",
      "dtypes: float64(3), object(5)\n",
      "memory usage: 27.9+ KB\n"
     ]
    }
   ],
   "source": [
    "df.info()"
   ],
   "metadata": {
    "collapsed": false,
    "ExecuteTime": {
     "end_time": "2024-04-08T08:43:57.927482600Z",
     "start_time": "2024-04-08T08:43:57.513092100Z"
    }
   },
   "id": "1ad4b41247878e1"
  },
  {
   "cell_type": "code",
   "execution_count": 276,
   "outputs": [
    {
     "name": "stdout",
     "output_type": "stream",
     "text": [
      "转置后的index:Index(['名字', '类型', '城市', '地区', '地点', '评分', '评分人数', '价格'], dtype='object')\n",
      "转置后的columns:Index([  0.0,   1.0,   2.0,   3.0,   4.0,   5.0,   6.0,   7.0,   8.0,   9.0,\n",
      "       ...\n",
      "       408.0, 409.0, 410.0, 412.0, 413.0, 414.0, 415.0, 417.0, 418.0, 419.0],\n",
      "      dtype='float64', length=397)\n"
     ]
    }
   ],
   "source": [
    "### 17. 将数据集转置，获取转置后的index和columns。\n",
    "T_df = df.T\n",
    "print(f'转置后的index:{T_df.index}')\n",
    "print(f'转置后的columns:{T_df.columns}')"
   ],
   "metadata": {
    "collapsed": false,
    "ExecuteTime": {
     "end_time": "2024-04-08T08:43:58.075895800Z",
     "start_time": "2024-04-08T08:43:57.523588200Z"
    }
   },
   "id": "b1784c7787e26c45"
  },
  {
   "cell_type": "code",
   "execution_count": 277,
   "outputs": [
    {
     "data": {
      "text/plain": "          评分人数              \n           sum          mean\n地区                          \n东区     56643.0   3540.187500\n中西区    59682.0   1808.545455\n九龙城    49855.0   2374.047619\n元朗     18804.0   9402.000000\n其他     16831.0    300.553571\n南区     12867.0   2573.400000\n屯门      7324.0   3662.000000\n沙田     39622.0   9905.500000\n油尖旺   422574.0   2284.183784\n深水埗区      16.0     16.000000\n湾仔    107344.0   2618.146341\n离岛     60359.0   5487.181818\n罗湖区       24.0     24.000000\n荃湾    114610.0  16372.857143\n葵青     11544.0   2308.800000\n观塘     19137.0   2733.857143",
      "text/html": "<div>\n<style scoped>\n    .dataframe tbody tr th:only-of-type {\n        vertical-align: middle;\n    }\n\n    .dataframe tbody tr th {\n        vertical-align: top;\n    }\n\n    .dataframe thead tr th {\n        text-align: left;\n    }\n\n    .dataframe thead tr:last-of-type th {\n        text-align: right;\n    }\n</style>\n<table border=\"1\" class=\"dataframe\">\n  <thead>\n    <tr>\n      <th></th>\n      <th colspan=\"2\" halign=\"left\">评分人数</th>\n    </tr>\n    <tr>\n      <th></th>\n      <th>sum</th>\n      <th>mean</th>\n    </tr>\n    <tr>\n      <th>地区</th>\n      <th></th>\n      <th></th>\n    </tr>\n  </thead>\n  <tbody>\n    <tr>\n      <th>东区</th>\n      <td>56643.0</td>\n      <td>3540.187500</td>\n    </tr>\n    <tr>\n      <th>中西区</th>\n      <td>59682.0</td>\n      <td>1808.545455</td>\n    </tr>\n    <tr>\n      <th>九龙城</th>\n      <td>49855.0</td>\n      <td>2374.047619</td>\n    </tr>\n    <tr>\n      <th>元朗</th>\n      <td>18804.0</td>\n      <td>9402.000000</td>\n    </tr>\n    <tr>\n      <th>其他</th>\n      <td>16831.0</td>\n      <td>300.553571</td>\n    </tr>\n    <tr>\n      <th>南区</th>\n      <td>12867.0</td>\n      <td>2573.400000</td>\n    </tr>\n    <tr>\n      <th>屯门</th>\n      <td>7324.0</td>\n      <td>3662.000000</td>\n    </tr>\n    <tr>\n      <th>沙田</th>\n      <td>39622.0</td>\n      <td>9905.500000</td>\n    </tr>\n    <tr>\n      <th>油尖旺</th>\n      <td>422574.0</td>\n      <td>2284.183784</td>\n    </tr>\n    <tr>\n      <th>深水埗区</th>\n      <td>16.0</td>\n      <td>16.000000</td>\n    </tr>\n    <tr>\n      <th>湾仔</th>\n      <td>107344.0</td>\n      <td>2618.146341</td>\n    </tr>\n    <tr>\n      <th>离岛</th>\n      <td>60359.0</td>\n      <td>5487.181818</td>\n    </tr>\n    <tr>\n      <th>罗湖区</th>\n      <td>24.0</td>\n      <td>24.000000</td>\n    </tr>\n    <tr>\n      <th>荃湾</th>\n      <td>114610.0</td>\n      <td>16372.857143</td>\n    </tr>\n    <tr>\n      <th>葵青</th>\n      <td>11544.0</td>\n      <td>2308.800000</td>\n    </tr>\n    <tr>\n      <th>观塘</th>\n      <td>19137.0</td>\n      <td>2733.857143</td>\n    </tr>\n  </tbody>\n</table>\n</div>"
     },
     "execution_count": 277,
     "metadata": {},
     "output_type": "execute_result"
    }
   ],
   "source": [
    "### 18. 用Groupby方法来计算每个地区的评分人数的总和以及均值。\n",
    "\n",
    "df.groupby('地区').agg(\n",
    "    {\n",
    "        '评分人数':['sum','mean']\n",
    "    }\n",
    ")"
   ],
   "metadata": {
    "collapsed": false,
    "ExecuteTime": {
     "end_time": "2024-04-08T08:43:58.121469900Z",
     "start_time": "2024-04-08T08:43:57.545782800Z"
    }
   },
   "id": "6c6902b9a88c778f"
  },
  {
   "cell_type": "code",
   "execution_count": 278,
   "outputs": [
    {
     "data": {
      "text/plain": "                价格                \n              mean      max    min\n类型                                \n交通方便    421.000000    421.0  421.0\n亲子酒店    745.400000   1686.0  269.0\n休闲度假   1127.774194   4443.0  358.0\n其他      269.300000    881.0   67.0\n印象好     297.000000    297.0  297.0\n商务出行   1045.153846   3159.0  401.0\n地铁周边    374.139535   2640.0   67.0\n大学周边    325.000000    325.0  325.0\n客栈      397.666667    553.0  245.0\n干净卫生    185.000000    185.0  185.0\n民宿      258.500000    506.0  157.0\n浪漫情侣    608.573529   1908.0  225.0\n海滨风光   1543.573770  12926.0  331.0\n火车站周边   968.000000    968.0  968.0\n环境不错    357.666667    484.0  176.0\n老板热情    385.000000    385.0  385.0\n酒店公寓   1182.000000   2309.0  588.0\n青年旅舍    189.250000    348.0   70.0",
      "text/html": "<div>\n<style scoped>\n    .dataframe tbody tr th:only-of-type {\n        vertical-align: middle;\n    }\n\n    .dataframe tbody tr th {\n        vertical-align: top;\n    }\n\n    .dataframe thead tr th {\n        text-align: left;\n    }\n\n    .dataframe thead tr:last-of-type th {\n        text-align: right;\n    }\n</style>\n<table border=\"1\" class=\"dataframe\">\n  <thead>\n    <tr>\n      <th></th>\n      <th colspan=\"3\" halign=\"left\">价格</th>\n    </tr>\n    <tr>\n      <th></th>\n      <th>mean</th>\n      <th>max</th>\n      <th>min</th>\n    </tr>\n    <tr>\n      <th>类型</th>\n      <th></th>\n      <th></th>\n      <th></th>\n    </tr>\n  </thead>\n  <tbody>\n    <tr>\n      <th>交通方便</th>\n      <td>421.000000</td>\n      <td>421.0</td>\n      <td>421.0</td>\n    </tr>\n    <tr>\n      <th>亲子酒店</th>\n      <td>745.400000</td>\n      <td>1686.0</td>\n      <td>269.0</td>\n    </tr>\n    <tr>\n      <th>休闲度假</th>\n      <td>1127.774194</td>\n      <td>4443.0</td>\n      <td>358.0</td>\n    </tr>\n    <tr>\n      <th>其他</th>\n      <td>269.300000</td>\n      <td>881.0</td>\n      <td>67.0</td>\n    </tr>\n    <tr>\n      <th>印象好</th>\n      <td>297.000000</td>\n      <td>297.0</td>\n      <td>297.0</td>\n    </tr>\n    <tr>\n      <th>商务出行</th>\n      <td>1045.153846</td>\n      <td>3159.0</td>\n      <td>401.0</td>\n    </tr>\n    <tr>\n      <th>地铁周边</th>\n      <td>374.139535</td>\n      <td>2640.0</td>\n      <td>67.0</td>\n    </tr>\n    <tr>\n      <th>大学周边</th>\n      <td>325.000000</td>\n      <td>325.0</td>\n      <td>325.0</td>\n    </tr>\n    <tr>\n      <th>客栈</th>\n      <td>397.666667</td>\n      <td>553.0</td>\n      <td>245.0</td>\n    </tr>\n    <tr>\n      <th>干净卫生</th>\n      <td>185.000000</td>\n      <td>185.0</td>\n      <td>185.0</td>\n    </tr>\n    <tr>\n      <th>民宿</th>\n      <td>258.500000</td>\n      <td>506.0</td>\n      <td>157.0</td>\n    </tr>\n    <tr>\n      <th>浪漫情侣</th>\n      <td>608.573529</td>\n      <td>1908.0</td>\n      <td>225.0</td>\n    </tr>\n    <tr>\n      <th>海滨风光</th>\n      <td>1543.573770</td>\n      <td>12926.0</td>\n      <td>331.0</td>\n    </tr>\n    <tr>\n      <th>火车站周边</th>\n      <td>968.000000</td>\n      <td>968.0</td>\n      <td>968.0</td>\n    </tr>\n    <tr>\n      <th>环境不错</th>\n      <td>357.666667</td>\n      <td>484.0</td>\n      <td>176.0</td>\n    </tr>\n    <tr>\n      <th>老板热情</th>\n      <td>385.000000</td>\n      <td>385.0</td>\n      <td>385.0</td>\n    </tr>\n    <tr>\n      <th>酒店公寓</th>\n      <td>1182.000000</td>\n      <td>2309.0</td>\n      <td>588.0</td>\n    </tr>\n    <tr>\n      <th>青年旅舍</th>\n      <td>189.250000</td>\n      <td>348.0</td>\n      <td>70.0</td>\n    </tr>\n  </tbody>\n</table>\n</div>"
     },
     "execution_count": 278,
     "metadata": {},
     "output_type": "execute_result"
    }
   ],
   "source": [
    "### 19. 用Grouby方法计算每个类型的平均价格，最高价和最低价。\n",
    "\n",
    "df.groupby('类型').agg(\n",
    "    {\n",
    "        '价格':['mean','max','min']\n",
    "    }\n",
    ")"
   ],
   "metadata": {
    "collapsed": false,
    "ExecuteTime": {
     "end_time": "2024-04-08T08:43:58.208917900Z",
     "start_time": "2024-04-08T08:43:57.570141400Z"
    }
   },
   "id": "65fe385ffcc54835"
  },
  {
   "cell_type": "code",
   "execution_count": 279,
   "outputs": [
    {
     "data": {
      "text/plain": "                                                     名字    类型  城市   地区  \\\n0.0                 香港嘉湖海逸酒店(Harbour Plaza Resort City)  休闲度假  香港   元朗   \n1.0      香港铜锣湾皇悦酒店(Empire Hotel Hong Kong-Causeway Bay)  浪漫情侣  香港   东区   \n2.0                                  香港碧荟酒店(The BEACON)  商务出行  香港  油尖旺   \n3.0                           香港湾仔帝盛酒店(Dorsett Wanchai)  浪漫情侣  香港   湾仔   \n4.0                                如心艾朗酒店(L‘hotel elan)  浪漫情侣  香港   观塘   \n...                                                 ...   ...  ..  ...   \n414.0                                            香港金泉酒店  地铁周边  香港   其他   \n415.0                       香港天天宾馆(TIN TIN GUEST HOUSE)  地铁周边  香港  油尖旺   \n417.0  香港如心海景酒店暨会议中心(L‘hotel Nina et Convention Centre)  海滨风光  香港   荃湾   \n418.0  香港如心海景酒店暨会议中心(L‘hotel Nina et Convention Centre)  海滨风光  香港   荃湾   \n419.0                        香港花盈酒店(家庭旅馆)(Bloomy Hotel)  地铁周边  香港  油尖旺   \n\n                         地点   评分     评分人数     价格 价格等级  \n0.0              天水围 天恩路18号  4.6  17604.0  422.0    C  \n1.0                铜锣湾永兴街8号  4.5  12708.0  693.0    B  \n2.0              九龙旺角洗衣街88号  4.7    328.0  747.0    B  \n3.0           皇后大道东387-397号  4.4   5014.0  693.0    B  \n4.0                观塘创业街38号  4.6   3427.0  581.0    B  \n...                     ...  ...      ...    ...  ...  \n414.0  香港旺角弥敦道607号新兴大厦1407室  NaN     16.0  245.0    C  \n415.0    旺角弥敦道607号新兴大厦1517A  3.2     16.0  227.0    C  \n417.0              荃湾 杨屋道8号  4.5  45462.0  709.0    B  \n418.0              荃湾 杨屋道8号  4.5  45463.0  709.0    B  \n419.0   尖沙咀弥敦道87号华源大厦9字楼C2室  4.0    273.0  256.0    C  \n\n[397 rows x 9 columns]",
      "text/html": "<div>\n<style scoped>\n    .dataframe tbody tr th:only-of-type {\n        vertical-align: middle;\n    }\n\n    .dataframe tbody tr th {\n        vertical-align: top;\n    }\n\n    .dataframe thead th {\n        text-align: right;\n    }\n</style>\n<table border=\"1\" class=\"dataframe\">\n  <thead>\n    <tr style=\"text-align: right;\">\n      <th></th>\n      <th>名字</th>\n      <th>类型</th>\n      <th>城市</th>\n      <th>地区</th>\n      <th>地点</th>\n      <th>评分</th>\n      <th>评分人数</th>\n      <th>价格</th>\n      <th>价格等级</th>\n    </tr>\n  </thead>\n  <tbody>\n    <tr>\n      <th>0.0</th>\n      <td>香港嘉湖海逸酒店(Harbour Plaza Resort City)</td>\n      <td>休闲度假</td>\n      <td>香港</td>\n      <td>元朗</td>\n      <td>天水围 天恩路18号</td>\n      <td>4.6</td>\n      <td>17604.0</td>\n      <td>422.0</td>\n      <td>C</td>\n    </tr>\n    <tr>\n      <th>1.0</th>\n      <td>香港铜锣湾皇悦酒店(Empire Hotel Hong Kong-Causeway Bay)</td>\n      <td>浪漫情侣</td>\n      <td>香港</td>\n      <td>东区</td>\n      <td>铜锣湾永兴街8号</td>\n      <td>4.5</td>\n      <td>12708.0</td>\n      <td>693.0</td>\n      <td>B</td>\n    </tr>\n    <tr>\n      <th>2.0</th>\n      <td>香港碧荟酒店(The BEACON)</td>\n      <td>商务出行</td>\n      <td>香港</td>\n      <td>油尖旺</td>\n      <td>九龙旺角洗衣街88号</td>\n      <td>4.7</td>\n      <td>328.0</td>\n      <td>747.0</td>\n      <td>B</td>\n    </tr>\n    <tr>\n      <th>3.0</th>\n      <td>香港湾仔帝盛酒店(Dorsett Wanchai)</td>\n      <td>浪漫情侣</td>\n      <td>香港</td>\n      <td>湾仔</td>\n      <td>皇后大道东387-397号</td>\n      <td>4.4</td>\n      <td>5014.0</td>\n      <td>693.0</td>\n      <td>B</td>\n    </tr>\n    <tr>\n      <th>4.0</th>\n      <td>如心艾朗酒店(L‘hotel elan)</td>\n      <td>浪漫情侣</td>\n      <td>香港</td>\n      <td>观塘</td>\n      <td>观塘创业街38号</td>\n      <td>4.6</td>\n      <td>3427.0</td>\n      <td>581.0</td>\n      <td>B</td>\n    </tr>\n    <tr>\n      <th>...</th>\n      <td>...</td>\n      <td>...</td>\n      <td>...</td>\n      <td>...</td>\n      <td>...</td>\n      <td>...</td>\n      <td>...</td>\n      <td>...</td>\n      <td>...</td>\n    </tr>\n    <tr>\n      <th>414.0</th>\n      <td>香港金泉酒店</td>\n      <td>地铁周边</td>\n      <td>香港</td>\n      <td>其他</td>\n      <td>香港旺角弥敦道607号新兴大厦1407室</td>\n      <td>NaN</td>\n      <td>16.0</td>\n      <td>245.0</td>\n      <td>C</td>\n    </tr>\n    <tr>\n      <th>415.0</th>\n      <td>香港天天宾馆(TIN TIN GUEST HOUSE)</td>\n      <td>地铁周边</td>\n      <td>香港</td>\n      <td>油尖旺</td>\n      <td>旺角弥敦道607号新兴大厦1517A</td>\n      <td>3.2</td>\n      <td>16.0</td>\n      <td>227.0</td>\n      <td>C</td>\n    </tr>\n    <tr>\n      <th>417.0</th>\n      <td>香港如心海景酒店暨会议中心(L‘hotel Nina et Convention Centre)</td>\n      <td>海滨风光</td>\n      <td>香港</td>\n      <td>荃湾</td>\n      <td>荃湾 杨屋道8号</td>\n      <td>4.5</td>\n      <td>45462.0</td>\n      <td>709.0</td>\n      <td>B</td>\n    </tr>\n    <tr>\n      <th>418.0</th>\n      <td>香港如心海景酒店暨会议中心(L‘hotel Nina et Convention Centre)</td>\n      <td>海滨风光</td>\n      <td>香港</td>\n      <td>荃湾</td>\n      <td>荃湾 杨屋道8号</td>\n      <td>4.5</td>\n      <td>45463.0</td>\n      <td>709.0</td>\n      <td>B</td>\n    </tr>\n    <tr>\n      <th>419.0</th>\n      <td>香港花盈酒店(家庭旅馆)(Bloomy Hotel)</td>\n      <td>地铁周边</td>\n      <td>香港</td>\n      <td>油尖旺</td>\n      <td>尖沙咀弥敦道87号华源大厦9字楼C2室</td>\n      <td>4.0</td>\n      <td>273.0</td>\n      <td>256.0</td>\n      <td>C</td>\n    </tr>\n  </tbody>\n</table>\n<p>397 rows × 9 columns</p>\n</div>"
     },
     "execution_count": 279,
     "metadata": {},
     "output_type": "execute_result"
    }
   ],
   "source": [
    "### 20. 数据离散化，按照价格将酒店分为3个等级，0-500为C，500-1000为B，大于1000为A，列名设置为“价格等级”。\n",
    "\n",
    "bins = [0, 500, 1000, float('inf')]  # 设置价格区间\n",
    "labels = ['C', 'B', 'A']  # 设置价格等级标签\n",
    "\n",
    "df['价格等级'] = pd.cut(df['价格'], bins=bins, labels=labels)\n",
    "\n",
    "df"
   ],
   "metadata": {
    "collapsed": false,
    "ExecuteTime": {
     "end_time": "2024-04-08T08:43:58.294470Z",
     "start_time": "2024-04-08T08:43:57.603639700Z"
    }
   },
   "id": "c457050d5b06d930"
  },
  {
   "cell_type": "code",
   "execution_count": 290,
   "outputs": [
    {
     "data": {
      "text/plain": "            评分\n地区            \n葵青    4.040000\n其他    4.141026\n油尖旺   4.189080\n南区    4.220000\n深水埗区  4.300000\n湾仔    4.375610\n离岛    4.380000\n九龙城   4.428571\n荃湾    4.442857\n东区    4.493333\n观塘    4.500000\n中西区   4.548485\n元朗    4.550000\n沙田    4.575000\n屯门    4.600000\n罗湖区        NaN",
      "text/html": "<div>\n<style scoped>\n    .dataframe tbody tr th:only-of-type {\n        vertical-align: middle;\n    }\n\n    .dataframe tbody tr th {\n        vertical-align: top;\n    }\n\n    .dataframe thead th {\n        text-align: right;\n    }\n</style>\n<table border=\"1\" class=\"dataframe\">\n  <thead>\n    <tr style=\"text-align: right;\">\n      <th></th>\n      <th>评分</th>\n    </tr>\n    <tr>\n      <th>地区</th>\n      <th></th>\n    </tr>\n  </thead>\n  <tbody>\n    <tr>\n      <th>葵青</th>\n      <td>4.040000</td>\n    </tr>\n    <tr>\n      <th>其他</th>\n      <td>4.141026</td>\n    </tr>\n    <tr>\n      <th>油尖旺</th>\n      <td>4.189080</td>\n    </tr>\n    <tr>\n      <th>南区</th>\n      <td>4.220000</td>\n    </tr>\n    <tr>\n      <th>深水埗区</th>\n      <td>4.300000</td>\n    </tr>\n    <tr>\n      <th>湾仔</th>\n      <td>4.375610</td>\n    </tr>\n    <tr>\n      <th>离岛</th>\n      <td>4.380000</td>\n    </tr>\n    <tr>\n      <th>九龙城</th>\n      <td>4.428571</td>\n    </tr>\n    <tr>\n      <th>荃湾</th>\n      <td>4.442857</td>\n    </tr>\n    <tr>\n      <th>东区</th>\n      <td>4.493333</td>\n    </tr>\n    <tr>\n      <th>观塘</th>\n      <td>4.500000</td>\n    </tr>\n    <tr>\n      <th>中西区</th>\n      <td>4.548485</td>\n    </tr>\n    <tr>\n      <th>元朗</th>\n      <td>4.550000</td>\n    </tr>\n    <tr>\n      <th>沙田</th>\n      <td>4.575000</td>\n    </tr>\n    <tr>\n      <th>屯门</th>\n      <td>4.600000</td>\n    </tr>\n    <tr>\n      <th>罗湖区</th>\n      <td>NaN</td>\n    </tr>\n  </tbody>\n</table>\n</div>"
     },
     "execution_count": 290,
     "metadata": {},
     "output_type": "execute_result"
    }
   ],
   "source": [
    "### 21. 获取评分均值最高和最低的地区的数据，分别使用append和concat方法将获取的两个数据集合并。\n",
    "\n",
    "df.groupby('地区').agg(\n",
    "    {\n",
    "        '评分':'mean'\n",
    "    }\n",
    ").sort_values('评分')"
   ],
   "metadata": {
    "collapsed": false,
    "ExecuteTime": {
     "end_time": "2024-04-08T08:47:57.842910700Z",
     "start_time": "2024-04-08T08:47:57.807403600Z"
    }
   },
   "id": "b6024fba884d4c6a"
  },
  {
   "cell_type": "code",
   "execution_count": 297,
   "outputs": [
    {
     "name": "stdout",
     "output_type": "stream",
     "text": [
      "|     | 名字                                              | 类型     | 城市   | 地区   | 地点                     |   评分 |   评分人数 |   价格 | 价格等级   |\n",
      "|----:|:--------------------------------------------------|:---------|:-------|:-------|:-------------------------|-------:|-----------:|-------:|:-----------|\n",
      "|  25 | 香港黄金海岸酒店(Hong Kong Gold Coast Hotel)      | 海滨风光 | 香港   | 屯门   | 屯门 黄金海岸青山公路1号 |    4.7 |       6326 |    696 | B          |\n",
      "| 169 | 香港屯门贝尔特酒店(pentahotel Hong Kong Tuen Mun) | 浪漫情侣 | 香港   | 屯门   | 新界屯门震寰路六号       |    4.5 |        998 |    582 | B          |\n",
      "|  43 | 香港荃湾旭逸酒店(Hotel Ease Tsuen Wan)            | 浪漫情侣 | 香港   | 葵青   | 葵涌圳边街15-19号        |    4.4 |        598 |    394 | C          |\n",
      "| 200 | 香港永倫800酒店(WINLAND800HOTEL)                  | 其他     | 香港   | 葵青   | 新界青衣路一号           |    3.4 |       3098 |    196 | C          |\n",
      "| 201 | 香港青逸酒店(Rambler Oasis Hotel)                 | 浪漫情侣 | 香港   | 葵青   | 青衣路1号                |    4   |       3091 |    349 | C          |\n",
      "| 214 | 香港华逸酒店(Rambler Garden Hotel)                | 浪漫情侣 | 香港   | 葵青   | 青衣 青衣路1号           |    4   |       3031 |    349 | C          |\n",
      "| 216 | 香港文化旅馆-翠雅山房(Hong Kong Heritage Lodge)   | 浪漫情侣 | 香港   | 葵青   | 香港九龙青山道800号      |    4.4 |       1726 |    423 | C          |\n",
      "\n",
      "                                             名字    类型  城市  地区             地点  \\\n",
      "25.0       香港黄金海岸酒店(Hong Kong Gold Coast Hotel)  海滨风光  香港  屯门  屯门 黄金海岸青山公路1号   \n",
      "169.0  香港屯门贝尔特酒店(pentahotel Hong Kong Tuen Mun)  浪漫情侣  香港  屯门      新界屯门震寰路六号   \n",
      "43.0             香港荃湾旭逸酒店(Hotel Ease Tsuen Wan)  浪漫情侣  香港  葵青    葵涌圳边街15-19号   \n",
      "200.0                香港永倫800酒店(WINLAND800HOTEL)    其他  香港  葵青        新界青衣路一号   \n",
      "201.0               香港青逸酒店(Rambler Oasis Hotel)  浪漫情侣  香港  葵青          青衣路1号   \n",
      "214.0              香港华逸酒店(Rambler Garden Hotel)  浪漫情侣  香港  葵青       青衣 青衣路1号   \n",
      "216.0     香港文化旅馆-翠雅山房(Hong Kong Heritage Lodge)  浪漫情侣  香港  葵青    香港九龙青山道800号   \n",
      "\n",
      "        评分    评分人数     价格 价格等级  \n",
      "25.0   4.7  6326.0  696.0    B  \n",
      "169.0  4.5   998.0  582.0    B  \n",
      "43.0   4.4   598.0  394.0    C  \n",
      "200.0  3.4  3098.0  196.0    C  \n",
      "201.0  4.0  3091.0  349.0    C  \n",
      "214.0  4.0  3031.0  349.0    C  \n",
      "216.0  4.4  1726.0  423.0    C  \n"
     ]
    }
   ],
   "source": [
    "# 获取评分均值最高和最低的地区\n",
    "mean_scores = df.groupby('地区')['评分'].mean()\n",
    "\n",
    "highest_mean = mean_scores.idxmax()  # 获取评分均值最高的地区\n",
    "lowest_mean = mean_scores.idxmin()   # 获取评分均值最低的地区\n",
    "\n",
    "# # 根据最高和最低评分地区筛选数据\n",
    "highest_data = df[df['地区'] == highest_mean]\n",
    "lowest_data = df[df['地区'] == lowest_mean]\n",
    "# \n",
    "# # 使用 append() 方法合并数据集\n",
    "merged_data_append = highest_data._append(lowest_data)\n",
    "# \n",
    "# # 使用 concat() 方法合并数据集\n",
    "merged_data_concat = pd.concat([highest_data, lowest_data])\n"
   ],
   "metadata": {
    "collapsed": false,
    "ExecuteTime": {
     "end_time": "2024-04-08T08:52:51.429733700Z",
     "start_time": "2024-04-08T08:52:51.373192500Z"
    }
   },
   "id": "cb0176c56ac8d063"
  },
  {
   "cell_type": "code",
   "execution_count": 308,
   "outputs": [
    {
     "name": "stdout",
     "output_type": "stream",
     "text": [
      "                                                     名字     评分人数 热门等级\n",
      "418.0  香港如心海景酒店暨会议中心(L‘hotel Nina et Convention Centre)  45463.0    A\n",
      "417.0  香港如心海景酒店暨会议中心(L‘hotel Nina et Convention Centre)  45462.0    A\n",
      "82.0      香港皇家太平洋酒店(The Royal Pacific Hotel and Towers)  20974.0    A\n",
      "91.0                      香港丽豪酒店(Regal Riverside Hotel)  18514.0    A\n",
      "0.0                 香港嘉湖海逸酒店(Harbour Plaza Resort City)  17604.0    A\n",
      "...                                                 ...      ...  ...\n",
      "390.0                              香港壹家旅馆(A INN Hostel)      1.0    C\n",
      "384.0                            尊贵闲庭酒店(Premium Lounge)      1.0    C\n",
      "371.0                   珠峰宾馆(Everest Guest House (3/F))      1.0    C\n",
      "335.0                       香港Primo旅馆(Primo Guesthouse)      1.0    C\n",
      "290.0                            香港中港酒店(China HK Hotel)      1.0    C\n",
      "\n",
      "[397 rows x 3 columns]\n"
     ]
    }
   ],
   "source": [
    "\n",
    "# 按照评分人数从多到少排序\n",
    "df_sorted = df.sort_values(by='评分人数', ascending=False)\n",
    "\n",
    "# 计算每个等级的酒店数量\n",
    "num_hotels = len(df_sorted)\n",
    "num_per_group = num_hotels // 3  # 每个等级的酒店数量\n",
    "\n",
    "# 分组并分配热门等级\n",
    "hotels_rank = []\n",
    "for i in range(num_hotels):\n",
    "    if i < num_per_group:\n",
    "        hotels_rank.append('A')\n",
    "    elif i < num_per_group * 2:\n",
    "        hotels_rank.append('B')\n",
    "    else:\n",
    "        hotels_rank.append('C')\n",
    "\n",
    "# 将热门等级添加到 DataFrame 中\n",
    "df_sorted['热门等级'] = hotels_rank\n",
    "\n",
    "# 将排序后的 DataFrame 存储到新的 DataFrame 中\n",
    "df_with_rank = df_sorted[['名字', '评分人数', '热门等级']]\n",
    "\n",
    "print(df_with_rank)"
   ],
   "metadata": {
    "collapsed": false,
    "ExecuteTime": {
     "end_time": "2024-04-08T09:07:42.285013200Z",
     "start_time": "2024-04-08T09:07:42.226832100Z"
    }
   },
   "id": "1280228771cb9009"
  },
  {
   "cell_type": "code",
   "execution_count": 313,
   "outputs": [
    {
     "data": {
      "text/plain": "nan"
     },
     "execution_count": 313,
     "metadata": {},
     "output_type": "execute_result"
    }
   ],
   "source": [
    "### 23. 选出评分人数为A，价格也为A的酒店数据，计算其平均评分。\n",
    "\n",
    "df[(df['热门等级'] == 'A' ) & (df['价格等级'] == 'A')]['评分'].mean()"
   ],
   "metadata": {
    "collapsed": false,
    "ExecuteTime": {
     "end_time": "2024-04-08T09:12:00.233965400Z",
     "start_time": "2024-04-08T09:12:00.193028100Z"
    }
   },
   "id": "a9aa99b5c8d2fd6a"
  },
  {
   "cell_type": "code",
   "execution_count": 283,
   "outputs": [
    {
     "name": "stdout",
     "output_type": "stream",
     "text": [
      "<class 'pandas.core.frame.DataFrame'>\n",
      "Index: 397 entries, 0.0 to 419.0\n",
      "Data columns (total 9 columns):\n",
      " #   Column  Non-Null Count  Dtype   \n",
      "---  ------  --------------  -----   \n",
      " 0   名字      397 non-null    object  \n",
      " 1   类型      397 non-null    object  \n",
      " 2   城市      397 non-null    object  \n",
      " 3   地区      397 non-null    object  \n",
      " 4   地点      397 non-null    object  \n",
      " 5   评分      366 non-null    float64 \n",
      " 6   评分人数    397 non-null    float64 \n",
      " 7   价格      397 non-null    float64 \n",
      " 8   价格等级    397 non-null    category\n",
      "dtypes: category(1), float64(3), object(5)\n",
      "memory usage: 28.4+ KB\n"
     ]
    }
   ],
   "source": [
    "df.info()"
   ],
   "metadata": {
    "collapsed": false,
    "ExecuteTime": {
     "end_time": "2024-04-08T08:43:58.296573300Z",
     "start_time": "2024-04-08T08:43:57.706037200Z"
    }
   },
   "id": "ff5938f53b61cfd6"
  },
  {
   "cell_type": "code",
   "execution_count": 317,
   "outputs": [
    {
     "data": {
      "text/plain": "117.0  名字               香港四季酒店(Four Seasons Hotel Hong Kong)\n       类型                                               海滨风光\n       城市                                                 香港\n       地区                                                中西区\n       地点                                           中环 金融街8号\n       评分                                                4.8\n       评分人数                                           3461.0\n       价格                                            12926.0\n       价格等级                                                A\n       热门等级                                                C\n116.0  名字      香港置地文华东方酒店(The Landmark Mandarin Oriental HK)\n       类型                                               休闲度假\n       城市                                                 香港\n       地区                                                中西区\n       地点                                    中环 皇后大道中15号置地广场\n       评分                                                4.8\n       评分人数                                           1285.0\n       价格                                             4443.0\n       价格等级                                                A\n       热门等级                                                C\n89.0   名字                                奕居(The Upper House)\n       类型                                               海滨风光\n       城市                                                 香港\n       地区                                                中西区\n       地点                                         金钟道88号太古广场\n       评分                                                4.8\n       评分人数                                           1369.0\n       价格                                             4356.0\n       价格等级                                                A\n       热门等级                                                C\n83.0   名字                    香港半岛酒店(The Peninsula Hong Kong)\n       类型                                               海滨风光\n       城市                                                 香港\n       地区                                                油尖旺\n       地点                                           尖沙咀梳士巴利道\n       评分                                                4.8\n       评分人数                                           3693.0\n       价格                                             3862.0\n       价格等级                                                A\n       热门等级                                                C\n19.0   名字              香港文华东方酒店(Mandarin Oriental Hong Kong)\n       类型                                               海滨风光\n       城市                                                 香港\n       地区                                                中西区\n       地点                                           中环干诺道中5号\n       评分                                                4.8\n       评分人数                                           2452.0\n       价格                                             3609.0\n       价格等级                                                A\n       热门等级                                                C\ndtype: object"
     },
     "execution_count": 317,
     "metadata": {},
     "output_type": "execute_result"
    }
   ],
   "source": [
    "### 24. 取价格最高的5个酒店的数据，使用stack和unstack方法实现dataframe和Series之间的转换。\n",
    "\n",
    "df.sort_values('价格', ascending=False).head(5).stack()\n",
    "df.sort_values('价格', ascending=False).head(5).unstack()"
   ],
   "metadata": {
    "collapsed": false,
    "ExecuteTime": {
     "end_time": "2024-04-08T09:13:46.201453800Z",
     "start_time": "2024-04-08T09:13:46.156231900Z"
    }
   },
   "id": "10ae5df9c1a5a56b"
  },
  {
   "cell_type": "code",
   "execution_count": 328,
   "outputs": [],
   "source": [
    "### 25. 纵向拆分数据集，分为df1和df2，df1包含名字，类型，城市，地区，df2包含名字，地点，评分，评分人数，价格，价格等级，热门等级。\n",
    "\n",
    "df1 = df.loc[:,['名字','类型','城市','地区']]\n",
    "df2 = df.loc[:,['名字','地点','评分','评分人数','价格','价格等级','热门等级']]"
   ],
   "metadata": {
    "collapsed": false,
    "ExecuteTime": {
     "end_time": "2024-04-08T09:22:20.717527500Z",
     "start_time": "2024-04-08T09:22:20.704540400Z"
    }
   },
   "id": "181cc9de3f8470b8"
  },
  {
   "cell_type": "code",
   "execution_count": 332,
   "outputs": [
    {
     "data": {
      "text/plain": "                                                   名字  \\\n1                香港四季酒店(Four Seasons Hotel Hong Kong)   \n2       香港置地文华东方酒店(The Landmark Mandarin Oriental HK)   \n3                                 奕居(The Upper House)   \n4                     香港半岛酒店(The Peninsula Hong Kong)   \n5               香港文华东方酒店(Mandarin Oriental Hong Kong)   \n..                                                ...   \n393                              香港加尔文青年旅舍(HK HOSTEL)   \n394  80后潘多拉旅馆(香港佐敦店)(原华丰宾馆)(Pandora After 80s Jordan)   \n395                      香港日夜宾馆(Day and Night Hostel)   \n396                巴黎旅馆(Paris Guest House (D2, 10/F))   \n397          香港经济型酒店  (家庭旅馆)(Hong Kong Budget Hostel)   \n\n                                                    地点   评分    评分人数       价格  \\\n1                                             中环 金融街8号  4.8  3461.0  12926.0   \n2                                      中环 皇后大道中15号置地广场  4.8  1285.0   4443.0   \n3                                           金钟道88号太古广场  4.8  1369.0   4356.0   \n4                                             尖沙咀梳士巴利道  4.8  3693.0   3862.0   \n5                                             中环干诺道中5号  4.8  2452.0   3609.0   \n..                                                 ...  ...     ...      ...   \n393                                  佐敦道13-15号华丰大厦7楼A室  4.2  1480.0     70.0   \n394                                九龙佐敦佐敦道15号华丰大厦1字楼H室  3.1    36.0     70.0   \n395                       弥敦道36-44号重庆大厦10字楼D,E座D8& E2室  3.3    63.0     68.0   \n396  Flat D2, 10/F, Block D, Chungking Mansion, 40 ...  2.0     5.0     67.0   \n397                       弥敦道36-44号重庆大厦10字楼D,E座D8& E2室  2.0    29.0     67.0   \n\n    价格等级 热门等级  \n1      A    C  \n2      A    C  \n3      A    C  \n4      A    C  \n5      A    C  \n..   ...  ...  \n393    C    C  \n394    C    C  \n395    C    C  \n396    C    C  \n397    C    C  \n\n[397 rows x 7 columns]",
      "text/html": "<div>\n<style scoped>\n    .dataframe tbody tr th:only-of-type {\n        vertical-align: middle;\n    }\n\n    .dataframe tbody tr th {\n        vertical-align: top;\n    }\n\n    .dataframe thead th {\n        text-align: right;\n    }\n</style>\n<table border=\"1\" class=\"dataframe\">\n  <thead>\n    <tr style=\"text-align: right;\">\n      <th></th>\n      <th>名字</th>\n      <th>地点</th>\n      <th>评分</th>\n      <th>评分人数</th>\n      <th>价格</th>\n      <th>价格等级</th>\n      <th>热门等级</th>\n    </tr>\n  </thead>\n  <tbody>\n    <tr>\n      <th>1</th>\n      <td>香港四季酒店(Four Seasons Hotel Hong Kong)</td>\n      <td>中环 金融街8号</td>\n      <td>4.8</td>\n      <td>3461.0</td>\n      <td>12926.0</td>\n      <td>A</td>\n      <td>C</td>\n    </tr>\n    <tr>\n      <th>2</th>\n      <td>香港置地文华东方酒店(The Landmark Mandarin Oriental HK)</td>\n      <td>中环 皇后大道中15号置地广场</td>\n      <td>4.8</td>\n      <td>1285.0</td>\n      <td>4443.0</td>\n      <td>A</td>\n      <td>C</td>\n    </tr>\n    <tr>\n      <th>3</th>\n      <td>奕居(The Upper House)</td>\n      <td>金钟道88号太古广场</td>\n      <td>4.8</td>\n      <td>1369.0</td>\n      <td>4356.0</td>\n      <td>A</td>\n      <td>C</td>\n    </tr>\n    <tr>\n      <th>4</th>\n      <td>香港半岛酒店(The Peninsula Hong Kong)</td>\n      <td>尖沙咀梳士巴利道</td>\n      <td>4.8</td>\n      <td>3693.0</td>\n      <td>3862.0</td>\n      <td>A</td>\n      <td>C</td>\n    </tr>\n    <tr>\n      <th>5</th>\n      <td>香港文华东方酒店(Mandarin Oriental Hong Kong)</td>\n      <td>中环干诺道中5号</td>\n      <td>4.8</td>\n      <td>2452.0</td>\n      <td>3609.0</td>\n      <td>A</td>\n      <td>C</td>\n    </tr>\n    <tr>\n      <th>...</th>\n      <td>...</td>\n      <td>...</td>\n      <td>...</td>\n      <td>...</td>\n      <td>...</td>\n      <td>...</td>\n      <td>...</td>\n    </tr>\n    <tr>\n      <th>393</th>\n      <td>香港加尔文青年旅舍(HK HOSTEL)</td>\n      <td>佐敦道13-15号华丰大厦7楼A室</td>\n      <td>4.2</td>\n      <td>1480.0</td>\n      <td>70.0</td>\n      <td>C</td>\n      <td>C</td>\n    </tr>\n    <tr>\n      <th>394</th>\n      <td>80后潘多拉旅馆(香港佐敦店)(原华丰宾馆)(Pandora After 80s Jordan)</td>\n      <td>九龙佐敦佐敦道15号华丰大厦1字楼H室</td>\n      <td>3.1</td>\n      <td>36.0</td>\n      <td>70.0</td>\n      <td>C</td>\n      <td>C</td>\n    </tr>\n    <tr>\n      <th>395</th>\n      <td>香港日夜宾馆(Day and Night Hostel)</td>\n      <td>弥敦道36-44号重庆大厦10字楼D,E座D8&amp; E2室</td>\n      <td>3.3</td>\n      <td>63.0</td>\n      <td>68.0</td>\n      <td>C</td>\n      <td>C</td>\n    </tr>\n    <tr>\n      <th>396</th>\n      <td>巴黎旅馆(Paris Guest House (D2, 10/F))</td>\n      <td>Flat D2, 10/F, Block D, Chungking Mansion, 40 ...</td>\n      <td>2.0</td>\n      <td>5.0</td>\n      <td>67.0</td>\n      <td>C</td>\n      <td>C</td>\n    </tr>\n    <tr>\n      <th>397</th>\n      <td>香港经济型酒店  (家庭旅馆)(Hong Kong Budget Hostel)</td>\n      <td>弥敦道36-44号重庆大厦10字楼D,E座D8&amp; E2室</td>\n      <td>2.0</td>\n      <td>29.0</td>\n      <td>67.0</td>\n      <td>C</td>\n      <td>C</td>\n    </tr>\n  </tbody>\n</table>\n<p>397 rows × 7 columns</p>\n</div>"
     },
     "execution_count": 332,
     "metadata": {},
     "output_type": "execute_result"
    }
   ],
   "source": [
    "### 26. 将df2按照价格进行排序，重新设置df2的索引。索引值等于价格排名。\n",
    "\n",
    "\n",
    "# 按照价格列进行升序排序\n",
    "df2.sort_values('价格',ascending=False,inplace=True)\n",
    "\n",
    "# # 重新设置索引为价格排名\n",
    "df2 = df2.reset_index(drop=True)\n",
    "# \n",
    "# # 索引值等于价格排名\n",
    "df2.index = df2.index + 1\n",
    "\n",
    "df2"
   ],
   "metadata": {
    "collapsed": false,
    "ExecuteTime": {
     "end_time": "2024-04-08T09:23:00.050388900Z",
     "start_time": "2024-04-08T09:23:00.000940500Z"
    }
   },
   "id": "ba577be738c486fb"
  },
  {
   "cell_type": "code",
   "execution_count": 324,
   "outputs": [
    {
     "data": {
      "text/plain": "                                                   名字    类型  城市   地区  \\\n0                 香港嘉湖海逸酒店(Harbour Plaza Resort City)  休闲度假  香港   元朗   \n1      香港铜锣湾皇悦酒店(Empire Hotel Hong Kong-Causeway Bay)  浪漫情侣  香港   东区   \n2                                  香港碧荟酒店(The BEACON)  商务出行  香港  油尖旺   \n3                           香港湾仔帝盛酒店(Dorsett Wanchai)  浪漫情侣  香港   湾仔   \n4                                如心艾朗酒店(L‘hotel elan)  浪漫情侣  香港   观塘   \n..                                                ...   ...  ..  ...   \n394  香港如心海景酒店暨会议中心(L‘hotel Nina et Convention Centre)  海滨风光  香港   荃湾   \n395  香港如心海景酒店暨会议中心(L‘hotel Nina et Convention Centre)  海滨风光  香港   荃湾   \n396  香港如心海景酒店暨会议中心(L‘hotel Nina et Convention Centre)  海滨风光  香港   荃湾   \n397  香港如心海景酒店暨会议中心(L‘hotel Nina et Convention Centre)  海滨风光  香港   荃湾   \n398                        香港花盈酒店(家庭旅馆)(Bloomy Hotel)  地铁周边  香港  油尖旺   \n\n                      地点   评分     评分人数     价格 价格等级 热门等级  \n0             天水围 天恩路18号  4.6  17604.0  422.0    C    B  \n1               铜锣湾永兴街8号  4.5  12708.0  693.0    B    C  \n2             九龙旺角洗衣街88号  4.7    328.0  747.0    B    C  \n3          皇后大道东387-397号  4.4   5014.0  693.0    B    C  \n4               观塘创业街38号  4.6   3427.0  581.0    B    C  \n..                   ...  ...      ...    ...  ...  ...  \n394             荃湾 杨屋道8号  4.5  45462.0  709.0    B    A  \n395             荃湾 杨屋道8号  4.5  45463.0  709.0    B    A  \n396             荃湾 杨屋道8号  4.5  45462.0  709.0    B    A  \n397             荃湾 杨屋道8号  4.5  45463.0  709.0    B    A  \n398  尖沙咀弥敦道87号华源大厦9字楼C2室  4.0    273.0  256.0    C    C  \n\n[399 rows x 10 columns]",
      "text/html": "<div>\n<style scoped>\n    .dataframe tbody tr th:only-of-type {\n        vertical-align: middle;\n    }\n\n    .dataframe tbody tr th {\n        vertical-align: top;\n    }\n\n    .dataframe thead th {\n        text-align: right;\n    }\n</style>\n<table border=\"1\" class=\"dataframe\">\n  <thead>\n    <tr style=\"text-align: right;\">\n      <th></th>\n      <th>名字</th>\n      <th>类型</th>\n      <th>城市</th>\n      <th>地区</th>\n      <th>地点</th>\n      <th>评分</th>\n      <th>评分人数</th>\n      <th>价格</th>\n      <th>价格等级</th>\n      <th>热门等级</th>\n    </tr>\n  </thead>\n  <tbody>\n    <tr>\n      <th>0</th>\n      <td>香港嘉湖海逸酒店(Harbour Plaza Resort City)</td>\n      <td>休闲度假</td>\n      <td>香港</td>\n      <td>元朗</td>\n      <td>天水围 天恩路18号</td>\n      <td>4.6</td>\n      <td>17604.0</td>\n      <td>422.0</td>\n      <td>C</td>\n      <td>B</td>\n    </tr>\n    <tr>\n      <th>1</th>\n      <td>香港铜锣湾皇悦酒店(Empire Hotel Hong Kong-Causeway Bay)</td>\n      <td>浪漫情侣</td>\n      <td>香港</td>\n      <td>东区</td>\n      <td>铜锣湾永兴街8号</td>\n      <td>4.5</td>\n      <td>12708.0</td>\n      <td>693.0</td>\n      <td>B</td>\n      <td>C</td>\n    </tr>\n    <tr>\n      <th>2</th>\n      <td>香港碧荟酒店(The BEACON)</td>\n      <td>商务出行</td>\n      <td>香港</td>\n      <td>油尖旺</td>\n      <td>九龙旺角洗衣街88号</td>\n      <td>4.7</td>\n      <td>328.0</td>\n      <td>747.0</td>\n      <td>B</td>\n      <td>C</td>\n    </tr>\n    <tr>\n      <th>3</th>\n      <td>香港湾仔帝盛酒店(Dorsett Wanchai)</td>\n      <td>浪漫情侣</td>\n      <td>香港</td>\n      <td>湾仔</td>\n      <td>皇后大道东387-397号</td>\n      <td>4.4</td>\n      <td>5014.0</td>\n      <td>693.0</td>\n      <td>B</td>\n      <td>C</td>\n    </tr>\n    <tr>\n      <th>4</th>\n      <td>如心艾朗酒店(L‘hotel elan)</td>\n      <td>浪漫情侣</td>\n      <td>香港</td>\n      <td>观塘</td>\n      <td>观塘创业街38号</td>\n      <td>4.6</td>\n      <td>3427.0</td>\n      <td>581.0</td>\n      <td>B</td>\n      <td>C</td>\n    </tr>\n    <tr>\n      <th>...</th>\n      <td>...</td>\n      <td>...</td>\n      <td>...</td>\n      <td>...</td>\n      <td>...</td>\n      <td>...</td>\n      <td>...</td>\n      <td>...</td>\n      <td>...</td>\n      <td>...</td>\n    </tr>\n    <tr>\n      <th>394</th>\n      <td>香港如心海景酒店暨会议中心(L‘hotel Nina et Convention Centre)</td>\n      <td>海滨风光</td>\n      <td>香港</td>\n      <td>荃湾</td>\n      <td>荃湾 杨屋道8号</td>\n      <td>4.5</td>\n      <td>45462.0</td>\n      <td>709.0</td>\n      <td>B</td>\n      <td>A</td>\n    </tr>\n    <tr>\n      <th>395</th>\n      <td>香港如心海景酒店暨会议中心(L‘hotel Nina et Convention Centre)</td>\n      <td>海滨风光</td>\n      <td>香港</td>\n      <td>荃湾</td>\n      <td>荃湾 杨屋道8号</td>\n      <td>4.5</td>\n      <td>45463.0</td>\n      <td>709.0</td>\n      <td>B</td>\n      <td>A</td>\n    </tr>\n    <tr>\n      <th>396</th>\n      <td>香港如心海景酒店暨会议中心(L‘hotel Nina et Convention Centre)</td>\n      <td>海滨风光</td>\n      <td>香港</td>\n      <td>荃湾</td>\n      <td>荃湾 杨屋道8号</td>\n      <td>4.5</td>\n      <td>45462.0</td>\n      <td>709.0</td>\n      <td>B</td>\n      <td>A</td>\n    </tr>\n    <tr>\n      <th>397</th>\n      <td>香港如心海景酒店暨会议中心(L‘hotel Nina et Convention Centre)</td>\n      <td>海滨风光</td>\n      <td>香港</td>\n      <td>荃湾</td>\n      <td>荃湾 杨屋道8号</td>\n      <td>4.5</td>\n      <td>45463.0</td>\n      <td>709.0</td>\n      <td>B</td>\n      <td>A</td>\n    </tr>\n    <tr>\n      <th>398</th>\n      <td>香港花盈酒店(家庭旅馆)(Bloomy Hotel)</td>\n      <td>地铁周边</td>\n      <td>香港</td>\n      <td>油尖旺</td>\n      <td>尖沙咀弥敦道87号华源大厦9字楼C2室</td>\n      <td>4.0</td>\n      <td>273.0</td>\n      <td>256.0</td>\n      <td>C</td>\n      <td>C</td>\n    </tr>\n  </tbody>\n</table>\n<p>399 rows × 10 columns</p>\n</div>"
     },
     "execution_count": 324,
     "metadata": {},
     "output_type": "execute_result"
    }
   ],
   "source": [
    "### 27. 使用merge方法将df1和df2合并。\n",
    "\n",
    "df3 = pd.merge(df1,df2)\n",
    "df3"
   ],
   "metadata": {
    "collapsed": false,
    "ExecuteTime": {
     "end_time": "2024-04-08T09:20:05.622416Z",
     "start_time": "2024-04-08T09:20:05.522723700Z"
    }
   },
   "id": "e7d69e8e228d0e81"
  },
  {
   "cell_type": "code",
   "execution_count": 325,
   "outputs": [],
   "source": [
    "df3.to_excel('酒店数据2.xlsx')"
   ],
   "metadata": {
    "collapsed": false,
    "ExecuteTime": {
     "end_time": "2024-04-08T09:20:36.530825200Z",
     "start_time": "2024-04-08T09:20:35.382672700Z"
    }
   },
   "id": "abaf182760b50bea"
  },
  {
   "cell_type": "code",
   "execution_count": 284,
   "outputs": [
    {
     "name": "stdout",
     "output_type": "stream",
     "text": [
      "                                                 名字    类型  城市   地区  \\\n",
      "0.0             香港嘉湖海逸酒店(Harbour Plaza Resort City)  休闲度假  香港   元朗   \n",
      "1.0  香港铜锣湾皇悦酒店(Empire Hotel Hong Kong-Causeway Bay)  浪漫情侣  香港   东区   \n",
      "2.0                              香港碧荟酒店(The BEACON)  商务出行  香港  油尖旺   \n",
      "3.0                       香港湾仔帝盛酒店(Dorsett Wanchai)  浪漫情侣  香港   湾仔   \n",
      "4.0                            如心艾朗酒店(L‘hotel elan)  浪漫情侣  香港   观塘   \n",
      "\n",
      "                地点   评分     评分人数     价格 价格等级  \n",
      "0.0     天水围 天恩路18号  4.6  17604.0  422.0    C  \n",
      "1.0       铜锣湾永兴街8号  4.5  12708.0  693.0    B  \n",
      "2.0     九龙旺角洗衣街88号  4.7    328.0  747.0    B  \n",
      "3.0  皇后大道东387-397号  4.4   5014.0  693.0    B  \n",
      "4.0       观塘创业街38号  4.6   3427.0  581.0    B  \n"
     ]
    }
   ],
   "source": [
    "print(df.head())"
   ],
   "metadata": {
    "collapsed": false,
    "ExecuteTime": {
     "end_time": "2024-04-08T08:43:58.296573300Z",
     "start_time": "2024-04-08T08:43:57.730863400Z"
    }
   },
   "id": "18fcbff7f5cd6308"
  },
  {
   "cell_type": "code",
   "execution_count": 284,
   "outputs": [],
   "source": [],
   "metadata": {
    "collapsed": false,
    "ExecuteTime": {
     "end_time": "2024-04-08T08:43:58.296573300Z",
     "start_time": "2024-04-08T08:43:57.743569100Z"
    }
   },
   "id": "5064249aa7fd4168"
  }
 ],
 "metadata": {
  "kernelspec": {
   "display_name": "Python 3",
   "language": "python",
   "name": "python3"
  },
  "language_info": {
   "codemirror_mode": {
    "name": "ipython",
    "version": 2
   },
   "file_extension": ".py",
   "mimetype": "text/x-python",
   "name": "python",
   "nbconvert_exporter": "python",
   "pygments_lexer": "ipython2",
   "version": "2.7.6"
  }
 },
 "nbformat": 4,
 "nbformat_minor": 5
}
