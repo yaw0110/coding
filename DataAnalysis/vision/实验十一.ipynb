{
 "cells": [
  {
   "cell_type": "code",
   "execution_count": null,
   "metadata": {},
   "outputs": [],
   "source": [
    "print(\"1\")\n"
   ]
  },
  {
   "cell_type": "code",
   "execution_count": 5,
   "metadata": {},
   "outputs": [
    {
     "name": "stdout",
     "output_type": "stream",
     "text": [
      "<class 'pandas.core.frame.DataFrame'>\n",
      "RangeIndex: 56 entries, 0 to 55\n",
      "Data columns (total 6 columns):\n",
      " #   Column  Non-Null Count  Dtype\n",
      "---  ------  --------------  -----\n",
      " 0   年份      56 non-null     int64\n",
      " 1   总人口     56 non-null     int64\n",
      " 2   男性      56 non-null     int64\n",
      " 3   女性      56 non-null     int64\n",
      " 4   城镇      56 non-null     int64\n",
      " 5   乡村      56 non-null     int64\n",
      "dtypes: int64(6)\n",
      "memory usage: 2.8 KB\n",
      "None\n",
      "      年份     总人口     男性     女性     城镇     乡村\n",
      "25  1989  112704  58099  54605  29540  83164\n",
      "23  1987  109300  56290  53010  27674  81626\n",
      "26  1990  114333  58904  55429  30195  84138\n",
      "36  2000  126743  65437  61306  45906  80837\n",
      "20  1984  104357  53848  50509  24017  80340\n"
     ]
    }
   ],
   "source": [
    "import pandas as pd\n",
    "data1 = pd.read_excel('assets/总人口及分布.xls')\n",
    "print(data1.info())\n",
    "print(data1.sample(5))"
   ]
  },
  {
   "cell_type": "markdown",
   "metadata": {},
   "source": [
    "### 1.1.  绘制人口总数的趋势图（折线图、横轴年份，纵轴人口数）\n",
    "\n",
    "要求：\n",
    "- 单位（亿人），保留小数点两位\n",
    "- 显示最大值最小值标记\n",
    "- 有标题\n",
    "- 有工具箱\n",
    "\n",
    "注意：\n",
    "\n",
    "解决pyecharts折线图不显示问题：尝试把x轴数据转换成str，也就是add_xaxis(values)中values换成str，如果x是纯文本就会出现空白折线图。\n",
    "\n",
    "同理用pyecharts有条件就把x轴的数据都转换成str，避免很多不显示问题"
   ]
  },
  {
   "cell_type": "code",
   "execution_count": 17,
   "metadata": {},
   "outputs": [
    {
     "data": {
      "text/plain": [
       "'c:\\\\Users\\\\yaw\\\\Github\\\\coding\\\\DataAnalysis\\\\vision\\\\pyecharts\\\\population_trend.html'"
      ]
     },
     "execution_count": 17,
     "metadata": {},
     "output_type": "execute_result"
    }
   ],
   "source": [
    "### 1.1.  绘制人口总数的趋势图（折线图、横轴年份，纵轴人口数）\n",
    "\n",
    "# 要求：\n",
    "# - 单位（亿人），保留小数点两位\n",
    "# - 显示最大值最小值标记\n",
    "# - 有标题\n",
    "# - 有工具箱\n",
    "\n",
    "# 注意：\n",
    "\n",
    "# 解决pyecharts折线图不显示问题：尝试把x轴数据转换成str，也就是add_xaxis(values)中values换成str，如果x是纯文本就会出现空白折线图。\n",
    "\n",
    "# 同理用pyecharts有条件就把x轴的数据都转换成str，避免很多不显示问题\n",
    "\n",
    "from pyecharts.charts import Line\n",
    "import pyecharts.options as opts\n",
    "\n",
    "# 将年份转换为字符串类型\n",
    "years = data1['年份'].astype(str).tolist()\n",
    "population = (data1['总人口']/10000).round(2).tolist()  \n",
    "\n",
    "line = Line()\n",
    "line.add_xaxis(years)\n",
    "line.add_yaxis(\"总人口\", population,\n",
    "               markpoint_opts=opts.MarkPointOpts(data=[opts.MarkPointItem(type_=\"min\"), opts.MarkPointItem(type_=\"max\")]))\n",
    "line.set_global_opts(title_opts=opts.TitleOpts(title=\"人口总数趋势图\"),toolbox_opts=opts.ToolboxOpts())\n",
    "line.set_series_opts(label_opts=opts.LabelOpts(is_show=False))\n",
    "line.render(\"pyecharts/population_trend.html\")  # 将结果保存为HTML文件\n",
    "\n"
   ]
  },
  {
   "cell_type": "markdown",
   "metadata": {},
   "source": [
    "### 1.2. 绘制人口性别比例的趋势图（折线图、横轴年份，纵轴性别比）\n",
    "\n",
    "性别比计算：\n",
    "\n",
    "$$ 性别比=\\frac{男性人数}{女性人数}\\times 100 $$\n",
    "\n",
    "\n",
    "要求：\n",
    "- 性别比保留一位小数\n",
    "- 显示最大值最小值标记\n",
    "- 有标题\n",
    "- 有工具箱\n",
    "- y轴坐标范围100～110"
   ]
  },
  {
   "cell_type": "code",
   "execution_count": 18,
   "metadata": {},
   "outputs": [
    {
     "data": {
      "text/plain": [
       "'c:\\\\Users\\\\yaw\\\\Github\\\\coding\\\\DataAnalysis\\\\vision\\\\pyecharts\\\\sex_ratio_trend.html'"
      ]
     },
     "execution_count": 18,
     "metadata": {},
     "output_type": "execute_result"
    }
   ],
   "source": [
    "sex_ratio = ((data1['男性'] / data1['女性']) * 100).round(1)  # 计算性别比并保留一位小数\n",
    "\n",
    "line = Line()\n",
    "line.add_xaxis(years)\n",
    "line.add_yaxis(\"性别比\", sex_ratio,\n",
    "               markpoint_opts=opts.MarkPointOpts(data=[opts.MarkPointItem(type_=\"min\"), opts.MarkPointItem(type_=\"max\")]))\n",
    "line.set_global_opts(title_opts=opts.TitleOpts(title=\"人口性别比例趋势图\"),toolbox_opts=opts.ToolboxOpts(),\n",
    "                      yaxis_opts=opts.AxisOpts(min_=100, max_=110))  # 设置y轴坐标范围\n",
    "line.set_series_opts(label_opts=opts.LabelOpts(is_show=False))\n",
    "line.render(\"pyecharts/sex_ratio_trend.html\")  # 将结果保存为HTML文件\n",
    "\n"
   ]
  },
  {
   "cell_type": "markdown",
   "metadata": {},
   "source": [
    "### 1.3. 绘制人口不同年龄结构人数的散点图\n",
    "\n",
    "要求：\n",
    "- 取2000年以后数据（最后20行数据）\n",
    "- 单位（亿），取小数点后两位\n",
    "- 0-14岁、15-64岁、65岁及以上 采用不同颜色展示\n",
    "- 每种人口结构显示最大值最小值\n",
    "\n",
    "- 索引！！！"
   ]
  },
  {
   "cell_type": "code",
   "execution_count": 34,
   "metadata": {},
   "outputs": [
    {
     "name": "stdout",
     "output_type": "stream",
     "text": [
      "<class 'pandas.core.frame.DataFrame'>\n",
      "RangeIndex: 32 entries, 0 to 31\n",
      "Data columns (total 8 columns):\n",
      " #   Column  Non-Null Count  Dtype  \n",
      "---  ------  --------------  -----  \n",
      " 0   年份      32 non-null     int64  \n",
      " 1   总人口     32 non-null     int64  \n",
      " 2   0-14岁   32 non-null     int64  \n",
      " 3   15-64岁  32 non-null     int64  \n",
      " 4   65岁及以上  32 non-null     int64  \n",
      " 5   总抚养比    32 non-null     float64\n",
      " 6   少儿抚养比   32 non-null     float64\n",
      " 7   老年抚养比   32 non-null     float64\n",
      "dtypes: float64(3), int64(5)\n",
      "memory usage: 2.1 KB\n",
      "None\n"
     ]
    },
    {
     "data": {
      "text/html": [
       "<div>\n",
       "<style scoped>\n",
       "    .dataframe tbody tr th:only-of-type {\n",
       "        vertical-align: middle;\n",
       "    }\n",
       "\n",
       "    .dataframe tbody tr th {\n",
       "        vertical-align: top;\n",
       "    }\n",
       "\n",
       "    .dataframe thead th {\n",
       "        text-align: right;\n",
       "    }\n",
       "</style>\n",
       "<table border=\"1\" class=\"dataframe\">\n",
       "  <thead>\n",
       "    <tr style=\"text-align: right;\">\n",
       "      <th></th>\n",
       "      <th>年份</th>\n",
       "      <th>总人口</th>\n",
       "      <th>0-14岁</th>\n",
       "      <th>15-64岁</th>\n",
       "      <th>65岁及以上</th>\n",
       "      <th>总抚养比</th>\n",
       "      <th>少儿抚养比</th>\n",
       "      <th>老年抚养比</th>\n",
       "    </tr>\n",
       "  </thead>\n",
       "  <tbody>\n",
       "    <tr>\n",
       "      <th>11</th>\n",
       "      <td>1999</td>\n",
       "      <td>125786</td>\n",
       "      <td>31950</td>\n",
       "      <td>85157</td>\n",
       "      <td>8679</td>\n",
       "      <td>47.719607</td>\n",
       "      <td>37.518464</td>\n",
       "      <td>10.201143</td>\n",
       "    </tr>\n",
       "    <tr>\n",
       "      <th>27</th>\n",
       "      <td>2015</td>\n",
       "      <td>137462</td>\n",
       "      <td>22715</td>\n",
       "      <td>100361</td>\n",
       "      <td>14386</td>\n",
       "      <td>36.967547</td>\n",
       "      <td>22.633294</td>\n",
       "      <td>14.334253</td>\n",
       "    </tr>\n",
       "    <tr>\n",
       "      <th>25</th>\n",
       "      <td>2013</td>\n",
       "      <td>136072</td>\n",
       "      <td>22329</td>\n",
       "      <td>100582</td>\n",
       "      <td>13161</td>\n",
       "      <td>35.284643</td>\n",
       "      <td>22.199797</td>\n",
       "      <td>13.084846</td>\n",
       "    </tr>\n",
       "    <tr>\n",
       "      <th>9</th>\n",
       "      <td>1997</td>\n",
       "      <td>123626</td>\n",
       "      <td>32093</td>\n",
       "      <td>83448</td>\n",
       "      <td>8085</td>\n",
       "      <td>48.148148</td>\n",
       "      <td>38.459259</td>\n",
       "      <td>9.688889</td>\n",
       "    </tr>\n",
       "    <tr>\n",
       "      <th>28</th>\n",
       "      <td>2016</td>\n",
       "      <td>138271</td>\n",
       "      <td>23008</td>\n",
       "      <td>100260</td>\n",
       "      <td>15003</td>\n",
       "      <td>37.900000</td>\n",
       "      <td>22.900000</td>\n",
       "      <td>15.000000</td>\n",
       "    </tr>\n",
       "  </tbody>\n",
       "</table>\n",
       "</div>"
      ],
      "text/plain": [
       "      年份     总人口  0-14岁  15-64岁  65岁及以上       总抚养比      少儿抚养比      老年抚养比\n",
       "11  1999  125786  31950   85157    8679  47.719607  37.518464  10.201143\n",
       "27  2015  137462  22715  100361   14386  36.967547  22.633294  14.334253\n",
       "25  2013  136072  22329  100582   13161  35.284643  22.199797  13.084846\n",
       "9   1997  123626  32093   83448    8085  48.148148  38.459259   9.688889\n",
       "28  2016  138271  23008  100260   15003  37.900000  22.900000  15.000000"
      ]
     },
     "execution_count": 34,
     "metadata": {},
     "output_type": "execute_result"
    }
   ],
   "source": [
    "data2 = pd.read_excel('assets/年龄结构与抚养比.xls')\n",
    "print(data2.info())\n",
    "data2.sample(5)"
   ]
  },
  {
   "cell_type": "code",
   "execution_count": 39,
   "metadata": {},
   "outputs": [
    {
     "name": "stderr",
     "output_type": "stream",
     "text": [
      "C:\\Users\\yaw\\AppData\\Local\\Temp\\ipykernel_30172\\1642528714.py:9: SettingWithCopyWarning: \n",
      "A value is trying to be set on a copy of a slice from a DataFrame.\n",
      "Try using .loc[row_indexer,col_indexer] = value instead\n",
      "\n",
      "See the caveats in the documentation: https://pandas.pydata.org/pandas-docs/stable/user_guide/indexing.html#returning-a-view-versus-a-copy\n",
      "  data2_2000['0-14岁'] = (data2_2000['0-14岁'] / 10000).round(2)\n",
      "C:\\Users\\yaw\\AppData\\Local\\Temp\\ipykernel_30172\\1642528714.py:10: SettingWithCopyWarning: \n",
      "A value is trying to be set on a copy of a slice from a DataFrame.\n",
      "Try using .loc[row_indexer,col_indexer] = value instead\n",
      "\n",
      "See the caveats in the documentation: https://pandas.pydata.org/pandas-docs/stable/user_guide/indexing.html#returning-a-view-versus-a-copy\n",
      "  data2_2000['15-64岁'] = (data2_2000['15-64岁'] / 10000).round(2)\n",
      "C:\\Users\\yaw\\AppData\\Local\\Temp\\ipykernel_30172\\1642528714.py:11: SettingWithCopyWarning: \n",
      "A value is trying to be set on a copy of a slice from a DataFrame.\n",
      "Try using .loc[row_indexer,col_indexer] = value instead\n",
      "\n",
      "See the caveats in the documentation: https://pandas.pydata.org/pandas-docs/stable/user_guide/indexing.html#returning-a-view-versus-a-copy\n",
      "  data2_2000['65岁及以上'] = (data2_2000['65岁及以上'] / 10000).round(2)\n"
     ]
    },
    {
     "data": {
      "text/plain": [
       "'c:\\\\Users\\\\yaw\\\\Github\\\\coding\\\\DataAnalysis\\\\vision\\\\pyecharts\\\\人口不同年龄结构人数散点图.html'"
      ]
     },
     "execution_count": 39,
     "metadata": {},
     "output_type": "execute_result"
    }
   ],
   "source": [
    "from pyecharts.charts import Scatter\n",
    "from pyecharts import options as opts\n",
    "\n",
    "# 取2000年以后数据（最后20行数据）\n",
    "data2_2000 = data2.loc[data2['年份'] > 2000]\n",
    "years = data2_2000['年份'].astype(str).tolist()\n",
    "# 单位（亿），取小数点后两位\n",
    "# data2_2000['总人口'] = (data2_2000['总人口'] / 10000).round(2)\n",
    "data2_2000['0-14岁'] = (data2_2000['0-14岁'] / 10000).round(2)\n",
    "data2_2000['15-64岁'] = (data2_2000['15-64岁'] / 10000).round(2)\n",
    "data2_2000['65岁及以上'] = (data2_2000['65岁及以上'] / 10000).round(2)\n",
    "\n",
    "data2_2000 = data2_2000.reset_index(drop=True)\n",
    "\n",
    "# 绘制人口不同年龄结构人数的散点图\n",
    "# - 0-14岁、15-64岁、65岁及以上 采用不同颜色展示\n",
    "scatter = (\n",
    "    Scatter()\n",
    "    .add_xaxis(years)\n",
    "    .add_yaxis(\"0-14岁\", data2_2000['0-14岁'], label_opts=opts.LabelOpts(color=\"#FF0000\"),\n",
    "               markpoint_opts=opts.MarkPointOpts(data=[opts.MarkPointItem(type_=\"min\"), opts.MarkPointItem(type_=\"max\")]))\n",
    "    .add_yaxis(\"15-64岁\", data2_2000['15-64岁'], label_opts=opts.LabelOpts(color=\"#0000FF\"),\n",
    "               markpoint_opts=opts.MarkPointOpts(data=[opts.MarkPointItem(type_=\"min\"), opts.MarkPointItem(type_=\"max\")]))\n",
    "    .add_yaxis(\"65岁及以上\", data2_2000['65岁及以上'], label_opts=opts.LabelOpts(color=\"#008000\"),\n",
    "               markpoint_opts=opts.MarkPointOpts(data=[opts.MarkPointItem(type_=\"min\"), opts.MarkPointItem(type_=\"max\")]))\n",
    "    .set_global_opts(title_opts=opts.TitleOpts(title=\"2000年以后各年龄结构人数散点图\"),\n",
    "                     xaxis_opts=opts.AxisOpts(name=\"年份\"),\n",
    "                     yaxis_opts=opts.AxisOpts(name=\"人口（亿）\"))\n",
    "     .set_series_opts(label_opts=opts.LabelOpts(is_show=False))\n",
    ")\n",
    "scatter.render(\"pyecharts/人口不同年龄结构人数散点图.html\")\n"
   ]
  },
  {
   "cell_type": "markdown",
   "metadata": {},
   "source": [
    "### 1.4. 绘制2019年人口年龄结构饼图\n",
    "\n",
    "要求：画南丁格尔图（玫瑰图）"
   ]
  },
  {
   "cell_type": "code",
   "execution_count": 45,
   "metadata": {},
   "outputs": [
    {
     "data": {
      "text/plain": [
       "'c:\\\\Users\\\\yaw\\\\Github\\\\coding\\\\DataAnalysis\\\\vision\\\\pyecharts\\\\2019_population_age_structure_rose_chart.html'"
      ]
     },
     "execution_count": 45,
     "metadata": {},
     "output_type": "execute_result"
    }
   ],
   "source": [
    "from pyecharts.charts import Pie\n",
    "import pyecharts.options as opts\n",
    "\n",
    "# 获取2019年的人口年龄结构数据\n",
    "data_2019 = data2[data2['年份'] == 2019]\n",
    "\n",
    "# 构造数据\n",
    "age_data = data_2019[['0-14岁', '15-64岁', '65岁及以上']].iloc[0]\n",
    "data_list = list(zip(age_data.index, age_data.tolist()))\n",
    "\n",
    "# 绘制南丁格尔图\n",
    "rose = (\n",
    "    Pie()\n",
    "    .add(\"\", data_list, radius=[\"40%\", \"75%\"], center=[\"50%\", \"50%\"], rosetype=\"area\")\n",
    "    .set_global_opts(title_opts=opts.TitleOpts(title=\"2019年人口年龄结构南丁格尔图\"))\n",
    "    .set_series_opts(label_opts=opts.LabelOpts(is_show=False))\n",
    ")\n",
    "rose.render(\"pyecharts/2019_population_age_structure_rose_chart.html\")\n"
   ]
  },
  {
   "cell_type": "markdown",
   "metadata": {},
   "source": [
    "### 1.5. 绘制2000～2019我们人口趋势散点图\n",
    "\n",
    "要求：\n",
    "- 出生率、死亡率、自然增长率 采用不同颜色\n",
    "- 每种指标显示最大值最小值标记"
   ]
  },
  {
   "cell_type": "code",
   "execution_count": 48,
   "metadata": {},
   "outputs": [
    {
     "name": "stdout",
     "output_type": "stream",
     "text": [
      "<class 'pandas.core.frame.DataFrame'>\n",
      "RangeIndex: 41 entries, 0 to 40\n",
      "Data columns (total 6 columns):\n",
      " #   Column      Non-Null Count  Dtype  \n",
      "---  ------      --------------  -----  \n",
      " 0   年份          41 non-null     int64  \n",
      " 1   出生率         41 non-null     float64\n",
      " 2   死亡率         41 non-null     float64\n",
      " 3   自然增长率       41 non-null     float64\n",
      " 4   Unnamed: 4  0 non-null      float64\n",
      " 5   Unnamed: 5  1 non-null      object \n",
      "dtypes: float64(4), int64(1), object(1)\n",
      "memory usage: 2.0+ KB\n",
      "None\n"
     ]
    },
    {
     "data": {
      "text/html": [
       "<div>\n",
       "<style scoped>\n",
       "    .dataframe tbody tr th:only-of-type {\n",
       "        vertical-align: middle;\n",
       "    }\n",
       "\n",
       "    .dataframe tbody tr th {\n",
       "        vertical-align: top;\n",
       "    }\n",
       "\n",
       "    .dataframe thead th {\n",
       "        text-align: right;\n",
       "    }\n",
       "</style>\n",
       "<table border=\"1\" class=\"dataframe\">\n",
       "  <thead>\n",
       "    <tr style=\"text-align: right;\">\n",
       "      <th></th>\n",
       "      <th>年份</th>\n",
       "      <th>出生率</th>\n",
       "      <th>死亡率</th>\n",
       "      <th>自然增长率</th>\n",
       "      <th>Unnamed: 4</th>\n",
       "      <th>Unnamed: 5</th>\n",
       "    </tr>\n",
       "  </thead>\n",
       "  <tbody>\n",
       "    <tr>\n",
       "      <th>40</th>\n",
       "      <td>2019</td>\n",
       "      <td>10.48</td>\n",
       "      <td>7.14</td>\n",
       "      <td>3.34</td>\n",
       "      <td>NaN</td>\n",
       "      <td>NaN</td>\n",
       "    </tr>\n",
       "    <tr>\n",
       "      <th>9</th>\n",
       "      <td>1988</td>\n",
       "      <td>22.37</td>\n",
       "      <td>6.64</td>\n",
       "      <td>15.73</td>\n",
       "      <td>NaN</td>\n",
       "      <td>NaN</td>\n",
       "    </tr>\n",
       "    <tr>\n",
       "      <th>10</th>\n",
       "      <td>1989</td>\n",
       "      <td>21.58</td>\n",
       "      <td>6.54</td>\n",
       "      <td>15.04</td>\n",
       "      <td>NaN</td>\n",
       "      <td>NaN</td>\n",
       "    </tr>\n",
       "    <tr>\n",
       "      <th>31</th>\n",
       "      <td>2010</td>\n",
       "      <td>11.90</td>\n",
       "      <td>7.11</td>\n",
       "      <td>4.79</td>\n",
       "      <td>NaN</td>\n",
       "      <td>NaN</td>\n",
       "    </tr>\n",
       "    <tr>\n",
       "      <th>17</th>\n",
       "      <td>1996</td>\n",
       "      <td>16.98</td>\n",
       "      <td>6.56</td>\n",
       "      <td>10.42</td>\n",
       "      <td>NaN</td>\n",
       "      <td>NaN</td>\n",
       "    </tr>\n",
       "  </tbody>\n",
       "</table>\n",
       "</div>"
      ],
      "text/plain": [
       "      年份    出生率   死亡率  自然增长率  Unnamed: 4 Unnamed: 5\n",
       "40  2019  10.48  7.14   3.34         NaN        NaN\n",
       "9   1988  22.37  6.64  15.73         NaN        NaN\n",
       "10  1989  21.58  6.54  15.04         NaN        NaN\n",
       "31  2010  11.90  7.11   4.79         NaN        NaN\n",
       "17  1996  16.98  6.56  10.42         NaN        NaN"
      ]
     },
     "execution_count": 48,
     "metadata": {},
     "output_type": "execute_result"
    }
   ],
   "source": [
    "data3 = pd.read_excel('assets/出生率与死亡率.xls')\n",
    "print(data3.info())\n",
    "data3.sample(5)"
   ]
  },
  {
   "cell_type": "code",
   "execution_count": 60,
   "metadata": {},
   "outputs": [
    {
     "data": {
      "text/plain": [
       "'c:\\\\Users\\\\yaw\\\\Github\\\\coding\\\\DataAnalysis\\\\vision\\\\pyecharts\\\\scatter.html'"
      ]
     },
     "execution_count": 60,
     "metadata": {},
     "output_type": "execute_result"
    }
   ],
   "source": [
    "# 要求：\n",
    "# - 出生率、死亡率、自然增长率 采用不同颜色\n",
    "# - 每种指标显示最大值最小值标记\n",
    "\n",
    "data3_ = data3.loc[(data3['年份']>=2000) & (data3['年份']<2020), ['年份','出生率', '死亡率', '自然增长率']]\n",
    "data3_ = data3_.reset_index(drop=True)\n",
    "\n",
    "\n",
    "scatter = (\n",
    "    Scatter()\n",
    "   .add_xaxis(data3_['年份'].astype(str).to_list())\n",
    "   .add_yaxis('出生率', data3_['出生率'], itemstyle_opts=opts.ItemStyleOpts(color='#FF0000')\n",
    "              ,markpoint_opts=opts.MarkPointOpts(data=[opts.MarkPointItem(type_=\"min\"), opts.MarkPointItem(type_=\"max\")]))\n",
    "   .add_yaxis('死亡率', data3_['死亡率'], itemstyle_opts=opts.ItemStyleOpts(color='#00FF00')\n",
    "              , markpoint_opts=opts.MarkPointOpts(data=[opts.MarkPointItem(type_=\"min\"), opts.MarkPointItem(type_=\"max\")]))\n",
    "   .add_yaxis('自然增长率', data3_['自然增长率'], itemstyle_opts=opts.ItemStyleOpts(color='#0000FF')\n",
    "              , markpoint_opts=opts.MarkPointOpts(data=[opts.MarkPointItem(type_=\"min\"), opts.MarkPointItem(type_=\"max\")]))\n",
    "\n",
    "   .set_global_opts\n",
    "   (\n",
    "        xaxis_opts=opts.AxisOpts(name=\"年份\"),\n",
    "        yaxis_opts=opts.AxisOpts(name=\"指标值\"),\n",
    "        # datazoom_opts=[opts.DataZoomOpts(type_=\"inside\"), opts.DataZoomOpts(type_=\"slider\")],\n",
    "        tooltip_opts=opts.TooltipOpts(trigger=\"axis\", axis_pointer_type=\"cross\"),\n",
    "        toolbox_opts=opts.ToolboxOpts(),\n",
    "        legend_opts=opts.LegendOpts(pos_left=\"left\")\n",
    "    )\n",
    "    .set_series_opts(label_opts=opts.LabelOpts(is_show=False))\n",
    ")\n",
    "\n",
    "scatter.render(\"pyecharts/scatter.html\")"
   ]
  },
  {
   "cell_type": "code",
   "execution_count": 61,
   "metadata": {},
   "outputs": [
    {
     "data": {
      "text/plain": [
       "'c:\\\\Users\\\\yaw\\\\Github\\\\coding\\\\DataAnalysis\\\\vision\\\\pyecharts\\\\population_rates_parallel.html'"
      ]
     },
     "execution_count": 61,
     "metadata": {},
     "output_type": "execute_result"
    }
   ],
   "source": [
    "### 1.6. 画出 出生率、死亡率、自然增长率 的 平行坐标系图\n",
    "\n",
    "# 即数据集的一行数据用一条折线表示。\n",
    "\n",
    "from pyecharts.charts import Parallel\n",
    "import pyecharts.options as opts\n",
    "\n",
    "# 获取出生率、死亡率、自然增长率数据\n",
    "data_rates = data3[['出生率', '死亡率', '自然增长率']].astype(float)\n",
    "\n",
    "# 绘制平行坐标系图\n",
    "parallel = (\n",
    "    Parallel()\n",
    "    .add_schema(\n",
    "        [\n",
    "            {\"dim\": 0, \"name\": \"出生率\"},\n",
    "            {\"dim\": 1, \"name\": \"死亡率\"},\n",
    "            {\"dim\": 2, \"name\": \"自然增长率\"},\n",
    "        ]\n",
    "    )\n",
    "    .add(\"人口指标\", data_rates.values.tolist())\n",
    "    .set_global_opts(title_opts=opts.TitleOpts(title=\"出生率、死亡率、自然增长率的平行坐标系图\"))\n",
    ")\n",
    "parallel.render(\"pyecharts/population_rates_parallel.html\")\n"
   ]
  }
 ],
 "metadata": {
  "kernelspec": {
   "display_name": "mining",
   "language": "python",
   "name": "python3"
  },
  "language_info": {
   "codemirror_mode": {
    "name": "ipython",
    "version": 3
   },
   "file_extension": ".py",
   "mimetype": "text/x-python",
   "name": "python",
   "nbconvert_exporter": "python",
   "pygments_lexer": "ipython3",
   "version": "3.10.14"
  }
 },
 "nbformat": 4,
 "nbformat_minor": 2
}
