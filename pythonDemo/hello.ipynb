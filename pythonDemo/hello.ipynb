{
 "cells": [
  {
   "cell_type": "code",
   "execution_count": 1,
   "metadata": {},
   "outputs": [
    {
     "name": "stdout",
     "output_type": "stream",
     "text": [
      "hello world\n"
     ]
    }
   ],
   "source": [
    "print('hello world')\n"
   ]
  },
  {
   "cell_type": "code",
   "execution_count": 2,
   "metadata": {},
   "outputs": [
    {
     "name": "stdout",
     "output_type": "stream",
     "text": [
      "world\n"
     ]
    }
   ],
   "source": [
    "print('world')"
   ]
  },
  {
   "cell_type": "code",
   "execution_count": 3,
   "metadata": {},
   "outputs": [
    {
     "data": {
      "text/plain": [
       "'jian hao jjjj'"
      ]
     },
     "execution_count": 3,
     "metadata": {},
     "output_type": "execute_result"
    }
   ],
   "source": [
    "s = \" jian hao jjjj\"\n",
    "s = s.strip()\n",
    "s"
   ]
  },
  {
   "cell_type": "code",
   "execution_count": 4,
   "metadata": {},
   "outputs": [
    {
     "name": "stdout",
     "output_type": "stream",
     "text": [
      "Hello, world'!\n"
     ]
    }
   ],
   "source": [
    "print('Hello, world\\'!')"
   ]
  },
  {
   "cell_type": "code",
   "execution_count": null,
   "metadata": {},
   "outputs": [],
   "source": []
  },
  {
   "cell_type": "code",
   "execution_count": null,
   "metadata": {},
   "outputs": [],
   "source": [
    "sql = \"\"\"\n",
    "select t.id, t.platcreatetime, t.status, t.store_id, replace(kks.storename,'''','\\''') storename, t.submittime, t.photo, t.phototype\n",
    "from (select id, platcreatetime, 1 status, store_id, createtime submittime, display_photo_one photo, 2 phototype\n",
    "        from store_check_distributor\n",
    "        where createtime >= '2023-01-01 00:00:00'\n",
    "        union all\n",
    "        select id, platcreatetime, 1 status, store_id, createtime submittime, display_photo_two photo, 2 phototype\n",
    "        from store_check_distributor\n",
    "        where createtime >= '2023-01-01 00:00:00'\n",
    "        union all\n",
    "        select id, platcreatetime, 1 status, store_id, createtime submittime, sell_photo_one photo, 2 phototype\n",
    "        from store_check_distributor\n",
    "        where createtime >= '2023-01-01 00:00:00'\n",
    "        union all\n",
    "        select id, platcreatetime, 1 status, store_id, createtime submittime, sell_photo_two photo, 2 phototype\n",
    "        from store_check_distributor\n",
    "        where createtime >= '2023-01-01 00:00:00') t\n",
    "left join kx_kq_store kks on t.store_id = kks.id\n",
    "\"\"\""
   ]
  }
 ],
 "metadata": {
  "kernelspec": {
   "display_name": "mining",
   "language": "python",
   "name": "python3"
  },
  "language_info": {
   "codemirror_mode": {
    "name": "ipython",
    "version": 3
   },
   "file_extension": ".py",
   "mimetype": "text/x-python",
   "name": "python",
   "nbconvert_exporter": "python",
   "pygments_lexer": "ipython3",
   "version": "3.10.14"
  }
 },
 "nbformat": 4,
 "nbformat_minor": 2
}
